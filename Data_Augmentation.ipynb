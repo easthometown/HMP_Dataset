{
  "cells": [
    {
      "cell_type": "markdown",
      "metadata": {
        "id": "view-in-github",
        "colab_type": "text"
      },
      "source": [
        "<a href=\"https://colab.research.google.com/github/easthometown/HMP_Dataset/blob/master/Data_Augmentation.ipynb\" target=\"_parent\"><img src=\"https://colab.research.google.com/assets/colab-badge.svg\" alt=\"Open In Colab\"/></a>"
      ]
    },
    {
      "cell_type": "markdown",
      "metadata": {
        "id": "ayW9lW14U1Nb"
      },
      "source": [
        "<a href=\"http://cocl.us/pytorch_link_top?utm_medium=Exinfluencer&utm_source=Exinfluencer&utm_content=000026UJ&utm_term=10006555&utm_id=NA-SkillsNetwork-Channel-SkillsNetworkCoursesIBMDeveloperSkillsNetworkCV0101ENCoursera25797139-2022-01-01\">\n",
        "    <img src=\"https://s3-api.us-geo.objectstorage.softlayer.net/cf-courses-data/CognitiveClass/DL0110EN/notebook_images%20/Pytochtop.png\" width=\"750\" alt=\"IBM Product \" />\n",
        "</a> \n"
      ]
    },
    {
      "cell_type": "markdown",
      "metadata": {
        "id": "TQbDuEI3U1Nn"
      },
      "source": [
        "<img src=\"https://s3-api.us-geo.objectstorage.softlayer.net/cf-courses-data/CognitiveClass/DL0110EN/notebook_images%20/cc-logo-square.png\" width=\"200\" alt=\"cognitiveclass.ai logo\" />\n"
      ]
    },
    {
      "cell_type": "markdown",
      "metadata": {
        "id": "e_QO4VnXU1Nt"
      },
      "source": [
        "<h1>Data Augmentation </h1> \n"
      ]
    },
    {
      "cell_type": "markdown",
      "metadata": {
        "id": "HFyDm31WU1Nv"
      },
      "source": [
        "<h2>Table of Contents</h2>\n",
        "\n",
        "In this lab, we train a Convolutional Neural Network with Regular data and Augmented data. The purpose of this lab is to show that the Augmented data improves generalization performance.\n",
        "\n",
        "Think of a scenario where a drone has to take a picture of an object. The drone is moving and the object can also possibly be moving. When an image is taken we arent always going to get perfect images. The subject may not be perfectly centered in the image or the subject may be rotated in the image. In this case, a model trained on perfectly centered or rotated images won't perform well. This is why we train a model on rotated data so it can perform well on imperfect images.\n",
        "\n",
        "In this assignment, we will use a dataset of digit images. We will have two models one trained on non rotated digits and one trained on rotated images and then we will test the models on a rotated testing dataset which will be more realistic and robust in terms of our scenario above.\n",
        "\n",
        "<ul>\n",
        "<li><a href=\"https://#Makeup_Data\">Get Some Data</a></li>\n",
        "<li><a href=\"https://#CNN\">Convolutional Neural Network</a></li>\n",
        "<li><a href=\"https://#R_training_data\">Rotated Training Data</a></li>\n",
        "\n",
        "</ul>\n",
        "<p>Estimated Time Needed: <strong>25 min</strong> 14 min to train model </p>\n",
        "\n",
        "<hr>\n"
      ]
    },
    {
      "cell_type": "markdown",
      "metadata": {
        "id": "7xX8B3k8U1N1"
      },
      "source": [
        "<h2>Preparation</h2>\n"
      ]
    },
    {
      "cell_type": "code",
      "execution_count": 1,
      "metadata": {
        "jupyter": {
          "outputs_hidden": false
        },
        "colab": {
          "base_uri": "https://localhost:8080/"
        },
        "id": "UNBHrcJ-U1Os",
        "outputId": "cb89d39b-5d6c-46cb-da1e-03b633db401d"
      },
      "outputs": [
        {
          "output_type": "stream",
          "name": "stdout",
          "text": [
            "--2022-06-01 08:14:27--  https://s3-api.us-geo.objectstorage.softlayer.net/cf-courses-data/CognitiveClass/meet_up/12.02.2020/normal.pt\n",
            "Resolving s3-api.us-geo.objectstorage.softlayer.net (s3-api.us-geo.objectstorage.softlayer.net)... 67.228.254.196\n",
            "Connecting to s3-api.us-geo.objectstorage.softlayer.net (s3-api.us-geo.objectstorage.softlayer.net)|67.228.254.196|:443... connected.\n",
            "HTTP request sent, awaiting response... 200 OK\n",
            "Length: 75134 (73K) [application/octet-stream]\n",
            "Saving to: ‘normal.pt’\n",
            "\n",
            "normal.pt           100%[===================>]  73.37K  --.-KB/s    in 0.03s   \n",
            "\n",
            "2022-06-01 08:14:27 (2.30 MB/s) - ‘normal.pt’ saved [75134/75134]\n",
            "\n"
          ]
        }
      ],
      "source": [
        "# Download a Pretrained Model because training takes a long time\n",
        "!wget https://s3-api.us-geo.objectstorage.softlayer.net/cf-courses-data/CognitiveClass/meet_up/12.02.2020/normal.pt"
      ]
    },
    {
      "cell_type": "code",
      "execution_count": 2,
      "metadata": {
        "jupyter": {
          "outputs_hidden": false
        },
        "colab": {
          "base_uri": "https://localhost:8080/"
        },
        "id": "NjQF5uOxU1O4",
        "outputId": "0b4283f7-2eb9-4cb5-b23c-34390c17d4f9"
      },
      "outputs": [
        {
          "output_type": "stream",
          "name": "stdout",
          "text": [
            "--2022-06-01 08:14:27--  https://s3-api.us-geo.objectstorage.softlayer.net/cf-courses-data/CognitiveClass/meet_up/12.02.2020/rotated_data.pt\n",
            "Resolving s3-api.us-geo.objectstorage.softlayer.net (s3-api.us-geo.objectstorage.softlayer.net)... 67.228.254.196\n",
            "Connecting to s3-api.us-geo.objectstorage.softlayer.net (s3-api.us-geo.objectstorage.softlayer.net)|67.228.254.196|:443... connected.\n",
            "HTTP request sent, awaiting response... 200 OK\n",
            "Length: 75134 (73K) [application/octet-stream]\n",
            "Saving to: ‘rotated_data.pt’\n",
            "\n",
            "rotated_data.pt     100%[===================>]  73.37K  --.-KB/s    in 0.03s   \n",
            "\n",
            "2022-06-01 08:14:28 (2.31 MB/s) - ‘rotated_data.pt’ saved [75134/75134]\n",
            "\n"
          ]
        }
      ],
      "source": [
        "# Download a Pretrained Model Trained on Augmented Data because training takes a long time\n",
        "!wget https://s3-api.us-geo.objectstorage.softlayer.net/cf-courses-data/CognitiveClass/meet_up/12.02.2020/rotated_data.pt"
      ]
    },
    {
      "cell_type": "code",
      "execution_count": 3,
      "metadata": {
        "colab": {
          "base_uri": "https://localhost:8080/",
          "height": 348
        },
        "id": "1Qk8GxCVU1P3",
        "outputId": "88641f81-5a11-4d55-c9ca-83f5e2cd7bc3"
      },
      "outputs": [
        {
          "output_type": "stream",
          "name": "stdout",
          "text": [
            "Looking in indexes: https://pypi.org/simple, https://us-python.pkg.dev/colab-wheels/public/simple/\n",
            "Collecting Pillow==6.2.2\n",
            "  Downloading Pillow-6.2.2-cp37-cp37m-manylinux1_x86_64.whl (2.1 MB)\n",
            "\u001b[K     |████████████████████████████████| 2.1 MB 5.9 MB/s \n",
            "\u001b[?25hInstalling collected packages: Pillow\n",
            "  Attempting uninstall: Pillow\n",
            "    Found existing installation: Pillow 7.1.2\n",
            "    Uninstalling Pillow-7.1.2:\n",
            "      Successfully uninstalled Pillow-7.1.2\n",
            "\u001b[31mERROR: pip's dependency resolver does not currently take into account all the packages that are installed. This behaviour is the source of the following dependency conflicts.\n",
            "bokeh 2.3.3 requires pillow>=7.1.0, but you have pillow 6.2.2 which is incompatible.\n",
            "albumentations 0.1.12 requires imgaug<0.2.7,>=0.2.5, but you have imgaug 0.2.9 which is incompatible.\u001b[0m\n",
            "Successfully installed Pillow-6.2.2\n"
          ]
        },
        {
          "output_type": "display_data",
          "data": {
            "application/vnd.colab-display-data+json": {
              "pip_warning": {
                "packages": [
                  "PIL"
                ]
              }
            }
          },
          "metadata": {}
        }
      ],
      "source": [
        "# Library to Show Images\n",
        "!pip install Pillow==6.2.2"
      ]
    },
    {
      "cell_type": "markdown",
      "metadata": {
        "id": "NxiFO6x1U1P7"
      },
      "source": [
        "***Restart the kernel***\n"
      ]
    },
    {
      "cell_type": "code",
      "execution_count": 5,
      "metadata": {
        "jupyter": {
          "outputs_hidden": false
        },
        "colab": {
          "base_uri": "https://localhost:8080/",
          "height": 547
        },
        "id": "412lnJd1U1QD",
        "outputId": "95739e8f-3729-44c2-b497-0373596e4bc9"
      },
      "outputs": [
        {
          "output_type": "error",
          "ename": "ImportError",
          "evalue": "ignored",
          "traceback": [
            "\u001b[0;31m---------------------------------------------------------------------------\u001b[0m",
            "\u001b[0;31mImportError\u001b[0m                               Traceback (most recent call last)",
            "\u001b[0;32m<ipython-input-5-6880e7243ded>\u001b[0m in \u001b[0;36m<module>\u001b[0;34m()\u001b[0m\n\u001b[1;32m      8\u001b[0m \u001b[0;32mimport\u001b[0m \u001b[0mtorch\u001b[0m\u001b[0;34m.\u001b[0m\u001b[0mnn\u001b[0m \u001b[0;32mas\u001b[0m \u001b[0mnn\u001b[0m\u001b[0;34m\u001b[0m\u001b[0;34m\u001b[0m\u001b[0m\n\u001b[1;32m      9\u001b[0m \u001b[0;31m# Allows us to transform data\u001b[0m\u001b[0;34m\u001b[0m\u001b[0;34m\u001b[0m\u001b[0;34m\u001b[0m\u001b[0m\n\u001b[0;32m---> 10\u001b[0;31m \u001b[0;32mimport\u001b[0m \u001b[0mtorchvision\u001b[0m\u001b[0;34m.\u001b[0m\u001b[0mtransforms\u001b[0m \u001b[0;32mas\u001b[0m \u001b[0mtransforms\u001b[0m\u001b[0;34m\u001b[0m\u001b[0;34m\u001b[0m\u001b[0m\n\u001b[0m\u001b[1;32m     11\u001b[0m \u001b[0;31m# Used to graph data and loss curves\u001b[0m\u001b[0;34m\u001b[0m\u001b[0;34m\u001b[0m\u001b[0;34m\u001b[0m\u001b[0m\n\u001b[1;32m     12\u001b[0m \u001b[0;32mimport\u001b[0m \u001b[0mmatplotlib\u001b[0m\u001b[0;34m.\u001b[0m\u001b[0mpylab\u001b[0m \u001b[0;32mas\u001b[0m \u001b[0mplt\u001b[0m\u001b[0;34m\u001b[0m\u001b[0;34m\u001b[0m\u001b[0m\n",
            "\u001b[0;32m/usr/local/lib/python3.7/dist-packages/torchvision/__init__.py\u001b[0m in \u001b[0;36m<module>\u001b[0;34m()\u001b[0m\n\u001b[1;32m      3\u001b[0m \u001b[0;34m\u001b[0m\u001b[0m\n\u001b[1;32m      4\u001b[0m \u001b[0;32mimport\u001b[0m \u001b[0mtorch\u001b[0m\u001b[0;34m\u001b[0m\u001b[0;34m\u001b[0m\u001b[0m\n\u001b[0;32m----> 5\u001b[0;31m \u001b[0;32mfrom\u001b[0m \u001b[0mtorchvision\u001b[0m \u001b[0;32mimport\u001b[0m \u001b[0mdatasets\u001b[0m\u001b[0;34m\u001b[0m\u001b[0;34m\u001b[0m\u001b[0m\n\u001b[0m\u001b[1;32m      6\u001b[0m \u001b[0;32mfrom\u001b[0m \u001b[0mtorchvision\u001b[0m \u001b[0;32mimport\u001b[0m \u001b[0mio\u001b[0m\u001b[0;34m\u001b[0m\u001b[0;34m\u001b[0m\u001b[0m\n\u001b[1;32m      7\u001b[0m \u001b[0;32mfrom\u001b[0m \u001b[0mtorchvision\u001b[0m \u001b[0;32mimport\u001b[0m \u001b[0mmodels\u001b[0m\u001b[0;34m\u001b[0m\u001b[0;34m\u001b[0m\u001b[0m\n",
            "\u001b[0;32m/usr/local/lib/python3.7/dist-packages/torchvision/datasets/__init__.py\u001b[0m in \u001b[0;36m<module>\u001b[0;34m()\u001b[0m\n\u001b[0;32m----> 1\u001b[0;31m \u001b[0;32mfrom\u001b[0m \u001b[0;34m.\u001b[0m\u001b[0m_optical_flow\u001b[0m \u001b[0;32mimport\u001b[0m \u001b[0mKittiFlow\u001b[0m\u001b[0;34m,\u001b[0m \u001b[0mSintel\u001b[0m\u001b[0;34m,\u001b[0m \u001b[0mFlyingChairs\u001b[0m\u001b[0;34m,\u001b[0m \u001b[0mFlyingThings3D\u001b[0m\u001b[0;34m,\u001b[0m \u001b[0mHD1K\u001b[0m\u001b[0;34m\u001b[0m\u001b[0;34m\u001b[0m\u001b[0m\n\u001b[0m\u001b[1;32m      2\u001b[0m \u001b[0;32mfrom\u001b[0m \u001b[0;34m.\u001b[0m\u001b[0mcaltech\u001b[0m \u001b[0;32mimport\u001b[0m \u001b[0mCaltech101\u001b[0m\u001b[0;34m,\u001b[0m \u001b[0mCaltech256\u001b[0m\u001b[0;34m\u001b[0m\u001b[0;34m\u001b[0m\u001b[0m\n\u001b[1;32m      3\u001b[0m \u001b[0;32mfrom\u001b[0m \u001b[0;34m.\u001b[0m\u001b[0mceleba\u001b[0m \u001b[0;32mimport\u001b[0m \u001b[0mCelebA\u001b[0m\u001b[0;34m\u001b[0m\u001b[0;34m\u001b[0m\u001b[0m\n\u001b[1;32m      4\u001b[0m \u001b[0;32mfrom\u001b[0m \u001b[0;34m.\u001b[0m\u001b[0mcifar\u001b[0m \u001b[0;32mimport\u001b[0m \u001b[0mCIFAR10\u001b[0m\u001b[0;34m,\u001b[0m \u001b[0mCIFAR100\u001b[0m\u001b[0;34m\u001b[0m\u001b[0;34m\u001b[0m\u001b[0m\n\u001b[1;32m      5\u001b[0m \u001b[0;32mfrom\u001b[0m \u001b[0;34m.\u001b[0m\u001b[0mcityscapes\u001b[0m \u001b[0;32mimport\u001b[0m \u001b[0mCityscapes\u001b[0m\u001b[0;34m\u001b[0m\u001b[0;34m\u001b[0m\u001b[0m\n",
            "\u001b[0;32m/usr/local/lib/python3.7/dist-packages/torchvision/datasets/_optical_flow.py\u001b[0m in \u001b[0;36m<module>\u001b[0;34m()\u001b[0m\n\u001b[1;32m     10\u001b[0m \u001b[0;32mfrom\u001b[0m \u001b[0mPIL\u001b[0m \u001b[0;32mimport\u001b[0m \u001b[0mImage\u001b[0m\u001b[0;34m\u001b[0m\u001b[0;34m\u001b[0m\u001b[0m\n\u001b[1;32m     11\u001b[0m \u001b[0;34m\u001b[0m\u001b[0m\n\u001b[0;32m---> 12\u001b[0;31m \u001b[0;32mfrom\u001b[0m \u001b[0;34m.\u001b[0m\u001b[0;34m.\u001b[0m\u001b[0mio\u001b[0m\u001b[0;34m.\u001b[0m\u001b[0mimage\u001b[0m \u001b[0;32mimport\u001b[0m \u001b[0m_read_png_16\u001b[0m\u001b[0;34m\u001b[0m\u001b[0;34m\u001b[0m\u001b[0m\n\u001b[0m\u001b[1;32m     13\u001b[0m \u001b[0;32mfrom\u001b[0m \u001b[0;34m.\u001b[0m\u001b[0mutils\u001b[0m \u001b[0;32mimport\u001b[0m \u001b[0mverify_str_arg\u001b[0m\u001b[0;34m\u001b[0m\u001b[0;34m\u001b[0m\u001b[0m\n\u001b[1;32m     14\u001b[0m \u001b[0;32mfrom\u001b[0m \u001b[0;34m.\u001b[0m\u001b[0mvision\u001b[0m \u001b[0;32mimport\u001b[0m \u001b[0mVisionDataset\u001b[0m\u001b[0;34m\u001b[0m\u001b[0;34m\u001b[0m\u001b[0m\n",
            "\u001b[0;32m/usr/local/lib/python3.7/dist-packages/torchvision/io/__init__.py\u001b[0m in \u001b[0;36m<module>\u001b[0;34m()\u001b[0m\n\u001b[1;32m      3\u001b[0m \u001b[0;32mimport\u001b[0m \u001b[0mtorch\u001b[0m\u001b[0;34m\u001b[0m\u001b[0;34m\u001b[0m\u001b[0m\n\u001b[1;32m      4\u001b[0m \u001b[0;34m\u001b[0m\u001b[0m\n\u001b[0;32m----> 5\u001b[0;31m \u001b[0;32mfrom\u001b[0m \u001b[0;34m.\u001b[0m\u001b[0;34m.\u001b[0m\u001b[0mutils\u001b[0m \u001b[0;32mimport\u001b[0m \u001b[0m_log_api_usage_once\u001b[0m\u001b[0;34m\u001b[0m\u001b[0;34m\u001b[0m\u001b[0m\n\u001b[0m\u001b[1;32m      6\u001b[0m \u001b[0;34m\u001b[0m\u001b[0m\n\u001b[1;32m      7\u001b[0m \u001b[0;32mtry\u001b[0m\u001b[0;34m:\u001b[0m\u001b[0;34m\u001b[0m\u001b[0;34m\u001b[0m\u001b[0m\n",
            "\u001b[0;32m/usr/local/lib/python3.7/dist-packages/torchvision/utils.py\u001b[0m in \u001b[0;36m<module>\u001b[0;34m()\u001b[0m\n\u001b[1;32m      7\u001b[0m \u001b[0;32mimport\u001b[0m \u001b[0mnumpy\u001b[0m \u001b[0;32mas\u001b[0m \u001b[0mnp\u001b[0m\u001b[0;34m\u001b[0m\u001b[0;34m\u001b[0m\u001b[0m\n\u001b[1;32m      8\u001b[0m \u001b[0;32mimport\u001b[0m \u001b[0mtorch\u001b[0m\u001b[0;34m\u001b[0m\u001b[0;34m\u001b[0m\u001b[0m\n\u001b[0;32m----> 9\u001b[0;31m \u001b[0;32mfrom\u001b[0m \u001b[0mPIL\u001b[0m \u001b[0;32mimport\u001b[0m \u001b[0mImage\u001b[0m\u001b[0;34m,\u001b[0m \u001b[0mImageColor\u001b[0m\u001b[0;34m,\u001b[0m \u001b[0mImageDraw\u001b[0m\u001b[0;34m,\u001b[0m \u001b[0mImageFont\u001b[0m\u001b[0;34m\u001b[0m\u001b[0;34m\u001b[0m\u001b[0m\n\u001b[0m\u001b[1;32m     10\u001b[0m \u001b[0;34m\u001b[0m\u001b[0m\n\u001b[1;32m     11\u001b[0m __all__ = [\n",
            "\u001b[0;32m/usr/local/lib/python3.7/dist-packages/PIL/ImageDraw.py\u001b[0m in \u001b[0;36m<module>\u001b[0;34m()\u001b[0m\n\u001b[1;32m     35\u001b[0m \u001b[0;34m\u001b[0m\u001b[0m\n\u001b[1;32m     36\u001b[0m \u001b[0;32mfrom\u001b[0m \u001b[0;34m.\u001b[0m \u001b[0;32mimport\u001b[0m \u001b[0mImage\u001b[0m\u001b[0;34m,\u001b[0m \u001b[0mImageColor\u001b[0m\u001b[0;34m\u001b[0m\u001b[0;34m\u001b[0m\u001b[0m\n\u001b[0;32m---> 37\u001b[0;31m \u001b[0;32mfrom\u001b[0m \u001b[0;34m.\u001b[0m\u001b[0m_util\u001b[0m \u001b[0;32mimport\u001b[0m \u001b[0misStringType\u001b[0m\u001b[0;34m\u001b[0m\u001b[0;34m\u001b[0m\u001b[0m\n\u001b[0m\u001b[1;32m     38\u001b[0m \u001b[0;34m\u001b[0m\u001b[0m\n\u001b[1;32m     39\u001b[0m \u001b[0;34m\u001b[0m\u001b[0m\n",
            "\u001b[0;31mImportError\u001b[0m: cannot import name 'isStringType' from 'PIL._util' (/usr/local/lib/python3.7/dist-packages/PIL/_util.py)",
            "",
            "\u001b[0;31m---------------------------------------------------------------------------\u001b[0;32m\nNOTE: If your import is failing due to a missing package, you can\nmanually install dependencies using either !pip or !apt.\n\nTo view examples of installing some common dependencies, click the\n\"Open Examples\" button below.\n\u001b[0;31m---------------------------------------------------------------------------\u001b[0m\n"
          ],
          "errorDetails": {
            "actions": [
              {
                "action": "open_url",
                "actionText": "Open Examples",
                "url": "/notebooks/snippets/importing_libraries.ipynb"
              }
            ]
          }
        }
      ],
      "source": [
        "# Import the libraries we need to use in this lab\n",
        "# Using the following line code to install the torchvision library\n",
        "# !conda install -y torchvision\n",
        "\n",
        "# PyTorch Library\n",
        "import torch \n",
        "# PyTorch Neural Network Library\n",
        "import torch.nn as nn\n",
        "# Allows us to transform data\n",
        "import torchvision.transforms as transforms\n",
        "# Used to graph data and loss curves\n",
        "import matplotlib.pylab as plt\n",
        "# Allows us to use arrays to manipulate and store data\n",
        "import numpy as np\n",
        "# Allows us to download the dataset\n",
        "import torchvision.datasets as dsets\n",
        "# Allows us to access the filesystem\n",
        "import os  "
      ]
    },
    {
      "cell_type": "markdown",
      "metadata": {
        "id": "1kqoWV6_U1Qj"
      },
      "source": [
        "Some useful functions for plotting\n"
      ]
    },
    {
      "cell_type": "markdown",
      "metadata": {
        "id": "taQHSSb3U1Qv"
      },
      "source": [
        "Plot Cost and Accuracy vs Epoch Graph\n"
      ]
    },
    {
      "cell_type": "code",
      "execution_count": 6,
      "metadata": {
        "id": "UahDUvxiU1Qy"
      },
      "outputs": [],
      "source": [
        "def plot_cost_accuracy(checkpoint):\n",
        "\n",
        "# Plot the cost and accuracy\n",
        "\n",
        "    fig, ax1 = plt.subplots()\n",
        "    color = 'tab:red'\n",
        "    ax1.plot(checkpoint['cost'], color=color)\n",
        "    ax1.set_xlabel('epoch', color=color)\n",
        "    ax1.set_ylabel('Cost', color=color)\n",
        "    ax1.tick_params(axis='y', color=color)\n",
        "    \n",
        "    ax2 = ax1.twinx()  \n",
        "    color = 'tab:blue'\n",
        "    ax2.set_ylabel('accuracy', color=color) \n",
        "    ax2.set_xlabel('epoch', color=color)\n",
        "    ax2.plot( checkpoint['accuracy'], color=color)\n",
        "    ax2.tick_params(axis='y', color=color)\n",
        "    fig.tight_layout()"
      ]
    },
    {
      "cell_type": "markdown",
      "metadata": {
        "id": "65KBH4dnU1Q5"
      },
      "source": [
        "Define the function <code>show_data</code> to plot out data samples as images.\n"
      ]
    },
    {
      "cell_type": "code",
      "execution_count": 7,
      "metadata": {
        "jupyter": {
          "outputs_hidden": false
        },
        "id": "qnoMs1hYU1RA"
      },
      "outputs": [],
      "source": [
        "def show_data(data_sample):\n",
        "    plt.imshow(data_sample[0].numpy().reshape(IMAGE_SIZE, IMAGE_SIZE), cmap='gray')\n",
        "    plt.title('y = '+ str(data_sample[1]))"
      ]
    },
    {
      "cell_type": "markdown",
      "metadata": {
        "jupyter": {
          "outputs_hidden": false
        },
        "id": "IfKQu8hAU1RD"
      },
      "source": [
        "Plot first 5 misclassified samples\n"
      ]
    },
    {
      "cell_type": "code",
      "execution_count": 8,
      "metadata": {
        "jupyter": {
          "outputs_hidden": false
        },
        "id": "dj5_E1IxU1RG"
      },
      "outputs": [],
      "source": [
        "def plot_mis_classified(model, dataset):\n",
        "    count=0\n",
        "    for x, y in torch.utils.data.DataLoader(dataset=dataset, batch_size=1):\n",
        "        z = model(x)\n",
        "        _, yhat = torch.max(z, 1)\n",
        "        if yhat != y:\n",
        "            show_data((x, y))\n",
        "            plt.show()\n",
        "            count += 1\n",
        "        if count >= 5:\n",
        "            break "
      ]
    },
    {
      "cell_type": "markdown",
      "metadata": {
        "id": "CUlvEmrgU1RK"
      },
      "source": [
        "<!--Empty Space for separating topics-->\n"
      ]
    },
    {
      "cell_type": "markdown",
      "metadata": {
        "id": "mUb1bnQeU1RM"
      },
      "source": [
        "<h2 id=\"Makeup_Data\">Load Data</h2> \n"
      ]
    },
    {
      "cell_type": "markdown",
      "metadata": {
        "id": "yiCisnAiU1Rc"
      },
      "source": [
        "We create a transform object  <code>compose</code> one will resize the image and convert it to a tensor, the second will also rotate the image Randomly rotate the image.\n"
      ]
    },
    {
      "cell_type": "code",
      "execution_count": 9,
      "metadata": {
        "colab": {
          "base_uri": "https://localhost:8080/",
          "height": 248
        },
        "id": "YTWUOa7pU1Re",
        "outputId": "1bf01ec6-aa00-4404-829b-0ee9cdb6919a"
      },
      "outputs": [
        {
          "output_type": "error",
          "ename": "NameError",
          "evalue": "ignored",
          "traceback": [
            "\u001b[0;31m---------------------------------------------------------------------------\u001b[0m",
            "\u001b[0;31mNameError\u001b[0m                                 Traceback (most recent call last)",
            "\u001b[0;32m<ipython-input-9-5652014b9dd8>\u001b[0m in \u001b[0;36m<module>\u001b[0;34m()\u001b[0m\n\u001b[1;32m      4\u001b[0m \u001b[0;31m# Creating a group of transformations to created a rotated dataset\u001b[0m\u001b[0;34m\u001b[0m\u001b[0;34m\u001b[0m\u001b[0;34m\u001b[0m\u001b[0m\n\u001b[1;32m      5\u001b[0m \u001b[0;31m# Resizes the images, randomly rotates it, and then converts it to a tensor\u001b[0m\u001b[0;34m\u001b[0m\u001b[0;34m\u001b[0m\u001b[0;34m\u001b[0m\u001b[0m\n\u001b[0;32m----> 6\u001b[0;31m \u001b[0mcompose_rotate\u001b[0m \u001b[0;34m=\u001b[0m \u001b[0mtransforms\u001b[0m\u001b[0;34m.\u001b[0m\u001b[0mCompose\u001b[0m\u001b[0;34m(\u001b[0m\u001b[0;34m[\u001b[0m\u001b[0mtransforms\u001b[0m\u001b[0;34m.\u001b[0m\u001b[0mResize\u001b[0m\u001b[0;34m(\u001b[0m\u001b[0;34m(\u001b[0m\u001b[0mIMAGE_SIZE\u001b[0m\u001b[0;34m,\u001b[0m \u001b[0mIMAGE_SIZE\u001b[0m\u001b[0;34m)\u001b[0m\u001b[0;34m)\u001b[0m\u001b[0;34m,\u001b[0m\u001b[0mtransforms\u001b[0m\u001b[0;34m.\u001b[0m\u001b[0mRandomAffine\u001b[0m\u001b[0;34m(\u001b[0m\u001b[0;36m45\u001b[0m\u001b[0;34m)\u001b[0m\u001b[0;34m,\u001b[0m \u001b[0mtransforms\u001b[0m\u001b[0;34m.\u001b[0m\u001b[0mToTensor\u001b[0m\u001b[0;34m(\u001b[0m\u001b[0;34m)\u001b[0m\u001b[0;34m]\u001b[0m\u001b[0;34m)\u001b[0m\u001b[0;34m\u001b[0m\u001b[0;34m\u001b[0m\u001b[0m\n\u001b[0m\u001b[1;32m      7\u001b[0m \u001b[0;34m\u001b[0m\u001b[0m\n\u001b[1;32m      8\u001b[0m \u001b[0;31m# Creating a group of transformations to created a non rotated dataset\u001b[0m\u001b[0;34m\u001b[0m\u001b[0;34m\u001b[0m\u001b[0;34m\u001b[0m\u001b[0m\n",
            "\u001b[0;31mNameError\u001b[0m: name 'transforms' is not defined"
          ]
        }
      ],
      "source": [
        "# Size of the images are 16 by 16\n",
        "IMAGE_SIZE = 16\n",
        "\n",
        "# Creating a group of transformations to created a rotated dataset\n",
        "# Resizes the images, randomly rotates it, and then converts it to a tensor\n",
        "compose_rotate = transforms.Compose([transforms.Resize((IMAGE_SIZE, IMAGE_SIZE)),transforms.RandomAffine(45), transforms.ToTensor()])\n",
        "\n",
        "# Creating a group of transformations to created a non rotated dataset\n",
        "# Resizes the images then converts it to a tensor\n",
        "compose = transforms.Compose([transforms.Resize((IMAGE_SIZE, IMAGE_SIZE)), transforms.ToTensor()])"
      ]
    },
    {
      "cell_type": "markdown",
      "metadata": {
        "id": "bWAm3H5CU1R3"
      },
      "source": [
        "Load the training dataset by setting the parameters <code>train</code> to <code>True</code>. We use the transform defined above, one with rotated data one without.\n"
      ]
    },
    {
      "cell_type": "code",
      "execution_count": 10,
      "metadata": {
        "jupyter": {
          "outputs_hidden": false
        },
        "colab": {
          "base_uri": "https://localhost:8080/",
          "height": 211
        },
        "id": "8Zxl4RNDU1R8",
        "outputId": "e4f633f1-5857-4ebe-8685-0ed9fbbcd845"
      },
      "outputs": [
        {
          "output_type": "error",
          "ename": "NameError",
          "evalue": "ignored",
          "traceback": [
            "\u001b[0;31m---------------------------------------------------------------------------\u001b[0m",
            "\u001b[0;31mNameError\u001b[0m                                 Traceback (most recent call last)",
            "\u001b[0;32m<ipython-input-10-c9b4dd339c4c>\u001b[0m in \u001b[0;36m<module>\u001b[0;34m()\u001b[0m\n\u001b[1;32m      1\u001b[0m \u001b[0;31m# The transform parameters is set to the corresponding compose\u001b[0m\u001b[0;34m\u001b[0m\u001b[0;34m\u001b[0m\u001b[0;34m\u001b[0m\u001b[0m\n\u001b[0;32m----> 2\u001b[0;31m \u001b[0mtrain_dataset_rotate\u001b[0m \u001b[0;34m=\u001b[0m \u001b[0mdsets\u001b[0m\u001b[0;34m.\u001b[0m\u001b[0mMNIST\u001b[0m\u001b[0;34m(\u001b[0m\u001b[0mroot\u001b[0m\u001b[0;34m=\u001b[0m\u001b[0;34m'./data'\u001b[0m\u001b[0;34m,\u001b[0m \u001b[0mtrain\u001b[0m\u001b[0;34m=\u001b[0m\u001b[0;32mTrue\u001b[0m\u001b[0;34m,\u001b[0m \u001b[0mdownload\u001b[0m\u001b[0;34m=\u001b[0m\u001b[0;32mTrue\u001b[0m\u001b[0;34m,\u001b[0m \u001b[0mtransform\u001b[0m\u001b[0;34m=\u001b[0m\u001b[0mcompose_rotate\u001b[0m\u001b[0;34m)\u001b[0m\u001b[0;34m\u001b[0m\u001b[0;34m\u001b[0m\u001b[0m\n\u001b[0m\u001b[1;32m      3\u001b[0m \u001b[0mtrain_dataset\u001b[0m \u001b[0;34m=\u001b[0m \u001b[0mdsets\u001b[0m\u001b[0;34m.\u001b[0m\u001b[0mMNIST\u001b[0m\u001b[0;34m(\u001b[0m\u001b[0mroot\u001b[0m\u001b[0;34m=\u001b[0m\u001b[0;34m'./data'\u001b[0m\u001b[0;34m,\u001b[0m \u001b[0mtrain\u001b[0m\u001b[0;34m=\u001b[0m\u001b[0;32mTrue\u001b[0m\u001b[0;34m,\u001b[0m \u001b[0mdownload\u001b[0m\u001b[0;34m=\u001b[0m\u001b[0;32mTrue\u001b[0m\u001b[0;34m,\u001b[0m \u001b[0mtransform\u001b[0m\u001b[0;34m=\u001b[0m\u001b[0mcompose\u001b[0m\u001b[0;34m)\u001b[0m\u001b[0;34m\u001b[0m\u001b[0;34m\u001b[0m\u001b[0m\n",
            "\u001b[0;31mNameError\u001b[0m: name 'dsets' is not defined"
          ]
        }
      ],
      "source": [
        "# The transform parameters is set to the corresponding compose\n",
        "train_dataset_rotate = dsets.MNIST(root='./data', train=True, download=True, transform=compose_rotate)\n",
        "train_dataset = dsets.MNIST(root='./data', train=True, download=True, transform=compose)"
      ]
    },
    {
      "cell_type": "markdown",
      "metadata": {
        "id": "kITCvTgBU1R_"
      },
      "source": [
        "Load the testing dataset by setting the parameters train to <code>False</code>, where the data is <b>ALL</b> rotated.\n"
      ]
    },
    {
      "cell_type": "code",
      "execution_count": 12,
      "metadata": {
        "jupyter": {
          "outputs_hidden": false
        },
        "colab": {
          "base_uri": "https://localhost:8080/",
          "height": 193
        },
        "id": "-q1UMHMmU1SB",
        "outputId": "d2296844-7d8b-451a-84da-008ed61eb5bc"
      },
      "outputs": [
        {
          "output_type": "error",
          "ename": "NameError",
          "evalue": "ignored",
          "traceback": [
            "\u001b[0;31m---------------------------------------------------------------------------\u001b[0m",
            "\u001b[0;31mNameError\u001b[0m                                 Traceback (most recent call last)",
            "\u001b[0;32m<ipython-input-12-ef5c712a01c9>\u001b[0m in \u001b[0;36m<module>\u001b[0;34m()\u001b[0m\n\u001b[1;32m      1\u001b[0m \u001b[0;31m# Load the testing dataset\u001b[0m\u001b[0;34m\u001b[0m\u001b[0;34m\u001b[0m\u001b[0;34m\u001b[0m\u001b[0m\n\u001b[0;32m----> 2\u001b[0;31m \u001b[0mvalidation_dataset\u001b[0m \u001b[0;34m=\u001b[0m \u001b[0mdsets\u001b[0m\u001b[0;34m.\u001b[0m\u001b[0mMNIST\u001b[0m\u001b[0;34m(\u001b[0m\u001b[0mroot\u001b[0m\u001b[0;34m=\u001b[0m\u001b[0;34m'./data'\u001b[0m\u001b[0;34m,\u001b[0m \u001b[0mtrain\u001b[0m\u001b[0;34m=\u001b[0m\u001b[0;32mFalse\u001b[0m\u001b[0;34m,\u001b[0m \u001b[0mdownload\u001b[0m\u001b[0;34m=\u001b[0m\u001b[0;32mTrue\u001b[0m\u001b[0;34m,\u001b[0m \u001b[0mtransform\u001b[0m\u001b[0;34m=\u001b[0m\u001b[0mcompose_rotate\u001b[0m\u001b[0;34m)\u001b[0m\u001b[0;34m\u001b[0m\u001b[0;34m\u001b[0m\u001b[0m\n\u001b[0m",
            "\u001b[0;31mNameError\u001b[0m: name 'dsets' is not defined"
          ]
        }
      ],
      "source": [
        "# Load the testing dataset\n",
        "validation_dataset = dsets.MNIST(root='./data', train=False, download=True, transform=compose_rotate)"
      ]
    },
    {
      "cell_type": "markdown",
      "metadata": {
        "id": "KwChaRpmU1SD"
      },
      "source": [
        "Each element in the rectangular tensor corresponds to a number representing a pixel intensity as demonstrated by the following image.\n"
      ]
    },
    {
      "cell_type": "markdown",
      "metadata": {
        "id": "Esa59EiGU1SE"
      },
      "source": [
        "<img src=\"https://s3-api.us-geo.objectstorage.softlayer.net/cf-courses-data/CognitiveClass/DL0110EN/notebook_images%20/chapter%206/6.2.1imagenet.png\" width=\"550\" alt=\"MNIST data image\">\n"
      ]
    },
    {
      "cell_type": "markdown",
      "metadata": {
        "id": "d0tSEvPKU1SF"
      },
      "source": [
        "Plot the first sample\n"
      ]
    },
    {
      "cell_type": "code",
      "execution_count": 13,
      "metadata": {
        "jupyter": {
          "outputs_hidden": false
        },
        "colab": {
          "base_uri": "https://localhost:8080/",
          "height": 193
        },
        "id": "vB1JY-TqU1SI",
        "outputId": "f7d32fba-8953-4938-88b5-2c6a5bcb2567"
      },
      "outputs": [
        {
          "output_type": "error",
          "ename": "NameError",
          "evalue": "ignored",
          "traceback": [
            "\u001b[0;31m---------------------------------------------------------------------------\u001b[0m",
            "\u001b[0;31mNameError\u001b[0m                                 Traceback (most recent call last)",
            "\u001b[0;32m<ipython-input-13-408cc4431a2b>\u001b[0m in \u001b[0;36m<module>\u001b[0;34m()\u001b[0m\n\u001b[1;32m      1\u001b[0m \u001b[0;31m# The image for the first data sample\u001b[0m\u001b[0;34m\u001b[0m\u001b[0;34m\u001b[0m\u001b[0;34m\u001b[0m\u001b[0m\n\u001b[0;32m----> 2\u001b[0;31m \u001b[0mshow_data\u001b[0m\u001b[0;34m(\u001b[0m\u001b[0mtrain_dataset\u001b[0m\u001b[0;34m[\u001b[0m\u001b[0;36m0\u001b[0m\u001b[0;34m]\u001b[0m\u001b[0;34m)\u001b[0m\u001b[0;34m\u001b[0m\u001b[0;34m\u001b[0m\u001b[0m\n\u001b[0m",
            "\u001b[0;31mNameError\u001b[0m: name 'train_dataset' is not defined"
          ]
        }
      ],
      "source": [
        "# The image for the first data sample\n",
        "show_data(train_dataset[0])"
      ]
    },
    {
      "cell_type": "markdown",
      "metadata": {
        "id": "mZkjYVLdU1SJ"
      },
      "source": [
        "Print out the first label, as we can see this digit is a five\n"
      ]
    },
    {
      "cell_type": "code",
      "execution_count": null,
      "metadata": {
        "id": "CxqGuE3zU1SM"
      },
      "outputs": [],
      "source": [
        "# The label for the first data element\n",
        "train_dataset[0][1]"
      ]
    },
    {
      "cell_type": "markdown",
      "metadata": {
        "id": "6x8CG0qcU1S8"
      },
      "source": [
        "Now let's plot the first sample of the rotated training dataset\n"
      ]
    },
    {
      "cell_type": "code",
      "execution_count": null,
      "metadata": {
        "jupyter": {
          "outputs_hidden": false
        },
        "id": "y4Y1EFk7U1S-"
      },
      "outputs": [],
      "source": [
        "show_data(train_dataset_rotate[0])"
      ]
    },
    {
      "cell_type": "markdown",
      "metadata": {
        "id": "-IiqF5KBU1S_"
      },
      "source": [
        "We can see that this is the same sample but it is rotated as we wanted\n"
      ]
    },
    {
      "cell_type": "markdown",
      "metadata": {
        "id": "8YtJSLlZU1TA"
      },
      "source": [
        "<!--Empty Space for separating topics-->\n"
      ]
    },
    {
      "cell_type": "markdown",
      "metadata": {
        "id": "QY8b1mQcU1TC"
      },
      "source": [
        "<h2 id=\"CNN\">Build a Convolutional Neural Network Class</h2>\n"
      ]
    },
    {
      "cell_type": "markdown",
      "metadata": {
        "id": "_u_ZhG_UU1TE"
      },
      "source": [
        "Build a Convolutional Network class with two Convolutional layers and one fully connected layer. Pre-determine the size of the final output matrix. The parameters in the constructor are the number of output channels for the first and second layers.\n"
      ]
    },
    {
      "cell_type": "code",
      "execution_count": null,
      "metadata": {
        "id": "7RiqSrvJU1TF"
      },
      "outputs": [],
      "source": [
        "class CNN(nn.Module):\n",
        "    \n",
        "    # Contructor\n",
        "    def __init__(self, out_1=16, out_2=32):\n",
        "        super(CNN, self).__init__()\n",
        "        \n",
        "        # The reason we start with 1 channel is because we have a single black and white image\n",
        "        # Channel Width after this layer is 16\n",
        "        self.cnn1 = nn.Conv2d(in_channels=1, out_channels=out_1, kernel_size=5, padding=2)\n",
        "        # Channel Wifth after this layer is 8\n",
        "        self.maxpool1=nn.MaxPool2d(kernel_size=2)\n",
        "        \n",
        "        # Channel Width after this layer is 8\n",
        "        self.cnn2 = nn.Conv2d(in_channels=out_1, out_channels=out_2, kernel_size=5, stride=1, padding=2)\n",
        "        # Channel Width after this layer is 4\n",
        "        self.maxpool2=nn.MaxPool2d(kernel_size=2)\n",
        "        # In total we have out_2 (32) channels which are each 4 * 4 in size based on the width calculation above. Channels are squares.\n",
        "        # The output is a value for each class\n",
        "        self.fc1 = nn.Linear(out_2 * 4 * 4, 10)\n",
        "    \n",
        "    # Prediction\n",
        "    def forward(self, x):\n",
        "        # Puts the X value through each cnn, relu, and pooling layer and it is flattened for input into the fully connected layer\n",
        "        x = self.cnn1(x)\n",
        "        x = torch.relu(x)\n",
        "        x = self.maxpool1(x)\n",
        "        x = self.cnn2(x)\n",
        "        x = torch.relu(x)\n",
        "        x = self.maxpool2(x)\n",
        "        x = x.view(x.size(0), -1)\n",
        "        x = self.fc1(x)\n",
        "        return x\n",
        "\n",
        "    # Outputs result of each stage of the CNN, relu, and pooling layers\n",
        "    def activations(self, x):\n",
        "        # Outputs activation this is not necessary\n",
        "        z1 = self.cnn1(x)\n",
        "        a1 = torch.relu(z1)\n",
        "        out = self.maxpool1(a1)\n",
        "        \n",
        "        z2 = self.cnn2(out)\n",
        "        a2 = torch.relu(z2)\n",
        "        out1 = self.maxpool2(a2)\n",
        "        out = out.view(out.size(0),-1)\n",
        "        return z1, a1, z2, a2, out1,out"
      ]
    },
    {
      "cell_type": "markdown",
      "metadata": {
        "id": "ZPFDxWhgU1TM"
      },
      "source": [
        "<h2 id=\"regular_data\">Regular Data</h2> \n"
      ]
    },
    {
      "cell_type": "markdown",
      "metadata": {
        "id": "t0W-X29dU1TN"
      },
      "source": [
        "Define the Convolutional Neural Network Classifier, Criterion function, Optimizer, and Train the Model\n"
      ]
    },
    {
      "cell_type": "code",
      "execution_count": null,
      "metadata": {
        "jupyter": {
          "outputs_hidden": false
        },
        "id": "6EcO44rfU1TP"
      },
      "outputs": [],
      "source": [
        "# Create the model object to be trained on regular data using CNN class\n",
        "model = CNN(out_1=16, out_2=32)"
      ]
    },
    {
      "cell_type": "markdown",
      "metadata": {
        "id": "u2lLMp6nU1TQ"
      },
      "source": [
        "Define the loss function, the optimizer, and the dataset loader\n"
      ]
    },
    {
      "cell_type": "code",
      "execution_count": null,
      "metadata": {
        "id": "cu7TZd4pU1TR"
      },
      "outputs": [],
      "source": [
        "# We create a criterion which will measure loss\n",
        "criterion = nn.CrossEntropyLoss()\n",
        "learning_rate = 0.1\n",
        "# Create an optimizer that updates model parameters using the learning rate and gradient\n",
        "optimizer = torch.optim.SGD(model.parameters(), lr = learning_rate)\n",
        "# Create a Data Loader for the training data with a batch size of 100 \n",
        "train_loader = torch.utils.data.DataLoader(dataset=train_dataset, batch_size=100)\n",
        "# Create a Data Loader for the rotated validation data with a batch size of 5000 \n",
        "validation_loader = torch.utils.data.DataLoader(dataset=validation_dataset, batch_size=5000)"
      ]
    },
    {
      "cell_type": "markdown",
      "metadata": {
        "id": "5c4ZVBafU1TU"
      },
      "source": [
        "This cell will train the model, we will comment it out as it takes a long time to run. You can change the block type from Raw to Code and run it or you can load the trained model in the next cell. Notice that we are not only training and saving the model here but we are also keeping track of important data like the cost and accuracy throughout the training process.\n"
      ]
    },
    {
      "cell_type": "raw",
      "metadata": {
        "id": "eBARhuBVU1TV"
      },
      "source": [
        "# Train the model\n",
        "import os  \n",
        "\n",
        "# Location to save data\n",
        "file_normal = os.path.join(os.getcwd(), 'normal.pt')\n",
        "\n",
        "# All the data we are saving\n",
        "checkpoint={\n",
        "            # Saving the number of epochs the models was trained for\n",
        "            'epoch': None,\n",
        "            # Saving the models parameters which will allow us to recreate the trained model\n",
        "            'model_state_dict': None,\n",
        "            # Saving the optimizers parameters\n",
        "            'optimizer_state_dict': None,\n",
        "            # Saving the loss on the training dataset for the last batch of the last epoch\n",
        "            'loss': None,\n",
        "            # Saving the cost on the training dataset for each epoch\n",
        "            'cost': [],\n",
        "            # Saving the accuracy for the testing dataset for each epoch\n",
        "            'accuracy': []}\n",
        "            \n",
        "# Number of epochs to train model\n",
        "n_epochs = 5\n",
        "\n",
        "# Size of the testing dataset\n",
        "N_test = len(validation_dataset)\n",
        "\n",
        "# Training for the number of epochs we want\n",
        "for epoch in range(n_epochs):\n",
        "    # Variable to keep track of cost for each epoch\n",
        "    cost = 0\n",
        "    # For each batch in the training dataset\n",
        "    for x, y in train_loader:\n",
        "        # Resets the calculated gradient value, this must be done each time as it accumulates if we do not reset\n",
        "        optimizer.zero_grad()\n",
        "        # Makes a prediction on the image\n",
        "        z = model(x)\n",
        "        # Calculate the loss between the prediction and actual class\n",
        "        loss = criterion(z, y)\n",
        "        # Calculates the gradient value with respect to each weight and bias\n",
        "        loss.backward()\n",
        "        # Updates the weight and bias according to calculated gradient value\n",
        "        optimizer.step()\n",
        "      \n",
        "        # Saves the number of epochs we trained for  \n",
        "        checkpoint['epochs'] = n_epochs\n",
        "        # Saves the models parameters\n",
        "        checkpoint['model_state_dict'] = model.state_dict()\n",
        "        # Saves the optimizers paramters\n",
        "        checkpoint['optimizer_state_dict'] = optimizer.state_dict()\n",
        "        # Saves the loss for the last batch so ultimately this will be the loss for the last batch of the last epoch\n",
        "        checkpoint['loss'] = loss\n",
        "        # Accumulates the loss\n",
        "        cost += loss.item()\n",
        "        \n",
        "     \n",
        "    # Counter for the correct number of predictions        \n",
        "    correct = 0\n",
        "        \n",
        "    # For each batch in the validation dataset\n",
        "    for x_test, y_test in validation_loader:\n",
        "        # Make a prediction\n",
        "        z = model(x_test)\n",
        "        # Get the class that has the maximum value\n",
        "        _, yhat = torch.max(z.data, 1)\n",
        "        # Counts the number of correct predictions made\n",
        "        correct += (yhat == y_test).sum().item()\n",
        " \n",
        "    accuracy = correct / N_test\n",
        "    print(accuracy)\n",
        "    # Appends the cost of the epoch to a list\n",
        "    checkpoint['cost'].append(cost) \n",
        "    # Appends the accuracy of the epoch to a list\n",
        "    checkpoint['accuracy'].append(accuracy)\n",
        "    # Saves the data in checkpoint to the file location\n",
        "    torch.save(checkpoint, file_normal) "
      ]
    },
    {
      "cell_type": "markdown",
      "metadata": {
        "id": "MypfLUuoU1TY"
      },
      "source": [
        "<h3 id=\"Result\">Analyze Results</h3> \n"
      ]
    },
    {
      "cell_type": "markdown",
      "metadata": {
        "id": "8_zsij3xU1TZ"
      },
      "source": [
        "Loads the data which is saved in `normal.pt`\n"
      ]
    },
    {
      "cell_type": "code",
      "execution_count": null,
      "metadata": {
        "id": "8xVVCPENU1Tb"
      },
      "outputs": [],
      "source": [
        "checkpoint_normal = torch.load(os.path.join(os.getcwd(),'normal.pt'))"
      ]
    },
    {
      "cell_type": "markdown",
      "metadata": {
        "id": "bKaTIHsJU1Te"
      },
      "source": [
        "Plot Accuracy and Cost vs Epoch Graph\n"
      ]
    },
    {
      "cell_type": "code",
      "execution_count": null,
      "metadata": {
        "id": "uxe2YIFcU1Tf"
      },
      "outputs": [],
      "source": [
        "# Using the helper function defined at the top and the cost and accuracy lists that we saved\n",
        "plot_cost_accuracy(checkpoint_normal)"
      ]
    },
    {
      "cell_type": "markdown",
      "metadata": {
        "id": "5oVD0OI-U1Th"
      },
      "source": [
        "Five misclassified samples\n"
      ]
    },
    {
      "cell_type": "code",
      "execution_count": null,
      "metadata": {
        "id": "T3YlFXKUU1Ti"
      },
      "outputs": [],
      "source": [
        "# Using the model parameters we saved we load them into a model to recreate the trained model\n",
        "model.load_state_dict(checkpoint_normal['model_state_dict'])\n",
        "# Setting the model to evaluation mode\n",
        "model.eval()\n",
        "# Using the helper function plot the first five misclassified samples\n",
        "plot_mis_classified(model,validation_dataset)"
      ]
    },
    {
      "cell_type": "markdown",
      "metadata": {
        "id": "3NO21OiPU1Tj"
      },
      "source": [
        "<!--Empty Space for separating topics-->\n"
      ]
    },
    {
      "cell_type": "markdown",
      "metadata": {
        "id": "vPRhX_IlU1Tk"
      },
      "source": [
        "<h2 id=\"R_training_data\">Rotated Training Data</h2> \n"
      ]
    },
    {
      "cell_type": "markdown",
      "metadata": {
        "id": "C4s71859U1Tl"
      },
      "source": [
        "Plot the loss and accuracy on the validation data:\n"
      ]
    },
    {
      "cell_type": "code",
      "execution_count": null,
      "metadata": {
        "id": "PLEPBJ5gU1Tm"
      },
      "outputs": [],
      "source": [
        "# Create the model object using CNN class\n",
        "model_r = CNN(out_1=16, out_2=32)\n",
        "# We create a criterion which will measure loss\n",
        "criterion = nn.CrossEntropyLoss()\n",
        "learning_rate = 0.1\n",
        "# Create an optimizer that updates model parameters using the learning rate and gradient\n",
        "optimizer = torch.optim.SGD(model_r.parameters(), lr = learning_rate)\n",
        "# Create a Data Loader for the rotated training data with a batch size of 100 \n",
        "train_loader = torch.utils.data.DataLoader(dataset=train_dataset_rotate, batch_size=100)\n",
        "# Create a Data Loader for the rotated validation data with a batch size of 5000 \n",
        "validation_loader = torch.utils.data.DataLoader(dataset=validation_dataset, batch_size=5000)"
      ]
    },
    {
      "cell_type": "markdown",
      "metadata": {
        "id": "7amrJVJTU1To"
      },
      "source": [
        "This cell will train the model, we will comment it out as it takes a long time to run. You can change the block type from Raw to Code and run it or you can load the trained model in the next cell.\n"
      ]
    },
    {
      "cell_type": "raw",
      "metadata": {
        "id": "hAXaZ0dNU1Tp"
      },
      "source": [
        "# Location to save data\n",
        "file_rotated = os.path.join(os.getcwd(), 'rotated_data.pt')\n",
        "\n",
        "# All the data we are saving\n",
        "checkpoint={\n",
        "            # Saving the number of epochs the models was trained for\n",
        "            'epoch': None,\n",
        "            # Saving the models parameters which will allow us to recreate the trained model\n",
        "            'model_state_dict': None,\n",
        "            # Saving the optimizers parameters\n",
        "            'optimizer_state_dict': None,\n",
        "            # Saving the loss on the training dataset for the last batch of the last epoch\n",
        "            'loss': None,\n",
        "            # Saving the cost on the training dataset for each epoch\n",
        "            'cost': [],\n",
        "            # Saving the accuracy for the testing dataset for each epoch\n",
        "            'accuracy': []}\n",
        "            \n",
        "# Number of epochs to train model            \n",
        "n_epochs = 5\n",
        "\n",
        "# Size of the testing dataset\n",
        "N_test = len(validation_dataset)\n",
        "\n",
        "# Training for the number of epochs we want\n",
        "for epoch in range(n_epochs):\n",
        "    # Variable to keep track of cost for each epoch\n",
        "    cost = 0\n",
        "    # For each batch in the training dataset\n",
        "    for x, y in train_loader:\n",
        "        # Resets the calculated gradient value, this must be done each time as it accumulates if we do not reset\n",
        "        optimizer.zero_grad()\n",
        "        # Makes a prediction on the image\n",
        "        z = model_r(x)\n",
        "        # Calculate the loss between the prediction and actual class\n",
        "        loss = criterion(z, y)\n",
        "        # Calculates the gradient value with respect to each weight and bias\n",
        "        loss.backward()\n",
        "        # Updates the weight and bias according to calculated gradient value\n",
        "        optimizer.step()\n",
        "      \n",
        "        # Saves the number of epochs we trained for  \n",
        "        checkpoint['epochs'] = n_epochs\n",
        "        # Saves the models parameters\n",
        "        checkpoint['model_state_dict'] = model.state_dict()\n",
        "        # Saves the optimizers paramters\n",
        "        checkpoint['optimizer_state_dict'] = optimizer.state_dict()\n",
        "        # Saves the loss for the last batch so ultimately this will be the loss for the last batch of the last epoch\n",
        "        checkpoint['loss'] = loss\n",
        "        # Accumulates the loss\n",
        "        cost+=loss.item()\n",
        "        \n",
        "     \n",
        "    # Counter for the correct number of predictions        \n",
        "    correct = 0\n",
        "        \n",
        "    # For each batch in the validation dataset\n",
        "    for x_test, y_test in validation_loader:\n",
        "        # Make a prediction\n",
        "        z = model_r(x_test)\n",
        "        # Get the class that has the maximum value\n",
        "        _, yhat = torch.max(z.data, 1)\n",
        "        # Counts the number of correct predictions made\n",
        "        correct += (yhat == y_test).sum().item()\n",
        " \n",
        "    accuracy = correct / N_test\n",
        "    print(accuracy)\n",
        "    # Appends the cost of the epoch to a list\n",
        "    checkpoint['cost'].append(cost) \n",
        "    # Appends the accuracy of the epoch to a list\n",
        "    checkpoint['accuracy'].append(accuracy)\n",
        "    # Saves the data in checkpoint to the file location\n",
        "    torch.save(checkpoint, file_rotated) "
      ]
    },
    {
      "cell_type": "markdown",
      "metadata": {
        "id": "WAQ36AwVU1Tr"
      },
      "source": [
        "<h3 id=\"Result\">Analyze Results</h3> \n"
      ]
    },
    {
      "cell_type": "markdown",
      "metadata": {
        "id": "I9lTB6zhU1Ts"
      },
      "source": [
        "Loads the data which is saved in `rotated_data.pt`\n"
      ]
    },
    {
      "cell_type": "code",
      "execution_count": null,
      "metadata": {
        "id": "EBbbxE53U1Tt"
      },
      "outputs": [],
      "source": [
        "checkpoint_rotated= torch.load(os.path.join(os.getcwd(),'rotated_data.pt'))"
      ]
    },
    {
      "cell_type": "markdown",
      "metadata": {
        "id": "c0LPxKsTU1Tw"
      },
      "source": [
        "Plot Accuracy and Cost vs Epoch Graph\n"
      ]
    },
    {
      "cell_type": "code",
      "execution_count": null,
      "metadata": {
        "id": "Huxtu4y2U1Ty"
      },
      "outputs": [],
      "source": [
        "# Using the helper function defined at the top and the cost and accuracy lists that we saved\n",
        "plot_cost_accuracy(checkpoint_rotated)"
      ]
    },
    {
      "cell_type": "markdown",
      "metadata": {
        "id": "lxYuVJtqU1Tz"
      },
      "source": [
        "Five misclassified samples\n"
      ]
    },
    {
      "cell_type": "code",
      "execution_count": null,
      "metadata": {
        "id": "IKsec1tvU1T0"
      },
      "outputs": [],
      "source": [
        "# Using the model parameters we saved we load them into a model to recreate the trained model\n",
        "model_r.load_state_dict(checkpoint_rotated['model_state_dict'])\n",
        "# Setting the model to evaluation mode\n",
        "model.eval()\n",
        "# Using the helper function plot the first five misclassified samples\n",
        "plot_mis_classified(model_r,validation_dataset)"
      ]
    },
    {
      "cell_type": "markdown",
      "metadata": {
        "id": "oKrONWPwU1T1"
      },
      "source": [
        "## Summary\n"
      ]
    },
    {
      "cell_type": "markdown",
      "metadata": {
        "id": "BgSRBssYU1T2"
      },
      "source": [
        "As you can see in the two Cost and Accuracy vs Epoch Graph the model trained on rotated data performs much better on the rotated validation data, 79% vs 95%+. By creating and training on rotated data allows the model to learn from unique data and have increased exposure to real life situations because data is not always perfect or rotated correctly.\n"
      ]
    },
    {
      "cell_type": "markdown",
      "metadata": {
        "id": "G8P7E7XiU1T3"
      },
      "source": [
        "<!--Empty Space for separating topics-->\n"
      ]
    },
    {
      "cell_type": "markdown",
      "metadata": {
        "id": "eHkY1XNDU1T4"
      },
      "source": [
        "<a href=\"http://cocl.us/pytorch_link_bottom?utm_medium=Exinfluencer&utm_source=Exinfluencer&utm_content=000026UJ&utm_term=10006555&utm_id=NA-SkillsNetwork-Channel-SkillsNetworkCoursesIBMDeveloperSkillsNetworkCV0101ENCoursera25797139-2022-01-01\">\n",
        "    <img src=\"https://s3-api.us-geo.objectstorage.softlayer.net/cf-courses-data/CognitiveClass/DL0110EN/notebook_images%20/notebook_bottom%20.png\" width=\"750\" alt=\"PyTorch Bottom\" />\n",
        "</a>\n"
      ]
    },
    {
      "cell_type": "markdown",
      "metadata": {
        "id": "YWLVmGgIU1T5"
      },
      "source": [
        "<h2>About the Authors:</h2> \n",
        "\n",
        "<a href=\"https://www.linkedin.com/in/joseph-s-50398b136/?utm_medium=Exinfluencer&utm_source=Exinfluencer&utm_content=000026UJ&utm_term=10006555&utm_id=NA-SkillsNetwork-Channel-SkillsNetworkCoursesIBMDeveloperSkillsNetworkCV0101ENCoursera25797139-2022-01-01\">Joseph Santarcangelo</a> has a PhD in Electrical Engineering, his research focused on using machine learning, signal processing, and computer vision to determine how videos impact human cognition. Joseph has been working for IBM since he completed his PhD.\n"
      ]
    },
    {
      "cell_type": "markdown",
      "metadata": {
        "id": "HxxxPgQPU1T6"
      },
      "source": [
        "Other contributors: <a href=\"https://www.linkedin.com/in/michelleccarey/?utm_medium=Exinfluencer&utm_source=Exinfluencer&utm_content=000026UJ&utm_term=10006555&utm_id=NA-SkillsNetwork-Channel-SkillsNetworkCoursesIBMDeveloperSkillsNetworkCV0101ENCoursera25797139-2022-01-01\">Michelle Carey</a>, <a href=\"https://www.linkedin.com/in/jiahui-mavis-zhou-a4537814a?utm_medium=Exinfluencer&utm_source=Exinfluencer&utm_content=000026UJ&utm_term=10006555&utm_id=NA-SkillsNetwork-Channel-SkillsNetworkCoursesIBMDeveloperSkillsNetworkCV0101ENCoursera25797139-2022-01-01\">Mavis Zhou</a>\n"
      ]
    },
    {
      "cell_type": "markdown",
      "metadata": {
        "id": "_roMULp1U1T7"
      },
      "source": [
        "Thanks to Magnus <a href=\"http://www.hvass-labs.org/?utm_medium=Exinfluencer&utm_source=Exinfluencer&utm_content=000026UJ&utm_term=10006555&utm_id=NA-SkillsNetwork-Channel-SkillsNetworkCoursesIBMDeveloperSkillsNetworkCV0101ENCoursera25797139-2022-01-01\">Erik Hvass Pedersen</a> whose tutorials helped me understand Convolutional Neural Networks\n"
      ]
    },
    {
      "cell_type": "markdown",
      "metadata": {
        "id": "oZubbZicU1T8"
      },
      "source": [
        "<hr>\n"
      ]
    },
    {
      "cell_type": "markdown",
      "metadata": {
        "id": "d6L1oKk6U1T9"
      },
      "source": [
        "Copyright © 2018 <a href=\"https://cognitiveclass.ai/?utm_medium=dswb&utm_source=bducopyrightlink&utm_content=000026UJ&utm_term=10006555&utm_id=NA-SkillsNetwork-Channel-SkillsNetworkCoursesIBMDeveloperSkillsNetworkCV0101ENCoursera25797139-2022-01-01&utm_campaign=bdu\">cognitiveclass.ai</a>. This notebook and its source code are released under the terms of the <a href=\"https://bigdatauniversity.com/mit-license/?utm_medium=Exinfluencer&utm_source=Exinfluencer&utm_content=000026UJ&utm_term=10006555&utm_id=NA-SkillsNetwork-Channel-SkillsNetworkCoursesIBMDeveloperSkillsNetworkCV0101ENCoursera25797139-2022-01-01\">MIT License</a>.\n"
      ]
    }
  ],
  "metadata": {
    "kernelspec": {
      "display_name": "Python 3",
      "language": "python",
      "name": "python3"
    },
    "language_info": {
      "codemirror_mode": {
        "name": "ipython",
        "version": 3
      },
      "file_extension": ".py",
      "mimetype": "text/x-python",
      "name": "python",
      "nbconvert_exporter": "python",
      "pygments_lexer": "ipython3",
      "version": "3.8.0"
    },
    "colab": {
      "name": "Data Augmentation.ipynb",
      "provenance": [],
      "include_colab_link": true
    }
  },
  "nbformat": 4,
  "nbformat_minor": 0
}