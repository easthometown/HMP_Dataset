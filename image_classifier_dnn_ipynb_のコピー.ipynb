{
  "nbformat": 4,
  "nbformat_minor": 0,
  "metadata": {
    "colab": {
      "name": "image-classifier-dnn.ipynb のコピー",
      "provenance": [],
      "collapsed_sections": [],
      "include_colab_link": true
    },
    "kernelspec": {
      "name": "python3",
      "display_name": "Python 3"
    },
    "language_info": {
      "name": "python"
    }
  },
  "cells": [
    {
      "cell_type": "markdown",
      "metadata": {
        "id": "view-in-github",
        "colab_type": "text"
      },
      "source": [
        "<a href=\"https://colab.research.google.com/github/easthometown/HMP_Dataset/blob/coursera/image_classifier_dnn_ipynb_%E3%81%AE%E3%82%B3%E3%83%94%E3%83%BC.ipynb\" target=\"_parent\"><img src=\"https://colab.research.google.com/assets/colab-badge.svg\" alt=\"Open In Colab\"/></a>"
      ]
    },
    {
      "cell_type": "markdown",
      "metadata": {
        "id": "PC2XM9ueyLhu"
      },
      "source": [
        "# Image Classification: Dense Neural Network\n",
        "\n",
        "[![Open In Colab <](https://colab.research.google.com/assets/colab-badge.svg)](https://colab.research.google.com/github/ShawnHymel/computer-vision-with-embedded-machine-learning/blob/master/1.2.3%20-%20Training%20an%20Image%20Classifier%20with%20Keras/image_classifier_dnn.ipynb)\n",
        "\n",
        "Run this notebook to train a dense neural network (DNN) on your own image dataset.\n",
        "\n",
        "Based on: https://colab.research.google.com/github/AviatorMoser/keras-mnist-tutorial/blob/master/MNIST%20in%20Keras.ipynb#scrollTo=rFFriuVPwhAm\n",
        "\n",
        "(I recommend working through the example above, as it has a lot of good descriptions on doing classification with images)\n",
        "\n",
        "Create a folder named \"dataset\" in the /content directory and upload your images there. The images should be divided into their respective classes, where each class has its own folder with the name of the class. For example:\n",
        "\n",
        "<pre>\n",
        "/content\n",
        "    |- dataset\n",
        "        |- background\n",
        "        |- capacitor\n",
        "        |- diode\n",
        "        |- led\n",
        "        |- resistor\n",
        "</pre>\n",
        "\n",
        "Author: EdgeImpulse, Inc.<br>\n",
        "Date: June 5, 2021<br>\n",
        "License: [Apache-2.0](apache.org/licenses/LICENSE-2.0)<br>"
      ]
    },
    {
      "cell_type": "markdown",
      "source": [
        "# 新しいセクション"
      ],
      "metadata": {
        "id": "Dd964NM0UjRm"
      }
    },
    {
      "cell_type": "code",
      "metadata": {
        "id": "jhHG2__GyJjs"
      },
      "source": [
        "import numpy as np\n",
        "import matplotlib.pyplot as plt\n",
        "import random\n",
        "import os\n",
        "import PIL\n",
        "\n",
        "from keras.utils import np_utils                          # tools for creating one-hot encoding\n",
        "from keras.models import Sequential                       # Type of model we wish to use\n",
        "from keras.layers.core import Dense, Dropout, Activation  # Types of layers we wish to use\n",
        "\n",
        "from skimage.transform import resize                      # Used to scale/resize image arrays\n",
        "\n",
        "from sklearn.metrics import confusion_matrix              # Used to quickly make confusion matrix"
      ],
      "execution_count": 1,
      "outputs": []
    },
    {
      "cell_type": "code",
      "metadata": {
        "id": "wu2l_Lm0yhtJ"
      },
      "source": [
        "### Settings\n",
        "\n",
        "# Location of dataset\n",
        "DATASET_PATH = \"/content/dataset\"\n",
        "\n",
        "# Desired resolution of images\n",
        "TARGET_WIDTH = 28\n",
        "TARGET_HEIGHT = 28\n",
        "\n",
        "# Invert image (dark backgrounds can sometimes improve accuracy)\n",
        "INVERT = False\n",
        "\n",
        "# Set aside 20% for validation and 20% for test\n",
        "VAL_RATIO = 0.2\n",
        "TEST_RATIO = 0.2\n",
        "\n",
        "# You are welcome to change the seed to try a different validation set split\n",
        "random.seed(42)"
      ],
      "execution_count": 2,
      "outputs": []
    },
    {
      "cell_type": "code",
      "metadata": {
        "colab": {
          "base_uri": "https://localhost:8080/"
        },
        "id": "FXcJLxcv0yOT",
        "outputId": "5047b964-7cb7-4ed7-e129-e391adae277f"
      },
      "source": [
        "### Load images as Numpy arrays\n",
        "\n",
        "# We want to record the labels and assign a ground truth label as a number to each sample\n",
        "labels = []\n",
        "y_all = []    # Lowercase 'y' - 1D vector of the ground labels (n)\n",
        "X_all = []    # Uppercase 'X' - 3D array of all image samples (n x width x height)\n",
        "\n",
        "# Find the directories in the dataset folder (skip the Jupyter Notebook checkpoints hidden folder)\n",
        "for label in os.listdir(DATASET_PATH):\n",
        "  class_dir = os.path.join(DATASET_PATH, label)\n",
        "  if os.path.isdir(class_dir) and label != \".ipynb_checkpoints\":\n",
        "\n",
        "    # Add the name of the folder to our labels list\n",
        "    labels.append(label)\n",
        "\n",
        "    # Go through each image in the folder\n",
        "    for i, file in enumerate(os.listdir(class_dir)):\n",
        "\n",
        "      # Skip the Jupyter Notebook checkpoints folder that sometimes gets added\n",
        "      if file != \".ipynb_checkpoints\":\n",
        "\n",
        "        # Open image and convert to grayscale\n",
        "        file_path = os.path.join(class_dir, file)\n",
        "        img = PIL.Image.open(file_path).convert('L')\n",
        "\n",
        "        # Convert the image to a Numpy array, optionally invern, and append to X\n",
        "        img_array = np.asarray(img)\n",
        "        if INVERT:\n",
        "          img_array = 255 - img_array\n",
        "        X_all.append(img_array)\n",
        "\n",
        "        # Add label to the y array\n",
        "        y_all.append(label)\n",
        "\n",
        "    # Show how many images we loaded\n",
        "    print(\"Added\", str(i + 1), \"images from\", label)\n",
        "\n",
        "# Calculate total number of samples\n",
        "num_samples = len(X_all)\n",
        "\n",
        "# Sort the labels list by alphabetical order\n",
        "labels = sorted(labels)\n",
        "\n",
        "# Print out labels and number of samples\n",
        "print(labels)\n",
        "print(\"Number of samples:\", num_samples)"
      ],
      "execution_count": 7,
      "outputs": [
        {
          "output_type": "stream",
          "name": "stdout",
          "text": [
            "Added 54 images from image\n",
            "['image']\n",
            "Number of samples: 54\n"
          ]
        }
      ]
    },
    {
      "cell_type": "code",
      "metadata": {
        "colab": {
          "base_uri": "https://localhost:8080/"
        },
        "id": "_ux1q5Z_nFq0",
        "outputId": "5ffb5908-4655-4b15-d1aa-a0cde8d761d6"
      },
      "source": [
        "### Convert labels to numbers\n",
        "\n",
        "# Show the labels before the conversion\n",
        "print(\"Before:\", y_all)\n",
        "\n",
        "# Convert each label to its index in the labels\n",
        "y_out = []\n",
        "for i, label in enumerate(y_all):\n",
        "  y_out.append(labels.index(label))\n",
        "y_all = y_out\n",
        "\n",
        "# Show the labels after the conversion\n",
        "print(\"After:\", y_all)"
      ],
      "execution_count": 8,
      "outputs": [
        {
          "output_type": "stream",
          "name": "stdout",
          "text": [
            "Before: ['image', 'image', 'image', 'image', 'image', 'image', 'image', 'image', 'image', 'image', 'image', 'image', 'image', 'image', 'image', 'image', 'image', 'image', 'image', 'image', 'image', 'image', 'image', 'image', 'image', 'image', 'image', 'image', 'image', 'image', 'image', 'image', 'image', 'image', 'image', 'image', 'image', 'image', 'image', 'image', 'image', 'image', 'image', 'image', 'image', 'image', 'image', 'image', 'image', 'image', 'image', 'image', 'image', 'image']\n",
            "After: [0, 0, 0, 0, 0, 0, 0, 0, 0, 0, 0, 0, 0, 0, 0, 0, 0, 0, 0, 0, 0, 0, 0, 0, 0, 0, 0, 0, 0, 0, 0, 0, 0, 0, 0, 0, 0, 0, 0, 0, 0, 0, 0, 0, 0, 0, 0, 0, 0, 0, 0, 0, 0, 0]\n"
          ]
        }
      ]
    },
    {
      "cell_type": "code",
      "metadata": {
        "colab": {
          "base_uri": "https://localhost:8080/"
        },
        "id": "oJrS0Oz31NkI",
        "outputId": "75a54b77-0aab-4d34-c06e-00398f7c6570"
      },
      "source": [
        "### Shuffle samples and labels together, divide into test, validation, and training sets\n",
        "\n",
        "# Shuffle samples and associated labels together\n",
        "X_y = list(zip(X_all, y_all))\n",
        "random.shuffle(X_y)\n",
        "X_all, y_all = zip(*X_y)\n",
        "\n",
        "# Calculate number of validation and test samples to put aside (round down)\n",
        "num_samples_test = int(TEST_RATIO * num_samples)\n",
        "num_samples_val = int(VAL_RATIO * num_samples)\n",
        "\n",
        "# The first `num_samples_test` samples of the shuffled list becomes the test set\n",
        "X_test = X_all[:num_samples_test]\n",
        "y_test = y_all[:num_samples_test]\n",
        "\n",
        "# The next `num_samples_val` samples of the shuffled list becomes the validation set\n",
        "X_val = X_all[num_samples_test:(num_samples_test + num_samples_val)]\n",
        "y_val = y_all[num_samples_test:(num_samples_test + num_samples_val)]\n",
        "\n",
        "# The remaining samples become the training set\n",
        "X_train = X_all[(num_samples_test + num_samples_val):]\n",
        "y_train = y_all[(num_samples_test + num_samples_val):]\n",
        "\n",
        "# Remember the number of samples in the test set\n",
        "num_samples_train = len(X_train)\n",
        "\n",
        "# Print out the number of test, validation, and training samples\n",
        "print(\"Number of test samples:\", num_samples_test)\n",
        "print(\"Number of validation samples:\", num_samples_val)\n",
        "print(\"Number of training samples:\", num_samples_train)"
      ],
      "execution_count": 9,
      "outputs": [
        {
          "output_type": "stream",
          "name": "stdout",
          "text": [
            "Number of test samples: 10\n",
            "Number of validation samples: 10\n",
            "Number of training samples: 34\n"
          ]
        }
      ]
    },
    {
      "cell_type": "code",
      "metadata": {
        "colab": {
          "base_uri": "https://localhost:8080/",
          "height": 1000
        },
        "id": "6FwDtw_DazYG",
        "outputId": "fb6da76d-4692-4898-8c63-209eb1a75c18"
      },
      "source": [
        "### View one of the training samples\n",
        "\n",
        "# Chose which sample you want to view\n",
        "idx = 0\n",
        "\n",
        "# Print out label (numbe and string) and part of the array\n",
        "print(\"Label: \" + str(y_train[idx]) + \" (\" + labels[y_train[idx]] + \")\")\n",
        "print(X_train[idx])\n",
        "\n",
        "# Display image from array\n",
        "plt.imshow(X_train[idx], cmap='gray', vmin=0, vmax=255)"
      ],
      "execution_count": 13,
      "outputs": [
        {
          "output_type": "stream",
          "name": "stdout",
          "text": [
            "Label: 0 (image)\n",
            "[[0.30280112 0.29803922 0.28627451 0.2745098  0.29495798 0.38515406\n",
            "  0.49037615 0.49411765 0.41176471 0.38431373 0.25490196 0.22352941\n",
            "  0.30196078 0.34509804 0.27058824 0.22745098 0.21568627 0.20084034\n",
            "  0.19215686 0.18431373 0.17647059 0.17254902 0.18823529 0.23137255\n",
            "  0.33963585 0.39215686 0.41176471 0.42352941]\n",
            " [0.28627451 0.28005202 0.2745098  0.26008403 0.25490196 0.25882353\n",
            "  0.31232493 0.40842337 0.42352941 0.39215686 0.29551821 0.29551821\n",
            "  0.3372549  0.36470588 0.2745098  0.18683473 0.1789916  0.17114846\n",
            "  0.16722689 0.16078431 0.15294118 0.14901961 0.15686275 0.18431373\n",
            "  0.24173669 0.33595438 0.4        0.41960784]\n",
            " [0.27164866 0.26536615 0.25882353 0.24705882 0.23557423 0.23137255\n",
            "  0.22745098 0.2512605  0.33753501 0.47030812 0.48389356 0.46610644\n",
            "  0.38805522 0.36470588 0.27142857 0.15686275 0.14509804 0.14509804\n",
            "  0.14117647 0.1372549  0.12941176 0.1254902  0.1254902  0.14901961\n",
            "  0.18641457 0.24315726 0.34527811 0.40784314]\n",
            " [0.27058824 0.2627451  0.2512605  0.23921569 0.22745098 0.21568627\n",
            "  0.21176471 0.21176471 0.28767507 0.46848739 0.65588235 0.6605042\n",
            "  0.43277311 0.36778711 0.2745098  0.15294118 0.1254902  0.12352941\n",
            "  0.12156863 0.11764706 0.11372549 0.11372549 0.10980392 0.12156863\n",
            "  0.16372549 0.19607843 0.25028011 0.34551821]\n",
            " [0.29803922 0.26694678 0.25490196 0.23921569 0.22352941 0.21176471\n",
            "  0.20392157 0.20392157 0.2837535  0.3487395  0.54677871 0.68653461\n",
            "  0.49971989 0.36470588 0.27142857 0.14901961 0.12156863 0.11372549\n",
            "  0.11372549 0.11372549 0.11372549 0.10980392 0.10980392 0.11764706\n",
            "  0.15294118 0.17254902 0.19989996 0.24285714]\n",
            " [0.42605042 0.42857143 0.44835934 0.3429972  0.24565826 0.21568627\n",
            "  0.20392157 0.20784314 0.23921569 0.25490196 0.50392157 0.76862745\n",
            "  0.58319328 0.37170868 0.27142857 0.14901961 0.11764706 0.10980392\n",
            "  0.11372549 0.11372549 0.11372549 0.10980392 0.10980392 0.11736695\n",
            "  0.15686275 0.16470588 0.17647059 0.19607843]\n",
            " [0.62829132 0.66776711 0.77647059 0.67731092 0.47989196 0.29133653\n",
            "  0.21176471 0.22352941 0.22745098 0.25568227 0.50042017 0.74117647\n",
            "  0.56248499 0.36778711 0.267507   0.14761905 0.11764706 0.10980392\n",
            "  0.11064426 0.11372549 0.11372549 0.10980392 0.10588235 0.11372549\n",
            "  0.15686275 0.16470588 0.16470588 0.17563025]\n",
            " [0.67909164 0.55716287 0.81170468 0.76428571 0.7215086  0.4907563\n",
            "  0.2697479  0.24705882 0.23137255 0.27843137 0.55098039 0.76840736\n",
            "  0.55826331 0.35686275 0.2590036  0.14509804 0.11764706 0.10980392\n",
            "  0.11372549 0.11372549 0.11372549 0.11680672 0.11680672 0.1254902\n",
            "  0.16078431 0.17254902 0.16862745 0.16862745]\n",
            " [0.64313725 0.49803922 0.68739496 0.70252101 0.65742297 0.52156863\n",
            "  0.29411765 0.24705882 0.24935974 0.30718287 0.51176471 0.69411765\n",
            "  0.51742697 0.34117647 0.24789916 0.14117647 0.11372549 0.10980392\n",
            "  0.12296919 0.1372549  0.14509804 0.14509804 0.14509804 0.14901961\n",
            "  0.16862745 0.17647059 0.17647059 0.17254902]\n",
            " [0.71848739 0.4822529  0.46692677 0.59243697 0.55322129 0.36088435\n",
            "  0.26296519 0.23529412 0.2627451  0.39187675 0.61358543 0.71764706\n",
            "  0.5269908  0.35602241 0.267507   0.14901961 0.11764706 0.10980392\n",
            "  0.13333333 0.14901961 0.15294118 0.14509804 0.14117647 0.14901961\n",
            "  0.16862745 0.18039216 0.19607843 0.19215686]\n",
            " [0.6372549  0.49663866 0.39803922 0.54313725 0.43305322 0.28235294\n",
            "  0.2627451  0.23921569 0.29089636 0.53501401 0.68823529 0.69803922\n",
            "  0.52366947 0.35294118 0.27142857 0.15294118 0.12156863 0.10980392\n",
            "  0.12969188 0.14901961 0.14901961 0.14117647 0.13333333 0.13333333\n",
            "  0.16470588 0.16470588 0.15686275 0.14901961]\n",
            " [0.55266106 0.39047619 0.34455782 0.517507   0.38377351 0.27040816\n",
            "  0.27058824 0.31008403 0.46442577 0.64311725 0.69411765 0.68233293\n",
            "  0.51484594 0.34509804 0.26666667 0.15546218 0.1254902  0.11372549\n",
            "  0.12156863 0.13333333 0.14145658 0.14901961 0.14929972 0.15294118\n",
            "  0.17647059 0.16078431 0.14117647 0.14117647]\n",
            " [0.43723489 0.32016807 0.32913165 0.46414566 0.33305322 0.28235294\n",
            "  0.30980392 0.36470588 0.50336134 0.61018407 0.63921569 0.63921569\n",
            "  0.49551821 0.34117647 0.26358543 0.15686275 0.12941176 0.12156863\n",
            "  0.13977591 0.16862745 0.19215686 0.18039216 0.17647059 0.17254902\n",
            "  0.18039216 0.16834734 0.14117647 0.14509804]\n",
            " [0.41260504 0.34985994 0.40470188 0.41960784 0.29019608 0.32603041\n",
            "  0.38123249 0.37581032 0.51120448 0.60308123 0.62352941 0.63053221\n",
            "  0.47983193 0.3372549  0.2627451  0.16078431 0.13333333 0.12941176\n",
            "  0.15714286 0.19215686 0.20392157 0.18189276 0.18431373 0.17647059\n",
            "  0.17254902 0.16470588 0.14201681 0.14509804]\n",
            " [0.40802321 0.37647059 0.42038816 0.37254902 0.31680672 0.37845138\n",
            "  0.40784314 0.36862745 0.45128051 0.52234894 0.57885154 0.60756303\n",
            "  0.44705882 0.32941176 0.26358543 0.16470588 0.1372549  0.13333333\n",
            "  0.16106443 0.19215686 0.20784314 0.18823529 0.18823529 0.18039216\n",
            "  0.17647059 0.172489   0.15602241 0.16078431]\n",
            " [0.39215686 0.35938375 0.39215686 0.36862745 0.37787115 0.39215686\n",
            "  0.40392157 0.35968387 0.42442977 0.45882353 0.43263305 0.55294118\n",
            "  0.43669468 0.332493   0.267507   0.16470588 0.1372549  0.1372549\n",
            "  0.16470588 0.18823529 0.19215686 0.18039216 0.18431373 0.18039216\n",
            "  0.18039216 0.2        0.21960784 0.22492997]\n",
            " [0.38039216 0.33333333 0.36862745 0.39215686 0.38039216 0.38823529\n",
            "  0.38823529 0.35294118 0.45080032 0.51764706 0.38823529 0.44367747\n",
            "  0.40784314 0.32156863 0.25490196 0.15938375 0.1372549  0.1372549\n",
            "  0.16470588 0.18431373 0.18823529 0.16862745 0.17254902 0.17647059\n",
            "  0.18431373 0.20784314 0.21176471 0.21176471]\n",
            " [0.38431373 0.32156863 0.35686275 0.37647059 0.37647059 0.38431373\n",
            "  0.38039216 0.34901961 0.43529412 0.41372549 0.36470588 0.45308123\n",
            "  0.42422969 0.26862745 0.22745098 0.16470588 0.14117647 0.14117647\n",
            "  0.16470588 0.18683473 0.23921569 0.19607843 0.18431373 0.16862745\n",
            "  0.18137255 0.20784314 0.20784314 0.20784314]\n",
            " [0.45910364 0.38851541 0.36862745 0.38039216 0.37254902 0.37226891\n",
            "  0.36862745 0.3372549  0.37254902 0.31372549 0.34915966 0.4630052\n",
            "  0.42334934 0.1832533  0.16862745 0.16078431 0.14117647 0.14117647\n",
            "  0.16078431 0.18683473 0.24313725 0.20392157 0.18291317 0.15658263\n",
            "  0.1802521  0.21176471 0.21568627 0.21176471]\n",
            " [0.52941176 0.42997199 0.36862745 0.40252101 0.36834734 0.34257703\n",
            "  0.34117647 0.31764706 0.37647059 0.36862745 0.4012605  0.36470588\n",
            "  0.28677471 0.16276511 0.18039216 0.15686275 0.1372549  0.1372549\n",
            "  0.16470588 0.2442577  0.31148459 0.2535014  0.20734294 0.14117647\n",
            "  0.17254902 0.21568627 0.21960784 0.21960784]\n",
            " [0.49327731 0.40362145 0.35686275 0.39915966 0.35580232 0.32156863\n",
            "  0.31372549 0.30980392 0.39801921 0.39221689 0.41960784 0.33697479\n",
            "  0.28235294 0.22745098 0.23529412 0.16916767 0.13333333 0.1372549\n",
            "  0.19321729 0.39497799 0.45098039 0.38581433 0.28517407 0.14117647\n",
            "  0.16470588 0.21176471 0.21960784 0.21960784]\n",
            " [0.36470588 0.33333333 0.34117647 0.35686275 0.32134854 0.29605842\n",
            "  0.28319328 0.31306523 0.48737495 0.45804322 0.45098039 0.36834734\n",
            "  0.21370548 0.1962585  0.29393758 0.18683473 0.12156863 0.1372549\n",
            "  0.21988796 0.42997199 0.47058824 0.41960784 0.302501   0.14929972\n",
            "  0.16862745 0.21960784 0.22745098 0.22352941]\n",
            " [0.3372549  0.29803922 0.31390556 0.29663866 0.26526611 0.24011605\n",
            "  0.22352941 0.28935574 0.50980392 0.50990396 0.48235294 0.34901961\n",
            "  0.18823529 0.16162465 0.29719888 0.17737095 0.11372549 0.1372549\n",
            "  0.2394958  0.40784314 0.38683473 0.30338135 0.24565826 0.14901961\n",
            "  0.16666667 0.21960784 0.22745098 0.22745098]\n",
            " [0.32941176 0.23921569 0.23893557 0.23921569 0.23893557 0.23921569\n",
            "  0.239996   0.3215086  0.51904762 0.56444578 0.52156863 0.36834734\n",
            "  0.19355742 0.14985994 0.29803922 0.21166467 0.1254902  0.1372549\n",
            "  0.25518207 0.29177671 0.18067227 0.15686275 0.19607843 0.14901961\n",
            "  0.16470588 0.21568627 0.22352941 0.22352941]\n",
            " [0.44117647 0.40196078 0.39803922 0.39117647 0.39019608 0.37843137\n",
            "  0.3627451  0.42156863 0.5372549  0.58039216 0.5254902  0.37647059\n",
            "  0.21176471 0.14509804 0.2697479  0.27969188 0.17857143 0.14901961\n",
            "  0.28641457 0.25630252 0.14901961 0.14901961 0.21176471 0.16484594\n",
            "  0.17058824 0.21176471 0.22352941 0.22352941]\n",
            " [0.43507403 0.36432573 0.34089636 0.33305322 0.32521008 0.30952381\n",
            "  0.33305322 0.46666667 0.49019608 0.49411765 0.47058824 0.3884954\n",
            "  0.23687475 0.14509804 0.30896359 0.42913165 0.36552621 0.18039216\n",
            "  0.30196078 0.25228091 0.14901961 0.15294118 0.2210084  0.1767507\n",
            "  0.18039216 0.21568627 0.22352941 0.22745098]\n",
            " [0.38853541 0.28235294 0.25098039 0.25098039 0.25882353 0.23137255\n",
            "  0.30672269 0.52408964 0.54369748 0.5280112  0.48095238 0.42735094\n",
            "  0.24845938 0.14985994 0.3442577  0.49019608 0.4512605  0.21960784\n",
            "  0.26676671 0.20622249 0.14117647 0.14901961 0.21176471 0.17647059\n",
            "  0.18039216 0.22352941 0.23529412 0.23921569]\n",
            " [0.36862745 0.28235294 0.25490196 0.25882353 0.2745098  0.23529412\n",
            "  0.33809524 0.60308123 0.74201681 0.71064426 0.59061625 0.43501401\n",
            "  0.21286515 0.15312125 0.35602241 0.45044018 0.43921569 0.2337535\n",
            "  0.18431373 0.15294118 0.1372549  0.15378151 0.17647059 0.16862745\n",
            "  0.18039216 0.22352941 0.23529412 0.23921569]]\n"
          ]
        },
        {
          "output_type": "execute_result",
          "data": {
            "text/plain": [
              "<matplotlib.image.AxesImage at 0x7f0991f3f910>"
            ]
          },
          "metadata": {},
          "execution_count": 13
        },
        {
          "output_type": "display_data",
          "data": {
            "text/plain": [
              "<Figure size 432x288 with 1 Axes>"
            ],
            "image/png": "[encoded data removed]"
          },
          "metadata": {
            "needs_background": "light"
          }
        }
      ]
    },
    {
      "cell_type": "code",
      "metadata": {
        "id": "7eVgRZnHc6_y"
      },
      "source": [
        "### Function to resize list of images\n",
        "def resize_images(images, width, height, anti_aliasing=True):\n",
        "  \"\"\"\n",
        "  Prove a list of Numpy arrays (in images parameter) to have them all resized to desired height and\n",
        "  width. Returns the list of newly resized image arrays.\n",
        "\n",
        "  NOTE: skimage resize returns *normalized* image arrays (values between 0..1)\n",
        "  \"\"\"\n",
        "  X_out = []\n",
        "  for i, img in enumerate(images):\n",
        "    X_out.append(resize(img, (height, width), anti_aliasing=anti_aliasing))\n",
        "  return X_out"
      ],
      "execution_count": 11,
      "outputs": []
    },
    {
      "cell_type": "code",
      "metadata": {
        "id": "YNpuq5Lxa9Ck"
      },
      "source": [
        "### Scale/crop images\n",
        "\n",
        "# Resize (scale) all images in the training set\n",
        "X_train = resize_images(X_train, TARGET_WIDTH, TARGET_HEIGHT)\n",
        "\n",
        "# Resize (scale) all images in the validation set\n",
        "X_val = resize_images(X_val, TARGET_WIDTH, TARGET_HEIGHT)\n",
        "\n",
        "# Resize (scale) all images in the test set\n",
        "X_test = resize_images(X_test, TARGET_WIDTH, TARGET_HEIGHT)"
      ],
      "execution_count": 12,
      "outputs": []
    },
    {
      "cell_type": "code",
      "metadata": {
        "colab": {
          "base_uri": "https://localhost:8080/",
          "height": 394
        },
        "id": "tL9W4Pw1cVon",
        "outputId": "6747a6e9-be1d-4b8c-b54c-0807154eb911"
      },
      "source": [
        "### View training sample again (after they all have been scaled)\n",
        "\n",
        "# Chose which sample you want to view\n",
        "idx = 0\n",
        "\n",
        "# Print out label (numbe and string) and part of the array\n",
        "print(\"Label: \" + str(y_train[idx]) + \" (\" + labels[y_train[idx]] + \")\")\n",
        "print(\"First row:\", X_train[idx][:1,:])\n",
        "\n",
        "# Display image from array (note that images have been normalized)\n",
        "plt.imshow(X_train[idx], cmap='gray', vmin=0, vmax=1)"
      ],
      "execution_count": 14,
      "outputs": [
        {
          "output_type": "stream",
          "name": "stdout",
          "text": [
            "Label: 0 (image)\n",
            "First row: [[0.30280112 0.29803922 0.28627451 0.2745098  0.29495798 0.38515406\n",
            "  0.49037615 0.49411765 0.41176471 0.38431373 0.25490196 0.22352941\n",
            "  0.30196078 0.34509804 0.27058824 0.22745098 0.21568627 0.20084034\n",
            "  0.19215686 0.18431373 0.17647059 0.17254902 0.18823529 0.23137255\n",
            "  0.33963585 0.39215686 0.41176471 0.42352941]]\n"
          ]
        },
        {
          "output_type": "execute_result",
          "data": {
            "text/plain": [
              "<matplotlib.image.AxesImage at 0x7f0991ec6650>"
            ]
          },
          "metadata": {},
          "execution_count": 14
        },
        {
          "output_type": "display_data",
          "data": {
            "text/plain": [
              "<Figure size 432x288 with 1 Axes>"
            ],
            "image/png": "[encoded data removed]"
          },
          "metadata": {
            "needs_background": "light"
          }
        }
      ]
    },
    {
      "cell_type": "code",
      "metadata": {
        "colab": {
          "base_uri": "https://localhost:8080/"
        },
        "id": "E13XUha044fM",
        "outputId": "52d859e7-4a82-4182-8376-a9f3339e9db7"
      },
      "source": [
        "### Convert list of samples and labels into Numpy arrays\n",
        "\n",
        "# Training set\n",
        "X_train = np.asarray(X_train)\n",
        "y_train = np.asarray(y_train)\n",
        "\n",
        "# Validation set\n",
        "X_val = np.asarray(X_val)\n",
        "y_val = np.asarray(y_val)\n",
        "\n",
        "# Test set\n",
        "X_test = np.asarray(X_test)\n",
        "y_test = np.asarray(y_test)\n",
        "\n",
        "# Print out the new Numpy array shapes (always a good idea to check the shapes!)\n",
        "print(\"Training X:\", X_train.shape)\n",
        "print(\"Training y:\", y_train.shape)\n",
        "print(\"Validation X:\", X_val.shape)\n",
        "print(\"Validation y:\", y_val.shape)\n",
        "print(\"Test X:\", X_test.shape)\n",
        "print(\"Test y:\", y_test.shape)"
      ],
      "execution_count": 15,
      "outputs": [
        {
          "output_type": "stream",
          "name": "stdout",
          "text": [
            "Training X: (34, 28, 28)\n",
            "Training y: (34,)\n",
            "Validation X: (10, 28, 28)\n",
            "Validation y: (10,)\n",
            "Test X: (10, 28, 28)\n",
            "Test y: (10,)\n"
          ]
        }
      ]
    },
    {
      "cell_type": "code",
      "metadata": {
        "id": "Bf-p0MnJ9csm",
        "colab": {
          "base_uri": "https://localhost:8080/"
        },
        "outputId": "f2f4acf6-9464-4c40-f4db-1498050b449c"
      },
      "source": [
        "### Flatten each image to a 1D vector (DNN requires 1D input)\n",
        "\n",
        "# Compute length of 1D array that we will flatten each image to\n",
        "len_vector = TARGET_WIDTH * TARGET_WIDTH\n",
        "\n",
        "# Flatten matricies to vectors\n",
        "X_train = X_train.reshape(num_samples_train, len_vector)\n",
        "X_val = X_val.reshape(num_samples_val, len_vector)\n",
        "X_test = X_test.reshape(num_samples_test, len_vector)\n",
        "\n",
        "# Determine the input shape for our Keras model (must be tuple)\n",
        "input_shape = (X_train.shape[1],)\n",
        "\n",
        "# Print out shapes\n",
        "print(\"X train:\", X_train.shape)\n",
        "print(\"y train:\", y_train.shape)\n",
        "print(\"X val:\", X_val.shape)\n",
        "print(\"y val:\", y_val.shape)\n",
        "print(\"X test:\", X_test.shape)\n",
        "print(\"y test:\", y_test.shape)\n",
        "print(\"Input tensor shape:\", input_shape)"
      ],
      "execution_count": 16,
      "outputs": [
        {
          "output_type": "stream",
          "name": "stdout",
          "text": [
            "X train: (34, 784)\n",
            "y train: (34,)\n",
            "X val: (10, 784)\n",
            "y val: (10,)\n",
            "X test: (10, 784)\n",
            "y test: (10,)\n",
            "Input tensor shape: (784,)\n"
          ]
        }
      ]
    },
    {
      "cell_type": "code",
      "metadata": {
        "id": "m2D1xsis98pW",
        "colab": {
          "base_uri": "https://localhost:8080/"
        },
        "outputId": "275b915d-0e79-4b06-abe1-74a7d5403dc1"
      },
      "source": [
        "### Convert labels (integers) to one-hot encoding\n",
        "\n",
        "# Get number of classes\n",
        "num_classes = len(labels)\n",
        "\n",
        "# Use Keras's np_utils to create one-hot encoding (note the capital 'Y' - 2D array)\n",
        "Y_train = np_utils.to_categorical(y_train, num_classes)\n",
        "Y_val = np_utils.to_categorical(y_val, num_classes)\n",
        "Y_test = np_utils.to_categorical(y_test, num_classes)\n",
        "\n",
        "# Print out shapes (capital 'Y' is our one-hot matrix!)\n",
        "print(\"Y train:\", Y_train.shape)\n",
        "print(\"Y val:\", Y_val.shape)\n",
        "print(\"Y test:\", Y_test.shape)\n",
        "\n",
        "# Print out a few examples from training set\n",
        "for i in range(10):\n",
        "  print(\"Label: \" + str(y_train[i]) + \" | One-hot:\", Y_train[i])"
      ],
      "execution_count": 17,
      "outputs": [
        {
          "output_type": "stream",
          "name": "stdout",
          "text": [
            "Y train: (34, 1)\n",
            "Y val: (10, 1)\n",
            "Y test: (10, 1)\n",
            "Label: 0 | One-hot: [1.]\n",
            "Label: 0 | One-hot: [1.]\n",
            "Label: 0 | One-hot: [1.]\n",
            "Label: 0 | One-hot: [1.]\n",
            "Label: 0 | One-hot: [1.]\n",
            "Label: 0 | One-hot: [1.]\n",
            "Label: 0 | One-hot: [1.]\n",
            "Label: 0 | One-hot: [1.]\n",
            "Label: 0 | One-hot: [1.]\n",
            "Label: 0 | One-hot: [1.]\n"
          ]
        }
      ]
    },
    {
      "cell_type": "code",
      "metadata": {
        "id": "uJK-b2ds94w4",
        "colab": {
          "base_uri": "https://localhost:8080/"
        },
        "outputId": "5122a50f-0f71-439c-f3e2-1ecf244e18e7"
      },
      "source": [
        "### Construct Keras model\n",
        "\n",
        "# A sequential model is a linear stack of layers\n",
        "model = Sequential()\n",
        "\n",
        "# First layer: fully-connected with relu activation\n",
        "model.add(Dense(64, input_shape=input_shape))\n",
        "model.add(Activation('relu'))\n",
        "model.add(Dropout(0.25))\n",
        "\n",
        "# Second layer: fully-connected with relu activation\n",
        "model.add(Dense(64))   # Input shape is determined automatically from previous layer\n",
        "model.add(Activation('relu'))\n",
        "model.add(Dropout(0.25))\n",
        "\n",
        "# Third layer: 10 nodes, one for each class, and softmax activation\n",
        "model.add(Dense(num_classes))\n",
        "model.add(Activation('softmax'))\n",
        "\n",
        "# Configure the model's training settings\n",
        "model.compile(loss='categorical_crossentropy', optimizer='adam', metrics=['acc'])\n",
        "\n",
        "# Print out model summary\n",
        "print(model.summary())"
      ],
      "execution_count": 18,
      "outputs": [
        {
          "output_type": "stream",
          "name": "stdout",
          "text": [
            "Model: \"sequential\"\n",
            "_________________________________________________________________\n",
            " Layer (type)                Output Shape              Param #   \n",
            "=================================================================\n",
            " dense (Dense)               (None, 64)                50240     \n",
            "                                                                 \n",
            " activation (Activation)     (None, 64)                0         \n",
            "                                                                 \n",
            " dropout (Dropout)           (None, 64)                0         \n",
            "                                                                 \n",
            " dense_1 (Dense)             (None, 64)                4160      \n",
            "                                                                 \n",
            " activation_1 (Activation)   (None, 64)                0         \n",
            "                                                                 \n",
            " dropout_1 (Dropout)         (None, 64)                0         \n",
            "                                                                 \n",
            " dense_2 (Dense)             (None, 1)                 65        \n",
            "                                                                 \n",
            " activation_2 (Activation)   (None, 1)                 0         \n",
            "                                                                 \n",
            "=================================================================\n",
            "Total params: 54,465\n",
            "Trainable params: 54,465\n",
            "Non-trainable params: 0\n",
            "_________________________________________________________________\n",
            "None\n"
          ]
        }
      ]
    },
    {
      "cell_type": "code",
      "metadata": {
        "colab": {
          "base_uri": "https://localhost:8080/"
        },
        "id": "4Rc0O_86pmwb",
        "outputId": "8dd95219-56d9-4fdc-8cf4-8748dcfc9fb9"
      },
      "source": [
        "### Train the model\n",
        "history = model.fit(X_train, \n",
        "                    Y_train, \n",
        "                    batch_size=32, \n",
        "                    epochs=200, \n",
        "                    verbose=1,\n",
        "                    validation_data=(X_val, Y_val))"
      ],
      "execution_count": 19,
      "outputs": [
        {
          "output_type": "stream",
          "name": "stdout",
          "text": [
            "Epoch 1/200\n",
            "2/2 [==============================] - 1s 159ms/step - loss: 0.0000e+00 - acc: 1.0000 - val_loss: 0.0000e+00 - val_acc: 1.0000\n",
            "Epoch 2/200\n",
            "2/2 [==============================] - 0s 38ms/step - loss: 0.0000e+00 - acc: 1.0000 - val_loss: 0.0000e+00 - val_acc: 1.0000\n",
            "Epoch 3/200\n",
            "2/2 [==============================] - 0s 22ms/step - loss: 0.0000e+00 - acc: 1.0000 - val_loss: 0.0000e+00 - val_acc: 1.0000\n",
            "Epoch 4/200\n",
            "2/2 [==============================] - 0s 24ms/step - loss: 0.0000e+00 - acc: 1.0000 - val_loss: 0.0000e+00 - val_acc: 1.0000\n",
            "Epoch 5/200\n",
            "2/2 [==============================] - 0s 21ms/step - loss: 0.0000e+00 - acc: 1.0000 - val_loss: 0.0000e+00 - val_acc: 1.0000\n",
            "Epoch 6/200\n",
            "2/2 [==============================] - 0s 21ms/step - loss: 0.0000e+00 - acc: 1.0000 - val_loss: 0.0000e+00 - val_acc: 1.0000\n",
            "Epoch 7/200\n",
            "2/2 [==============================] - 0s 19ms/step - loss: 0.0000e+00 - acc: 1.0000 - val_loss: 0.0000e+00 - val_acc: 1.0000\n",
            "Epoch 8/200\n",
            "2/2 [==============================] - 0s 22ms/step - loss: 0.0000e+00 - acc: 1.0000 - val_loss: 0.0000e+00 - val_acc: 1.0000\n",
            "Epoch 9/200\n",
            "2/2 [==============================] - 0s 21ms/step - loss: 0.0000e+00 - acc: 1.0000 - val_loss: 0.0000e+00 - val_acc: 1.0000\n",
            "Epoch 10/200\n",
            "2/2 [==============================] - 0s 20ms/step - loss: 0.0000e+00 - acc: 1.0000 - val_loss: 0.0000e+00 - val_acc: 1.0000\n",
            "Epoch 11/200\n",
            "2/2 [==============================] - 0s 22ms/step - loss: 0.0000e+00 - acc: 1.0000 - val_loss: 0.0000e+00 - val_acc: 1.0000\n",
            "Epoch 12/200\n",
            "2/2 [==============================] - 0s 29ms/step - loss: 0.0000e+00 - acc: 1.0000 - val_loss: 0.0000e+00 - val_acc: 1.0000\n",
            "Epoch 13/200\n",
            "2/2 [==============================] - 0s 20ms/step - loss: 0.0000e+00 - acc: 1.0000 - val_loss: 0.0000e+00 - val_acc: 1.0000\n",
            "Epoch 14/200\n",
            "2/2 [==============================] - 0s 22ms/step - loss: 0.0000e+00 - acc: 1.0000 - val_loss: 0.0000e+00 - val_acc: 1.0000\n",
            "Epoch 15/200\n",
            "2/2 [==============================] - 0s 22ms/step - loss: 0.0000e+00 - acc: 1.0000 - val_loss: 0.0000e+00 - val_acc: 1.0000\n",
            "Epoch 16/200\n",
            "2/2 [==============================] - 0s 25ms/step - loss: 0.0000e+00 - acc: 1.0000 - val_loss: 0.0000e+00 - val_acc: 1.0000\n",
            "Epoch 17/200\n",
            "2/2 [==============================] - 0s 19ms/step - loss: 0.0000e+00 - acc: 1.0000 - val_loss: 0.0000e+00 - val_acc: 1.0000\n",
            "Epoch 18/200\n",
            "2/2 [==============================] - 0s 20ms/step - loss: 0.0000e+00 - acc: 1.0000 - val_loss: 0.0000e+00 - val_acc: 1.0000\n",
            "Epoch 19/200\n",
            "2/2 [==============================] - 0s 23ms/step - loss: 0.0000e+00 - acc: 1.0000 - val_loss: 0.0000e+00 - val_acc: 1.0000\n",
            "Epoch 20/200\n",
            "2/2 [==============================] - 0s 27ms/step - loss: 0.0000e+00 - acc: 1.0000 - val_loss: 0.0000e+00 - val_acc: 1.0000\n",
            "Epoch 21/200\n",
            "2/2 [==============================] - 0s 22ms/step - loss: 0.0000e+00 - acc: 1.0000 - val_loss: 0.0000e+00 - val_acc: 1.0000\n",
            "Epoch 22/200\n",
            "2/2 [==============================] - 0s 23ms/step - loss: 0.0000e+00 - acc: 1.0000 - val_loss: 0.0000e+00 - val_acc: 1.0000\n",
            "Epoch 23/200\n",
            "2/2 [==============================] - 0s 23ms/step - loss: 0.0000e+00 - acc: 1.0000 - val_loss: 0.0000e+00 - val_acc: 1.0000\n",
            "Epoch 24/200\n",
            "2/2 [==============================] - 0s 26ms/step - loss: 0.0000e+00 - acc: 1.0000 - val_loss: 0.0000e+00 - val_acc: 1.0000\n",
            "Epoch 25/200\n",
            "2/2 [==============================] - 0s 25ms/step - loss: 0.0000e+00 - acc: 1.0000 - val_loss: 0.0000e+00 - val_acc: 1.0000\n",
            "Epoch 26/200\n",
            "2/2 [==============================] - 0s 25ms/step - loss: 0.0000e+00 - acc: 1.0000 - val_loss: 0.0000e+00 - val_acc: 1.0000\n",
            "Epoch 27/200\n",
            "2/2 [==============================] - 0s 24ms/step - loss: 0.0000e+00 - acc: 1.0000 - val_loss: 0.0000e+00 - val_acc: 1.0000\n",
            "Epoch 28/200\n",
            "2/2 [==============================] - 0s 23ms/step - loss: 0.0000e+00 - acc: 1.0000 - val_loss: 0.0000e+00 - val_acc: 1.0000\n",
            "Epoch 29/200\n",
            "2/2 [==============================] - 0s 25ms/step - loss: 0.0000e+00 - acc: 1.0000 - val_loss: 0.0000e+00 - val_acc: 1.0000\n",
            "Epoch 30/200\n",
            "2/2 [==============================] - 0s 24ms/step - loss: 0.0000e+00 - acc: 1.0000 - val_loss: 0.0000e+00 - val_acc: 1.0000\n",
            "Epoch 31/200\n",
            "2/2 [==============================] - 0s 21ms/step - loss: 0.0000e+00 - acc: 1.0000 - val_loss: 0.0000e+00 - val_acc: 1.0000\n",
            "Epoch 32/200\n",
            "2/2 [==============================] - 0s 25ms/step - loss: 0.0000e+00 - acc: 1.0000 - val_loss: 0.0000e+00 - val_acc: 1.0000\n",
            "Epoch 33/200\n",
            "2/2 [==============================] - 0s 24ms/step - loss: 0.0000e+00 - acc: 1.0000 - val_loss: 0.0000e+00 - val_acc: 1.0000\n",
            "Epoch 34/200\n",
            "2/2 [==============================] - 0s 29ms/step - loss: 0.0000e+00 - acc: 1.0000 - val_loss: 0.0000e+00 - val_acc: 1.0000\n",
            "Epoch 35/200\n",
            "2/2 [==============================] - 0s 28ms/step - loss: 0.0000e+00 - acc: 1.0000 - val_loss: 0.0000e+00 - val_acc: 1.0000\n",
            "Epoch 36/200\n",
            "2/2 [==============================] - 0s 26ms/step - loss: 0.0000e+00 - acc: 1.0000 - val_loss: 0.0000e+00 - val_acc: 1.0000\n",
            "Epoch 37/200\n",
            "2/2 [==============================] - 0s 24ms/step - loss: 0.0000e+00 - acc: 1.0000 - val_loss: 0.0000e+00 - val_acc: 1.0000\n",
            "Epoch 38/200\n",
            "2/2 [==============================] - 0s 22ms/step - loss: 0.0000e+00 - acc: 1.0000 - val_loss: 0.0000e+00 - val_acc: 1.0000\n",
            "Epoch 39/200\n",
            "2/2 [==============================] - 0s 24ms/step - loss: 0.0000e+00 - acc: 1.0000 - val_loss: 0.0000e+00 - val_acc: 1.0000\n",
            "Epoch 40/200\n",
            "2/2 [==============================] - 0s 22ms/step - loss: 0.0000e+00 - acc: 1.0000 - val_loss: 0.0000e+00 - val_acc: 1.0000\n",
            "Epoch 41/200\n",
            "2/2 [==============================] - 0s 20ms/step - loss: 0.0000e+00 - acc: 1.0000 - val_loss: 0.0000e+00 - val_acc: 1.0000\n",
            "Epoch 42/200\n",
            "2/2 [==============================] - 0s 23ms/step - loss: 0.0000e+00 - acc: 1.0000 - val_loss: 0.0000e+00 - val_acc: 1.0000\n",
            "Epoch 43/200\n",
            "2/2 [==============================] - 0s 28ms/step - loss: 0.0000e+00 - acc: 1.0000 - val_loss: 0.0000e+00 - val_acc: 1.0000\n",
            "Epoch 44/200\n",
            "2/2 [==============================] - 0s 23ms/step - loss: 0.0000e+00 - acc: 1.0000 - val_loss: 0.0000e+00 - val_acc: 1.0000\n",
            "Epoch 45/200\n",
            "2/2 [==============================] - 0s 22ms/step - loss: 0.0000e+00 - acc: 1.0000 - val_loss: 0.0000e+00 - val_acc: 1.0000\n",
            "Epoch 46/200\n",
            "2/2 [==============================] - 0s 22ms/step - loss: 0.0000e+00 - acc: 1.0000 - val_loss: 0.0000e+00 - val_acc: 1.0000\n",
            "Epoch 47/200\n",
            "2/2 [==============================] - 0s 31ms/step - loss: 0.0000e+00 - acc: 1.0000 - val_loss: 0.0000e+00 - val_acc: 1.0000\n",
            "Epoch 48/200\n",
            "2/2 [==============================] - 0s 27ms/step - loss: 0.0000e+00 - acc: 1.0000 - val_loss: 0.0000e+00 - val_acc: 1.0000\n",
            "Epoch 49/200\n",
            "2/2 [==============================] - 0s 22ms/step - loss: 0.0000e+00 - acc: 1.0000 - val_loss: 0.0000e+00 - val_acc: 1.0000\n",
            "Epoch 50/200\n",
            "2/2 [==============================] - 0s 19ms/step - loss: 0.0000e+00 - acc: 1.0000 - val_loss: 0.0000e+00 - val_acc: 1.0000\n",
            "Epoch 51/200\n",
            "2/2 [==============================] - 0s 24ms/step - loss: 0.0000e+00 - acc: 1.0000 - val_loss: 0.0000e+00 - val_acc: 1.0000\n",
            "Epoch 52/200\n",
            "2/2 [==============================] - 0s 23ms/step - loss: 0.0000e+00 - acc: 1.0000 - val_loss: 0.0000e+00 - val_acc: 1.0000\n",
            "Epoch 53/200\n",
            "2/2 [==============================] - 0s 20ms/step - loss: 0.0000e+00 - acc: 1.0000 - val_loss: 0.0000e+00 - val_acc: 1.0000\n",
            "Epoch 54/200\n",
            "2/2 [==============================] - 0s 20ms/step - loss: 0.0000e+00 - acc: 1.0000 - val_loss: 0.0000e+00 - val_acc: 1.0000\n",
            "Epoch 55/200\n",
            "2/2 [==============================] - 0s 24ms/step - loss: 0.0000e+00 - acc: 1.0000 - val_loss: 0.0000e+00 - val_acc: 1.0000\n",
            "Epoch 56/200\n",
            "2/2 [==============================] - 0s 24ms/step - loss: 0.0000e+00 - acc: 1.0000 - val_loss: 0.0000e+00 - val_acc: 1.0000\n",
            "Epoch 57/200\n",
            "2/2 [==============================] - 0s 25ms/step - loss: 0.0000e+00 - acc: 1.0000 - val_loss: 0.0000e+00 - val_acc: 1.0000\n",
            "Epoch 58/200\n",
            "2/2 [==============================] - 0s 24ms/step - loss: 0.0000e+00 - acc: 1.0000 - val_loss: 0.0000e+00 - val_acc: 1.0000\n",
            "Epoch 59/200\n",
            "2/2 [==============================] - 0s 25ms/step - loss: 0.0000e+00 - acc: 1.0000 - val_loss: 0.0000e+00 - val_acc: 1.0000\n",
            "Epoch 60/200\n",
            "2/2 [==============================] - 0s 26ms/step - loss: 0.0000e+00 - acc: 1.0000 - val_loss: 0.0000e+00 - val_acc: 1.0000\n",
            "Epoch 61/200\n",
            "2/2 [==============================] - 0s 23ms/step - loss: 0.0000e+00 - acc: 1.0000 - val_loss: 0.0000e+00 - val_acc: 1.0000\n",
            "Epoch 62/200\n",
            "2/2 [==============================] - 0s 25ms/step - loss: 0.0000e+00 - acc: 1.0000 - val_loss: 0.0000e+00 - val_acc: 1.0000\n",
            "Epoch 63/200\n",
            "2/2 [==============================] - 0s 39ms/step - loss: 0.0000e+00 - acc: 1.0000 - val_loss: 0.0000e+00 - val_acc: 1.0000\n",
            "Epoch 64/200\n",
            "2/2 [==============================] - 0s 24ms/step - loss: 0.0000e+00 - acc: 1.0000 - val_loss: 0.0000e+00 - val_acc: 1.0000\n",
            "Epoch 65/200\n",
            "2/2 [==============================] - 0s 27ms/step - loss: 0.0000e+00 - acc: 1.0000 - val_loss: 0.0000e+00 - val_acc: 1.0000\n",
            "Epoch 66/200\n",
            "2/2 [==============================] - 0s 25ms/step - loss: 0.0000e+00 - acc: 1.0000 - val_loss: 0.0000e+00 - val_acc: 1.0000\n",
            "Epoch 67/200\n",
            "2/2 [==============================] - 0s 23ms/step - loss: 0.0000e+00 - acc: 1.0000 - val_loss: 0.0000e+00 - val_acc: 1.0000\n",
            "Epoch 68/200\n",
            "2/2 [==============================] - 0s 23ms/step - loss: 0.0000e+00 - acc: 1.0000 - val_loss: 0.0000e+00 - val_acc: 1.0000\n",
            "Epoch 69/200\n",
            "2/2 [==============================] - 0s 21ms/step - loss: 0.0000e+00 - acc: 1.0000 - val_loss: 0.0000e+00 - val_acc: 1.0000\n",
            "Epoch 70/200\n",
            "2/2 [==============================] - 0s 24ms/step - loss: 0.0000e+00 - acc: 1.0000 - val_loss: 0.0000e+00 - val_acc: 1.0000\n",
            "Epoch 71/200\n",
            "2/2 [==============================] - 0s 22ms/step - loss: 0.0000e+00 - acc: 1.0000 - val_loss: 0.0000e+00 - val_acc: 1.0000\n",
            "Epoch 72/200\n",
            "2/2 [==============================] - 0s 29ms/step - loss: 0.0000e+00 - acc: 1.0000 - val_loss: 0.0000e+00 - val_acc: 1.0000\n",
            "Epoch 73/200\n",
            "2/2 [==============================] - 0s 27ms/step - loss: 0.0000e+00 - acc: 1.0000 - val_loss: 0.0000e+00 - val_acc: 1.0000\n",
            "Epoch 74/200\n",
            "2/2 [==============================] - 0s 24ms/step - loss: 0.0000e+00 - acc: 1.0000 - val_loss: 0.0000e+00 - val_acc: 1.0000\n",
            "Epoch 75/200\n",
            "2/2 [==============================] - 0s 22ms/step - loss: 0.0000e+00 - acc: 1.0000 - val_loss: 0.0000e+00 - val_acc: 1.0000\n",
            "Epoch 76/200\n",
            "2/2 [==============================] - 0s 28ms/step - loss: 0.0000e+00 - acc: 1.0000 - val_loss: 0.0000e+00 - val_acc: 1.0000\n",
            "Epoch 77/200\n",
            "2/2 [==============================] - 0s 22ms/step - loss: 0.0000e+00 - acc: 1.0000 - val_loss: 0.0000e+00 - val_acc: 1.0000\n",
            "Epoch 78/200\n",
            "2/2 [==============================] - 0s 23ms/step - loss: 0.0000e+00 - acc: 1.0000 - val_loss: 0.0000e+00 - val_acc: 1.0000\n",
            "Epoch 79/200\n",
            "2/2 [==============================] - 0s 26ms/step - loss: 0.0000e+00 - acc: 1.0000 - val_loss: 0.0000e+00 - val_acc: 1.0000\n",
            "Epoch 80/200\n",
            "2/2 [==============================] - 0s 24ms/step - loss: 0.0000e+00 - acc: 1.0000 - val_loss: 0.0000e+00 - val_acc: 1.0000\n",
            "Epoch 81/200\n",
            "2/2 [==============================] - 0s 22ms/step - loss: 0.0000e+00 - acc: 1.0000 - val_loss: 0.0000e+00 - val_acc: 1.0000\n",
            "Epoch 82/200\n",
            "2/2 [==============================] - 0s 24ms/step - loss: 0.0000e+00 - acc: 1.0000 - val_loss: 0.0000e+00 - val_acc: 1.0000\n",
            "Epoch 83/200\n",
            "2/2 [==============================] - 0s 31ms/step - loss: 0.0000e+00 - acc: 1.0000 - val_loss: 0.0000e+00 - val_acc: 1.0000\n",
            "Epoch 84/200\n",
            "2/2 [==============================] - 0s 27ms/step - loss: 0.0000e+00 - acc: 1.0000 - val_loss: 0.0000e+00 - val_acc: 1.0000\n",
            "Epoch 85/200\n",
            "2/2 [==============================] - 0s 28ms/step - loss: 0.0000e+00 - acc: 1.0000 - val_loss: 0.0000e+00 - val_acc: 1.0000\n",
            "Epoch 86/200\n",
            "2/2 [==============================] - 0s 26ms/step - loss: 0.0000e+00 - acc: 1.0000 - val_loss: 0.0000e+00 - val_acc: 1.0000\n",
            "Epoch 87/200\n",
            "2/2 [==============================] - 0s 22ms/step - loss: 0.0000e+00 - acc: 1.0000 - val_loss: 0.0000e+00 - val_acc: 1.0000\n",
            "Epoch 88/200\n",
            "2/2 [==============================] - 0s 22ms/step - loss: 0.0000e+00 - acc: 1.0000 - val_loss: 0.0000e+00 - val_acc: 1.0000\n",
            "Epoch 89/200\n",
            "2/2 [==============================] - 0s 24ms/step - loss: 0.0000e+00 - acc: 1.0000 - val_loss: 0.0000e+00 - val_acc: 1.0000\n",
            "Epoch 90/200\n",
            "2/2 [==============================] - 0s 20ms/step - loss: 0.0000e+00 - acc: 1.0000 - val_loss: 0.0000e+00 - val_acc: 1.0000\n",
            "Epoch 91/200\n",
            "2/2 [==============================] - 0s 28ms/step - loss: 0.0000e+00 - acc: 1.0000 - val_loss: 0.0000e+00 - val_acc: 1.0000\n",
            "Epoch 92/200\n",
            "2/2 [==============================] - 0s 22ms/step - loss: 0.0000e+00 - acc: 1.0000 - val_loss: 0.0000e+00 - val_acc: 1.0000\n",
            "Epoch 93/200\n",
            "2/2 [==============================] - 0s 21ms/step - loss: 0.0000e+00 - acc: 1.0000 - val_loss: 0.0000e+00 - val_acc: 1.0000\n",
            "Epoch 94/200\n",
            "2/2 [==============================] - 0s 21ms/step - loss: 0.0000e+00 - acc: 1.0000 - val_loss: 0.0000e+00 - val_acc: 1.0000\n",
            "Epoch 95/200\n",
            "2/2 [==============================] - 0s 24ms/step - loss: 0.0000e+00 - acc: 1.0000 - val_loss: 0.0000e+00 - val_acc: 1.0000\n",
            "Epoch 96/200\n",
            "2/2 [==============================] - 0s 22ms/step - loss: 0.0000e+00 - acc: 1.0000 - val_loss: 0.0000e+00 - val_acc: 1.0000\n",
            "Epoch 97/200\n",
            "2/2 [==============================] - 0s 23ms/step - loss: 0.0000e+00 - acc: 1.0000 - val_loss: 0.0000e+00 - val_acc: 1.0000\n",
            "Epoch 98/200\n",
            "2/2 [==============================] - 0s 21ms/step - loss: 0.0000e+00 - acc: 1.0000 - val_loss: 0.0000e+00 - val_acc: 1.0000\n",
            "Epoch 99/200\n",
            "2/2 [==============================] - 0s 27ms/step - loss: 0.0000e+00 - acc: 1.0000 - val_loss: 0.0000e+00 - val_acc: 1.0000\n",
            "Epoch 100/200\n",
            "2/2 [==============================] - 0s 25ms/step - loss: 0.0000e+00 - acc: 1.0000 - val_loss: 0.0000e+00 - val_acc: 1.0000\n",
            "Epoch 101/200\n",
            "2/2 [==============================] - 0s 24ms/step - loss: 0.0000e+00 - acc: 1.0000 - val_loss: 0.0000e+00 - val_acc: 1.0000\n",
            "Epoch 102/200\n",
            "2/2 [==============================] - 0s 26ms/step - loss: 0.0000e+00 - acc: 1.0000 - val_loss: 0.0000e+00 - val_acc: 1.0000\n",
            "Epoch 103/200\n",
            "2/2 [==============================] - 0s 27ms/step - loss: 0.0000e+00 - acc: 1.0000 - val_loss: 0.0000e+00 - val_acc: 1.0000\n",
            "Epoch 104/200\n",
            "2/2 [==============================] - 0s 23ms/step - loss: 0.0000e+00 - acc: 1.0000 - val_loss: 0.0000e+00 - val_acc: 1.0000\n",
            "Epoch 105/200\n",
            "2/2 [==============================] - 0s 27ms/step - loss: 0.0000e+00 - acc: 1.0000 - val_loss: 0.0000e+00 - val_acc: 1.0000\n",
            "Epoch 106/200\n",
            "2/2 [==============================] - 0s 25ms/step - loss: 0.0000e+00 - acc: 1.0000 - val_loss: 0.0000e+00 - val_acc: 1.0000\n",
            "Epoch 107/200\n",
            "2/2 [==============================] - 0s 24ms/step - loss: 0.0000e+00 - acc: 1.0000 - val_loss: 0.0000e+00 - val_acc: 1.0000\n",
            "Epoch 108/200\n",
            "2/2 [==============================] - 0s 23ms/step - loss: 0.0000e+00 - acc: 1.0000 - val_loss: 0.0000e+00 - val_acc: 1.0000\n",
            "Epoch 109/200\n",
            "2/2 [==============================] - 0s 21ms/step - loss: 0.0000e+00 - acc: 1.0000 - val_loss: 0.0000e+00 - val_acc: 1.0000\n",
            "Epoch 110/200\n",
            "2/2 [==============================] - 0s 20ms/step - loss: 0.0000e+00 - acc: 1.0000 - val_loss: 0.0000e+00 - val_acc: 1.0000\n",
            "Epoch 111/200\n",
            "2/2 [==============================] - 0s 21ms/step - loss: 0.0000e+00 - acc: 1.0000 - val_loss: 0.0000e+00 - val_acc: 1.0000\n",
            "Epoch 112/200\n",
            "2/2 [==============================] - 0s 21ms/step - loss: 0.0000e+00 - acc: 1.0000 - val_loss: 0.0000e+00 - val_acc: 1.0000\n",
            "Epoch 113/200\n",
            "2/2 [==============================] - 0s 22ms/step - loss: 0.0000e+00 - acc: 1.0000 - val_loss: 0.0000e+00 - val_acc: 1.0000\n",
            "Epoch 114/200\n",
            "2/2 [==============================] - 0s 29ms/step - loss: 0.0000e+00 - acc: 1.0000 - val_loss: 0.0000e+00 - val_acc: 1.0000\n",
            "Epoch 115/200\n",
            "2/2 [==============================] - 0s 26ms/step - loss: 0.0000e+00 - acc: 1.0000 - val_loss: 0.0000e+00 - val_acc: 1.0000\n",
            "Epoch 116/200\n",
            "2/2 [==============================] - 0s 24ms/step - loss: 0.0000e+00 - acc: 1.0000 - val_loss: 0.0000e+00 - val_acc: 1.0000\n",
            "Epoch 117/200\n",
            "2/2 [==============================] - 0s 24ms/step - loss: 0.0000e+00 - acc: 1.0000 - val_loss: 0.0000e+00 - val_acc: 1.0000\n",
            "Epoch 118/200\n",
            "2/2 [==============================] - 0s 23ms/step - loss: 0.0000e+00 - acc: 1.0000 - val_loss: 0.0000e+00 - val_acc: 1.0000\n",
            "Epoch 119/200\n",
            "2/2 [==============================] - 0s 25ms/step - loss: 0.0000e+00 - acc: 1.0000 - val_loss: 0.0000e+00 - val_acc: 1.0000\n",
            "Epoch 120/200\n",
            "2/2 [==============================] - 0s 28ms/step - loss: 0.0000e+00 - acc: 1.0000 - val_loss: 0.0000e+00 - val_acc: 1.0000\n",
            "Epoch 121/200\n",
            "2/2 [==============================] - 0s 26ms/step - loss: 0.0000e+00 - acc: 1.0000 - val_loss: 0.0000e+00 - val_acc: 1.0000\n",
            "Epoch 122/200\n",
            "2/2 [==============================] - 0s 23ms/step - loss: 0.0000e+00 - acc: 1.0000 - val_loss: 0.0000e+00 - val_acc: 1.0000\n",
            "Epoch 123/200\n",
            "2/2 [==============================] - 0s 23ms/step - loss: 0.0000e+00 - acc: 1.0000 - val_loss: 0.0000e+00 - val_acc: 1.0000\n",
            "Epoch 124/200\n",
            "2/2 [==============================] - 0s 24ms/step - loss: 0.0000e+00 - acc: 1.0000 - val_loss: 0.0000e+00 - val_acc: 1.0000\n",
            "Epoch 125/200\n",
            "2/2 [==============================] - 0s 22ms/step - loss: 0.0000e+00 - acc: 1.0000 - val_loss: 0.0000e+00 - val_acc: 1.0000\n",
            "Epoch 126/200\n",
            "2/2 [==============================] - 0s 20ms/step - loss: 0.0000e+00 - acc: 1.0000 - val_loss: 0.0000e+00 - val_acc: 1.0000\n",
            "Epoch 127/200\n",
            "2/2 [==============================] - 0s 22ms/step - loss: 0.0000e+00 - acc: 1.0000 - val_loss: 0.0000e+00 - val_acc: 1.0000\n",
            "Epoch 128/200\n",
            "2/2 [==============================] - 0s 23ms/step - loss: 0.0000e+00 - acc: 1.0000 - val_loss: 0.0000e+00 - val_acc: 1.0000\n",
            "Epoch 129/200\n",
            "2/2 [==============================] - 0s 22ms/step - loss: 0.0000e+00 - acc: 1.0000 - val_loss: 0.0000e+00 - val_acc: 1.0000\n",
            "Epoch 130/200\n",
            "2/2 [==============================] - 0s 22ms/step - loss: 0.0000e+00 - acc: 1.0000 - val_loss: 0.0000e+00 - val_acc: 1.0000\n",
            "Epoch 131/200\n",
            "2/2 [==============================] - 0s 27ms/step - loss: 0.0000e+00 - acc: 1.0000 - val_loss: 0.0000e+00 - val_acc: 1.0000\n",
            "Epoch 132/200\n",
            "2/2 [==============================] - 0s 24ms/step - loss: 0.0000e+00 - acc: 1.0000 - val_loss: 0.0000e+00 - val_acc: 1.0000\n",
            "Epoch 133/200\n",
            "2/2 [==============================] - 0s 24ms/step - loss: 0.0000e+00 - acc: 1.0000 - val_loss: 0.0000e+00 - val_acc: 1.0000\n",
            "Epoch 134/200\n",
            "2/2 [==============================] - 0s 24ms/step - loss: 0.0000e+00 - acc: 1.0000 - val_loss: 0.0000e+00 - val_acc: 1.0000\n",
            "Epoch 135/200\n",
            "2/2 [==============================] - 0s 25ms/step - loss: 0.0000e+00 - acc: 1.0000 - val_loss: 0.0000e+00 - val_acc: 1.0000\n",
            "Epoch 136/200\n",
            "2/2 [==============================] - 0s 35ms/step - loss: 0.0000e+00 - acc: 1.0000 - val_loss: 0.0000e+00 - val_acc: 1.0000\n",
            "Epoch 137/200\n",
            "2/2 [==============================] - 0s 23ms/step - loss: 0.0000e+00 - acc: 1.0000 - val_loss: 0.0000e+00 - val_acc: 1.0000\n",
            "Epoch 138/200\n",
            "2/2 [==============================] - 0s 24ms/step - loss: 0.0000e+00 - acc: 1.0000 - val_loss: 0.0000e+00 - val_acc: 1.0000\n",
            "Epoch 139/200\n",
            "2/2 [==============================] - 0s 26ms/step - loss: 0.0000e+00 - acc: 1.0000 - val_loss: 0.0000e+00 - val_acc: 1.0000\n",
            "Epoch 140/200\n",
            "2/2 [==============================] - 0s 23ms/step - loss: 0.0000e+00 - acc: 1.0000 - val_loss: 0.0000e+00 - val_acc: 1.0000\n",
            "Epoch 141/200\n",
            "2/2 [==============================] - 0s 25ms/step - loss: 0.0000e+00 - acc: 1.0000 - val_loss: 0.0000e+00 - val_acc: 1.0000\n",
            "Epoch 142/200\n",
            "2/2 [==============================] - 0s 26ms/step - loss: 0.0000e+00 - acc: 1.0000 - val_loss: 0.0000e+00 - val_acc: 1.0000\n",
            "Epoch 143/200\n",
            "2/2 [==============================] - 0s 26ms/step - loss: 0.0000e+00 - acc: 1.0000 - val_loss: 0.0000e+00 - val_acc: 1.0000\n",
            "Epoch 144/200\n",
            "2/2 [==============================] - 0s 23ms/step - loss: 0.0000e+00 - acc: 1.0000 - val_loss: 0.0000e+00 - val_acc: 1.0000\n",
            "Epoch 145/200\n",
            "2/2 [==============================] - 0s 25ms/step - loss: 0.0000e+00 - acc: 1.0000 - val_loss: 0.0000e+00 - val_acc: 1.0000\n",
            "Epoch 146/200\n",
            "2/2 [==============================] - 0s 25ms/step - loss: 0.0000e+00 - acc: 1.0000 - val_loss: 0.0000e+00 - val_acc: 1.0000\n",
            "Epoch 147/200\n",
            "2/2 [==============================] - 0s 26ms/step - loss: 0.0000e+00 - acc: 1.0000 - val_loss: 0.0000e+00 - val_acc: 1.0000\n",
            "Epoch 148/200\n",
            "2/2 [==============================] - 0s 31ms/step - loss: 0.0000e+00 - acc: 1.0000 - val_loss: 0.0000e+00 - val_acc: 1.0000\n",
            "Epoch 149/200\n",
            "2/2 [==============================] - 0s 23ms/step - loss: 0.0000e+00 - acc: 1.0000 - val_loss: 0.0000e+00 - val_acc: 1.0000\n",
            "Epoch 150/200\n",
            "2/2 [==============================] - 0s 21ms/step - loss: 0.0000e+00 - acc: 1.0000 - val_loss: 0.0000e+00 - val_acc: 1.0000\n",
            "Epoch 151/200\n",
            "2/2 [==============================] - 0s 22ms/step - loss: 0.0000e+00 - acc: 1.0000 - val_loss: 0.0000e+00 - val_acc: 1.0000\n",
            "Epoch 152/200\n",
            "2/2 [==============================] - 0s 22ms/step - loss: 0.0000e+00 - acc: 1.0000 - val_loss: 0.0000e+00 - val_acc: 1.0000\n",
            "Epoch 153/200\n",
            "2/2 [==============================] - 0s 21ms/step - loss: 0.0000e+00 - acc: 1.0000 - val_loss: 0.0000e+00 - val_acc: 1.0000\n",
            "Epoch 154/200\n",
            "2/2 [==============================] - 0s 21ms/step - loss: 0.0000e+00 - acc: 1.0000 - val_loss: 0.0000e+00 - val_acc: 1.0000\n",
            "Epoch 155/200\n",
            "2/2 [==============================] - 0s 20ms/step - loss: 0.0000e+00 - acc: 1.0000 - val_loss: 0.0000e+00 - val_acc: 1.0000\n",
            "Epoch 156/200\n",
            "2/2 [==============================] - 0s 25ms/step - loss: 0.0000e+00 - acc: 1.0000 - val_loss: 0.0000e+00 - val_acc: 1.0000\n",
            "Epoch 157/200\n",
            "2/2 [==============================] - 0s 28ms/step - loss: 0.0000e+00 - acc: 1.0000 - val_loss: 0.0000e+00 - val_acc: 1.0000\n",
            "Epoch 158/200\n",
            "2/2 [==============================] - 0s 22ms/step - loss: 0.0000e+00 - acc: 1.0000 - val_loss: 0.0000e+00 - val_acc: 1.0000\n",
            "Epoch 159/200\n",
            "2/2 [==============================] - 0s 20ms/step - loss: 0.0000e+00 - acc: 1.0000 - val_loss: 0.0000e+00 - val_acc: 1.0000\n",
            "Epoch 160/200\n",
            "2/2 [==============================] - 0s 23ms/step - loss: 0.0000e+00 - acc: 1.0000 - val_loss: 0.0000e+00 - val_acc: 1.0000\n",
            "Epoch 161/200\n",
            "2/2 [==============================] - 0s 23ms/step - loss: 0.0000e+00 - acc: 1.0000 - val_loss: 0.0000e+00 - val_acc: 1.0000\n",
            "Epoch 162/200\n",
            "2/2 [==============================] - 0s 22ms/step - loss: 0.0000e+00 - acc: 1.0000 - val_loss: 0.0000e+00 - val_acc: 1.0000\n",
            "Epoch 163/200\n",
            "2/2 [==============================] - 0s 24ms/step - loss: 0.0000e+00 - acc: 1.0000 - val_loss: 0.0000e+00 - val_acc: 1.0000\n",
            "Epoch 164/200\n",
            "2/2 [==============================] - 0s 25ms/step - loss: 0.0000e+00 - acc: 1.0000 - val_loss: 0.0000e+00 - val_acc: 1.0000\n",
            "Epoch 165/200\n",
            "2/2 [==============================] - 0s 25ms/step - loss: 0.0000e+00 - acc: 1.0000 - val_loss: 0.0000e+00 - val_acc: 1.0000\n",
            "Epoch 166/200\n",
            "2/2 [==============================] - 0s 23ms/step - loss: 0.0000e+00 - acc: 1.0000 - val_loss: 0.0000e+00 - val_acc: 1.0000\n",
            "Epoch 167/200\n",
            "2/2 [==============================] - 0s 25ms/step - loss: 0.0000e+00 - acc: 1.0000 - val_loss: 0.0000e+00 - val_acc: 1.0000\n",
            "Epoch 168/200\n",
            "2/2 [==============================] - 0s 28ms/step - loss: 0.0000e+00 - acc: 1.0000 - val_loss: 0.0000e+00 - val_acc: 1.0000\n",
            "Epoch 169/200\n",
            "2/2 [==============================] - 0s 27ms/step - loss: 0.0000e+00 - acc: 1.0000 - val_loss: 0.0000e+00 - val_acc: 1.0000\n",
            "Epoch 170/200\n",
            "2/2 [==============================] - 0s 26ms/step - loss: 0.0000e+00 - acc: 1.0000 - val_loss: 0.0000e+00 - val_acc: 1.0000\n",
            "Epoch 171/200\n",
            "2/2 [==============================] - 0s 27ms/step - loss: 0.0000e+00 - acc: 1.0000 - val_loss: 0.0000e+00 - val_acc: 1.0000\n",
            "Epoch 172/200\n",
            "2/2 [==============================] - 0s 24ms/step - loss: 0.0000e+00 - acc: 1.0000 - val_loss: 0.0000e+00 - val_acc: 1.0000\n",
            "Epoch 173/200\n",
            "2/2 [==============================] - 0s 26ms/step - loss: 0.0000e+00 - acc: 1.0000 - val_loss: 0.0000e+00 - val_acc: 1.0000\n",
            "Epoch 174/200\n",
            "2/2 [==============================] - 0s 30ms/step - loss: 0.0000e+00 - acc: 1.0000 - val_loss: 0.0000e+00 - val_acc: 1.0000\n",
            "Epoch 175/200\n",
            "2/2 [==============================] - 0s 24ms/step - loss: 0.0000e+00 - acc: 1.0000 - val_loss: 0.0000e+00 - val_acc: 1.0000\n",
            "Epoch 176/200\n",
            "2/2 [==============================] - 0s 30ms/step - loss: 0.0000e+00 - acc: 1.0000 - val_loss: 0.0000e+00 - val_acc: 1.0000\n",
            "Epoch 177/200\n",
            "2/2 [==============================] - 0s 23ms/step - loss: 0.0000e+00 - acc: 1.0000 - val_loss: 0.0000e+00 - val_acc: 1.0000\n",
            "Epoch 178/200\n",
            "2/2 [==============================] - 0s 25ms/step - loss: 0.0000e+00 - acc: 1.0000 - val_loss: 0.0000e+00 - val_acc: 1.0000\n",
            "Epoch 179/200\n",
            "2/2 [==============================] - 0s 25ms/step - loss: 0.0000e+00 - acc: 1.0000 - val_loss: 0.0000e+00 - val_acc: 1.0000\n",
            "Epoch 180/200\n",
            "2/2 [==============================] - 0s 22ms/step - loss: 0.0000e+00 - acc: 1.0000 - val_loss: 0.0000e+00 - val_acc: 1.0000\n",
            "Epoch 181/200\n",
            "2/2 [==============================] - 0s 23ms/step - loss: 0.0000e+00 - acc: 1.0000 - val_loss: 0.0000e+00 - val_acc: 1.0000\n",
            "Epoch 182/200\n",
            "2/2 [==============================] - 0s 26ms/step - loss: 0.0000e+00 - acc: 1.0000 - val_loss: 0.0000e+00 - val_acc: 1.0000\n",
            "Epoch 183/200\n",
            "2/2 [==============================] - 0s 26ms/step - loss: 0.0000e+00 - acc: 1.0000 - val_loss: 0.0000e+00 - val_acc: 1.0000\n",
            "Epoch 184/200\n",
            "2/2 [==============================] - 0s 24ms/step - loss: 0.0000e+00 - acc: 1.0000 - val_loss: 0.0000e+00 - val_acc: 1.0000\n",
            "Epoch 185/200\n",
            "2/2 [==============================] - 0s 24ms/step - loss: 0.0000e+00 - acc: 1.0000 - val_loss: 0.0000e+00 - val_acc: 1.0000\n",
            "Epoch 186/200\n",
            "2/2 [==============================] - 0s 26ms/step - loss: 0.0000e+00 - acc: 1.0000 - val_loss: 0.0000e+00 - val_acc: 1.0000\n",
            "Epoch 187/200\n",
            "2/2 [==============================] - 0s 22ms/step - loss: 0.0000e+00 - acc: 1.0000 - val_loss: 0.0000e+00 - val_acc: 1.0000\n",
            "Epoch 188/200\n",
            "2/2 [==============================] - 0s 24ms/step - loss: 0.0000e+00 - acc: 1.0000 - val_loss: 0.0000e+00 - val_acc: 1.0000\n",
            "Epoch 189/200\n",
            "2/2 [==============================] - 0s 26ms/step - loss: 0.0000e+00 - acc: 1.0000 - val_loss: 0.0000e+00 - val_acc: 1.0000\n",
            "Epoch 190/200\n",
            "2/2 [==============================] - 0s 26ms/step - loss: 0.0000e+00 - acc: 1.0000 - val_loss: 0.0000e+00 - val_acc: 1.0000\n",
            "Epoch 191/200\n",
            "2/2 [==============================] - 0s 29ms/step - loss: 0.0000e+00 - acc: 1.0000 - val_loss: 0.0000e+00 - val_acc: 1.0000\n",
            "Epoch 192/200\n",
            "2/2 [==============================] - 0s 25ms/step - loss: 0.0000e+00 - acc: 1.0000 - val_loss: 0.0000e+00 - val_acc: 1.0000\n",
            "Epoch 193/200\n",
            "2/2 [==============================] - 0s 23ms/step - loss: 0.0000e+00 - acc: 1.0000 - val_loss: 0.0000e+00 - val_acc: 1.0000\n",
            "Epoch 194/200\n",
            "2/2 [==============================] - 0s 26ms/step - loss: 0.0000e+00 - acc: 1.0000 - val_loss: 0.0000e+00 - val_acc: 1.0000\n",
            "Epoch 195/200\n",
            "2/2 [==============================] - 0s 25ms/step - loss: 0.0000e+00 - acc: 1.0000 - val_loss: 0.0000e+00 - val_acc: 1.0000\n",
            "Epoch 196/200\n",
            "2/2 [==============================] - 0s 26ms/step - loss: 0.0000e+00 - acc: 1.0000 - val_loss: 0.0000e+00 - val_acc: 1.0000\n",
            "Epoch 197/200\n",
            "2/2 [==============================] - 0s 26ms/step - loss: 0.0000e+00 - acc: 1.0000 - val_loss: 0.0000e+00 - val_acc: 1.0000\n",
            "Epoch 198/200\n",
            "2/2 [==============================] - 0s 27ms/step - loss: 0.0000e+00 - acc: 1.0000 - val_loss: 0.0000e+00 - val_acc: 1.0000\n",
            "Epoch 199/200\n",
            "2/2 [==============================] - 0s 25ms/step - loss: 0.0000e+00 - acc: 1.0000 - val_loss: 0.0000e+00 - val_acc: 1.0000\n",
            "Epoch 200/200\n",
            "2/2 [==============================] - 0s 23ms/step - loss: 0.0000e+00 - acc: 1.0000 - val_loss: 0.0000e+00 - val_acc: 1.0000\n"
          ]
        }
      ]
    },
    {
      "cell_type": "code",
      "metadata": {
        "colab": {
          "base_uri": "https://localhost:8080/",
          "height": 545
        },
        "id": "qJnFOLndpoN9",
        "outputId": "985db039-90a2-45ca-8479-cbb88592f9c9"
      },
      "source": [
        "### Plot training and validation accuracy and loss over time\n",
        "\n",
        "# Extract accuracy and loss values (in list form) from the history\n",
        "acc = history.history['acc']\n",
        "val_acc = history.history['val_acc']\n",
        "loss = history.history['loss']\n",
        "val_loss = history.history['val_loss']\n",
        "\n",
        "# Create a list of epoch numbers\n",
        "epochs = range(1, len(acc) + 1)\n",
        "\n",
        "# Plot training and validation loss values over time\n",
        "plt.figure()\n",
        "plt.plot(epochs, loss, color='blue', marker='.', label='Training loss')\n",
        "plt.plot(epochs, val_loss, color='orange', marker='.', label='Validation loss')\n",
        "plt.title('Training and validation loss')\n",
        "plt.legend()\n",
        "\n",
        "# Plot training and validation accuracies over time\n",
        "plt.figure()\n",
        "plt.plot(epochs, acc, color='blue', marker='.', label='Training acc')\n",
        "plt.plot(epochs, val_acc, color='orange', marker='.', label='Validation acc')\n",
        "plt.title('Training and validation accuracy')\n",
        "plt.legend()\n",
        "plt.show()"
      ],
      "execution_count": 20,
      "outputs": [
        {
          "output_type": "display_data",
          "data": {
            "text/plain": [
              "<Figure size 432x288 with 1 Axes>"
            ],
            "image/png": "[encoded data removed]"
          },
          "metadata": {
            "needs_background": "light"
          }
        },
        {
          "output_type": "display_data",
          "data": {
            "text/plain": [
              "<Figure size 432x288 with 1 Axes>"
            ],
            "image/png": "[encoded data removed]"
          },
          "metadata": {
            "needs_background": "light"
          }
        }
      ]
    },
    {
      "cell_type": "code",
      "metadata": {
        "colab": {
          "base_uri": "https://localhost:8080/"
        },
        "id": "kgmX9gfJpq-L",
        "outputId": "b04335ad-9335-4e62-d5b9-76f6923b8ea0"
      },
      "source": [
        "### Try predicting label with one validation sample (inference)\n",
        "\n",
        "# Change this to try a different sample from the test set\n",
        "idx = 0\n",
        "\n",
        "# Make sample 2D array instead of 1D vector (this is what the Keras model expects as input)\n",
        "x = np.expand_dims(X_val[idx], 0)\n",
        "\n",
        "# Make prediction using trained model\n",
        "y_pred = model.predict(x)\n",
        "\n",
        "# Find index of highest score in output\n",
        "predicted_label = np.argmax(y_pred)\n",
        "actual_label = np.argmax(Y_val[idx])\n",
        "\n",
        "# Display model output, predicted label, actual label\n",
        "print(\"Model output:\", y_pred)\n",
        "print(\"Predicted label:\", predicted_label, \"-\", labels[predicted_label])\n",
        "print(\"Actual label:\", actual_label, \"-\", labels[actual_label])"
      ],
      "execution_count": 21,
      "outputs": [
        {
          "output_type": "stream",
          "name": "stdout",
          "text": [
            "Model output: [[1.]]\n",
            "Predicted label: 0 - image\n",
            "Actual label: 0 - image\n"
          ]
        }
      ]
    },
    {
      "cell_type": "code",
      "metadata": {
        "colab": {
          "base_uri": "https://localhost:8080/"
        },
        "id": "0Lo3KWpjptJk",
        "outputId": "d54f5b44-df89-46c4-bcba-0ec12025eb15"
      },
      "source": [
        "### Create confusion matrix from validation set\n",
        "\n",
        "# Find predictions from all validation samples\n",
        "Y_pred = model.predict(X_val)\n",
        "print(\"Validation output shape:\", Y_pred.shape)\n",
        "\n",
        "# Convert actual and predicted validation one-hot encoding to numerical labels\n",
        "y_val = np.argmax(Y_val, axis=1)\n",
        "y_pred = np.argmax(Y_pred, axis=1)\n",
        "\n",
        "# Print some values from actual and predicted validation sets (first 50 samples)\n",
        "print(\"Actual validation labels:\\t\", y_val[:50])\n",
        "print(\"Predicted validation labels:\\t\", y_pred[:50])\n",
        "\n",
        "# Compute confusion matrix (note: we need to transpose SKLearn matrix to make it match Edge Impulse)\n",
        "cm = confusion_matrix(y_val, y_pred)\n",
        "cm = np.transpose(cm)\n",
        "\n",
        "# Print confusion matrix\n",
        "print()\n",
        "print(\" ---> Predicted labels\")\n",
        "print(\"|\")\n",
        "print(\"v Actual labels\")\n",
        "print(\"\\t\\t\\t\" + ' '.join(\"{!s:6}\".format('(' + str(i) + ')') for i in range(num_classes)))\n",
        "for row in range(num_classes):\n",
        "  print(\"{:>12} ({}):  [{}]\".format(labels[row], row, ' '.join(\"{:6}\".format(i) for i in cm[row])))"
      ],
      "execution_count": 22,
      "outputs": [
        {
          "output_type": "stream",
          "name": "stdout",
          "text": [
            "Validation output shape: (10, 1)\n",
            "Actual validation labels:\t [0 0 0 0 0 0 0 0 0 0]\n",
            "Predicted validation labels:\t [0 0 0 0 0 0 0 0 0 0]\n",
            "\n",
            " ---> Predicted labels\n",
            "|\n",
            "v Actual labels\n",
            "\t\t\t(0)   \n",
            "       image (0):  [    10]\n"
          ]
        }
      ]
    },
    {
      "cell_type": "code",
      "metadata": {
        "colab": {
          "base_uri": "https://localhost:8080/"
        },
        "id": "hgZXa_y2qorZ",
        "outputId": "19ab9cc3-f180-4125-e504-aae2d539e600"
      },
      "source": [
        "### Evaluate model on validation set\n",
        "score = model.evaluate(X_val, Y_val)\n",
        "print(\"Validation loss:\", score[0])\n",
        "print(\"Validation accuracy:\", score[1])"
      ],
      "execution_count": 23,
      "outputs": [
        {
          "output_type": "stream",
          "name": "stdout",
          "text": [
            "1/1 [==============================] - 0s 20ms/step - loss: 0.0000e+00 - acc: 1.0000\n",
            "Validation loss: 0.0\n",
            "Validation accuracy: 1.0\n"
          ]
        }
      ]
    },
    {
      "cell_type": "code",
      "metadata": {
        "colab": {
          "base_uri": "https://localhost:8080/"
        },
        "id": "m2lvFg0RVxFr",
        "outputId": "5add6916-2d18-4bea-f8d7-b5b4a4b5d60c"
      },
      "source": [
        "### Evaluate model on entire test set\n",
        "score = model.evaluate(X_test, Y_test)\n",
        "print(\"Test loss:\", score[0])\n",
        "print(\"Test accuracy:\", score[1])"
      ],
      "execution_count": 24,
      "outputs": [
        {
          "output_type": "stream",
          "name": "stdout",
          "text": [
            "1/1 [==============================] - 0s 20ms/step - loss: 0.0000e+00 - acc: 1.0000\n",
            "Test loss: 0.0\n",
            "Test accuracy: 1.0\n"
          ]
        }
      ]
    }
  ]
}