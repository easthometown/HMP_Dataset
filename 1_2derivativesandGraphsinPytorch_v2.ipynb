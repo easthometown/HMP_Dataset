{
  "cells": [
    {
      "cell_type": "markdown",
      "metadata": {
        "id": "view-in-github",
        "colab_type": "text"
      },
      "source": [
        "<a href=\"https://colab.research.google.com/github/easthometown/HMP_Dataset/blob/master/1_2derivativesandGraphsinPytorch_v2.ipynb\" target=\"_parent\"><img src=\"https://colab.research.google.com/assets/colab-badge.svg\" alt=\"Open In Colab\"/></a>"
      ]
    },
    {
      "cell_type": "markdown",
      "metadata": {
        "id": "xMUGC1IGt-Cf"
      },
      "source": [
        "<center>\n",
        "    <img src=\"https://cf-courses-data.s3.us.cloud-object-storage.appdomain.cloud/IBMDeveloperSkillsNetwork-DL0110EN-SkillsNetwork/Template/module%201/images/IDSNlogo.png\" width=\"300\" alt=\"cognitiveclass.ai logo\"  />\n",
        "</center>\n"
      ]
    },
    {
      "cell_type": "markdown",
      "metadata": {
        "id": "YoSm_61Ut-Cp"
      },
      "source": [
        "<h1>Differentiation in PyTorch</h1> \n"
      ]
    },
    {
      "cell_type": "markdown",
      "metadata": {
        "id": "W9s25tbyt-Ct"
      },
      "source": [
        "<h2>Objective</h2><ul><li> How to perform differentiation in pytorch.</li></ul> \n"
      ]
    },
    {
      "cell_type": "markdown",
      "metadata": {
        "id": "AcXuidVFt-Cv"
      },
      "source": [
        "<h2>Table of Contents</h2>\n",
        "\n",
        "<p>In this lab, you will learn the basics of differentiation.</p> \n",
        "\n",
        "<ul>\n",
        "    <li><a href=\"https://#Derivative\">Derivatives</a></li>\n",
        "    <li><a href=\"https://#Partial_Derivative\">Partial Derivatives</a></li>\n",
        "</ul>\n",
        "\n",
        "<p>Estimated Time Needed: <strong>25 min</strong></p>\n",
        "<hr>\n"
      ]
    },
    {
      "cell_type": "markdown",
      "metadata": {
        "id": "lo8U1wirt-Cy"
      },
      "source": [
        "<h2>Preparation</h2>\n"
      ]
    },
    {
      "cell_type": "markdown",
      "metadata": {
        "id": "LF32DZ5kt-C0"
      },
      "source": [
        "The following are the libraries we are going to use for this lab.\n"
      ]
    },
    {
      "cell_type": "code",
      "execution_count": null,
      "metadata": {
        "id": "eGmzV7A_t-C2"
      },
      "outputs": [],
      "source": [
        "# These are the libraries will be useing for this lab.\n",
        "\n",
        "import torch \n",
        "import matplotlib.pylab as plt\n"
      ]
    },
    {
      "cell_type": "markdown",
      "metadata": {
        "id": "i6U4tkKyt-C7"
      },
      "source": [
        "<!--Empty Space for separating topics-->\n"
      ]
    },
    {
      "cell_type": "markdown",
      "metadata": {
        "id": "LsEoT7MSt-Dn"
      },
      "source": [
        "<h2 id=\"Derivative\">Derivatives</h2>\n"
      ]
    },
    {
      "cell_type": "markdown",
      "metadata": {
        "id": "nMd7tJHSt-D0"
      },
      "source": [
        "Let us create the tensor <code>x</code> and set the parameter <code>requires_grad</code> to true because you are going to take the derivative of the tensor.\n"
      ]
    },
    {
      "cell_type": "code",
      "execution_count": null,
      "metadata": {
        "id": "vUW7RG8Ht-D4"
      },
      "outputs": [],
      "source": [
        "# Create a tensor x\n",
        "\n",
        "x = torch.tensor(2.0, requires_grad = True)\n",
        "print(\"The tensor x: \", x)"
      ]
    },
    {
      "cell_type": "markdown",
      "metadata": {
        "id": "DQTFf5m8t-D8"
      },
      "source": [
        "Then let us create a tensor according to the equation $ y=x^2 $.\n"
      ]
    },
    {
      "cell_type": "code",
      "execution_count": null,
      "metadata": {
        "jupyter": {
          "outputs_hidden": false
        },
        "id": "jjyLZSWvt-D_"
      },
      "outputs": [],
      "source": [
        "# Create a tensor y according to y = x^2\n",
        "\n",
        "y = x ** 2\n",
        "print(\"The result of y = x^2: \", y)"
      ]
    },
    {
      "cell_type": "markdown",
      "metadata": {
        "id": "_pcksvOmt-EB"
      },
      "source": [
        "Then let us take the derivative with respect x at x = 2\n"
      ]
    },
    {
      "cell_type": "code",
      "execution_count": null,
      "metadata": {
        "jupyter": {
          "outputs_hidden": false
        },
        "id": "FY3k19w7t-ED"
      },
      "outputs": [],
      "source": [
        "# Take the derivative. Try to print out the derivative at the value x = 2\n",
        "\n",
        "y.backward()\n",
        "print(\"The dervative at x = 2: \", x.grad)"
      ]
    },
    {
      "cell_type": "markdown",
      "metadata": {
        "id": "BxaCdghBt-EF"
      },
      "source": [
        "The preceding lines perform the following operation:\n"
      ]
    },
    {
      "cell_type": "markdown",
      "metadata": {
        "id": "jjo2uobKt-EH"
      },
      "source": [
        "$\\frac{\\mathrm{dy(x)}}{\\mathrm{dx}}=2x$\n"
      ]
    },
    {
      "cell_type": "markdown",
      "metadata": {
        "id": "fTQ31vDet-EI"
      },
      "source": [
        "$\\frac{\\mathrm{dy(x=2)}}{\\mathrm{dx}}=2(2)=4$\n"
      ]
    },
    {
      "cell_type": "code",
      "execution_count": null,
      "metadata": {
        "id": "IylNjnfxt-EJ"
      },
      "outputs": [],
      "source": [
        ""
      ]
    },
    {
      "cell_type": "code",
      "execution_count": null,
      "metadata": {
        "id": "qkBw2oH0t-EL"
      },
      "outputs": [],
      "source": [
        "print('data:',x.data)\n",
        "print('grad_fn:',x.grad_fn)\n",
        "print('grad:',x.grad)\n",
        "print(\"is_leaf:\",x.is_leaf)\n",
        "print(\"requires_grad:\",x.requires_grad)"
      ]
    },
    {
      "cell_type": "code",
      "execution_count": null,
      "metadata": {
        "id": "iPkEkuNCt-EN"
      },
      "outputs": [],
      "source": [
        "print('data:',y.data)\n",
        "print('grad_fn:',y.grad_fn)\n",
        "print('grad:',y.grad)\n",
        "print(\"is_leaf:\",y.is_leaf)\n",
        "print(\"requires_grad:\",y.requires_grad)"
      ]
    },
    {
      "cell_type": "markdown",
      "metadata": {
        "id": "kheAThuxt-EP"
      },
      "source": [
        "Let us try to calculate the derivative for a more complicated function.\n"
      ]
    },
    {
      "cell_type": "code",
      "execution_count": null,
      "metadata": {
        "id": "ny-4_6F9t-EQ"
      },
      "outputs": [],
      "source": [
        "# Calculate the y = x^2 + 2x + 1, then find the derivative \n",
        "\n",
        "x = torch.tensor(2.0, requires_grad = True)\n",
        "y = x ** 2 + 2 * x + 1\n",
        "print(\"The result of y = x^2 + 2x + 1: \", y)\n",
        "y.backward()\n",
        "print(\"The dervative at x = 2: \", x.grad)"
      ]
    },
    {
      "cell_type": "markdown",
      "metadata": {
        "id": "mex12-pHt-EV"
      },
      "source": [
        "The function is in the following form:\n",
        "$y=x^{2}+2x+1$\n"
      ]
    },
    {
      "cell_type": "markdown",
      "metadata": {
        "id": "Nz3QQF7Ht-EW"
      },
      "source": [
        "The derivative is given by:\n"
      ]
    },
    {
      "cell_type": "markdown",
      "metadata": {
        "id": "27teQEBPt-Ea"
      },
      "source": [
        "$\\frac{\\mathrm{dy(x)}}{\\mathrm{dx}}=2x+2$\n",
        "\n",
        "$\\frac{\\mathrm{dy(x=2)}}{\\mathrm{dx}}=2(2)+2=6$\n"
      ]
    },
    {
      "cell_type": "markdown",
      "metadata": {
        "id": "KJ8nB8ymt-Eb"
      },
      "source": [
        "<!--Empty Space for separating topics-->\n"
      ]
    },
    {
      "cell_type": "markdown",
      "metadata": {
        "id": "8ORgqVbCt-Ec"
      },
      "source": [
        "<h3>Practice</h3>\n"
      ]
    },
    {
      "cell_type": "markdown",
      "metadata": {
        "id": "2tUNebmtt-Ed"
      },
      "source": [
        "Determine the derivative of $ y = 2x^3+x $ at $x=1$\n"
      ]
    },
    {
      "cell_type": "code",
      "execution_count": null,
      "metadata": {
        "id": "V7KtjiQ4t-Ee"
      },
      "outputs": [],
      "source": [
        "# Practice: Calculate the derivative of y = 2x^3 + x at x = 1\n",
        "\n",
        "# Type your code here"
      ]
    },
    {
      "cell_type": "markdown",
      "metadata": {
        "id": "asC-iNUFt-Ef"
      },
      "source": [
        "Double-click <b>here</b> for the solution.\n",
        "\n",
        "<!-- \n",
        "x = torch.tensor(1.0, requires_grad=True)\n",
        "y = 2 * x ** 3 + x\n",
        "y.backward()\n",
        "print(\"The derivative result: \", x.grad)\n",
        " -->\n"
      ]
    },
    {
      "cell_type": "markdown",
      "metadata": {
        "id": "bZZhmxmDt-Eg"
      },
      "source": [
        "<!--Empty Space for separating topics-->\n"
      ]
    },
    {
      "cell_type": "markdown",
      "metadata": {
        "id": "CTWKn7BSt-Eh"
      },
      "source": [
        "We can implement our own custom autograd Functions by subclassing\n",
        "torch.autograd.Function and implementing the forward and backward passes\n",
        "which operate on Tensors\n"
      ]
    },
    {
      "cell_type": "code",
      "execution_count": null,
      "metadata": {
        "id": "jAZnhEERt-Ei"
      },
      "outputs": [],
      "source": [
        "class SQ(torch.autograd.Function):\n",
        "\n",
        "\n",
        "    @staticmethod\n",
        "    def forward(ctx,i):\n",
        "        \"\"\"\n",
        "        In the forward pass we receive a Tensor containing the input and return\n",
        "        a Tensor containing the output. ctx is a context object that can be used\n",
        "        to stash information for backward computation. You can cache arbitrary\n",
        "        objects for use in the backward pass using the ctx.save_for_backward method.\n",
        "        \"\"\"\n",
        "        result=i**2\n",
        "        ctx.save_for_backward(i)\n",
        "        return result\n",
        "\n",
        "    @staticmethod\n",
        "    def backward(ctx, grad_output):\n",
        "        \"\"\"\n",
        "        In the backward pass we receive a Tensor containing the gradient of the loss\n",
        "        with respect to the output, and we need to compute the gradient of the loss\n",
        "        with respect to the input.\n",
        "        \"\"\"\n",
        "        i, = ctx.saved_tensors\n",
        "        grad_output = 2*i\n",
        "        return grad_output"
      ]
    },
    {
      "cell_type": "markdown",
      "metadata": {
        "id": "zP5hbeoxt-El"
      },
      "source": [
        "We can apply it the function\n"
      ]
    },
    {
      "cell_type": "code",
      "execution_count": null,
      "metadata": {
        "id": "pjc54Rrwt-El"
      },
      "outputs": [],
      "source": [
        "x=torch.tensor(2.0,requires_grad=True )\n",
        "sq=SQ.apply\n",
        "\n",
        "y=sq(x)\n",
        "y\n",
        "print(y.grad_fn)\n",
        "y.backward()\n",
        "x.grad"
      ]
    },
    {
      "cell_type": "markdown",
      "metadata": {
        "id": "H6oVk613t-En"
      },
      "source": [
        "<h2 id=\"Partial_Derivative\">Partial Derivatives</h2>\n"
      ]
    },
    {
      "cell_type": "markdown",
      "metadata": {
        "id": "MXYxWbKXt-En"
      },
      "source": [
        "We can also calculate <b>Partial Derivatives</b>. Consider the function: $f(u,v)=vu+u^{2}$\n"
      ]
    },
    {
      "cell_type": "markdown",
      "metadata": {
        "id": "5P8JHJIct-Eo"
      },
      "source": [
        "Let us create <code>u</code> tensor, <code>v</code> tensor and  <code>f</code> tensor\n"
      ]
    },
    {
      "cell_type": "code",
      "execution_count": null,
      "metadata": {
        "id": "EvLFyGCat-Eo"
      },
      "outputs": [],
      "source": [
        "# Calculate f(u, v) = v * u + u^2 at u = 1, v = 2\n",
        "\n",
        "u = torch.tensor(1.0,requires_grad=True)\n",
        "v = torch.tensor(2.0,requires_grad=True)\n",
        "f = u * v + u ** 2\n",
        "print(\"The result of v * u + u^2: \", f)"
      ]
    },
    {
      "cell_type": "markdown",
      "metadata": {
        "id": "QoY_CNCEt-Ep"
      },
      "source": [
        "This is equivalent to the following:\n"
      ]
    },
    {
      "cell_type": "markdown",
      "metadata": {
        "id": "GsxUfnvFt-Eq"
      },
      "source": [
        "$f(u=1,v=2)=(2)(1)+1^{2}=3$\n"
      ]
    },
    {
      "cell_type": "markdown",
      "metadata": {
        "id": "fWpFYSfjt-Eq"
      },
      "source": [
        "<!--Empty Space for separating topics-->\n"
      ]
    },
    {
      "cell_type": "markdown",
      "metadata": {
        "id": "-prCJNymt-Er"
      },
      "source": [
        "Now let us take the derivative with respect to <code>u</code>:\n"
      ]
    },
    {
      "cell_type": "code",
      "execution_count": null,
      "metadata": {
        "id": "uhWVzn5wt-Es"
      },
      "outputs": [],
      "source": [
        "# Calculate the derivative with respect to u\n",
        "\n",
        "f.backward()\n",
        "print(\"The partial derivative with respect to u: \", u.grad)"
      ]
    },
    {
      "cell_type": "markdown",
      "metadata": {
        "id": "76twdSPZt-Es"
      },
      "source": [
        "the expression is given by:\n"
      ]
    },
    {
      "cell_type": "markdown",
      "metadata": {
        "id": "CtbaT0Fmt-Et"
      },
      "source": [
        "$\\frac{\\mathrm{\\partial f(u,v)}}{\\partial {u}}=v+2u$\n",
        "\n",
        "$\\frac{\\mathrm{\\partial f(u=1,v=2)}}{\\partial {u}}=2+2(1)=4$\n"
      ]
    },
    {
      "cell_type": "markdown",
      "metadata": {
        "id": "4a2Lexxgt-Eu"
      },
      "source": [
        "<!--Empty Space for separating topics-->\n"
      ]
    },
    {
      "cell_type": "markdown",
      "metadata": {
        "id": "edClzmJ_t-Eu"
      },
      "source": [
        "Now, take the derivative with respect to <code>v</code>:\n"
      ]
    },
    {
      "cell_type": "code",
      "execution_count": null,
      "metadata": {
        "id": "Cf1auXk6t-Ev"
      },
      "outputs": [],
      "source": [
        "# Calculate the derivative with respect to v\n",
        "\n",
        "print(\"The partial derivative with respect to u: \", v.grad)"
      ]
    },
    {
      "cell_type": "markdown",
      "metadata": {
        "id": "hu9OW8r3t-Ew"
      },
      "source": [
        "The equation is given by:\n"
      ]
    },
    {
      "cell_type": "markdown",
      "metadata": {
        "id": "OgIANHItt-Ew"
      },
      "source": [
        "$\\frac{\\mathrm{\\partial f(u,v)}}{\\partial {v}}=u$\n",
        "\n",
        "$\\frac{\\mathrm{\\partial f(u=1,v=2)}}{\\partial {v}}=1$\n"
      ]
    },
    {
      "cell_type": "markdown",
      "metadata": {
        "id": "fE4rKbm1t-Ex"
      },
      "source": [
        "<!--Empty Space for separating topics-->\n"
      ]
    },
    {
      "cell_type": "markdown",
      "metadata": {
        "id": "t_BSJk6Bt-Ex"
      },
      "source": [
        "Calculate the derivative with respect to a function with multiple values as follows. You use the sum trick to produce a scalar valued function and then take the gradient:\n"
      ]
    },
    {
      "cell_type": "code",
      "execution_count": null,
      "metadata": {
        "id": "u7uAhFTGt-Ey"
      },
      "outputs": [],
      "source": [
        "# Calculate the derivative with multiple values\n",
        "\n",
        "x = torch.linspace(-10, 10, 10, requires_grad = True)\n",
        "Y = x ** 2\n",
        "y = torch.sum(x ** 2)"
      ]
    },
    {
      "cell_type": "markdown",
      "metadata": {
        "id": "dGsVS8oRt-Ez"
      },
      "source": [
        "We can plot the function  and its derivative\n"
      ]
    },
    {
      "cell_type": "code",
      "execution_count": null,
      "metadata": {
        "id": "1XKxqYwrt-Ez"
      },
      "outputs": [],
      "source": [
        "# Take the derivative with respect to multiple value. Plot out the function and its derivative\n",
        "\n",
        "y.backward()\n",
        "\n",
        "plt.plot(x.detach().numpy(), Y.detach().numpy(), label = 'function')\n",
        "plt.plot(x.detach().numpy(), x.grad.detach().numpy(), label = 'derivative')\n",
        "plt.xlabel('x')\n",
        "plt.legend()\n",
        "plt.show()"
      ]
    },
    {
      "cell_type": "markdown",
      "metadata": {
        "id": "gvLf4kYvt-E0"
      },
      "source": [
        "The orange line is the slope of the blue line at the intersection point, which is the derivative of the blue line.\n"
      ]
    },
    {
      "cell_type": "markdown",
      "metadata": {
        "id": "0ojDTHZXt-E1"
      },
      "source": [
        "The  method <code> detach()</code>  excludes further tracking of operations in the graph, and therefore the subgraph will not record operations. This allows us to then convert the tensor to a numpy array. To understand the sum operation  <a href=\"https://pytorch.org/tutorials/beginner/blitz/autograd_tutorial.html?utm_medium=Exinfluencer&utm_source=Exinfluencer&utm_content=000026UJ&utm_term=10006555&utm_id=NA-SkillsNetwork-Channel-SkillsNetworkCoursesIBMDeveloperSkillsNetworkDL0110ENSkillsNetwork20647811-2021-01-01\">Click Here</a>\n"
      ]
    },
    {
      "cell_type": "markdown",
      "metadata": {
        "id": "IxghbPcNt-E2"
      },
      "source": [
        "<!--Empty Space for separating topics-->\n"
      ]
    },
    {
      "cell_type": "markdown",
      "metadata": {
        "id": "YnVEHZmwt-E2"
      },
      "source": [
        "The <b>relu</b> activation function is an essential function in neural networks. We can take the derivative as follows:\n"
      ]
    },
    {
      "cell_type": "code",
      "execution_count": null,
      "metadata": {
        "collapsed": true,
        "jupyter": {
          "outputs_hidden": true
        },
        "id": "aymupONht-E3"
      },
      "outputs": [],
      "source": [
        ""
      ]
    },
    {
      "cell_type": "code",
      "execution_count": null,
      "metadata": {
        "id": "9aVPV6nEt-E4"
      },
      "outputs": [],
      "source": [
        "# Take the derivative of Relu with respect to multiple value. Plot out the function and its derivative\n",
        "\n",
        "x = torch.linspace(-10, 10, 1000, requires_grad = True)\n",
        "Y = torch.relu(x)\n",
        "y = Y.sum()\n",
        "y.backward()\n",
        "plt.plot(x.detach().numpy(), Y.detach().numpy(), label = 'function')\n",
        "plt.plot(x.detach().numpy(), x.grad.detach().numpy(), label = 'derivative')\n",
        "plt.xlabel('x')\n",
        "plt.legend()\n",
        "plt.show()"
      ]
    },
    {
      "cell_type": "markdown",
      "metadata": {
        "id": "YfDfYrHQt-E5"
      },
      "source": [
        "<!--Empty Space for separating topics-->\n"
      ]
    },
    {
      "cell_type": "code",
      "execution_count": null,
      "metadata": {
        "id": "L3Ffr6Ebt-E5"
      },
      "outputs": [],
      "source": [
        "y.grad_fn"
      ]
    },
    {
      "cell_type": "markdown",
      "metadata": {
        "id": "GhhyZWcPt-E6"
      },
      "source": [
        "<h3>Practice</h3>\n"
      ]
    },
    {
      "cell_type": "markdown",
      "metadata": {
        "id": "AWG-AXcHt-E6"
      },
      "source": [
        "Try to determine partial derivative  $u$ of the following function where $u=2$ and $v=1$: $ f=uv+(uv)^2$\n"
      ]
    },
    {
      "cell_type": "code",
      "execution_count": null,
      "metadata": {
        "id": "bOv7-mmPt-E7"
      },
      "outputs": [],
      "source": [
        "# Practice: Calculate the derivative of f = u * v + (u * v) ** 2 at u = 2, v = 1\n",
        "\n",
        "# Type the code here"
      ]
    },
    {
      "cell_type": "markdown",
      "metadata": {
        "id": "av2z7UoZt-E8"
      },
      "source": [
        "Double-click **here** for the solution.\n",
        "\n",
        "<!-- \n",
        "u = torch.tensor(2.0, requires_grad = True)\n",
        "v = torch.tensor(1.0, requires_grad = True)\n",
        "f = u * v + (u * v) ** 2\n",
        "f.backward()\n",
        "print(\"The result is \", u.grad)\n",
        " -->\n"
      ]
    },
    {
      "cell_type": "markdown",
      "metadata": {
        "id": "grbJJ4XUt-E8"
      },
      "source": [
        "<a href=\"https://dataplatform.cloud.ibm.com/registration/stepone?utm_medium=Exinfluencer&utm_source=Exinfluencer&utm_content=000026UJ&utm_term=10006555&utm_id=NA-SkillsNetwork-Channel-SkillsNetworkCoursesIBMDeveloperSkillsNetworkDL0110ENSkillsNetwork20647811-2021-01-01&context=cpdaas&apps=data_science_experience%2Cwatson_machine_learning\"><img src=\"https://cf-courses-data.s3.us.cloud-object-storage.appdomain.cloud/IBMDeveloperSkillsNetwork-DL0110EN-SkillsNetwork/Template/module%201/images/Watson_Studio.png\"/></a>\n"
      ]
    },
    {
      "cell_type": "markdown",
      "metadata": {
        "id": "ZZyJNNHst-E9"
      },
      "source": [
        "<h2>About the Authors:</h2> \n",
        "\n",
        "<a href=\"https://www.linkedin.com/in/joseph-s-50398b136/?utm_medium=Exinfluencer&utm_source=Exinfluencer&utm_content=000026UJ&utm_term=10006555&utm_id=NA-SkillsNetwork-Channel-SkillsNetworkCoursesIBMDeveloperSkillsNetworkDL0110ENSkillsNetwork20647811-2021-01-01\">Joseph Santarcangelo</a> has a PhD in Electrical Engineering, his research focused on using machine learning, signal processing, and computer vision to determine how videos impact human cognition. Joseph has been working for IBM since he completed his PhD.\n"
      ]
    },
    {
      "cell_type": "markdown",
      "metadata": {
        "id": "TAB1V0wtt-E-"
      },
      "source": [
        "Other contributors: <a href=\"https://www.linkedin.com/in/michelleccarey/?utm_medium=Exinfluencer&utm_source=Exinfluencer&utm_content=000026UJ&utm_term=10006555&utm_id=NA-SkillsNetwork-Channel-SkillsNetworkCoursesIBMDeveloperSkillsNetworkDL0110ENSkillsNetwork20647811-2021-01-01\">Michelle Carey</a>, <a href=\"https://www.linkedin.com/in/jiahui-mavis-zhou-a4537814a?utm_medium=Exinfluencer&utm_source=Exinfluencer&utm_content=000026UJ&utm_term=10006555&utm_id=NA-SkillsNetwork-Channel-SkillsNetworkCoursesIBMDeveloperSkillsNetworkDL0110ENSkillsNetwork20647811-2021-01-01\">Mavis Zhou</a>\n"
      ]
    },
    {
      "cell_type": "markdown",
      "metadata": {
        "id": "g63KM3nut-E-"
      },
      "source": [
        "## Change Log\n",
        "\n",
        "| Date (YYYY-MM-DD) | Version | Changed By | Change Description                                          |\n",
        "| ----------------- | ------- | ---------- | ----------------------------------------------------------- |\n",
        "| 2020-09-21        | 2.0     | Shubham    | Migrated Lab to Markdown and added to course repo in GitLab |\n"
      ]
    },
    {
      "cell_type": "markdown",
      "metadata": {
        "id": "SLMJhAxht-E_"
      },
      "source": [
        "<hr>\n"
      ]
    },
    {
      "cell_type": "markdown",
      "metadata": {
        "id": "cCN_Sxb1t-FA"
      },
      "source": [
        "## <h3 align=\"center\"> © IBM Corporation 2020. All rights reserved. <h3/>\n"
      ]
    }
  ],
  "metadata": {
    "kernelspec": {
      "display_name": "Python 3",
      "language": "python",
      "name": "python3"
    },
    "language_info": {
      "codemirror_mode": {
        "name": "ipython",
        "version": 3
      },
      "file_extension": ".py",
      "mimetype": "text/x-python",
      "name": "python",
      "nbconvert_exporter": "python",
      "pygments_lexer": "ipython3",
      "version": "3.7.6"
    },
    "colab": {
      "name": "1.2derivativesandGraphsinPytorch_v2.ipynb",
      "provenance": [],
      "include_colab_link": true
    }
  },
  "nbformat": 4,
  "nbformat_minor": 0
}