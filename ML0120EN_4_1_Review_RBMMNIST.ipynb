{
  "cells": [
    {
      "cell_type": "markdown",
      "metadata": {
        "id": "view-in-github",
        "colab_type": "text"
      },
      "source": [
        "<a href=\"https://colab.research.google.com/github/easthometown/HMP_Dataset/blob/master/ML0120EN_4_1_Review_RBMMNIST.ipynb\" target=\"_parent\"><img src=\"https://colab.research.google.com/assets/colab-badge.svg\" alt=\"Open In Colab\"/></a>"
      ]
    },
    {
      "cell_type": "markdown",
      "metadata": {
        "id": "2Gijp8WdhWip"
      },
      "source": [
        "<a href=\"https://www.skills.network/?utm_medium=Exinfluencer&utm_source=Exinfluencer&utm_content=000026UJ&utm_term=10006555&utm_id=NA-SkillsNetwork-Channel-SkillsNetworkCoursesIBMDeveloperSkillsNetworkDL0120ENSkillsNetwork20629446-2022-01-01\"><img src=\"https://cf-courses-data.s3.us.cloud-object-storage.appdomain.cloud/IBM-DL0120ENedX/labs/Template%20for%20Instructional%20Hands-on%20Labs/images/IDSNlogo.png\" width=\"400px\" align=\"center\"></a>\n",
        "\n",
        "<h1 align=\"center\"><font size=\"5\">RESTRICTED BOLTZMANN MACHINES</font></h1>\n"
      ]
    },
    {
      "cell_type": "markdown",
      "metadata": {
        "id": "ZzofBRKghWi_"
      },
      "source": [
        "Estimated time needed: **25** minutes\n"
      ]
    },
    {
      "cell_type": "markdown",
      "metadata": {
        "id": "SI_8CEPshWjB"
      },
      "source": [
        "<h3>Introduction</h3>\n",
        "<b>Restricted Boltzmann Machine (RBM):</b>  RBMs are shallow neural nets that learn to reconstruct data by themselves in an unsupervised fashion.  \n",
        "\n",
        "<h4>Why are RBMs important?</h4>\n",
        "An RBM are a basic form of autoencoder.  It can automatically extract <b>meaningful</b> features from a given input.\n",
        "\n",
        "<h4>How does it work?</h4>\n",
        "RBM is a 2 layer neural network. Simply, RBM takes the inputs and translates those into a set of binary values that represents them in the hidden layer. Then, these numbers can be translated back to reconstruct the inputs. Through several forward and backward passes, the RBM will be trained, and a trained RBM can reveal which features are the most important ones when detecting patterns.   \n",
        "\n",
        "<h4>What are the applications of an RBM?</h4>\n",
        "RBM is useful for <a href='http://www.cs.utoronto.ca/~hinton/absps/netflixICML.pdf?utm_medium=Exinfluencer&utm_source=Exinfluencer&utm_content=000026UJ&utm_term=10006555&utm_id=NA-SkillsNetwork-Channel-SkillsNetworkCoursesIBMDeveloperSkillsNetworkDL0120ENSkillsNetwork20629446-2022-01-01'>  Collaborative Filtering</a>, dimensionality reduction, classification, regression, feature learning, topic modeling and even <b>Deep Belief Networks</b>.\n",
        "\n",
        "<h4>Is RBM a generative or Discriminative model?</h4>\n",
        "RBM is a generative model. Let me explain it by first, see what is different between discriminative and generative models: \n",
        "\n",
        "<b>Discriminative:</b> Consider a classification problem where we want to learn to distinguish between Sedan cars (y = 1) and SUV cars (y = 0), based on some features of cars. Given a training set, an algorithm like logistic regression tries to find a straight line, or <i>decision boundary</i>, that separates the suv and sedan.\n",
        "\n",
        "<b>Generative:</b> looking at cars, we can build a model of what Sedan cars look like. Then, looking at SUVs, we can build a separate model of what SUV cars look like. Finally, to classify a new car, we can match the new car against the Sedan model, and match it against the SUV model, to see whether the new car looks more like the SUV or Sedan.\n",
        "\n",
        "Generative Models specify a probability distribution over a dataset of input vectors. We can carry out both supervised and unsupervised tasks with generative models:\n",
        "\n",
        "<ul>\n",
        "    <li>In an unsupervised task, we try to form a model for $P(x)$, where $P$ is the probability given $x$ as an input vector.</li>\n",
        "    <li>In the supervised task, we first form a model for $P(x|y)$, where $P$ is the probability of $x$ given $y$(the label for $x$). For example, if $y = 0$ indicates that a car is an SUV, and $y = 1$ indicates that a car is a sedan, then $p(x|y = 0)$ models the distribution of SUV features, and $p(x|y = 1)$ models the distribution of sedan features. If we manage to find $P(x|y)$ and $P(y)$, then we can use <b>Bayes rule</b> to estimate $P(y|x)$, because:   \n",
        "        $$p(y|x) = \\frac{p(x|y)p(y)}{p(x)}$$</li>\n",
        "</ul>\n",
        "Now the question is, can we build a generative model, and then use it to create synthetic data by directly sampling from the modeled probability distributions? Lets see. \n"
      ]
    },
    {
      "cell_type": "markdown",
      "metadata": {
        "id": "eWL99EWvhWjH"
      },
      "source": [
        "<h2>Table of Contents</h2>\n",
        "<ol>\n",
        "    <li><a href=\"https://#ref1\">Initialization</a></li>\n",
        "    <li><a href=\"https://#ref2\">RBM layers</a></li>\n",
        "    <li><a href=\"https://#ref3\">What RBM can do after training?</a></li>\n",
        "    <li><a href=\"https://#ref4\">How to train the model?</a></li>\n",
        "    <li><a href=\"https://#ref5\">Learned features</a></li>\n",
        "</ol>\n",
        "<p></p>\n",
        "</div>\n",
        "<br>\n",
        "\n",
        "<hr>\n"
      ]
    },
    {
      "cell_type": "markdown",
      "metadata": {
        "id": "cPSfc-fOhWjK"
      },
      "source": [
        "<a id=\"ref1\"></a>\n",
        "\n",
        "<h3>Initialization</h3>\n",
        "\n",
        "First, we have to load the utility file which contains different utility functions that are not connected\n",
        "in any way to the networks presented in the tutorials, but rather help in\n",
        "processing the outputs into a more understandable way.\n"
      ]
    },
    {
      "cell_type": "code",
      "execution_count": 1,
      "metadata": {
        "id": "FAdJOeO3hWjN"
      },
      "outputs": [],
      "source": [
        "import urllib.request\n",
        "with urllib.request.urlopen(\"https://cf-courses-data.s3.us.cloud-object-storage.appdomain.cloud/IBMDeveloperSkillsNetwork-DL0120EN-SkillsNetwork/labs/Week4/data/utils.py\") as url:\n",
        "    response = url.read()\n",
        "target = open('utils.py', 'w')\n",
        "target.write(response.decode('utf-8'))\n",
        "target.close()"
      ]
    },
    {
      "cell_type": "markdown",
      "metadata": {
        "id": "E0rdgSdBhWjS"
      },
      "source": [
        "<h2>Installing TensorFlow </h2>\n",
        "\n",
        "We will installing TensorFlow version 2.2.0 and its required prerequistes.  Also installing pillow\\...\n"
      ]
    },
    {
      "cell_type": "code",
      "execution_count": 2,
      "metadata": {
        "colab": {
          "base_uri": "https://localhost:8080/",
          "height": 1000
        },
        "id": "ufmq8-76hWjU",
        "outputId": "073fcaff-1b0b-40d3-b5e1-30933c9ee700"
      },
      "outputs": [
        {
          "output_type": "stream",
          "name": "stdout",
          "text": [
            "Looking in indexes: https://pypi.org/simple, https://us-python.pkg.dev/colab-wheels/public/simple/\n",
            "Collecting grpcio==1.24.3\n",
            "  Downloading grpcio-1.24.3-cp37-cp37m-manylinux2010_x86_64.whl (2.2 MB)\n",
            "\u001b[K     |████████████████████████████████| 2.2 MB 14.6 MB/s \n",
            "\u001b[?25hRequirement already satisfied: six>=1.5.2 in /usr/local/lib/python3.7/dist-packages (from grpcio==1.24.3) (1.15.0)\n",
            "Installing collected packages: grpcio\n",
            "  Attempting uninstall: grpcio\n",
            "    Found existing installation: grpcio 1.46.3\n",
            "    Uninstalling grpcio-1.46.3:\n",
            "      Successfully uninstalled grpcio-1.46.3\n",
            "Successfully installed grpcio-1.24.3\n",
            "Looking in indexes: https://pypi.org/simple, https://us-python.pkg.dev/colab-wheels/public/simple/\n",
            "Collecting tensorflow==2.2.0\n",
            "  Downloading tensorflow-2.2.0-cp37-cp37m-manylinux2010_x86_64.whl (516.2 MB)\n",
            "\u001b[K     |████████████████████████████████| 516.2 MB 5.5 kB/s \n",
            "\u001b[?25hCollecting gast==0.3.3\n",
            "  Downloading gast-0.3.3-py2.py3-none-any.whl (9.7 kB)\n",
            "Requirement already satisfied: keras-preprocessing>=1.1.0 in /usr/local/lib/python3.7/dist-packages (from tensorflow==2.2.0) (1.1.2)\n",
            "Requirement already satisfied: termcolor>=1.1.0 in /usr/local/lib/python3.7/dist-packages (from tensorflow==2.2.0) (1.1.0)\n",
            "Requirement already satisfied: wrapt>=1.11.1 in /usr/local/lib/python3.7/dist-packages (from tensorflow==2.2.0) (1.14.1)\n",
            "Requirement already satisfied: grpcio>=1.8.6 in /usr/local/lib/python3.7/dist-packages (from tensorflow==2.2.0) (1.24.3)\n",
            "Requirement already satisfied: astunparse==1.6.3 in /usr/local/lib/python3.7/dist-packages (from tensorflow==2.2.0) (1.6.3)\n",
            "Collecting h5py<2.11.0,>=2.10.0\n",
            "  Downloading h5py-2.10.0-cp37-cp37m-manylinux1_x86_64.whl (2.9 MB)\n",
            "\u001b[K     |████████████████████████████████| 2.9 MB 80.8 MB/s \n",
            "\u001b[?25hRequirement already satisfied: numpy<2.0,>=1.16.0 in /usr/local/lib/python3.7/dist-packages (from tensorflow==2.2.0) (1.21.6)\n",
            "Requirement already satisfied: opt-einsum>=2.3.2 in /usr/local/lib/python3.7/dist-packages (from tensorflow==2.2.0) (3.3.0)\n",
            "Collecting tensorboard<2.3.0,>=2.2.0\n",
            "  Downloading tensorboard-2.2.2-py3-none-any.whl (3.0 MB)\n",
            "\u001b[K     |████████████████████████████████| 3.0 MB 59.1 MB/s \n",
            "\u001b[?25hRequirement already satisfied: scipy==1.4.1 in /usr/local/lib/python3.7/dist-packages (from tensorflow==2.2.0) (1.4.1)\n",
            "Requirement already satisfied: six>=1.12.0 in /usr/local/lib/python3.7/dist-packages (from tensorflow==2.2.0) (1.15.0)\n",
            "Requirement already satisfied: wheel>=0.26 in /usr/local/lib/python3.7/dist-packages (from tensorflow==2.2.0) (0.37.1)\n",
            "Requirement already satisfied: protobuf>=3.8.0 in /usr/local/lib/python3.7/dist-packages (from tensorflow==2.2.0) (3.17.3)\n",
            "Requirement already satisfied: absl-py>=0.7.0 in /usr/local/lib/python3.7/dist-packages (from tensorflow==2.2.0) (1.0.0)\n",
            "Requirement already satisfied: google-pasta>=0.1.8 in /usr/local/lib/python3.7/dist-packages (from tensorflow==2.2.0) (0.2.0)\n",
            "Collecting tensorflow-estimator<2.3.0,>=2.2.0\n",
            "  Downloading tensorflow_estimator-2.2.0-py2.py3-none-any.whl (454 kB)\n",
            "\u001b[K     |████████████████████████████████| 454 kB 88.2 MB/s \n",
            "\u001b[?25hRequirement already satisfied: markdown>=2.6.8 in /usr/local/lib/python3.7/dist-packages (from tensorboard<2.3.0,>=2.2.0->tensorflow==2.2.0) (3.3.7)\n",
            "Requirement already satisfied: requests<3,>=2.21.0 in /usr/local/lib/python3.7/dist-packages (from tensorboard<2.3.0,>=2.2.0->tensorflow==2.2.0) (2.23.0)\n",
            "Requirement already satisfied: google-auth<2,>=1.6.3 in /usr/local/lib/python3.7/dist-packages (from tensorboard<2.3.0,>=2.2.0->tensorflow==2.2.0) (1.35.0)\n",
            "Requirement already satisfied: tensorboard-plugin-wit>=1.6.0 in /usr/local/lib/python3.7/dist-packages (from tensorboard<2.3.0,>=2.2.0->tensorflow==2.2.0) (1.8.1)\n",
            "Requirement already satisfied: werkzeug>=0.11.15 in /usr/local/lib/python3.7/dist-packages (from tensorboard<2.3.0,>=2.2.0->tensorflow==2.2.0) (1.0.1)\n",
            "Requirement already satisfied: setuptools>=41.0.0 in /usr/local/lib/python3.7/dist-packages (from tensorboard<2.3.0,>=2.2.0->tensorflow==2.2.0) (57.4.0)\n",
            "Requirement already satisfied: google-auth-oauthlib<0.5,>=0.4.1 in /usr/local/lib/python3.7/dist-packages (from tensorboard<2.3.0,>=2.2.0->tensorflow==2.2.0) (0.4.6)\n",
            "Requirement already satisfied: pyasn1-modules>=0.2.1 in /usr/local/lib/python3.7/dist-packages (from google-auth<2,>=1.6.3->tensorboard<2.3.0,>=2.2.0->tensorflow==2.2.0) (0.2.8)\n",
            "Requirement already satisfied: cachetools<5.0,>=2.0.0 in /usr/local/lib/python3.7/dist-packages (from google-auth<2,>=1.6.3->tensorboard<2.3.0,>=2.2.0->tensorflow==2.2.0) (4.2.4)\n",
            "Requirement already satisfied: rsa<5,>=3.1.4 in /usr/local/lib/python3.7/dist-packages (from google-auth<2,>=1.6.3->tensorboard<2.3.0,>=2.2.0->tensorflow==2.2.0) (4.8)\n",
            "Requirement already satisfied: requests-oauthlib>=0.7.0 in /usr/local/lib/python3.7/dist-packages (from google-auth-oauthlib<0.5,>=0.4.1->tensorboard<2.3.0,>=2.2.0->tensorflow==2.2.0) (1.3.1)\n",
            "Requirement already satisfied: importlib-metadata>=4.4 in /usr/local/lib/python3.7/dist-packages (from markdown>=2.6.8->tensorboard<2.3.0,>=2.2.0->tensorflow==2.2.0) (4.11.4)\n",
            "Requirement already satisfied: typing-extensions>=3.6.4 in /usr/local/lib/python3.7/dist-packages (from importlib-metadata>=4.4->markdown>=2.6.8->tensorboard<2.3.0,>=2.2.0->tensorflow==2.2.0) (4.2.0)\n",
            "Requirement already satisfied: zipp>=0.5 in /usr/local/lib/python3.7/dist-packages (from importlib-metadata>=4.4->markdown>=2.6.8->tensorboard<2.3.0,>=2.2.0->tensorflow==2.2.0) (3.8.0)\n",
            "Requirement already satisfied: pyasn1<0.5.0,>=0.4.6 in /usr/local/lib/python3.7/dist-packages (from pyasn1-modules>=0.2.1->google-auth<2,>=1.6.3->tensorboard<2.3.0,>=2.2.0->tensorflow==2.2.0) (0.4.8)\n",
            "Requirement already satisfied: idna<3,>=2.5 in /usr/local/lib/python3.7/dist-packages (from requests<3,>=2.21.0->tensorboard<2.3.0,>=2.2.0->tensorflow==2.2.0) (2.10)\n",
            "Requirement already satisfied: chardet<4,>=3.0.2 in /usr/local/lib/python3.7/dist-packages (from requests<3,>=2.21.0->tensorboard<2.3.0,>=2.2.0->tensorflow==2.2.0) (3.0.4)\n",
            "Requirement already satisfied: certifi>=2017.4.17 in /usr/local/lib/python3.7/dist-packages (from requests<3,>=2.21.0->tensorboard<2.3.0,>=2.2.0->tensorflow==2.2.0) (2022.5.18.1)\n",
            "Requirement already satisfied: urllib3!=1.25.0,!=1.25.1,<1.26,>=1.21.1 in /usr/local/lib/python3.7/dist-packages (from requests<3,>=2.21.0->tensorboard<2.3.0,>=2.2.0->tensorflow==2.2.0) (1.24.3)\n",
            "Requirement already satisfied: oauthlib>=3.0.0 in /usr/local/lib/python3.7/dist-packages (from requests-oauthlib>=0.7.0->google-auth-oauthlib<0.5,>=0.4.1->tensorboard<2.3.0,>=2.2.0->tensorflow==2.2.0) (3.2.0)\n",
            "Installing collected packages: tensorflow-estimator, tensorboard, h5py, gast, tensorflow\n",
            "  Attempting uninstall: tensorflow-estimator\n",
            "    Found existing installation: tensorflow-estimator 2.8.0\n",
            "    Uninstalling tensorflow-estimator-2.8.0:\n",
            "      Successfully uninstalled tensorflow-estimator-2.8.0\n",
            "  Attempting uninstall: tensorboard\n",
            "    Found existing installation: tensorboard 2.8.0\n",
            "    Uninstalling tensorboard-2.8.0:\n",
            "      Successfully uninstalled tensorboard-2.8.0\n",
            "  Attempting uninstall: h5py\n",
            "    Found existing installation: h5py 3.1.0\n",
            "    Uninstalling h5py-3.1.0:\n",
            "      Successfully uninstalled h5py-3.1.0\n",
            "  Attempting uninstall: gast\n",
            "    Found existing installation: gast 0.5.3\n",
            "    Uninstalling gast-0.5.3:\n",
            "      Successfully uninstalled gast-0.5.3\n",
            "  Attempting uninstall: tensorflow\n",
            "    Found existing installation: tensorflow 2.8.2+zzzcolab20220527125636\n",
            "    Uninstalling tensorflow-2.8.2+zzzcolab20220527125636:\n",
            "      Successfully uninstalled tensorflow-2.8.2+zzzcolab20220527125636\n",
            "Successfully installed gast-0.3.3 h5py-2.10.0 tensorboard-2.2.2 tensorflow-2.2.0 tensorflow-estimator-2.2.0\n",
            "Looking in indexes: https://pypi.org/simple, https://us-python.pkg.dev/colab-wheels/public/simple/\n",
            "Collecting pillow==8.1.0\n",
            "  Downloading Pillow-8.1.0-cp37-cp37m-manylinux1_x86_64.whl (2.2 MB)\n",
            "\u001b[K     |████████████████████████████████| 2.2 MB 13.9 MB/s \n",
            "\u001b[?25hInstalling collected packages: pillow\n",
            "  Attempting uninstall: pillow\n",
            "    Found existing installation: Pillow 7.1.2\n",
            "    Uninstalling Pillow-7.1.2:\n",
            "      Successfully uninstalled Pillow-7.1.2\n",
            "\u001b[31mERROR: pip's dependency resolver does not currently take into account all the packages that are installed. This behaviour is the source of the following dependency conflicts.\n",
            "albumentations 0.1.12 requires imgaug<0.2.7,>=0.2.5, but you have imgaug 0.2.9 which is incompatible.\u001b[0m\n",
            "Successfully installed pillow-8.1.0\n"
          ]
        },
        {
          "output_type": "display_data",
          "data": {
            "application/vnd.colab-display-data+json": {
              "pip_warning": {
                "packages": [
                  "PIL"
                ]
              }
            }
          },
          "metadata": {}
        }
      ],
      "source": [
        "!pip install grpcio==1.24.3\n",
        "!pip install tensorflow==2.2.0\n",
        "!pip install pillow==8.1.0"
      ]
    },
    {
      "cell_type": "markdown",
      "metadata": {
        "id": "jF1W7Vv0hWjX"
      },
      "source": [
        "<b>Notice:</b> This notebook has been created with TensorFlow version 2.2, and might not work with other versions. Therefore we check:\n"
      ]
    },
    {
      "cell_type": "code",
      "execution_count": 3,
      "metadata": {
        "id": "ep5loOgehWjZ"
      },
      "outputs": [],
      "source": [
        "import tensorflow as tf\n",
        "from IPython.display import Markdown, display\n",
        "\n",
        "def printmd(string):\n",
        "    display(Markdown('# <span style=\"color:red\">'+string+'</span>'))\n",
        "\n",
        "\n",
        "if not tf.__version__ == '2.2.0':\n",
        "    printmd('<<<<<!!!!! ERROR !!!! please upgrade to TensorFlow 2.2.0, or restart your Kernel (Kernel->Restart & Clear Output)>>>>>')"
      ]
    },
    {
      "cell_type": "markdown",
      "metadata": {
        "id": "6gKrQ4A7hWjb"
      },
      "source": [
        "Now, we load in all the packages that we use to create the net including the TensorFlow package:\n"
      ]
    },
    {
      "cell_type": "code",
      "execution_count": 4,
      "metadata": {
        "id": "HOaLOR40hWje"
      },
      "outputs": [],
      "source": [
        "import tensorflow as tf\n",
        "import numpy as np\n",
        "\n",
        "from PIL import Image\n",
        "from utils import tile_raster_images\n",
        "import matplotlib.pyplot as plt\n",
        "%matplotlib inline"
      ]
    },
    {
      "cell_type": "markdown",
      "metadata": {
        "id": "407GKKV_hWjg"
      },
      "source": [
        "<hr>\n"
      ]
    },
    {
      "cell_type": "markdown",
      "metadata": {
        "id": "RxDcFIWkhWjh"
      },
      "source": [
        "<a id=\"ref2\"></a>\n",
        "\n",
        "<h3>RBM layers</h3>\n",
        "\n",
        "An RBM has two layers. The first layer of the RBM is called the <b>visible</b> (or input layer). Imagine that our toy example, has only vectors with 7 values, so the visible layer must have $V=7$ input nodes.\n",
        "The second layer is the <b>hidden</b> layer, which has $H$ neurons in our case. Each hidden node takes on values of either 0 or 1 (i.e., $h_i = 1$ or $h_i$ = 0), with a probability that is a logistic function of the inputs it receives from the other $V$ visible units, called for example, $p(h_i = 1)$. For our toy sample, we'll use 2 nodes in the hidden layer, so $H = 2$.\n",
        "\n",
        "<center><img src=\"https://ibm.box.com/shared/static/eu26opvcefgls6vnwuo29uwp0nudmokh.png\" alt=\"RBM Model\" style=\"width: 400px;\"></center>\n"
      ]
    },
    {
      "cell_type": "markdown",
      "metadata": {
        "id": "-THfPmXMhWjj"
      },
      "source": [
        "Each node in the first layer also has a <b>bias</b>. We will denote the bias as $v\\_{bias}$, and this single value is shared among the $V$ visible units.\n",
        "\n",
        "The <b>bias</b> of the second is defined similarly as $h\\_{bias}$, and this single value among the $H$ hidden units.\n"
      ]
    },
    {
      "cell_type": "code",
      "execution_count": 6,
      "metadata": {
        "id": "tyS4UHp0hWjk"
      },
      "outputs": [],
      "source": [
        "v_bias = tf.Variable(tf.zeros([7]), tf.float32)\n",
        "h_bias = tf.Variable(tf.zeros([2]), tf.float32)"
      ]
    },
    {
      "cell_type": "markdown",
      "metadata": {
        "id": "rV4uLUGnhWjn"
      },
      "source": [
        "We have to define weights among the input layer and hidden layer nodes. In the weight matrix, the number of rows are equal to the input nodes, and the number of columns are equal to the output nodes. We define a tensor $\\mathbf{W}$ of shape = (7,2), where the number of visible neurons = 7, and the number of hidden neurons = 2.\n"
      ]
    },
    {
      "cell_type": "code",
      "execution_count": 7,
      "metadata": {
        "id": "eo5DS-yAhWjo"
      },
      "outputs": [],
      "source": [
        "W = tf.constant(np.random.normal(loc=0.0, scale=1.0, size=(7, 2)).astype(np.float32))"
      ]
    },
    {
      "cell_type": "markdown",
      "metadata": {
        "id": "6-V-6J7OhWjp"
      },
      "source": [
        "<hr>\n"
      ]
    },
    {
      "cell_type": "markdown",
      "metadata": {
        "id": "h8ezg48jhWjq"
      },
      "source": [
        "<a id=\"ref3\"></a>\n",
        "\n",
        "<h3>What RBM can do after training?</h3>\n",
        "Think of RBM as a model that has been trained based on images of a dataset of many SUV and sedan cars. Also, imagine that the RBM network has only two hidden nodes, where one node encodes the weight and, and the other encodes the size.  \n",
        "In a sense, the different configurations represent different cars, where one is an SUV and the other is Sedan.  In a training process, through many forward and backward passes, the RBM adjust its weights to send a stronger signal to either the SUV node (0, 1) or the sedan node (1, 0) in the hidden layer, given the pixels of images. Now, given an SUV in hidden layer, which distribution of pixels should we expect? RBM can give you 2 things. First, it encodes your images in hidden layer. Second, it gives you the probability of observing a case, given some hidden values.\n",
        "\n",
        "<h3>The Inference Process</h3>\n",
        "\n",
        "RBM has two phases:\n",
        "\n",
        "<ul>\n",
        "    <li>Forward Pass</li>  \n",
        "    <li>Backward Pass or Reconstruction</li>\n",
        "</ul>\n",
        "\n",
        "<b>Phase 1) Forward pass:</b>\n",
        "\n",
        "Input one training sample (one image) $\\mathbf{x}$ through all visible nodes, and pass it to all hidden nodes. Processing happens in each node in the hidden layer. This computation begins by making stochastic decisions about whether to transmit that input or not (i.e. to determine the state of each hidden layer).  First, the probability vector is computed using the input feature vector $\\mathbf{x}$, the weight matrix $\\mathbf{W}$, and the bias term $h\\_{bias}$, as\n",
        "\n",
        "$$p({h_j}|\\mathbf x)= \\sigma( \\sum\\_{i=1}^V W\\_{ij} x_i + h\\_{bias} )$$,\n",
        "\n",
        "where $\\sigma(z) = (1+e^{-z})^{-1}$ is the logistic function.\n",
        "\n",
        "So, what does $p({h_j})$ represent? It is the <b>probability distribution</b> of the hidden units. That is, RBM uses inputs $x_i$ to make predictions about hidden node activations. For example, imagine that the hidden node activation values are \\[0.51 0.84] for the first training item. It tells you that the conditional probability for each hidden neuron for Phase 1 is:\n",
        "\n",
        "$$p(h\\_{1} = 1|\\mathbf{v}) = 0.51$$\n",
        "$$p(h\\_{2} = 1|\\mathbf{v}) = 0.84$$\n",
        "\n",
        "As a result, for each row in the training set, vector of probabilities is generated.  In TensorFlow, this is referred to as a `tensor` with a shape of (1,2).\n",
        "\n",
        "We then turn unit $j$ with probability $p(h\\_{j}|\\mathbf{v})$, and turn it off with probability $1 - p(h\\_{j}|\\mathbf{v})$ by generating a uniform random number vector $\\mathbf{\\xi}$, and comparing it to the activation probability as\n",
        "\n",
        "<center>If $\\xi_j>p(h_{j}|\\mathbf{v})$, then $h_j=1$, else $h_j=0$.</center>\n",
        "\n",
        "Therefore, the conditional probability of a configuration of $\\mathbf{h}$ given $\\mathbf{v}$ (for a training sample) is:\n",
        "\n",
        "$$p(\\mathbf{h} \\mid \\mathbf{v}) = \\prod\\_{j=1}^H p(h_j \\mid \\mathbf{v})$$\n",
        "\n",
        "where $H$ is the number of hidden units.\n"
      ]
    },
    {
      "cell_type": "markdown",
      "metadata": {
        "id": "pHOSRk9ShWjy"
      },
      "source": [
        "Before we go further, let's look at a toy example for one case out of all input. Assume that we have a trained RBM, and a very simple input vector, such as \\[1.0, 0.0, 0.0, 1.0, 0.0, 0.0, 0.0].\\\n",
        "Let's see what the output of forward pass would look like:\n"
      ]
    },
    {
      "cell_type": "code",
      "execution_count": 8,
      "metadata": {
        "colab": {
          "base_uri": "https://localhost:8080/"
        },
        "id": "cId34-1UhWjy",
        "outputId": "145cfe8d-1448-416a-fdb0-58d06844e655"
      },
      "outputs": [
        {
          "output_type": "stream",
          "name": "stdout",
          "text": [
            "Input:  tf.Tensor([[1. 0. 0. 1. 0. 0. 0.]], shape=(1, 7), dtype=float32)\n",
            "hb:  tf.Tensor([0.1 0.1], shape=(2,), dtype=float32)\n",
            "w:  tf.Tensor(\n",
            "[[ 1.4960376   0.68812525]\n",
            " [ 0.7288228  -1.3684726 ]\n",
            " [-0.3182703  -0.1457826 ]\n",
            " [-0.4358118   1.061414  ]\n",
            " [-0.41424394  1.2595321 ]\n",
            " [ 1.2769737  -1.3871475 ]\n",
            " [ 1.0684797   0.9411896 ]], shape=(7, 2), dtype=float32)\n",
            "p(h|v):  tf.Tensor([[0.76137376 0.864073  ]], shape=(1, 2), dtype=float32)\n",
            "h0 states: tf.Tensor([[1. 1.]], shape=(1, 2), dtype=float32)\n"
          ]
        }
      ],
      "source": [
        "X = tf.constant([[1.0, 0.0, 0.0, 1.0, 0.0, 0.0, 0.0]], tf.float32)\n",
        "\n",
        "v_state = X\n",
        "print (\"Input: \", v_state)\n",
        "\n",
        "h_bias = tf.constant([0.1, 0.1])\n",
        "print (\"hb: \", h_bias)\n",
        "print (\"w: \", W)\n",
        "\n",
        "# Calculate the probabilities of turning the hidden units on:\n",
        "h_prob = tf.nn.sigmoid(tf.matmul(v_state, W) + h_bias)  #probabilities of the hidden units\n",
        "print (\"p(h|v): \", h_prob)\n",
        "\n",
        "# Draw samples from the distribution:\n",
        "h_state = tf.nn.relu(tf.sign(h_prob - tf.random.uniform(tf.shape(h_prob)))) #states\n",
        "print (\"h0 states:\", h_state)"
      ]
    },
    {
      "cell_type": "markdown",
      "metadata": {
        "id": "nH7f1xouhWjz"
      },
      "source": [
        "<b>Phase 2) Backward Pass (Reconstruction):</b>\n",
        "The RBM reconstructs data by making several forward and backward passes between the visible and hidden layers.\n",
        "\n",
        "So, in the second phase (i.e. reconstruction phase), the samples from the hidden layer (i.e. $\\mathbf h$) becomes the input in the backward pass. The same weight matrix and visible layer biases are used to passed to the sigmoid function. The reproduced output is a reconstruction which is an approximation of the original input.\n"
      ]
    },
    {
      "cell_type": "code",
      "execution_count": 9,
      "metadata": {
        "colab": {
          "base_uri": "https://localhost:8080/"
        },
        "id": "xiazzQ-uhWj1",
        "outputId": "45822f48-8bb0-4637-c76e-4454045723ff"
      },
      "outputs": [
        {
          "output_type": "stream",
          "name": "stdout",
          "text": [
            "b:  tf.Tensor([0.1 0.2 0.1 0.1 0.1 0.2 0.1], shape=(7,), dtype=float32)\n",
            "p(vi∣h):  tf.Tensor(\n",
            "[[0.9075569  0.39182442 0.40997884 0.67383945 0.7201666  0.52244145\n",
            "  0.89183944]], shape=(1, 7), dtype=float32)\n",
            "v probability states:  tf.Tensor([[0. 0. 0. 1. 1. 1. 1.]], shape=(1, 7), dtype=float32)\n"
          ]
        }
      ],
      "source": [
        "vb = tf.constant([0.1, 0.2, 0.1, 0.1, 0.1, 0.2, 0.1])\n",
        "print (\"b: \", vb)\n",
        "v_prob = tf.nn.sigmoid(tf.matmul(h_state, tf.transpose(W)) + vb)\n",
        "print (\"p(vi∣h): \", v_prob)\n",
        "v_state = tf.nn.relu(tf.sign(v_prob - tf.random.uniform(tf.shape(v_prob))))\n",
        "print (\"v probability states: \", v_state)"
      ]
    },
    {
      "cell_type": "markdown",
      "metadata": {
        "id": "nsOHRAABhWj2"
      },
      "source": [
        "RBM learns a probability distribution over the input, and then, after being trained, the RBM can generate new samples from the learned probability distribution. As you know, <b>probability distribution</b>, is a mathematical function that provides the probabilities of occurrence of different possible outcomes in an experiment.\n",
        "\n",
        "The (conditional) probability distribution over the visible units v is given by\n",
        "\n",
        "$$p(\\mathbf{v} \\mid \\mathbf{h}) = \\prod\\_{i=1}^V p(v_i \\mid \\mathbf{h}),$$\n",
        "\n",
        "where,\n",
        "\n",
        "$$p(v_i \\mid \\mathbf{h}) = \\sigma\\left(\\sum\\_{j=1}^H W\\_{ji} h_j + v\\_{bias} \\right)$$\n",
        "\n",
        "so, given current state of hidden units and weights, what is the probability of generating \\[1. 0. 0. 1. 0. 0. 0.] in reconstruction phase, based on the above <b>probability distribution</b> function?\n"
      ]
    },
    {
      "cell_type": "code",
      "execution_count": 10,
      "metadata": {
        "colab": {
          "base_uri": "https://localhost:8080/"
        },
        "id": "pnwIMc9ChWj3",
        "outputId": "dd4a770a-49f7-4d08-ffd9-b6dbe02427d9"
      },
      "outputs": [
        {
          "output_type": "stream",
          "name": "stdout",
          "text": [
            "input X: [[1. 0. 0. 1. 0. 0. 0.]]\n",
            "probablity vector: [0.9075569  0.39182442 0.40997884 0.67383945 0.7201666  0.52244145\n",
            " 0.89183944]\n",
            "probability of generating X:  0.0031719173\n"
          ]
        }
      ],
      "source": [
        "inp = X\n",
        "print(\"input X:\" , inp.numpy())\n",
        "\n",
        "print(\"probablity vector:\" , v_prob[0].numpy())\n",
        "v_probability = 1\n",
        "\n",
        "for elm, p in zip(inp[0],v_prob[0]) :\n",
        "    if elm ==1:\n",
        "        v_probability *= p\n",
        "    else:\n",
        "        v_probability *= (1-p)\n",
        "\n",
        "print(\"probability of generating X: \" , v_probability.numpy())"
      ]
    },
    {
      "cell_type": "markdown",
      "metadata": {
        "id": "5NVcS9WRhWj4"
      },
      "source": [
        "How similar are vectors $\\mathbf{x}$ and $\\mathbf{v}$? Of course, the reconstructed values most likely will not look anything like the input vector, because our network has not been trained yet. Our objective is to train the model in such a way that the input vector and reconstructed vector to be same. Therefore, based on how different the input values look to the ones that we just reconstructed, the weights are adjusted.\n"
      ]
    },
    {
      "cell_type": "markdown",
      "metadata": {
        "id": "A77JwCIThWj5"
      },
      "source": [
        "<hr>\n"
      ]
    },
    {
      "cell_type": "markdown",
      "metadata": {
        "id": "eT1WJZ5AhWj6"
      },
      "source": [
        "<h2>MNIST</h2>\n"
      ]
    },
    {
      "cell_type": "markdown",
      "metadata": {
        "id": "f6wjvNTfhWj6"
      },
      "source": [
        "We will be using the MNIST dataset to practice the usage of RBMs. The following cell loads the MNIST dataset.\n"
      ]
    },
    {
      "cell_type": "code",
      "execution_count": 11,
      "metadata": {
        "colab": {
          "base_uri": "https://localhost:8080/"
        },
        "id": "eWLyKRqWhWj7",
        "outputId": "155ceab1-3c8f-4ee3-c73b-ea790451c8e2"
      },
      "outputs": [
        {
          "output_type": "stream",
          "name": "stdout",
          "text": [
            "Downloading data from https://storage.googleapis.com/tensorflow/tf-keras-datasets/mnist.npz\n",
            "11493376/11490434 [==============================] - 0s 0us/step\n"
          ]
        }
      ],
      "source": [
        "#loading training and test data\n",
        "mnist = tf.keras.datasets.mnist\n",
        "(trX, trY), (teX, teY) = mnist.load_data()\n",
        "\n",
        "# showing an example of the Flatten class and operation\n",
        "from tensorflow.keras.layers import Flatten\n",
        "flatten = Flatten(dtype='float32')\n",
        "trX = flatten(trX/255.0)\n",
        "trY = flatten(trY/255.0)"
      ]
    },
    {
      "cell_type": "markdown",
      "metadata": {
        "id": "MSZ7RhkzhWj8"
      },
      "source": [
        "Lets look at the dimension of the images.\n"
      ]
    },
    {
      "cell_type": "markdown",
      "metadata": {
        "id": "yqJI01PxhWj8"
      },
      "source": [
        "MNIST images have 784 pixels, so the visible layer must have 784 input nodes.  For our case, we'll use 50 nodes in the hidden layer, so i = 50.\n"
      ]
    },
    {
      "cell_type": "code",
      "execution_count": 12,
      "metadata": {
        "collapsed": true,
        "jupyter": {
          "outputs_hidden": true
        },
        "id": "2lqkPX5ohWj9"
      },
      "outputs": [],
      "source": [
        "vb = tf.Variable(tf.zeros([784]), tf.float32)\n",
        "hb = tf.Variable(tf.zeros([50]), tf.float32)"
      ]
    },
    {
      "cell_type": "markdown",
      "metadata": {
        "id": "fQugZtXehWj-"
      },
      "source": [
        "Let $\\mathbf W$ be the Tensor of 784x50 (784 - number of visible neurons, 50 - number of hidden neurons) that represents weights between the neurons.\n"
      ]
    },
    {
      "cell_type": "code",
      "execution_count": 13,
      "metadata": {
        "collapsed": true,
        "jupyter": {
          "outputs_hidden": true
        },
        "id": "CkfzU6nfhWj_"
      },
      "outputs": [],
      "source": [
        "W = tf.Variable(tf.zeros([784,50]), tf.float32)"
      ]
    },
    {
      "cell_type": "markdown",
      "metadata": {
        "id": "_FtTO2DahWkA"
      },
      "source": [
        "Lets define the visible layer:\n"
      ]
    },
    {
      "cell_type": "code",
      "execution_count": 14,
      "metadata": {
        "colab": {
          "base_uri": "https://localhost:8080/"
        },
        "id": "dgDNCvFihWkA",
        "outputId": "22f03700-fdb8-4b18-8435-31ab0274572d"
      },
      "outputs": [
        {
          "output_type": "execute_result",
          "data": {
            "text/plain": [
              "<tf.Tensor: shape=(1, 50), dtype=float32, numpy=\n",
              "array([[0., 0., 0., 0., 0., 0., 0., 0., 0., 0., 0., 0., 0., 0., 0., 0.,\n",
              "        0., 0., 0., 0., 0., 0., 0., 0., 0., 0., 0., 0., 0., 0., 0., 0.,\n",
              "        0., 0., 0., 0., 0., 0., 0., 0., 0., 0., 0., 0., 0., 0., 0., 0.,\n",
              "        0., 0.]], dtype=float32)>"
            ]
          },
          "metadata": {},
          "execution_count": 14
        }
      ],
      "source": [
        "v0_state = tf.Variable(tf.zeros([784]), tf.float32)\n",
        "\n",
        "#testing to see if the matrix product works\n",
        "tf.matmul( [v0_state], W)"
      ]
    },
    {
      "cell_type": "markdown",
      "metadata": {
        "id": "JMu4qoKahWkB"
      },
      "source": [
        "Now, we can define hidden layer:\n"
      ]
    },
    {
      "cell_type": "code",
      "execution_count": 15,
      "metadata": {
        "colab": {
          "base_uri": "https://localhost:8080/"
        },
        "id": "cz5PYyTwhWkC",
        "outputId": "a8c61c49-1c66-42ea-811e-6cacd3e0ea15"
      },
      "outputs": [
        {
          "output_type": "stream",
          "name": "stdout",
          "text": [
            "h0_state shape:  tf.Tensor([ 1 50], shape=(2,), dtype=int32)\n",
            "first 15 hidden states:  tf.Tensor([0. 0. 1. 0. 0. 0. 1. 1. 1. 0. 1. 0. 1. 1. 0.], shape=(15,), dtype=float32)\n"
          ]
        }
      ],
      "source": [
        "#computing the hidden nodes probability vector and checking shape\n",
        "h0_prob = tf.nn.sigmoid(tf.matmul([v0_state], W) + hb)  #probabilities of the hidden units\n",
        "print(\"h0_state shape: \" , tf.shape(h0_prob))\n",
        "\n",
        "#defining a function to return only the generated hidden states \n",
        "def hidden_layer(v0_state, W, hb):\n",
        "    h0_prob = tf.nn.sigmoid(tf.matmul([v0_state], W) + hb)  #probabilities of the hidden units\n",
        "    h0_state = tf.nn.relu(tf.sign(h0_prob - tf.random.uniform(tf.shape(h0_prob)))) #sample_h_given_X\n",
        "    return h0_state\n",
        "\n",
        "\n",
        "h0_state = hidden_layer(v0_state, W, hb)\n",
        "print(\"first 15 hidden states: \", h0_state[0][0:15])"
      ]
    },
    {
      "cell_type": "markdown",
      "metadata": {
        "id": "U_lFYLJRhWkD"
      },
      "source": [
        "Now, we define reconstruction part:\n"
      ]
    },
    {
      "cell_type": "code",
      "execution_count": 16,
      "metadata": {
        "colab": {
          "base_uri": "https://localhost:8080/"
        },
        "id": "NBcy2H89hWkD",
        "outputId": "2e3ef615-e278-40bb-b2f5-b227cbdd068f"
      },
      "outputs": [
        {
          "output_type": "stream",
          "name": "stdout",
          "text": [
            "hidden state shape:  (1, 50)\n",
            "v0 state shape:   (784,)\n",
            "v1 state shape:   (784,)\n"
          ]
        }
      ],
      "source": [
        "def reconstructed_output(h0_state, W, vb):\n",
        "    v1_prob = tf.nn.sigmoid(tf.matmul(h0_state, tf.transpose(W)) + vb) \n",
        "    v1_state = tf.nn.relu(tf.sign(v1_prob - tf.random.uniform(tf.shape(v1_prob)))) #sample_v_given_h\n",
        "    return v1_state[0]\n",
        "\n",
        "v1_state = reconstructed_output(h0_state, W, vb)\n",
        "print(\"hidden state shape: \", h0_state.shape)\n",
        "print(\"v0 state shape:  \", v0_state.shape)\n",
        "print(\"v1 state shape:  \", v1_state.shape)"
      ]
    },
    {
      "cell_type": "markdown",
      "metadata": {
        "id": "0Pntrf8ThWkE"
      },
      "source": [
        "<h3>What is the objective function?</h3>\n",
        "\n",
        "<b>Goal</b>: Maximize the likelihood of our data being drawn from that distribution\n",
        "\n",
        "<b>Calculate error:</b>\\\n",
        "In each epoch, we compute the \"error\" as a sum of the squared difference between step 1 and step n,\n",
        "e.g the error shows the difference between the data and its reconstruction.\n",
        "\n",
        "<b>Note:</b> tf.reduce_mean computes the mean of elements across dimensions of a tensor.\n"
      ]
    },
    {
      "cell_type": "code",
      "execution_count": 17,
      "metadata": {
        "colab": {
          "base_uri": "https://localhost:8080/"
        },
        "id": "gzfaL-b0hWkG",
        "outputId": "25cfdf6d-a9f2-4798-c1e6-7b35c45265a7"
      },
      "outputs": [
        {
          "output_type": "stream",
          "name": "stdout",
          "text": [
            "error 0.5089286\n"
          ]
        }
      ],
      "source": [
        "def error(v0_state, v1_state):\n",
        "    return tf.reduce_mean(tf.square(v0_state - v1_state))\n",
        "\n",
        "err = tf.reduce_mean(tf.square(v0_state - v1_state))\n",
        "print(\"error\" , err.numpy())"
      ]
    },
    {
      "cell_type": "markdown",
      "metadata": {
        "id": "Whw-qbuVhWkG"
      },
      "source": [
        "<a id=\"ref4\"></a>\n",
        "\n",
        "<h3>Training the Model</h3>\n",
        "<b>Warning...</b> The following part is math-heavy, but you can skip it if you just want to run the cells in the next section.\n",
        "\n",
        "As mentioned, we want to give a high probability to the input data we train on. So, in order to train an RBM, we have to maximize the product of probabilities assigned to all rows $\\mathbf{v}$ (images) in the training set $\\mathbf{V}$ (a matrix, where each row of it is treated as a visible vector $\\mathbf{v}$)\n",
        "\n",
        "$$\\arg \\max_W \\prod\\_{\\mathbf{v}\\in\\mathbf{V}\\_T} p(\\mathbf{v})$$\n",
        "\n",
        "which is equivalent to maximizing the expectation of the log probability, given as\n",
        "\n",
        "$$\\arg\\max_W\\left\\[ \\mathbb{E} \\left(\\prod\\_{\\mathbf v\\in \\mathbf V}\\text{log} \\left(p(\\mathbf v)\\right) \\right) \\right].$$\n",
        "\n",
        "So, we have to update the weights $W\\_{ij}$  to increase $p(\\mathbf{v})$ for all $\\mathbf{v}$ in our training data during training. So we have to calculate the derivative:\n",
        "\n",
        "$$\\frac{\\partial \\log p(\\mathbf v)}{\\partial W\\_{ij}}$$\n",
        "\n",
        "This cannot be easily done by typical <b>gradient descent (SGD)</b>, so we can use another approach, which has 2 steps:\n",
        "\n",
        "<ol>\n",
        "    <li>Gibbs Sampling</li>\n",
        "    <li>Contrastive Divergence</li>\n",
        "</ol>    \n",
        "\n",
        "<h3>Gibbs Sampling</h3>   \n",
        "\n",
        "<h4>Gibbs Sampling Step 1</h4> \n",
        "Given an input vector $\\mathbf{v}$, we are using $p(\\mathbf{h}|\\mathbf{v})$ to predict the hidden values $\\mathbf{h}$. \n",
        "  $$p({h_j}|\\mathbf v)= \\sigma\\left(\\sum_{i=1}^V W_{ij} v_i + h_{bias} \\right)$$\n",
        "The samples are generated from this distribution by generating the uniform random variate vector $\\mathbf{\\xi} \\sim U[0,1]$ of length $H$ and comparing to the computed probabilities as\n",
        "\n",
        "<center>If $\\xi_j>p(h_{j}|\\mathbf{v})$, then $h_j=1$, else $h_j=0$.</center>\n",
        "\n",
        "<h4>Gibbs Sampling Step 2</h4> \n",
        "Then, knowing the hidden values, we use $p(\\mathbf v| \\mathbf h)$ for reconstructing of new input values v. \n",
        "\n",
        "$$p({v_i}|\\mathbf h)= \\sigma\\left(\\sum\\_{j=1}^H W^{T}*{ij} h_j + v*{bias} \\right)$$\n",
        "\n",
        "The samples are generated from this distribution by generating a uniform random variate vector $\\mathbf{\\xi} \\sim U\\[0,1]$ of length $V$ and comparing to the computed probabilities as\n",
        "\n",
        "<center>If $\\xi_i>p(v_{i}|\\mathbf{h})$, then $v_i=1$, else $v_i=0$.</center>\n",
        "\n",
        "Let vectors $\\mathbf v_k$ and $\\mathbf h_k$ be for the $k$th iteration.  In general, the $kth$ state is generrated as:\n",
        "\n",
        "<b>Iteration</b> $k$:\n",
        "\n",
        "$$\\mathbf v\\_{k-1} \\Rightarrow p(\\mathbf h\\_{k-1}|\\mathbf v\\_{k-1})\\Rightarrow \\mathbf h\\_{k-1}\\Rightarrow p(\\mathbf v\\_{k}|\\mathbf h\\_{k-1})\\Rightarrow \\mathbf v_k$$\n",
        "\n",
        "<h3>Contrastive Divergence (CD-k)</h3>\n",
        "The update of the weight matrix is done during the Contrastive Divergence step. \n",
        "\n",
        "Vectors v0 and vk are used to calculate the activation probabilities for hidden values h0 and hk. The difference between the outer products of those probabilities with input vectors v0 and vk results in the update matrix:\n",
        "\n",
        "$$\\Delta \\mathbf W_k =\\mathbf v_k \\otimes \\mathbf h_k - \\mathbf v\\_{k-1} \\otimes \\mathbf h\\_{k-1}$$\n",
        "\n",
        "Contrastive Divergence is actually matrix of values that is computed and used to adjust values of the $\\mathbf W$ matrix. Changing $\\mathbf W$ incrementally leads to training of the  $\\mathbf W$ values. Then, on each step (epoch), $\\mathbf W$ is updated using the following:\n",
        "\n",
        "$$\\mathbf W_k = \\mathbf W\\_{k-1} + \\alpha \\* \\Delta \\mathbf W_k$$\n",
        "\n",
        "Reconstruction steps:\n",
        "\n",
        "<ul>\n",
        "    <li> Get one data point from data set, like <i>x</i>, and pass it through the following steps:</li>\n",
        "\n",
        "<b>Iteration</b> $k=1$:\n",
        "\n",
        "Sampling (starting with input image)\n",
        "$$\\mathbf x = \\mathbf v\\_0 \\Rightarrow p(\\mathbf h\\_0|\\mathbf v\\_0)\\Rightarrow \\mathbf h\\_0 \\Rightarrow p(\\mathbf v\\_1|\\mathbf h\\_0)\\Rightarrow \\mathbf v\\_1$$\\\n",
        "followed by the CD-k step\n",
        "$$\\Delta \\mathbf W\\_1 =\\mathbf v\\_1 \\otimes \\mathbf h\\_1 - \\mathbf v\\_{0} \\otimes \\mathbf h\\_{0}$$\\\n",
        "$$\\mathbf W\\_1 = \\mathbf W\\_{0} + \\alpha \\* \\Delta \\mathbf W\\_1$$\n",
        "\n",
        "<li> $\\mathbf v_1$ is the reconstruction of $\\mathbf x$ sent to the next iteration).</li>\n",
        "\n",
        "<b>Iteration</b> $k=2$:\n",
        "\n",
        "Sampling (starting with $\\mathbf v\\_1$)\n",
        "\n",
        "$$\\mathbf v\\_1 \\Rightarrow p(\\mathbf h\\_1|\\mathbf v\\_1)\\Rightarrow \\mathbf h\\_1\\Rightarrow p(\\mathbf v\\_2|\\mathbf h\\_1)\\Rightarrow \\mathbf v\\_2$$\n",
        "\n",
        "followed by the CD-k step\n",
        "$$\\Delta \\mathbf W\\_2 =\\mathbf v\\_2 \\otimes \\mathbf h\\_2 - \\mathbf v\\_{1} \\otimes \\mathbf h\\_{1}$$\\\n",
        "$$\\mathbf W\\_2 = \\mathbf W\\_{1} + \\alpha \\* \\Delta \\mathbf W\\_2$$\n",
        "\n",
        "<li> $\\mathbf v_2$ is the reconstruction of $\\mathbf v_1$ sent to the next iteration).</li>    \n",
        "\n",
        "<b>Iteration</b> $k=K$:\n",
        "\n",
        "Sampling (starting with $\\mathbf v\\_{K-1}$)\n",
        "\n",
        "$$\\mathbf v\\_{K-1} \\Rightarrow p(\\mathbf h\\_{K-1}|\\mathbf v\\_{K-1})\\Rightarrow \\mathbf h\\_{K-1}\\Rightarrow p(\\mathbf v_K|\\mathbf h\\_{K-1})\\Rightarrow \\mathbf v_K$$\n",
        "\n",
        "followed by the CD-k step\n",
        "$$\\Delta \\mathbf W_K =\\mathbf v_K \\otimes \\mathbf h_K - \\mathbf v\\_{K-1} \\otimes \\mathbf h\\_{K-1}$$\\\n",
        "$$\\mathbf W_K = \\mathbf W\\_{K-1} + \\alpha \\* \\Delta \\mathbf W_K$$\n",
        "\n",
        "<b>What is $\\alpha$?</b>\\\n",
        "Here, alpha is some small step size, and is also known as the \"learning rate\".\n"
      ]
    },
    {
      "cell_type": "markdown",
      "metadata": {
        "id": "Y6ItqTeyhWkI"
      },
      "source": [
        "$K$ is adjustable, and good performance can be achieved with $K=1$, so that we just take one set of sampling steps per image.\n"
      ]
    },
    {
      "cell_type": "code",
      "execution_count": 18,
      "metadata": {
        "id": "2xtvtNWUhWkJ"
      },
      "outputs": [],
      "source": [
        "h1_prob = tf.nn.sigmoid(tf.matmul([v1_state], W) + hb)\n",
        "h1_state = tf.nn.relu(tf.sign(h1_prob - tf.random.uniform(tf.shape(h1_prob)))) #sample_h_given_X"
      ]
    },
    {
      "cell_type": "markdown",
      "metadata": {
        "id": "zbEXo700hWkJ"
      },
      "source": [
        "Lets look at the error of the first run:\n"
      ]
    },
    {
      "cell_type": "code",
      "execution_count": 20,
      "metadata": {
        "colab": {
          "base_uri": "https://localhost:8080/"
        },
        "id": "svrUqGTQhWkK",
        "outputId": "ed4e4411-d295-411d-e835-06bbd60f9bea"
      },
      "outputs": [
        {
          "output_type": "stream",
          "name": "stdout",
          "text": [
            "error:  tf.Tensor(0.5089286, shape=(), dtype=float32)\n"
          ]
        }
      ],
      "source": [
        "print(\"error: \", error(v0_state, v1_state))"
      ]
    },
    {
      "cell_type": "code",
      "execution_count": 21,
      "metadata": {
        "colab": {
          "base_uri": "https://localhost:8080/"
        },
        "id": "2ntGDRl1hWkL",
        "outputId": "3b0688bf-00a8-4bf4-ab4d-f9b9bd139615"
      },
      "outputs": [
        {
          "output_type": "stream",
          "name": "stdout",
          "text": [
            "Epoch: 0 batch #: 1  of 300 sample #: 199 reconstruction error: 0.175578\n",
            "Epoch: 0 batch #: 2  of 300 sample #: 199 reconstruction error: 0.199993\n",
            "Epoch: 0 batch #: 3  of 300 sample #: 199 reconstruction error: 0.126682\n",
            "Epoch: 0 batch #: 4  of 300 sample #: 199 reconstruction error: 0.125611\n",
            "Epoch: 0 batch #: 5  of 300 sample #: 199 reconstruction error: 0.103409\n",
            "Epoch: 0 batch #: 6  of 300 sample #: 199 reconstruction error: 0.196308\n",
            "Epoch: 0 batch #: 7  of 300 sample #: 199 reconstruction error: 0.097537\n",
            "Epoch: 0 batch #: 8  of 300 sample #: 199 reconstruction error: 0.106859\n",
            "Epoch: 0 batch #: 9  of 300 sample #: 199 reconstruction error: 0.108486\n",
            "Epoch: 0 batch #: 10  of 300 sample #: 199 reconstruction error: 0.176881\n",
            "Epoch: 0 batch #: 11  of 300 sample #: 199 reconstruction error: 0.086079\n",
            "Epoch: 0 batch #: 12  of 300 sample #: 199 reconstruction error: 0.137041\n",
            "Epoch: 0 batch #: 13  of 300 sample #: 199 reconstruction error: 0.063988\n",
            "Epoch: 0 batch #: 14  of 300 sample #: 199 reconstruction error: 0.097390\n",
            "Epoch: 0 batch #: 15  of 300 sample #: 199 reconstruction error: 0.099445\n",
            "Epoch: 0 batch #: 16  of 300 sample #: 199 reconstruction error: 0.110604\n",
            "Epoch: 0 batch #: 17  of 300 sample #: 199 reconstruction error: 0.068090\n",
            "Epoch: 0 batch #: 18  of 300 sample #: 199 reconstruction error: 0.145655\n",
            "Epoch: 0 batch #: 19  of 300 sample #: 199 reconstruction error: 0.148429\n",
            "Epoch: 0 batch #: 20  of 300 sample #: 199 reconstruction error: 0.097224\n",
            "Epoch: 0 batch #: 21  of 300 sample #: 199 reconstruction error: 0.076278\n",
            "Epoch: 0 batch #: 22  of 300 sample #: 199 reconstruction error: 0.076078\n",
            "Epoch: 0 batch #: 23  of 300 sample #: 199 reconstruction error: 0.106463\n",
            "Epoch: 0 batch #: 24  of 300 sample #: 199 reconstruction error: 0.124744\n",
            "Epoch: 0 batch #: 25  of 300 sample #: 199 reconstruction error: 0.080217\n",
            "Epoch: 0 batch #: 26  of 300 sample #: 199 reconstruction error: 0.109721\n",
            "Epoch: 0 batch #: 27  of 300 sample #: 199 reconstruction error: 0.119752\n",
            "Epoch: 0 batch #: 28  of 300 sample #: 199 reconstruction error: 0.077193\n",
            "Epoch: 0 batch #: 29  of 300 sample #: 199 reconstruction error: 0.091812\n",
            "Epoch: 0 batch #: 30  of 300 sample #: 199 reconstruction error: 0.067600\n",
            "Epoch: 0 batch #: 31  of 300 sample #: 199 reconstruction error: 0.099097\n",
            "Epoch: 0 batch #: 32  of 300 sample #: 199 reconstruction error: 0.123331\n",
            "Epoch: 0 batch #: 33  of 300 sample #: 199 reconstruction error: 0.065545\n",
            "Epoch: 0 batch #: 34  of 300 sample #: 199 reconstruction error: 0.075475\n",
            "Epoch: 0 batch #: 35  of 300 sample #: 199 reconstruction error: 0.074075\n",
            "Epoch: 0 batch #: 36  of 300 sample #: 199 reconstruction error: 0.094648\n",
            "Epoch: 0 batch #: 37  of 300 sample #: 199 reconstruction error: 0.071457\n",
            "Epoch: 0 batch #: 38  of 300 sample #: 199 reconstruction error: 0.056147\n",
            "Epoch: 0 batch #: 39  of 300 sample #: 199 reconstruction error: 0.098024\n",
            "Epoch: 0 batch #: 40  of 300 sample #: 199 reconstruction error: 0.121508\n",
            "Epoch: 0 batch #: 41  of 300 sample #: 199 reconstruction error: 0.068699\n",
            "Epoch: 0 batch #: 42  of 300 sample #: 199 reconstruction error: 0.069256\n",
            "Epoch: 0 batch #: 43  of 300 sample #: 199 reconstruction error: 0.127810\n",
            "Epoch: 0 batch #: 44  of 300 sample #: 199 reconstruction error: 0.068689\n",
            "Epoch: 0 batch #: 45  of 300 sample #: 199 reconstruction error: 0.061092\n",
            "Epoch: 0 batch #: 46  of 300 sample #: 199 reconstruction error: 0.028455\n",
            "Epoch: 0 batch #: 47  of 300 sample #: 199 reconstruction error: 0.035063\n",
            "Epoch: 0 batch #: 48  of 300 sample #: 199 reconstruction error: 0.042857\n",
            "Epoch: 0 batch #: 49  of 300 sample #: 199 reconstruction error: 0.121232\n",
            "Epoch: 0 batch #: 50  of 300 sample #: 199 reconstruction error: 0.041564\n",
            "Epoch: 0 batch #: 51  of 300 sample #: 199 reconstruction error: 0.066972\n",
            "Epoch: 0 batch #: 52  of 300 sample #: 199 reconstruction error: 0.045604\n",
            "Epoch: 0 batch #: 53  of 300 sample #: 199 reconstruction error: 0.109298\n",
            "Epoch: 0 batch #: 54  of 300 sample #: 199 reconstruction error: 0.046032\n",
            "Epoch: 0 batch #: 55  of 300 sample #: 199 reconstruction error: 0.113361\n",
            "Epoch: 0 batch #: 56  of 300 sample #: 199 reconstruction error: 0.053564\n",
            "Epoch: 0 batch #: 57  of 300 sample #: 199 reconstruction error: 0.047164\n",
            "Epoch: 0 batch #: 58  of 300 sample #: 199 reconstruction error: 0.074077\n",
            "Epoch: 0 batch #: 59  of 300 sample #: 199 reconstruction error: 0.054090\n",
            "Epoch: 0 batch #: 60  of 300 sample #: 199 reconstruction error: 0.092864\n",
            "Epoch: 0 batch #: 61  of 300 sample #: 199 reconstruction error: 0.079466\n",
            "Epoch: 0 batch #: 62  of 300 sample #: 199 reconstruction error: 0.081694\n",
            "Epoch: 0 batch #: 63  of 300 sample #: 199 reconstruction error: 0.047503\n",
            "Epoch: 0 batch #: 64  of 300 sample #: 199 reconstruction error: 0.084072\n",
            "Epoch: 0 batch #: 65  of 300 sample #: 199 reconstruction error: 0.095569\n",
            "Epoch: 0 batch #: 66  of 300 sample #: 199 reconstruction error: 0.065393\n",
            "Epoch: 0 batch #: 67  of 300 sample #: 199 reconstruction error: 0.044968\n",
            "Epoch: 0 batch #: 68  of 300 sample #: 199 reconstruction error: 0.063879\n",
            "Epoch: 0 batch #: 69  of 300 sample #: 199 reconstruction error: 0.083172\n",
            "Epoch: 0 batch #: 70  of 300 sample #: 199 reconstruction error: 0.093382\n",
            "Epoch: 0 batch #: 71  of 300 sample #: 199 reconstruction error: 0.076755\n",
            "Epoch: 0 batch #: 72  of 300 sample #: 199 reconstruction error: 0.076991\n",
            "Epoch: 0 batch #: 73  of 300 sample #: 199 reconstruction error: 0.087889\n",
            "Epoch: 0 batch #: 74  of 300 sample #: 199 reconstruction error: 0.113577\n",
            "Epoch: 0 batch #: 75  of 300 sample #: 199 reconstruction error: 0.077615\n",
            "Epoch: 0 batch #: 76  of 300 sample #: 199 reconstruction error: 0.060484\n",
            "Epoch: 0 batch #: 77  of 300 sample #: 199 reconstruction error: 0.094096\n",
            "Epoch: 0 batch #: 78  of 300 sample #: 199 reconstruction error: 0.102479\n",
            "Epoch: 0 batch #: 79  of 300 sample #: 199 reconstruction error: 0.107737\n",
            "Epoch: 0 batch #: 80  of 300 sample #: 199 reconstruction error: 0.041645\n",
            "Epoch: 0 batch #: 81  of 300 sample #: 199 reconstruction error: 0.062624\n",
            "Epoch: 0 batch #: 82  of 300 sample #: 199 reconstruction error: 0.046268\n",
            "Epoch: 0 batch #: 83  of 300 sample #: 199 reconstruction error: 0.076655\n",
            "Epoch: 0 batch #: 84  of 300 sample #: 199 reconstruction error: 0.070550\n",
            "Epoch: 0 batch #: 85  of 300 sample #: 199 reconstruction error: 0.047704\n",
            "Epoch: 0 batch #: 86  of 300 sample #: 199 reconstruction error: 0.085364\n",
            "Epoch: 0 batch #: 87  of 300 sample #: 199 reconstruction error: 0.088305\n",
            "Epoch: 0 batch #: 88  of 300 sample #: 199 reconstruction error: 0.032914\n",
            "Epoch: 0 batch #: 89  of 300 sample #: 199 reconstruction error: 0.060454\n",
            "Epoch: 0 batch #: 90  of 300 sample #: 199 reconstruction error: 0.072389\n",
            "Epoch: 0 batch #: 91  of 300 sample #: 199 reconstruction error: 0.072446\n",
            "Epoch: 0 batch #: 92  of 300 sample #: 199 reconstruction error: 0.067104\n",
            "Epoch: 0 batch #: 93  of 300 sample #: 199 reconstruction error: 0.109280\n",
            "Epoch: 0 batch #: 94  of 300 sample #: 199 reconstruction error: 0.124319\n",
            "Epoch: 0 batch #: 95  of 300 sample #: 199 reconstruction error: 0.081972\n",
            "Epoch: 0 batch #: 96  of 300 sample #: 199 reconstruction error: 0.059427\n",
            "Epoch: 0 batch #: 97  of 300 sample #: 199 reconstruction error: 0.114564\n",
            "Epoch: 0 batch #: 98  of 300 sample #: 199 reconstruction error: 0.085143\n",
            "Epoch: 0 batch #: 99  of 300 sample #: 199 reconstruction error: 0.056891\n",
            "Epoch: 0 batch #: 100  of 300 sample #: 199 reconstruction error: 0.105847\n",
            "Epoch: 0 batch #: 101  of 300 sample #: 199 reconstruction error: 0.078539\n",
            "Epoch: 0 batch #: 102  of 300 sample #: 199 reconstruction error: 0.085723\n",
            "Epoch: 0 batch #: 103  of 300 sample #: 199 reconstruction error: 0.093260\n",
            "Epoch: 0 batch #: 104  of 300 sample #: 199 reconstruction error: 0.075489\n",
            "Epoch: 0 batch #: 105  of 300 sample #: 199 reconstruction error: 0.065138\n",
            "Epoch: 0 batch #: 106  of 300 sample #: 199 reconstruction error: 0.121918\n",
            "Epoch: 0 batch #: 107  of 300 sample #: 199 reconstruction error: 0.146171\n",
            "Epoch: 0 batch #: 108  of 300 sample #: 199 reconstruction error: 0.056862\n",
            "Epoch: 0 batch #: 109  of 300 sample #: 199 reconstruction error: 0.099611\n",
            "Epoch: 0 batch #: 110  of 300 sample #: 199 reconstruction error: 0.047302\n",
            "Epoch: 0 batch #: 111  of 300 sample #: 199 reconstruction error: 0.107209\n",
            "Epoch: 0 batch #: 112  of 300 sample #: 199 reconstruction error: 0.033378\n",
            "Epoch: 0 batch #: 113  of 300 sample #: 199 reconstruction error: 0.082042\n",
            "Epoch: 0 batch #: 114  of 300 sample #: 199 reconstruction error: 0.070363\n",
            "Epoch: 0 batch #: 115  of 300 sample #: 199 reconstruction error: 0.048856\n",
            "Epoch: 0 batch #: 116  of 300 sample #: 199 reconstruction error: 0.050945\n",
            "Epoch: 0 batch #: 117  of 300 sample #: 199 reconstruction error: 0.051216\n",
            "Epoch: 0 batch #: 118  of 300 sample #: 199 reconstruction error: 0.085195\n",
            "Epoch: 0 batch #: 119  of 300 sample #: 199 reconstruction error: 0.130596\n",
            "Epoch: 0 batch #: 120  of 300 sample #: 199 reconstruction error: 0.081448\n",
            "Epoch: 0 batch #: 121  of 300 sample #: 199 reconstruction error: 0.042808\n",
            "Epoch: 0 batch #: 122  of 300 sample #: 199 reconstruction error: 0.094095\n",
            "Epoch: 0 batch #: 123  of 300 sample #: 199 reconstruction error: 0.073667\n",
            "Epoch: 0 batch #: 124  of 300 sample #: 199 reconstruction error: 0.083043\n",
            "Epoch: 0 batch #: 125  of 300 sample #: 199 reconstruction error: 0.042605\n",
            "Epoch: 0 batch #: 126  of 300 sample #: 199 reconstruction error: 0.097342\n",
            "Epoch: 0 batch #: 127  of 300 sample #: 199 reconstruction error: 0.083457\n",
            "Epoch: 0 batch #: 128  of 300 sample #: 199 reconstruction error: 0.071333\n",
            "Epoch: 0 batch #: 129  of 300 sample #: 199 reconstruction error: 0.051960\n",
            "Epoch: 0 batch #: 130  of 300 sample #: 199 reconstruction error: 0.079085\n",
            "Epoch: 0 batch #: 131  of 300 sample #: 199 reconstruction error: 0.057530\n",
            "Epoch: 0 batch #: 132  of 300 sample #: 199 reconstruction error: 0.053314\n",
            "Epoch: 0 batch #: 133  of 300 sample #: 199 reconstruction error: 0.051698\n",
            "Epoch: 0 batch #: 134  of 300 sample #: 199 reconstruction error: 0.102750\n",
            "Epoch: 0 batch #: 135  of 300 sample #: 199 reconstruction error: 0.084930\n",
            "Epoch: 0 batch #: 136  of 300 sample #: 199 reconstruction error: 0.121417\n",
            "Epoch: 0 batch #: 137  of 300 sample #: 199 reconstruction error: 0.058167\n",
            "Epoch: 0 batch #: 138  of 300 sample #: 199 reconstruction error: 0.066990\n",
            "Epoch: 0 batch #: 139  of 300 sample #: 199 reconstruction error: 0.093443\n",
            "Epoch: 0 batch #: 140  of 300 sample #: 199 reconstruction error: 0.078642\n",
            "Epoch: 0 batch #: 141  of 300 sample #: 199 reconstruction error: 0.095740\n",
            "Epoch: 0 batch #: 142  of 300 sample #: 199 reconstruction error: 0.062811\n",
            "Epoch: 0 batch #: 143  of 300 sample #: 199 reconstruction error: 0.052675\n",
            "Epoch: 0 batch #: 144  of 300 sample #: 199 reconstruction error: 0.047150\n",
            "Epoch: 0 batch #: 145  of 300 sample #: 199 reconstruction error: 0.106407\n",
            "Epoch: 0 batch #: 146  of 300 sample #: 199 reconstruction error: 0.123167\n",
            "Epoch: 0 batch #: 147  of 300 sample #: 199 reconstruction error: 0.063848\n",
            "Epoch: 0 batch #: 148  of 300 sample #: 199 reconstruction error: 0.085438\n",
            "Epoch: 0 batch #: 149  of 300 sample #: 199 reconstruction error: 0.044843\n",
            "Epoch: 0 batch #: 150  of 300 sample #: 199 reconstruction error: 0.039563\n",
            "Epoch: 0 batch #: 151  of 300 sample #: 199 reconstruction error: 0.093546\n",
            "Epoch: 0 batch #: 152  of 300 sample #: 199 reconstruction error: 0.083694\n",
            "Epoch: 0 batch #: 153  of 300 sample #: 199 reconstruction error: 0.057181\n",
            "Epoch: 0 batch #: 154  of 300 sample #: 199 reconstruction error: 0.078249\n",
            "Epoch: 0 batch #: 155  of 300 sample #: 199 reconstruction error: 0.065354\n",
            "Epoch: 0 batch #: 156  of 300 sample #: 199 reconstruction error: 0.066933\n",
            "Epoch: 0 batch #: 157  of 300 sample #: 199 reconstruction error: 0.081524\n",
            "Epoch: 0 batch #: 158  of 300 sample #: 199 reconstruction error: 0.072385\n",
            "Epoch: 0 batch #: 159  of 300 sample #: 199 reconstruction error: 0.055705\n",
            "Epoch: 0 batch #: 160  of 300 sample #: 199 reconstruction error: 0.074219\n",
            "Epoch: 0 batch #: 161  of 300 sample #: 199 reconstruction error: 0.076838\n",
            "Epoch: 0 batch #: 162  of 300 sample #: 199 reconstruction error: 0.113163\n",
            "Epoch: 0 batch #: 163  of 300 sample #: 199 reconstruction error: 0.041353\n",
            "Epoch: 0 batch #: 164  of 300 sample #: 199 reconstruction error: 0.058217\n",
            "Epoch: 0 batch #: 165  of 300 sample #: 199 reconstruction error: 0.086917\n",
            "Epoch: 0 batch #: 166  of 300 sample #: 199 reconstruction error: 0.058365\n",
            "Epoch: 0 batch #: 167  of 300 sample #: 199 reconstruction error: 0.083488\n",
            "Epoch: 0 batch #: 168  of 300 sample #: 199 reconstruction error: 0.060771\n",
            "Epoch: 0 batch #: 169  of 300 sample #: 199 reconstruction error: 0.034745\n",
            "Epoch: 0 batch #: 170  of 300 sample #: 199 reconstruction error: 0.050430\n",
            "Epoch: 0 batch #: 171  of 300 sample #: 199 reconstruction error: 0.038194\n",
            "Epoch: 0 batch #: 172  of 300 sample #: 199 reconstruction error: 0.041998\n",
            "Epoch: 0 batch #: 173  of 300 sample #: 199 reconstruction error: 0.078166\n",
            "Epoch: 0 batch #: 174  of 300 sample #: 199 reconstruction error: 0.095618\n",
            "Epoch: 0 batch #: 175  of 300 sample #: 199 reconstruction error: 0.066051\n",
            "Epoch: 0 batch #: 176  of 300 sample #: 199 reconstruction error: 0.047982\n",
            "Epoch: 0 batch #: 177  of 300 sample #: 199 reconstruction error: 0.031715\n",
            "Epoch: 0 batch #: 178  of 300 sample #: 199 reconstruction error: 0.110937\n",
            "Epoch: 0 batch #: 179  of 300 sample #: 199 reconstruction error: 0.094707\n",
            "Epoch: 0 batch #: 180  of 300 sample #: 199 reconstruction error: 0.083021\n",
            "Epoch: 0 batch #: 181  of 300 sample #: 199 reconstruction error: 0.089250\n",
            "Epoch: 0 batch #: 182  of 300 sample #: 199 reconstruction error: 0.080128\n",
            "Epoch: 0 batch #: 183  of 300 sample #: 199 reconstruction error: 0.110569\n",
            "Epoch: 0 batch #: 184  of 300 sample #: 199 reconstruction error: 0.052068\n",
            "Epoch: 0 batch #: 185  of 300 sample #: 199 reconstruction error: 0.088354\n",
            "Epoch: 0 batch #: 186  of 300 sample #: 199 reconstruction error: 0.127984\n",
            "Epoch: 0 batch #: 187  of 300 sample #: 199 reconstruction error: 0.062545\n",
            "Epoch: 0 batch #: 188  of 300 sample #: 199 reconstruction error: 0.107283\n",
            "Epoch: 0 batch #: 189  of 300 sample #: 199 reconstruction error: 0.088881\n",
            "Epoch: 0 batch #: 190  of 300 sample #: 199 reconstruction error: 0.071606\n",
            "Epoch: 0 batch #: 191  of 300 sample #: 199 reconstruction error: 0.096904\n",
            "Epoch: 0 batch #: 192  of 300 sample #: 199 reconstruction error: 0.132189\n",
            "Epoch: 0 batch #: 193  of 300 sample #: 199 reconstruction error: 0.108661\n",
            "Epoch: 0 batch #: 194  of 300 sample #: 199 reconstruction error: 0.070756\n",
            "Epoch: 0 batch #: 195  of 300 sample #: 199 reconstruction error: 0.041917\n",
            "Epoch: 0 batch #: 196  of 300 sample #: 199 reconstruction error: 0.042871\n",
            "Epoch: 0 batch #: 197  of 300 sample #: 199 reconstruction error: 0.060262\n",
            "Epoch: 0 batch #: 198  of 300 sample #: 199 reconstruction error: 0.089994\n",
            "Epoch: 0 batch #: 199  of 300 sample #: 199 reconstruction error: 0.076863\n",
            "Epoch: 0 batch #: 200  of 300 sample #: 199 reconstruction error: 0.119893\n",
            "Epoch: 0 batch #: 201  of 300 sample #: 199 reconstruction error: 0.102727\n",
            "Epoch: 0 batch #: 202  of 300 sample #: 199 reconstruction error: 0.039313\n",
            "Epoch: 0 batch #: 203  of 300 sample #: 199 reconstruction error: 0.103092\n",
            "Epoch: 0 batch #: 204  of 300 sample #: 199 reconstruction error: 0.049384\n",
            "Epoch: 0 batch #: 205  of 300 sample #: 199 reconstruction error: 0.023341\n",
            "Epoch: 0 batch #: 206  of 300 sample #: 199 reconstruction error: 0.060736\n",
            "Epoch: 0 batch #: 207  of 300 sample #: 199 reconstruction error: 0.089226\n",
            "Epoch: 0 batch #: 208  of 300 sample #: 199 reconstruction error: 0.053515\n",
            "Epoch: 0 batch #: 209  of 300 sample #: 199 reconstruction error: 0.029670\n",
            "Epoch: 0 batch #: 210  of 300 sample #: 199 reconstruction error: 0.100813\n",
            "Epoch: 0 batch #: 211  of 300 sample #: 199 reconstruction error: 0.096866\n",
            "Epoch: 0 batch #: 212  of 300 sample #: 199 reconstruction error: 0.073688\n",
            "Epoch: 0 batch #: 213  of 300 sample #: 199 reconstruction error: 0.088543\n",
            "Epoch: 0 batch #: 214  of 300 sample #: 199 reconstruction error: 0.102474\n",
            "Epoch: 0 batch #: 215  of 300 sample #: 199 reconstruction error: 0.036020\n",
            "Epoch: 0 batch #: 216  of 300 sample #: 199 reconstruction error: 0.095445\n",
            "Epoch: 0 batch #: 217  of 300 sample #: 199 reconstruction error: 0.080596\n",
            "Epoch: 0 batch #: 218  of 300 sample #: 199 reconstruction error: 0.066711\n",
            "Epoch: 0 batch #: 219  of 300 sample #: 199 reconstruction error: 0.074347\n",
            "Epoch: 0 batch #: 220  of 300 sample #: 199 reconstruction error: 0.057300\n",
            "Epoch: 0 batch #: 221  of 300 sample #: 199 reconstruction error: 0.105015\n",
            "Epoch: 0 batch #: 222  of 300 sample #: 199 reconstruction error: 0.095795\n",
            "Epoch: 0 batch #: 223  of 300 sample #: 199 reconstruction error: 0.070452\n",
            "Epoch: 0 batch #: 224  of 300 sample #: 199 reconstruction error: 0.073025\n",
            "Epoch: 0 batch #: 225  of 300 sample #: 199 reconstruction error: 0.064426\n",
            "Epoch: 0 batch #: 226  of 300 sample #: 199 reconstruction error: 0.137361\n",
            "Epoch: 0 batch #: 227  of 300 sample #: 199 reconstruction error: 0.075645\n",
            "Epoch: 0 batch #: 228  of 300 sample #: 199 reconstruction error: 0.084938\n",
            "Epoch: 0 batch #: 229  of 300 sample #: 199 reconstruction error: 0.090261\n",
            "Epoch: 0 batch #: 230  of 300 sample #: 199 reconstruction error: 0.032282\n",
            "Epoch: 0 batch #: 231  of 300 sample #: 199 reconstruction error: 0.031937\n",
            "Epoch: 0 batch #: 232  of 300 sample #: 199 reconstruction error: 0.074761\n",
            "Epoch: 0 batch #: 233  of 300 sample #: 199 reconstruction error: 0.076257\n",
            "Epoch: 0 batch #: 234  of 300 sample #: 199 reconstruction error: 0.065057\n",
            "Epoch: 0 batch #: 235  of 300 sample #: 199 reconstruction error: 0.091949\n",
            "Epoch: 0 batch #: 236  of 300 sample #: 199 reconstruction error: 0.098101\n",
            "Epoch: 0 batch #: 237  of 300 sample #: 199 reconstruction error: 0.082586\n",
            "Epoch: 0 batch #: 238  of 300 sample #: 199 reconstruction error: 0.105472\n",
            "Epoch: 0 batch #: 239  of 300 sample #: 199 reconstruction error: 0.035493\n",
            "Epoch: 0 batch #: 240  of 300 sample #: 199 reconstruction error: 0.106825\n",
            "Epoch: 0 batch #: 241  of 300 sample #: 199 reconstruction error: 0.086032\n",
            "Epoch: 0 batch #: 242  of 300 sample #: 199 reconstruction error: 0.062432\n",
            "Epoch: 0 batch #: 243  of 300 sample #: 199 reconstruction error: 0.064358\n",
            "Epoch: 0 batch #: 244  of 300 sample #: 199 reconstruction error: 0.089697\n",
            "Epoch: 0 batch #: 245  of 300 sample #: 199 reconstruction error: 0.068455\n",
            "Epoch: 0 batch #: 246  of 300 sample #: 199 reconstruction error: 0.085144\n",
            "Epoch: 0 batch #: 247  of 300 sample #: 199 reconstruction error: 0.042519\n",
            "Epoch: 0 batch #: 248  of 300 sample #: 199 reconstruction error: 0.062485\n",
            "Epoch: 0 batch #: 249  of 300 sample #: 199 reconstruction error: 0.038973\n",
            "Epoch: 0 batch #: 250  of 300 sample #: 199 reconstruction error: 0.082154\n",
            "Epoch: 0 batch #: 251  of 300 sample #: 199 reconstruction error: 0.050667\n",
            "Epoch: 0 batch #: 252  of 300 sample #: 199 reconstruction error: 0.058382\n",
            "Epoch: 0 batch #: 253  of 300 sample #: 199 reconstruction error: 0.063063\n",
            "Epoch: 0 batch #: 254  of 300 sample #: 199 reconstruction error: 0.034445\n",
            "Epoch: 0 batch #: 255  of 300 sample #: 199 reconstruction error: 0.054332\n",
            "Epoch: 0 batch #: 256  of 300 sample #: 199 reconstruction error: 0.076219\n",
            "Epoch: 0 batch #: 257  of 300 sample #: 199 reconstruction error: 0.086457\n",
            "Epoch: 0 batch #: 258  of 300 sample #: 199 reconstruction error: 0.090579\n",
            "Epoch: 0 batch #: 259  of 300 sample #: 199 reconstruction error: 0.079035\n",
            "Epoch: 0 batch #: 260  of 300 sample #: 199 reconstruction error: 0.093286\n",
            "Epoch: 0 batch #: 261  of 300 sample #: 199 reconstruction error: 0.033607\n",
            "Epoch: 0 batch #: 262  of 300 sample #: 199 reconstruction error: 0.070160\n",
            "Epoch: 0 batch #: 263  of 300 sample #: 199 reconstruction error: 0.084504\n",
            "Epoch: 0 batch #: 264  of 300 sample #: 199 reconstruction error: 0.068952\n",
            "Epoch: 0 batch #: 265  of 300 sample #: 199 reconstruction error: 0.067237\n",
            "Epoch: 0 batch #: 266  of 300 sample #: 199 reconstruction error: 0.035934\n",
            "Epoch: 0 batch #: 267  of 300 sample #: 199 reconstruction error: 0.066501\n",
            "Epoch: 0 batch #: 268  of 300 sample #: 199 reconstruction error: 0.025985\n",
            "Epoch: 0 batch #: 269  of 300 sample #: 199 reconstruction error: 0.082200\n",
            "Epoch: 0 batch #: 270  of 300 sample #: 199 reconstruction error: 0.082722\n",
            "Epoch: 0 batch #: 271  of 300 sample #: 199 reconstruction error: 0.054072\n",
            "Epoch: 0 batch #: 272  of 300 sample #: 199 reconstruction error: 0.076767\n",
            "Epoch: 0 batch #: 273  of 300 sample #: 199 reconstruction error: 0.057884\n",
            "Epoch: 0 batch #: 274  of 300 sample #: 199 reconstruction error: 0.047088\n",
            "Epoch: 0 batch #: 275  of 300 sample #: 199 reconstruction error: 0.107534\n",
            "Epoch: 0 batch #: 276  of 300 sample #: 199 reconstruction error: 0.060791\n",
            "Epoch: 0 batch #: 277  of 300 sample #: 199 reconstruction error: 0.073819\n",
            "Epoch: 0 batch #: 278  of 300 sample #: 199 reconstruction error: 0.058284\n",
            "Epoch: 0 batch #: 279  of 300 sample #: 199 reconstruction error: 0.048020\n",
            "Epoch: 0 batch #: 280  of 300 sample #: 199 reconstruction error: 0.073842\n",
            "Epoch: 0 batch #: 281  of 300 sample #: 199 reconstruction error: 0.077825\n",
            "Epoch: 0 batch #: 282  of 300 sample #: 199 reconstruction error: 0.111233\n",
            "Epoch: 0 batch #: 283  of 300 sample #: 199 reconstruction error: 0.052629\n",
            "Epoch: 0 batch #: 284  of 300 sample #: 199 reconstruction error: 0.062912\n",
            "Epoch: 0 batch #: 285  of 300 sample #: 199 reconstruction error: 0.069782\n",
            "Epoch: 0 batch #: 286  of 300 sample #: 199 reconstruction error: 0.069028\n",
            "Epoch: 0 batch #: 287  of 300 sample #: 199 reconstruction error: 0.074446\n",
            "Epoch: 0 batch #: 288  of 300 sample #: 199 reconstruction error: 0.019144\n",
            "Epoch: 0 batch #: 289  of 300 sample #: 199 reconstruction error: 0.077659\n",
            "Epoch: 0 batch #: 290  of 300 sample #: 199 reconstruction error: 0.079471\n",
            "Epoch: 0 batch #: 291  of 300 sample #: 199 reconstruction error: 0.107838\n",
            "Epoch: 0 batch #: 292  of 300 sample #: 199 reconstruction error: 0.065655\n",
            "Epoch: 0 batch #: 293  of 300 sample #: 199 reconstruction error: 0.072457\n",
            "Epoch: 0 batch #: 294  of 300 sample #: 199 reconstruction error: 0.088864\n",
            "Epoch: 0 batch #: 295  of 300 sample #: 199 reconstruction error: 0.084356\n",
            "Epoch: 0 batch #: 296  of 300 sample #: 199 reconstruction error: 0.023812\n",
            "Epoch: 0 batch #: 297  of 300 sample #: 199 reconstruction error: 0.113595\n",
            "Epoch: 0 batch #: 298  of 300 sample #: 199 reconstruction error: 0.059800\n",
            "Epoch: 0 batch #: 299  of 300 sample #: 199 reconstruction error: 0.042682\n",
            "Epoch: 0 batch #: 300  of 300 sample #: 199 reconstruction error: 0.078683\n"
          ]
        }
      ],
      "source": [
        "#Parameters\n",
        "alpha = 0.01\n",
        "epochs = 1\n",
        "batchsize = 200\n",
        "weights = []\n",
        "errors = []\n",
        "batch_number = 0\n",
        "K = 1\n",
        "\n",
        "#creating datasets\n",
        "train_ds = \\\n",
        "    tf.data.Dataset.from_tensor_slices((trX, trY)).batch(batchsize)\n",
        "\n",
        "for epoch in range(epochs):\n",
        "    for batch_x, batch_y in train_ds:\n",
        "        batch_number += 1\n",
        "        for i_sample in range(batchsize):           \n",
        "            for k in range(K):\n",
        "                v0_state = batch_x[i_sample]\n",
        "                h0_state = hidden_layer(v0_state, W, hb)\n",
        "                v1_state = reconstructed_output(h0_state, W, vb)\n",
        "                h1_state = hidden_layer(v1_state, W, hb)\n",
        "\n",
        "                delta_W = tf.matmul(tf.transpose([v0_state]), h0_state) - tf.matmul(tf.transpose([v1_state]), h1_state)\n",
        "                W = W + alpha * delta_W\n",
        "\n",
        "                vb = vb + alpha * tf.reduce_mean(v0_state - v1_state, 0)\n",
        "                hb = hb + alpha * tf.reduce_mean(h0_state - h1_state, 0) \n",
        "\n",
        "                v0_state = v1_state\n",
        "\n",
        "            if i_sample == batchsize-1:\n",
        "                err = error(batch_x[i_sample], v1_state)\n",
        "                errors.append(err)\n",
        "                weights.append(W)\n",
        "                print ( 'Epoch: %d' % epoch, \n",
        "                       \"batch #: %i \" % batch_number, \"of %i\" % int(60e3/batchsize), \n",
        "                       \"sample #: %i\" % i_sample,\n",
        "                       'reconstruction error: %f' % err)\n",
        "\n"
      ]
    },
    {
      "cell_type": "markdown",
      "metadata": {
        "id": "SrK9zPSthWkM"
      },
      "source": [
        "Let's take a look at the errors at the end of each batch:\n"
      ]
    },
    {
      "cell_type": "code",
      "execution_count": 22,
      "metadata": {
        "colab": {
          "base_uri": "https://localhost:8080/",
          "height": 279
        },
        "id": "i3HuH5HXhWkM",
        "outputId": "106dff78-2c40-4357-f083-cb555f4f1735"
      },
      "outputs": [
        {
          "output_type": "display_data",
          "data": {
            "text/plain": [
              "<Figure size 432x288 with 1 Axes>"
            ],
            "image/png": "[encoded data removed]"
          },
          "metadata": {
            "needs_background": "light"
          }
        }
      ],
      "source": [
        "plt.plot(errors)\n",
        "plt.xlabel(\"Batch Number\")\n",
        "plt.ylabel(\"Error\")\n",
        "plt.show()"
      ]
    },
    {
      "cell_type": "markdown",
      "metadata": {
        "id": "oWCI99CfhWkN"
      },
      "source": [
        "What is the final weight matrix $W$ after training?\n"
      ]
    },
    {
      "cell_type": "code",
      "execution_count": 23,
      "metadata": {
        "colab": {
          "base_uri": "https://localhost:8080/"
        },
        "id": "yfu0u7dThWkO",
        "outputId": "a02080c0-d88e-4774-b956-7d7979985e2b"
      },
      "outputs": [
        {
          "output_type": "stream",
          "name": "stdout",
          "text": [
            "[[-0.4799998  -0.42999986 -0.43999985 ... -0.3899999  -0.5299998\n",
            "  -0.55999976]\n",
            " [-0.46999982 -0.29999998 -0.40999988 ... -0.3799999  -0.4999998\n",
            "  -0.5399998 ]\n",
            " [-0.46999982 -0.41999987 -0.42999986 ... -0.3899999  -0.5099998\n",
            "  -0.6299997 ]\n",
            " ...\n",
            " [-0.45999983 -0.31999996 -0.40999988 ... -0.35999992 -0.5199998\n",
            "  -0.56999975]\n",
            " [-0.4999998  -0.36999992 -0.3799999  ... -0.3899999  -0.44999984\n",
            "  -0.5499998 ]\n",
            " [-0.45999983 -0.30999997 -0.3899999  ... -0.40999988 -0.46999982\n",
            "  -0.5099998 ]]\n"
          ]
        }
      ],
      "source": [
        "print(W.numpy()) # a weight matrix of shape (50,784)"
      ]
    },
    {
      "cell_type": "markdown",
      "metadata": {
        "id": "7MmoxxNIhWkO"
      },
      "source": [
        "<a id=\"ref5\"></a>\n",
        "\n",
        "<h3>Learned features</h3> \n"
      ]
    },
    {
      "cell_type": "markdown",
      "metadata": {
        "id": "vmnaaCPHhWkP"
      },
      "source": [
        "We can take each hidden unit and visualize the connections between that hidden unit and each element in the input vector. In our case, we have 50 hidden units. Lets visualize those.\n"
      ]
    },
    {
      "cell_type": "markdown",
      "metadata": {
        "id": "oXaJafUkhWkQ"
      },
      "source": [
        "Let's plot the current weights: <b>tile_raster_images</b> helps in generating an easy to grasp image from a set of samples or weights. It transforms the <b>uw</b> (with one flattened image per row of size 784), into an array (of size $28\\times28$) in which images are reshaped and laid out like tiles on a floor.\n"
      ]
    },
    {
      "cell_type": "code",
      "execution_count": 24,
      "metadata": {
        "colab": {
          "base_uri": "https://localhost:8080/",
          "height": 551
        },
        "id": "r6MAsCmKhWkR",
        "outputId": "ae9b49d5-6ed4-4e6a-bea3-b9169b501692"
      },
      "outputs": [
        {
          "output_type": "display_data",
          "data": {
            "text/plain": [
              "<Figure size 1296x1296 with 1 Axes>"
            ],
            "image/png": "[encoded data removed]"
          },
          "metadata": {
            "needs_background": "light"
          }
        }
      ],
      "source": [
        "tile_raster_images(X=W.numpy().T, img_shape=(28, 28), tile_shape=(5, 10), tile_spacing=(1, 1))\n",
        "import matplotlib.pyplot as plt\n",
        "from PIL import Image\n",
        "%matplotlib inline\n",
        "image = Image.fromarray(tile_raster_images(X=W.numpy().T, img_shape=(28, 28) ,tile_shape=(5, 10), tile_spacing=(1, 1)))\n",
        "### Plot image\n",
        "plt.rcParams['figure.figsize'] = (18.0, 18.0)\n",
        "imgplot = plt.imshow(image)\n",
        "imgplot.set_cmap('gray')  "
      ]
    },
    {
      "cell_type": "markdown",
      "metadata": {
        "id": "k2F1_HTNhWkR"
      },
      "source": [
        "Each tile in the above visualization corresponds to a vector of connections between a hidden unit and visible layer's units.\n"
      ]
    },
    {
      "cell_type": "markdown",
      "metadata": {
        "id": "53ZwJ7yWhWkS"
      },
      "source": [
        "Let's look at one of the learned weights corresponding to one of hidden units for example. In this particular square, the gray color represents weight = 0, and the whiter it is, the more positive the weights are (closer to 1). Conversely, the darker pixels are, the more negative the weights. The positive pixels will increase the probability of activation in hidden units (after multiplying by input/visible pixels), and negative pixels will decrease the probability of a unit hidden to be 1 (activated). So, why is this important?  So we can see that this specific square (hidden unit) can detect a feature (e.g. a \"/\" shape) and if it exists in the input.\n"
      ]
    },
    {
      "cell_type": "code",
      "execution_count": 25,
      "metadata": {
        "colab": {
          "base_uri": "https://localhost:8080/",
          "height": 265
        },
        "id": "YHgEj1QdhWkS",
        "outputId": "11a098d8-62c7-4c70-bdc0-78f030f14023"
      },
      "outputs": [
        {
          "output_type": "display_data",
          "data": {
            "text/plain": [
              "<Figure size 288x288 with 1 Axes>"
            ],
            "image/png": "[encoded data removed]"
          },
          "metadata": {
            "needs_background": "light"
          }
        }
      ],
      "source": [
        "from PIL import Image\n",
        "image = Image.fromarray(tile_raster_images(X =W.numpy().T[10:11], img_shape=(28, 28),tile_shape=(1, 1), tile_spacing=(1, 1)))\n",
        "### Plot image\n",
        "plt.rcParams['figure.figsize'] = (4.0, 4.0)\n",
        "imgplot = plt.imshow(image)\n",
        "imgplot.set_cmap('gray')  "
      ]
    },
    {
      "cell_type": "markdown",
      "metadata": {
        "id": "IxfvrV4bhWkT"
      },
      "source": [
        "Let's look at the reconstruction of an image now. Imagine that we have a destructed image of figure 3. Lets see if our trained network can fix it:\n",
        "\n",
        "First we plot the image:\n"
      ]
    },
    {
      "cell_type": "code",
      "execution_count": 26,
      "metadata": {
        "colab": {
          "base_uri": "https://localhost:8080/",
          "height": 842
        },
        "id": "x8tspVQHhWkU",
        "outputId": "142611b9-3e04-4c92-f26b-0644f5d6f5c6"
      },
      "outputs": [
        {
          "output_type": "stream",
          "name": "stdout",
          "text": [
            "--2022-06-03 21:48:26--  https://ibm.box.com/shared/static/vvm1b63uvuxq88vbw9znpwu5ol380mco.jpg\n",
            "Resolving ibm.box.com (ibm.box.com)... 185.235.236.197\n",
            "Connecting to ibm.box.com (ibm.box.com)|185.235.236.197|:443... connected.\n",
            "HTTP request sent, awaiting response... 301 Moved Permanently\n",
            "Location: /public/static/vvm1b63uvuxq88vbw9znpwu5ol380mco.jpg [following]\n",
            "--2022-06-03 21:48:26--  https://ibm.box.com/public/static/vvm1b63uvuxq88vbw9znpwu5ol380mco.jpg\n",
            "Reusing existing connection to ibm.box.com:443.\n",
            "HTTP request sent, awaiting response... 301 Moved Permanently\n",
            "Location: https://ibm.ent.box.com/public/static/vvm1b63uvuxq88vbw9znpwu5ol380mco.jpg [following]\n",
            "--2022-06-03 21:48:26--  https://ibm.ent.box.com/public/static/vvm1b63uvuxq88vbw9znpwu5ol380mco.jpg\n",
            "Resolving ibm.ent.box.com (ibm.ent.box.com)... 185.235.236.201\n",
            "Connecting to ibm.ent.box.com (ibm.ent.box.com)|185.235.236.201|:443... connected.\n",
            "HTTP request sent, awaiting response... 302 Found\n",
            "Location: https://dl2.boxcloud.com/d/1/b1!nbdqb7xgdLqlZX4fuA80ipauP8-f-JEABuKlj_k30TTlIYr-bh5mUVUWAOa5iUXDNPD7Iaf3aYTgzd-dv6bWBfjNqBhN0vslfafhYvaKCsDiBXUQ3WtkLX6Q2MILXNoHutTWQMbSQ_fKz6QBuP2r1yka8E82INs91qOibYB6mH5lI6xGcm9UMZbpQ97iaZungu7MX7ZWb7dpWUeuFWpv4Hw9bq21hJ_2tYXzai-vC3KVevHSSY2GYH7R-tyg5hy1Swc14WsB0A-IrO5IRNKJ7MSWb8SNXOdC5hE9zMY9bA0ULCM9dNK019IfnmxnN6Cb-mT6S8rYiLLScG1c9EjCBCLNKANRuuN_4SwPCPtAnBMWgUs81GhOHakSUvyT4rBNVzKvfcj0mPqXu30uYewd8pB98iDnPJQ0SDj979gSddMiksdpq1FKUIRtwKo03VVKTbYqBCR_kKW-i8HcFOr6pd3JKZKT1W_hKFexl7xJEIQ8-0pFaaP5wD5J64Ja1Kw-c1UxiqG05WzjupUy5A2qj4g_hpDBDzbtN5U1dtQn7YRSd1XoRaKO7cPL_Dz1rfQP5acmWpYPnDnRsbQB61FtLMTrzzdlK6UdJnBMyQvmeTB4FUPnytVoDXt0swfW1JnQyC4YPcStijq-0fpL0yvqH0Q0G0DVwzR11ZtxERbk-uV-GPPalB63BEUNqQtV_RPkOBFnLMaCBHdfCE7v-qdZXttOy84BnAXKGYzzonIeqOtPNXNc5hDX0nMdH6vbsA0mAW0nBx3YD9hCJledHNOHVwQx1qq2xRQNMw9-hUiHaZQO9IVFnpqko6ELu_ZwLy0315wxPsBHchtpgMHGegC1-snniFZ38WKo-oZcRwngCDCfO2YZf-Pp53VUsEnEb9J8tCjZOHJd-3Lk1235bPR9S_1N2AEkk4WPKahq74rkiNdvkSMH73m6il8BJ2wcrx0VJLPwRKIvrsfybrsDmHzutidRxQXfXORHStkQ3GarJ7VgDfqNWJgDkM54PNN32HGGbfy-EwZk0zY9kenOuo3eTsMoy_HqUsaDOR63gMrNdVY6jH1iiyK5KgQtgBjp3kJm3_uUZ6pRJq4Dlwyarc2908GRC8iysQE-F007JUkBaFTU3GoMfFNcH6Gzzq-VwhAUQo5YXnezNWN6VW8232ONazhoVP_GCGOFkQ57PBLFAe61LS94wzW9-9YFslTp8Jsphy3H6s2a7ZVMoLSndLMvJHzPNWz7YcqNPrDEYvxY4JWABJwge6lQ37vawQZrYCdDIPLlfBHxSHrTpV-UvoJBAkXkZHN52bCpihuDyuHzdrQu2TMkZP1aTouCDX63TA1PrA1gqJGzfVS7XDqpdUKeMbqEf66re0lmC7xvPQXVpo4MCrLCqQ3F5h2IRLAWs_68eNIIUftQfWBeOWZlwD50__R5fRaS8YhrZrSfjudPGDqH4-ZuuwnyzsOcQZI./download [following]\n",
            "--2022-06-03 21:48:29--  https://dl2.boxcloud.com/d/1/b1!nbdqb7xgdLqlZX4fuA80ipauP8-f-JEABuKlj_k30TTlIYr-bh5mUVUWAOa5iUXDNPD7Iaf3aYTgzd-dv6bWBfjNqBhN0vslfafhYvaKCsDiBXUQ3WtkLX6Q2MILXNoHutTWQMbSQ_fKz6QBuP2r1yka8E82INs91qOibYB6mH5lI6xGcm9UMZbpQ97iaZungu7MX7ZWb7dpWUeuFWpv4Hw9bq21hJ_2tYXzai-vC3KVevHSSY2GYH7R-tyg5hy1Swc14WsB0A-IrO5IRNKJ7MSWb8SNXOdC5hE9zMY9bA0ULCM9dNK019IfnmxnN6Cb-mT6S8rYiLLScG1c9EjCBCLNKANRuuN_4SwPCPtAnBMWgUs81GhOHakSUvyT4rBNVzKvfcj0mPqXu30uYewd8pB98iDnPJQ0SDj979gSddMiksdpq1FKUIRtwKo03VVKTbYqBCR_kKW-i8HcFOr6pd3JKZKT1W_hKFexl7xJEIQ8-0pFaaP5wD5J64Ja1Kw-c1UxiqG05WzjupUy5A2qj4g_hpDBDzbtN5U1dtQn7YRSd1XoRaKO7cPL_Dz1rfQP5acmWpYPnDnRsbQB61FtLMTrzzdlK6UdJnBMyQvmeTB4FUPnytVoDXt0swfW1JnQyC4YPcStijq-0fpL0yvqH0Q0G0DVwzR11ZtxERbk-uV-GPPalB63BEUNqQtV_RPkOBFnLMaCBHdfCE7v-qdZXttOy84BnAXKGYzzonIeqOtPNXNc5hDX0nMdH6vbsA0mAW0nBx3YD9hCJledHNOHVwQx1qq2xRQNMw9-hUiHaZQO9IVFnpqko6ELu_ZwLy0315wxPsBHchtpgMHGegC1-snniFZ38WKo-oZcRwngCDCfO2YZf-Pp53VUsEnEb9J8tCjZOHJd-3Lk1235bPR9S_1N2AEkk4WPKahq74rkiNdvkSMH73m6il8BJ2wcrx0VJLPwRKIvrsfybrsDmHzutidRxQXfXORHStkQ3GarJ7VgDfqNWJgDkM54PNN32HGGbfy-EwZk0zY9kenOuo3eTsMoy_HqUsaDOR63gMrNdVY6jH1iiyK5KgQtgBjp3kJm3_uUZ6pRJq4Dlwyarc2908GRC8iysQE-F007JUkBaFTU3GoMfFNcH6Gzzq-VwhAUQo5YXnezNWN6VW8232ONazhoVP_GCGOFkQ57PBLFAe61LS94wzW9-9YFslTp8Jsphy3H6s2a7ZVMoLSndLMvJHzPNWz7YcqNPrDEYvxY4JWABJwge6lQ37vawQZrYCdDIPLlfBHxSHrTpV-UvoJBAkXkZHN52bCpihuDyuHzdrQu2TMkZP1aTouCDX63TA1PrA1gqJGzfVS7XDqpdUKeMbqEf66re0lmC7xvPQXVpo4MCrLCqQ3F5h2IRLAWs_68eNIIUftQfWBeOWZlwD50__R5fRaS8YhrZrSfjudPGDqH4-ZuuwnyzsOcQZI./download\n",
            "Resolving dl2.boxcloud.com (dl2.boxcloud.com)... 74.112.186.128\n",
            "Connecting to dl2.boxcloud.com (dl2.boxcloud.com)|74.112.186.128|:443... connected.\n",
            "HTTP request sent, awaiting response... 200 OK\n",
            "Length: 24383 (24K) [image/jpeg]\n",
            "Saving to: ‘destructed3.jpg’\n",
            "\n",
            "destructed3.jpg     100%[===================>]  23.81K  --.-KB/s    in 0.1s    \n",
            "\n",
            "2022-06-03 21:48:29 (186 KB/s) - ‘destructed3.jpg’ saved [24383/24383]\n",
            "\n"
          ]
        },
        {
          "output_type": "error",
          "ename": "AttributeError",
          "evalue": "ignored",
          "traceback": [
            "\u001b[0;31m---------------------------------------------------------------------------\u001b[0m",
            "\u001b[0;31mAttributeError\u001b[0m                            Traceback (most recent call last)",
            "\u001b[0;32m<ipython-input-26-37158fd43dd7>\u001b[0m in \u001b[0;36m<module>\u001b[0;34m()\u001b[0m\n\u001b[1;32m      1\u001b[0m \u001b[0mget_ipython\u001b[0m\u001b[0;34m(\u001b[0m\u001b[0;34m)\u001b[0m\u001b[0;34m.\u001b[0m\u001b[0msystem\u001b[0m\u001b[0;34m(\u001b[0m\u001b[0;34m'wget -O destructed3.jpg  https://ibm.box.com/shared/static/vvm1b63uvuxq88vbw9znpwu5ol380mco.jpg'\u001b[0m\u001b[0;34m)\u001b[0m\u001b[0;34m\u001b[0m\u001b[0;34m\u001b[0m\u001b[0m\n\u001b[0;32m----> 2\u001b[0;31m \u001b[0mimg\u001b[0m \u001b[0;34m=\u001b[0m \u001b[0mImage\u001b[0m\u001b[0;34m.\u001b[0m\u001b[0mopen\u001b[0m\u001b[0;34m(\u001b[0m\u001b[0;34m'destructed3.jpg'\u001b[0m\u001b[0;34m)\u001b[0m\u001b[0;34m\u001b[0m\u001b[0;34m\u001b[0m\u001b[0m\n\u001b[0m\u001b[1;32m      3\u001b[0m \u001b[0mimg\u001b[0m\u001b[0;34m\u001b[0m\u001b[0;34m\u001b[0m\u001b[0m\n",
            "\u001b[0;32m/usr/local/lib/python3.7/dist-packages/PIL/Image.py\u001b[0m in \u001b[0;36mopen\u001b[0;34m(fp, mode)\u001b[0m\n\u001b[1;32m   2852\u001b[0m \u001b[0;34m\u001b[0m\u001b[0m\n\u001b[1;32m   2853\u001b[0m \u001b[0;34m\u001b[0m\u001b[0m\n\u001b[0;32m-> 2854\u001b[0;31m \u001b[0;32mdef\u001b[0m \u001b[0mopen\u001b[0m\u001b[0;34m(\u001b[0m\u001b[0mfp\u001b[0m\u001b[0;34m,\u001b[0m \u001b[0mmode\u001b[0m\u001b[0;34m=\u001b[0m\u001b[0;34m\"r\"\u001b[0m\u001b[0;34m,\u001b[0m \u001b[0mformats\u001b[0m\u001b[0;34m=\u001b[0m\u001b[0;32mNone\u001b[0m\u001b[0;34m)\u001b[0m\u001b[0;34m:\u001b[0m\u001b[0;34m\u001b[0m\u001b[0;34m\u001b[0m\u001b[0m\n\u001b[0m\u001b[1;32m   2855\u001b[0m     \"\"\"\n\u001b[1;32m   2856\u001b[0m     \u001b[0mOpens\u001b[0m \u001b[0;32mand\u001b[0m \u001b[0midentifies\u001b[0m \u001b[0mthe\u001b[0m \u001b[0mgiven\u001b[0m \u001b[0mimage\u001b[0m \u001b[0mfile\u001b[0m\u001b[0;34m.\u001b[0m\u001b[0;34m\u001b[0m\u001b[0;34m\u001b[0m\u001b[0m\n",
            "\u001b[0;32m/usr/local/lib/python3.7/dist-packages/PIL/Image.py\u001b[0m in \u001b[0;36mpreinit\u001b[0;34m()\u001b[0m\n\u001b[1;32m    364\u001b[0m     \u001b[0;32mexcept\u001b[0m \u001b[0mImportError\u001b[0m\u001b[0;34m:\u001b[0m\u001b[0;34m\u001b[0m\u001b[0;34m\u001b[0m\u001b[0m\n\u001b[1;32m    365\u001b[0m         \u001b[0;32mpass\u001b[0m\u001b[0;34m\u001b[0m\u001b[0;34m\u001b[0m\u001b[0m\n\u001b[0;32m--> 366\u001b[0;31m     \u001b[0;32mtry\u001b[0m\u001b[0;34m:\u001b[0m\u001b[0;34m\u001b[0m\u001b[0;34m\u001b[0m\u001b[0m\n\u001b[0m\u001b[1;32m    367\u001b[0m         \u001b[0;32mfrom\u001b[0m \u001b[0;34m.\u001b[0m \u001b[0;32mimport\u001b[0m \u001b[0mJpegImagePlugin\u001b[0m\u001b[0;34m\u001b[0m\u001b[0;34m\u001b[0m\u001b[0m\n\u001b[1;32m    368\u001b[0m \u001b[0;34m\u001b[0m\u001b[0m\n",
            "\u001b[0;32m/usr/local/lib/python3.7/dist-packages/PIL/JpegImagePlugin.py\u001b[0m in \u001b[0;36m<module>\u001b[0;34m()\u001b[0m\n\u001b[1;32m     41\u001b[0m \u001b[0;32mimport\u001b[0m \u001b[0mwarnings\u001b[0m\u001b[0;34m\u001b[0m\u001b[0;34m\u001b[0m\u001b[0m\n\u001b[1;32m     42\u001b[0m \u001b[0;34m\u001b[0m\u001b[0m\n\u001b[0;32m---> 43\u001b[0;31m \u001b[0;32mfrom\u001b[0m \u001b[0;34m.\u001b[0m \u001b[0;32mimport\u001b[0m \u001b[0mImage\u001b[0m\u001b[0;34m,\u001b[0m \u001b[0mImageFile\u001b[0m\u001b[0;34m,\u001b[0m \u001b[0mTiffImagePlugin\u001b[0m\u001b[0;34m\u001b[0m\u001b[0;34m\u001b[0m\u001b[0m\n\u001b[0m\u001b[1;32m     44\u001b[0m \u001b[0;32mfrom\u001b[0m \u001b[0;34m.\u001b[0m\u001b[0m_binary\u001b[0m \u001b[0;32mimport\u001b[0m \u001b[0mi16be\u001b[0m \u001b[0;32mas\u001b[0m \u001b[0mi16\u001b[0m\u001b[0;34m\u001b[0m\u001b[0;34m\u001b[0m\u001b[0m\n\u001b[1;32m     45\u001b[0m \u001b[0;32mfrom\u001b[0m \u001b[0;34m.\u001b[0m\u001b[0m_binary\u001b[0m \u001b[0;32mimport\u001b[0m \u001b[0mi32be\u001b[0m \u001b[0;32mas\u001b[0m \u001b[0mi32\u001b[0m\u001b[0;34m\u001b[0m\u001b[0;34m\u001b[0m\u001b[0m\n",
            "\u001b[0;32m/usr/local/lib/python3.7/dist-packages/PIL/TiffImagePlugin.py\u001b[0m in \u001b[0;36m<module>\u001b[0;34m()\u001b[0m\n\u001b[1;32m    401\u001b[0m \u001b[0;34m\u001b[0m\u001b[0m\n\u001b[1;32m    402\u001b[0m \u001b[0;34m\u001b[0m\u001b[0m\n\u001b[0;32m--> 403\u001b[0;31m \u001b[0;32mclass\u001b[0m \u001b[0mImageFileDirectory_v2\u001b[0m\u001b[0;34m(\u001b[0m\u001b[0mMutableMapping\u001b[0m\u001b[0;34m)\u001b[0m\u001b[0;34m:\u001b[0m\u001b[0;34m\u001b[0m\u001b[0;34m\u001b[0m\u001b[0m\n\u001b[0m\u001b[1;32m    404\u001b[0m     \"\"\"This class represents a TIFF tag directory.  To speed things up, we\n\u001b[1;32m    405\u001b[0m     \u001b[0mdon\u001b[0m\u001b[0;34m't decode tags unless they'\u001b[0m\u001b[0mre\u001b[0m \u001b[0masked\u001b[0m \u001b[0;32mfor\u001b[0m\u001b[0;34m.\u001b[0m\u001b[0;34m\u001b[0m\u001b[0;34m\u001b[0m\u001b[0m\n",
            "\u001b[0;32m/usr/local/lib/python3.7/dist-packages/PIL/TiffImagePlugin.py\u001b[0m in \u001b[0;36mImageFileDirectory_v2\u001b[0;34m()\u001b[0m\n\u001b[1;32m    667\u001b[0m                 \u001b[0;34m(\u001b[0m\u001b[0mTiffTags\u001b[0m\u001b[0;34m.\u001b[0m\u001b[0mFLOAT\u001b[0m\u001b[0;34m,\u001b[0m \u001b[0;34m\"f\"\u001b[0m\u001b[0;34m,\u001b[0m \u001b[0;34m\"float\"\u001b[0m\u001b[0;34m)\u001b[0m\u001b[0;34m,\u001b[0m\u001b[0;34m\u001b[0m\u001b[0;34m\u001b[0m\u001b[0m\n\u001b[1;32m    668\u001b[0m                 \u001b[0;34m(\u001b[0m\u001b[0mTiffTags\u001b[0m\u001b[0;34m.\u001b[0m\u001b[0mDOUBLE\u001b[0m\u001b[0;34m,\u001b[0m \u001b[0;34m\"d\"\u001b[0m\u001b[0;34m,\u001b[0m \u001b[0;34m\"double\"\u001b[0m\u001b[0;34m)\u001b[0m\u001b[0;34m,\u001b[0m\u001b[0;34m\u001b[0m\u001b[0;34m\u001b[0m\u001b[0m\n\u001b[0;32m--> 669\u001b[0;31m                 \u001b[0;34m(\u001b[0m\u001b[0mTiffTags\u001b[0m\u001b[0;34m.\u001b[0m\u001b[0mIFD\u001b[0m\u001b[0;34m,\u001b[0m \u001b[0;34m\"L\"\u001b[0m\u001b[0;34m,\u001b[0m \u001b[0;34m\"long\"\u001b[0m\u001b[0;34m)\u001b[0m\u001b[0;34m,\u001b[0m\u001b[0;34m\u001b[0m\u001b[0;34m\u001b[0m\u001b[0m\n\u001b[0m\u001b[1;32m    670\u001b[0m             ],\n\u001b[1;32m    671\u001b[0m         )\n",
            "\u001b[0;31mAttributeError\u001b[0m: module 'PIL.TiffTags' has no attribute 'IFD'"
          ]
        }
      ],
      "source": [
        "!wget -O destructed3.jpg  https://ibm.box.com/shared/static/vvm1b63uvuxq88vbw9znpwu5ol380mco.jpg\n",
        "img = Image.open('destructed3.jpg')\n",
        "img"
      ]
    },
    {
      "cell_type": "markdown",
      "metadata": {
        "id": "woNfmhBLhWkV"
      },
      "source": [
        "Now let's pass this image through the neural net:\n"
      ]
    },
    {
      "cell_type": "code",
      "execution_count": 27,
      "metadata": {
        "colab": {
          "base_uri": "https://localhost:8080/",
          "height": 229
        },
        "id": "-UxQA7SPhWkV",
        "outputId": "bdf41eb0-e091-4844-8de7-10350a2659f3"
      },
      "outputs": [
        {
          "output_type": "error",
          "ename": "NameError",
          "evalue": "ignored",
          "traceback": [
            "\u001b[0;31m---------------------------------------------------------------------------\u001b[0m",
            "\u001b[0;31mNameError\u001b[0m                                 Traceback (most recent call last)",
            "\u001b[0;32m<ipython-input-27-8a9a66f8ed86>\u001b[0m in \u001b[0;36m<module>\u001b[0;34m()\u001b[0m\n\u001b[1;32m      1\u001b[0m \u001b[0;31m# convert the image to a 1d numpy array\u001b[0m\u001b[0;34m\u001b[0m\u001b[0;34m\u001b[0m\u001b[0;34m\u001b[0m\u001b[0m\n\u001b[0;32m----> 2\u001b[0;31m \u001b[0msample_case\u001b[0m \u001b[0;34m=\u001b[0m \u001b[0mnp\u001b[0m\u001b[0;34m.\u001b[0m\u001b[0marray\u001b[0m\u001b[0;34m(\u001b[0m\u001b[0mimg\u001b[0m\u001b[0;34m.\u001b[0m\u001b[0mconvert\u001b[0m\u001b[0;34m(\u001b[0m\u001b[0;34m'I'\u001b[0m\u001b[0;34m)\u001b[0m\u001b[0;34m.\u001b[0m\u001b[0mresize\u001b[0m\u001b[0;34m(\u001b[0m\u001b[0;34m(\u001b[0m\u001b[0;36m28\u001b[0m\u001b[0;34m,\u001b[0m\u001b[0;36m28\u001b[0m\u001b[0;34m)\u001b[0m\u001b[0;34m)\u001b[0m\u001b[0;34m)\u001b[0m\u001b[0;34m.\u001b[0m\u001b[0mravel\u001b[0m\u001b[0;34m(\u001b[0m\u001b[0;34m)\u001b[0m\u001b[0;34m.\u001b[0m\u001b[0mreshape\u001b[0m\u001b[0;34m(\u001b[0m\u001b[0;34m(\u001b[0m\u001b[0;36m1\u001b[0m\u001b[0;34m,\u001b[0m \u001b[0;34m-\u001b[0m\u001b[0;36m1\u001b[0m\u001b[0;34m)\u001b[0m\u001b[0;34m)\u001b[0m\u001b[0;34m/\u001b[0m\u001b[0;36m255.0\u001b[0m\u001b[0;34m\u001b[0m\u001b[0;34m\u001b[0m\u001b[0m\n\u001b[0m\u001b[1;32m      3\u001b[0m \u001b[0;34m\u001b[0m\u001b[0m\n\u001b[1;32m      4\u001b[0m \u001b[0msample_case\u001b[0m \u001b[0;34m=\u001b[0m \u001b[0mtf\u001b[0m\u001b[0;34m.\u001b[0m\u001b[0mcast\u001b[0m\u001b[0;34m(\u001b[0m\u001b[0msample_case\u001b[0m\u001b[0;34m,\u001b[0m \u001b[0mdtype\u001b[0m\u001b[0;34m=\u001b[0m\u001b[0mtf\u001b[0m\u001b[0;34m.\u001b[0m\u001b[0mfloat32\u001b[0m\u001b[0;34m)\u001b[0m\u001b[0;34m\u001b[0m\u001b[0;34m\u001b[0m\u001b[0m\n",
            "\u001b[0;31mNameError\u001b[0m: name 'img' is not defined"
          ]
        }
      ],
      "source": [
        "# convert the image to a 1d numpy array\n",
        "sample_case = np.array(img.convert('I').resize((28,28))).ravel().reshape((1, -1))/255.0\n",
        "\n",
        "sample_case = tf.cast(sample_case, dtype=tf.float32)"
      ]
    },
    {
      "cell_type": "markdown",
      "metadata": {
        "id": "7B5QFXaxhWkW"
      },
      "source": [
        "Feed the sample case into the network and reconstruct the output:\n"
      ]
    },
    {
      "cell_type": "code",
      "execution_count": 28,
      "metadata": {
        "colab": {
          "base_uri": "https://localhost:8080/",
          "height": 248
        },
        "id": "_R3ubtHmhWkX",
        "outputId": "da8e0cf7-b5c1-4c6b-cf78-f6cc303f1b71"
      },
      "outputs": [
        {
          "output_type": "error",
          "ename": "NameError",
          "evalue": "ignored",
          "traceback": [
            "\u001b[0;31m---------------------------------------------------------------------------\u001b[0m",
            "\u001b[0;31mNameError\u001b[0m                                 Traceback (most recent call last)",
            "\u001b[0;32m<ipython-input-28-5707cc9c3aad>\u001b[0m in \u001b[0;36m<module>\u001b[0;34m()\u001b[0m\n\u001b[0;32m----> 1\u001b[0;31m \u001b[0mhh0_p\u001b[0m \u001b[0;34m=\u001b[0m \u001b[0mtf\u001b[0m\u001b[0;34m.\u001b[0m\u001b[0mnn\u001b[0m\u001b[0;34m.\u001b[0m\u001b[0msigmoid\u001b[0m\u001b[0;34m(\u001b[0m\u001b[0mtf\u001b[0m\u001b[0;34m.\u001b[0m\u001b[0mmatmul\u001b[0m\u001b[0;34m(\u001b[0m\u001b[0msample_case\u001b[0m\u001b[0;34m,\u001b[0m \u001b[0mW\u001b[0m\u001b[0;34m)\u001b[0m \u001b[0;34m+\u001b[0m \u001b[0mhb\u001b[0m\u001b[0;34m)\u001b[0m\u001b[0;34m\u001b[0m\u001b[0;34m\u001b[0m\u001b[0m\n\u001b[0m\u001b[1;32m      2\u001b[0m \u001b[0mhh0_s\u001b[0m \u001b[0;34m=\u001b[0m \u001b[0mtf\u001b[0m\u001b[0;34m.\u001b[0m\u001b[0mround\u001b[0m\u001b[0;34m(\u001b[0m\u001b[0mhh0_p\u001b[0m\u001b[0;34m)\u001b[0m\u001b[0;34m\u001b[0m\u001b[0;34m\u001b[0m\u001b[0m\n\u001b[1;32m      3\u001b[0m \u001b[0;34m\u001b[0m\u001b[0m\n\u001b[1;32m      4\u001b[0m \u001b[0mprint\u001b[0m\u001b[0;34m(\u001b[0m\u001b[0;34m\"Probability nodes in hidden layer:\"\u001b[0m \u001b[0;34m,\u001b[0m\u001b[0mhh0_p\u001b[0m\u001b[0;34m)\u001b[0m\u001b[0;34m\u001b[0m\u001b[0;34m\u001b[0m\u001b[0m\n\u001b[1;32m      5\u001b[0m \u001b[0mprint\u001b[0m\u001b[0;34m(\u001b[0m\u001b[0;34m\"activated nodes in hidden layer:\"\u001b[0m \u001b[0;34m,\u001b[0m\u001b[0mhh0_s\u001b[0m\u001b[0;34m)\u001b[0m\u001b[0;34m\u001b[0m\u001b[0;34m\u001b[0m\u001b[0m\n",
            "\u001b[0;31mNameError\u001b[0m: name 'sample_case' is not defined"
          ]
        }
      ],
      "source": [
        "hh0_p = tf.nn.sigmoid(tf.matmul(sample_case, W) + hb)\n",
        "hh0_s = tf.round(hh0_p)\n",
        "\n",
        "print(\"Probability nodes in hidden layer:\" ,hh0_p)\n",
        "print(\"activated nodes in hidden layer:\" ,hh0_s)\n",
        "\n",
        "# reconstruct\n",
        "vv1_p = tf.nn.sigmoid(tf.matmul(hh0_s, tf.transpose(W)) + vb)\n",
        "\n",
        "print(vv1_p)\n",
        "#rec_prob = sess.run(vv1_p, feed_dict={ hh0_s: hh0_s_val, W: prv_w, vb: prv_vb})"
      ]
    },
    {
      "cell_type": "markdown",
      "metadata": {
        "id": "qT7goqJXhWkY"
      },
      "source": [
        "Here we plot the reconstructed image:\n"
      ]
    },
    {
      "cell_type": "code",
      "execution_count": 29,
      "metadata": {
        "colab": {
          "base_uri": "https://localhost:8080/",
          "height": 229
        },
        "id": "KXtx-9ZGhWkY",
        "outputId": "d2d1e809-a3e7-429a-cdf3-85a94028222a"
      },
      "outputs": [
        {
          "output_type": "error",
          "ename": "NameError",
          "evalue": "ignored",
          "traceback": [
            "\u001b[0;31m---------------------------------------------------------------------------\u001b[0m",
            "\u001b[0;31mNameError\u001b[0m                                 Traceback (most recent call last)",
            "\u001b[0;32m<ipython-input-29-e6921c92fd47>\u001b[0m in \u001b[0;36m<module>\u001b[0;34m()\u001b[0m\n\u001b[0;32m----> 1\u001b[0;31m \u001b[0mimg\u001b[0m \u001b[0;34m=\u001b[0m \u001b[0mImage\u001b[0m\u001b[0;34m.\u001b[0m\u001b[0mfromarray\u001b[0m\u001b[0;34m(\u001b[0m\u001b[0mtile_raster_images\u001b[0m\u001b[0;34m(\u001b[0m\u001b[0mX\u001b[0m\u001b[0;34m=\u001b[0m\u001b[0mvv1_p\u001b[0m\u001b[0;34m.\u001b[0m\u001b[0mnumpy\u001b[0m\u001b[0;34m(\u001b[0m\u001b[0;34m)\u001b[0m\u001b[0;34m,\u001b[0m \u001b[0mimg_shape\u001b[0m\u001b[0;34m=\u001b[0m\u001b[0;34m(\u001b[0m\u001b[0;36m28\u001b[0m\u001b[0;34m,\u001b[0m \u001b[0;36m28\u001b[0m\u001b[0;34m)\u001b[0m\u001b[0;34m,\u001b[0m\u001b[0mtile_shape\u001b[0m\u001b[0;34m=\u001b[0m\u001b[0;34m(\u001b[0m\u001b[0;36m1\u001b[0m\u001b[0;34m,\u001b[0m \u001b[0;36m1\u001b[0m\u001b[0;34m)\u001b[0m\u001b[0;34m,\u001b[0m \u001b[0mtile_spacing\u001b[0m\u001b[0;34m=\u001b[0m\u001b[0;34m(\u001b[0m\u001b[0;36m1\u001b[0m\u001b[0;34m,\u001b[0m \u001b[0;36m1\u001b[0m\u001b[0;34m)\u001b[0m\u001b[0;34m)\u001b[0m\u001b[0;34m)\u001b[0m\u001b[0;34m\u001b[0m\u001b[0;34m\u001b[0m\u001b[0m\n\u001b[0m\u001b[1;32m      2\u001b[0m \u001b[0mplt\u001b[0m\u001b[0;34m.\u001b[0m\u001b[0mrcParams\u001b[0m\u001b[0;34m[\u001b[0m\u001b[0;34m'figure.figsize'\u001b[0m\u001b[0;34m]\u001b[0m \u001b[0;34m=\u001b[0m \u001b[0;34m(\u001b[0m\u001b[0;36m4.0\u001b[0m\u001b[0;34m,\u001b[0m \u001b[0;36m4.0\u001b[0m\u001b[0;34m)\u001b[0m\u001b[0;34m\u001b[0m\u001b[0;34m\u001b[0m\u001b[0m\n\u001b[1;32m      3\u001b[0m \u001b[0mimgplot\u001b[0m \u001b[0;34m=\u001b[0m \u001b[0mplt\u001b[0m\u001b[0;34m.\u001b[0m\u001b[0mimshow\u001b[0m\u001b[0;34m(\u001b[0m\u001b[0mimg\u001b[0m\u001b[0;34m)\u001b[0m\u001b[0;34m\u001b[0m\u001b[0;34m\u001b[0m\u001b[0m\n\u001b[1;32m      4\u001b[0m \u001b[0mimgplot\u001b[0m\u001b[0;34m.\u001b[0m\u001b[0mset_cmap\u001b[0m\u001b[0;34m(\u001b[0m\u001b[0;34m'gray'\u001b[0m\u001b[0;34m)\u001b[0m\u001b[0;34m\u001b[0m\u001b[0;34m\u001b[0m\u001b[0m\n",
            "\u001b[0;31mNameError\u001b[0m: name 'vv1_p' is not defined"
          ]
        }
      ],
      "source": [
        "img = Image.fromarray(tile_raster_images(X=vv1_p.numpy(), img_shape=(28, 28),tile_shape=(1, 1), tile_spacing=(1, 1)))\n",
        "plt.rcParams['figure.figsize'] = (4.0, 4.0)\n",
        "imgplot = plt.imshow(img)\n",
        "imgplot.set_cmap('gray') "
      ]
    },
    {
      "cell_type": "markdown",
      "metadata": {
        "id": "U83UnsodhWkZ"
      },
      "source": [
        "<hr>\n",
        "\n",
        "## Want to learn more?\n",
        "\n",
        "Also, you can use **Watson Studio** to run these notebooks faster with bigger datasets.**Watson Studio** is IBM’s leading cloud solution for data scientists, built by data scientists. With Jupyter notebooks, RStudio, Apache Spark and popular libraries pre-packaged in the cloud, **Watson Studio** enables data scientists to collaborate on their projects without having to install anything. Join the fast-growing community of **Watson Studio** users today with a free account at [Watson Studio](https://cocl.us/ML0120EN_DSX).This is the end of this lesson. Thank you for reading this notebook, and good luck on your studies.\n"
      ]
    },
    {
      "cell_type": "markdown",
      "metadata": {
        "id": "cmIvIadnhWka"
      },
      "source": [
        "### Thanks for completing this lesson!\n",
        "\n",
        "Notebook created by: <a href = \"https://ca.linkedin.com/in/saeedaghabozorgi?utm_medium=Exinfluencer&utm_source=Exinfluencer&utm_content=000026UJ&utm_term=10006555&utm_id=NA-SkillsNetwork-Channel-SkillsNetworkCoursesIBMDeveloperSkillsNetworkDL0120ENSkillsNetwork20629446-2022-01-01\">Saeed Aghabozorgi</a>\n",
        "\n",
        "Updated to TF 2.X by  <a href=\"https://ca.linkedin.com/in/nilmeier?utm_medium=Exinfluencer&utm_source=Exinfluencer&utm_content=000026UJ&utm_term=10006555&utm_id=NA-SkillsNetwork-Channel-SkillsNetworkCoursesIBMDeveloperSkillsNetworkDL0120ENSkillsNetwork20629446-2022-01-01\"> Jerome Nilmeier</a><br />\n"
      ]
    },
    {
      "cell_type": "markdown",
      "metadata": {
        "id": "utn6Wrt5hWkb"
      },
      "source": [
        "### References:\n",
        "\n",
        "[https://en.wikipedia.org/wiki/Restricted_Boltzmann_machine](https://en.wikipedia.org/wiki/Restricted_Boltzmann_machine?utm_medium=Exinfluencer&utm_source=Exinfluencer&utm_content=000026UJ&utm_term=10006555&utm_id=NA-SkillsNetwork-Channel-SkillsNetworkCoursesIBMDeveloperSkillsNetworkDL0120ENSkillsNetwork20629446-2022-01-01)\\\n",
        "[http://deeplearning.net/tutorial/rbm.html](http://deeplearning.net/tutorial/rbm.html?utm_medium=Exinfluencer&utm_source=Exinfluencer&utm_content=000026UJ&utm_term=10006555&utm_id=NA-SkillsNetwork-Channel-SkillsNetworkCoursesIBMDeveloperSkillsNetworkDL0120ENSkillsNetwork20629446-2022-01-01)\\\n",
        "[http://www.cs.utoronto.ca/\\~hinton/absps/netflixICML.pdf](http://www.cs.utoronto.ca/\\~hinton/absps/netflixICML.pdf?utm_medium=Exinfluencer&utm_source=Exinfluencer&utm_content=000026UJ&utm_term=10006555&utm_id=NA-SkillsNetwork-Channel-SkillsNetworkCoursesIBMDeveloperSkillsNetworkDL0120ENSkillsNetwork20629446-2022-01-01)<br>\n",
        "<http://imonad.com/rbm/restricted-boltzmann-machine/>\n"
      ]
    },
    {
      "cell_type": "markdown",
      "metadata": {
        "id": "8FbpRxMPhWkc"
      },
      "source": [
        "<hr>\n",
        "\n",
        "Copyright © 2018 [Cognitive Class](https://cocl.us/DX0108EN_CC). This notebook and its source code are released under the terms of the [MIT License](https://bigdatauniversity.com/mit-license/?utm_medium=Exinfluencer&utm_source=Exinfluencer&utm_content=000026UJ&utm_term=10006555&utm_id=NA-SkillsNetwork-Channel-SkillsNetworkCoursesIBMDeveloperSkillsNetworkDL0120ENSkillsNetwork20629446-2022-01-01).\n"
      ]
    }
  ],
  "metadata": {
    "kernelspec": {
      "display_name": "Python 3 (ipykernel)",
      "language": "python",
      "name": "python3"
    },
    "language_info": {
      "codemirror_mode": {
        "name": "ipython",
        "version": 3
      },
      "file_extension": ".py",
      "mimetype": "text/x-python",
      "name": "python",
      "nbconvert_exporter": "python",
      "pygments_lexer": "ipython3",
      "version": "3.7.6"
    },
    "colab": {
      "name": "ML0120EN-4.1-Review-RBMMNIST.ipynb",
      "provenance": [],
      "include_colab_link": true
    }
  },
  "nbformat": 4,
  "nbformat_minor": 0
}