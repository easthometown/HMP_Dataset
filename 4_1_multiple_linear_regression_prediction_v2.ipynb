{
  "cells": [
    {
      "cell_type": "markdown",
      "metadata": {
        "id": "view-in-github",
        "colab_type": "text"
      },
      "source": [
        "<a href=\"https://colab.research.google.com/github/easthometown/HMP_Dataset/blob/master/4_1_multiple_linear_regression_prediction_v2.ipynb\" target=\"_parent\"><img src=\"https://colab.research.google.com/assets/colab-badge.svg\" alt=\"Open In Colab\"/></a>"
      ]
    },
    {
      "cell_type": "markdown",
      "metadata": {
        "id": "9KWTYQPU8Oam"
      },
      "source": [
        "<p style=\"text-align:center\">\n",
        "    <a href=\"https://skills.network/?utm_medium=Exinfluencer&utm_source=Exinfluencer&utm_content=000026UJ&utm_term=10006555&utm_id=NA-SkillsNetwork-Channel-SkillsNetworkCoursesIBMDeveloperSkillsNetworkDL0110ENSkillsNetwork20647811-2022-01-01\" target=\"_blank\">\n",
        "    <img src=\"https://cf-courses-data.s3.us.cloud-object-storage.appdomain.cloud/assets/logos/SN_web_lightmode.png\" width=\"200\" alt=\"Skills Network Logo\"  />\n",
        "    </a>\n",
        "</p>\n"
      ]
    },
    {
      "cell_type": "markdown",
      "metadata": {
        "id": "8tVlYhDq8Oas"
      },
      "source": [
        "<h1>Multiple Linear Regression</h1>\n"
      ]
    },
    {
      "cell_type": "markdown",
      "metadata": {
        "id": "bfGhPIAG8Oat"
      },
      "source": [
        "<h2>Objective</h2><ul><li> How to make the prediction for multiple inputs.</li><li> How to use linear class to build more complex models.</li><li> How to build a custom module.</li></ul> \n"
      ]
    },
    {
      "cell_type": "markdown",
      "metadata": {
        "id": "M0nc9pdq8Oau"
      },
      "source": [
        "<h2>Table of Contents</h2>\n",
        "<p>In this lab, you will review how to make a prediction in several different ways by using PyTorch.</p>\n",
        "\n",
        "<ul>\n",
        "    <li><a href=\"https://#Prediction\">Prediction</a></li>\n",
        "    <li><a href=\"https://#Linear\">Class Linear</a></li>\n",
        "    <li><a href=\"https://#Cust\">Build Custom Modules</a></li>\n",
        "</ul>\n",
        "\n",
        "<p>Estimated Time Needed: <strong>15 min</strong></p>\n",
        "\n",
        "<hr>\n"
      ]
    },
    {
      "cell_type": "markdown",
      "metadata": {
        "id": "0uNfUz_r8Oaw"
      },
      "source": [
        "<h2>Preparation</h2>\n"
      ]
    },
    {
      "cell_type": "markdown",
      "metadata": {
        "id": "rWxRcbd38Oax"
      },
      "source": [
        "Import the libraries and set the random seed.\n"
      ]
    },
    {
      "cell_type": "code",
      "execution_count": 1,
      "metadata": {
        "colab": {
          "base_uri": "https://localhost:8080/"
        },
        "id": "ep24kPiA8Oaz",
        "outputId": "8bebb442-bdb4-4f88-8c14-a10de6501594"
      },
      "outputs": [
        {
          "output_type": "execute_result",
          "data": {
            "text/plain": [
              "<torch._C.Generator at 0x7f61a5637710>"
            ]
          },
          "metadata": {},
          "execution_count": 1
        }
      ],
      "source": [
        "# Import the libraries and set the random seed\n",
        "\n",
        "from torch import nn\n",
        "import torch\n",
        "torch.manual_seed(1)"
      ]
    },
    {
      "cell_type": "markdown",
      "metadata": {
        "id": "FOsGp6lY8Oa1"
      },
      "source": [
        "<!--Empty Space for separating topics-->\n"
      ]
    },
    {
      "cell_type": "markdown",
      "metadata": {
        "id": "RK_2_5Zj8Oa2"
      },
      "source": [
        "<h2 id=\"Prediction\">Prediction</h2>\n"
      ]
    },
    {
      "cell_type": "markdown",
      "metadata": {
        "id": "YamuBblt8Oa4"
      },
      "source": [
        "Set weight and bias.\n"
      ]
    },
    {
      "cell_type": "code",
      "execution_count": 2,
      "metadata": {
        "id": "W_chSRKW8Oa5"
      },
      "outputs": [],
      "source": [
        "# Set the weight and bias\n",
        "\n",
        "w = torch.tensor([[2.0], [3.0]], requires_grad=True)\n",
        "b = torch.tensor([[1.0]], requires_grad=True)"
      ]
    },
    {
      "cell_type": "markdown",
      "metadata": {
        "id": "DH8dwF418Oa6"
      },
      "source": [
        "Define the parameters. <code>torch.mm</code> uses matrix multiplication instead of scaler multiplication.\n"
      ]
    },
    {
      "cell_type": "code",
      "execution_count": 3,
      "metadata": {
        "id": "NcL_Nfax8Oa7"
      },
      "outputs": [],
      "source": [
        "# Define Prediction Function\n",
        "\n",
        "def forward(x):\n",
        "    yhat = torch.mm(x, w) + b\n",
        "    return yhat"
      ]
    },
    {
      "cell_type": "markdown",
      "metadata": {
        "id": "Da5nHCFb8Oa8"
      },
      "source": [
        "The function <code>forward</code> implements the following equation:\n"
      ]
    },
    {
      "cell_type": "markdown",
      "metadata": {
        "id": "ooC1g2Aw8Oa9"
      },
      "source": [
        "<img src=\"https://s3-api.us-geo.objectstorage.softlayer.net/cf-courses-data/CognitiveClass/DL0110EN/notebook_images%20/chapter2/2.6.1_matrix_eq.png\" width=\"600\" alt=\"Matrix Linear Regression\"/>\n"
      ]
    },
    {
      "cell_type": "markdown",
      "metadata": {
        "id": "_ZMjBJd08Oa9"
      },
      "source": [
        "If we input a <i>1x2</i> tensor, because we have a <i>2x1</i> tensor as <code>w</code>, we will get a <i>1x1</i> tensor:\n"
      ]
    },
    {
      "cell_type": "code",
      "execution_count": 4,
      "metadata": {
        "colab": {
          "base_uri": "https://localhost:8080/"
        },
        "id": "hEU5eVL28Oa_",
        "outputId": "d068b037-b3a5-4925-a31d-5d9c1f1f0850"
      },
      "outputs": [
        {
          "output_type": "stream",
          "name": "stdout",
          "text": [
            "The result:  tensor([[9.]], grad_fn=<AddBackward0>)\n"
          ]
        }
      ],
      "source": [
        "# Calculate yhat\n",
        "\n",
        "x = torch.tensor([[1.0, 2.0]])\n",
        "yhat = forward(x)\n",
        "print(\"The result: \", yhat)"
      ]
    },
    {
      "cell_type": "markdown",
      "metadata": {
        "id": "Tu0JVcRn8ObA"
      },
      "source": [
        "<img src = \"https://s3-api.us-geo.objectstorage.softlayer.net/cf-courses-data/CognitiveClass/DL0110EN/notebook_images%20/chapter2/2.6.1example.png\" width = \"300\" alt=\"Linear Regression Matrix Sample One\" />\n"
      ]
    },
    {
      "cell_type": "markdown",
      "metadata": {
        "id": "MHo-CC0Z8ObB"
      },
      "source": [
        "# Each row of the following tensor represents a sample:\n"
      ]
    },
    {
      "cell_type": "code",
      "execution_count": 5,
      "metadata": {
        "id": "w-kq9VhE8ObC"
      },
      "outputs": [],
      "source": [
        "# Sample tensor X\n",
        "\n",
        "X = torch.tensor([[1.0, 1.0], [1.0, 2.0], [1.0, 3.0]])"
      ]
    },
    {
      "cell_type": "code",
      "execution_count": 6,
      "metadata": {
        "colab": {
          "base_uri": "https://localhost:8080/"
        },
        "id": "2j5UAdjU8ObD",
        "outputId": "4bcf8e05-4fff-4f14-b08d-d3a277e2f309"
      },
      "outputs": [
        {
          "output_type": "stream",
          "name": "stdout",
          "text": [
            "The result:  tensor([[ 6.],\n",
            "        [ 9.],\n",
            "        [12.]], grad_fn=<AddBackward0>)\n"
          ]
        }
      ],
      "source": [
        "# Make the prediction of X \n",
        "\n",
        "yhat = forward(X)\n",
        "print(\"The result: \", yhat)"
      ]
    },
    {
      "cell_type": "markdown",
      "metadata": {
        "id": "g96zFDwV8ObF"
      },
      "source": [
        "<!--Empty Space for separating topics-->\n"
      ]
    },
    {
      "cell_type": "markdown",
      "metadata": {
        "id": "syBdELBM8ObF"
      },
      "source": [
        "<h2 id=\"Linear\">Class Linear</h2>\n"
      ]
    },
    {
      "cell_type": "markdown",
      "metadata": {
        "id": "ViflRWfo8ObH"
      },
      "source": [
        "We can use the linear class to make a prediction. You'll also use the linear class to build more complex models.\n"
      ]
    },
    {
      "cell_type": "markdown",
      "metadata": {
        "id": "en-0SjRX8ObH"
      },
      "source": [
        "Let us create a model.\n"
      ]
    },
    {
      "cell_type": "code",
      "execution_count": 7,
      "metadata": {
        "id": "LA3yrcJX8ObI"
      },
      "outputs": [],
      "source": [
        "# Make a linear regression model using build-in function\n",
        "\n",
        "model = nn.Linear(2, 1)"
      ]
    },
    {
      "cell_type": "markdown",
      "metadata": {
        "id": "WoIMFTKJ8ObJ"
      },
      "source": [
        "Make a prediction with the first sample:\n"
      ]
    },
    {
      "cell_type": "code",
      "execution_count": 8,
      "metadata": {
        "colab": {
          "base_uri": "https://localhost:8080/"
        },
        "id": "FYzRqFep8ObO",
        "outputId": "257f8517-5f31-46dd-9899-495bc90f558f"
      },
      "outputs": [
        {
          "output_type": "stream",
          "name": "stdout",
          "text": [
            "The result:  tensor([[-0.3969]], grad_fn=<AddmmBackward0>)\n"
          ]
        }
      ],
      "source": [
        "# Make a prediction of x\n",
        "\n",
        "yhat = model(x)\n",
        "print(\"The result: \", yhat)"
      ]
    },
    {
      "cell_type": "markdown",
      "metadata": {
        "id": "MQX8vCr68ObP"
      },
      "source": [
        "Predict with multiple samples <code>X</code>:\n"
      ]
    },
    {
      "cell_type": "code",
      "execution_count": 9,
      "metadata": {
        "colab": {
          "base_uri": "https://localhost:8080/"
        },
        "id": "k2BvuNWO8ObP",
        "outputId": "080dc58f-5510-4f63-be69-a79e84669f62"
      },
      "outputs": [
        {
          "output_type": "stream",
          "name": "stdout",
          "text": [
            "The result:  tensor([[-0.0848],\n",
            "        [-0.3969],\n",
            "        [-0.7090]], grad_fn=<AddmmBackward0>)\n"
          ]
        }
      ],
      "source": [
        "# Make a prediction of X\n",
        "\n",
        "yhat = model(X)\n",
        "print(\"The result: \", yhat)"
      ]
    },
    {
      "cell_type": "markdown",
      "metadata": {
        "id": "GbojXyh08ObQ"
      },
      "source": [
        "The function performs matrix multiplication as shown in this image:\n"
      ]
    },
    {
      "cell_type": "markdown",
      "metadata": {
        "id": "8CxNNRfG8ObR"
      },
      "source": [
        "<img src = \"https://s3-api.us-geo.objectstorage.softlayer.net/cf-courses-data/CognitiveClass/DL0110EN/notebook_images%20/chapter2/2.6.1multi_sample_example.png\" width = \"600\" alt=\"Linear Regression Matrix Sample One\" />\n"
      ]
    },
    {
      "cell_type": "markdown",
      "metadata": {
        "id": "E7imMCP_8ObS"
      },
      "source": [
        "<!--Empty Space for separating topics-->\n"
      ]
    },
    {
      "cell_type": "markdown",
      "metadata": {
        "id": "INfYc0LV8ObS"
      },
      "source": [
        "<h2 id=\"Cust\">Build Custom Modules </h2>\n"
      ]
    },
    {
      "cell_type": "markdown",
      "metadata": {
        "id": "V4lvSHkH8ObT"
      },
      "source": [
        "Now, you'll build a custom module. You can make more complex models by using this method later.\n"
      ]
    },
    {
      "cell_type": "code",
      "execution_count": 10,
      "metadata": {
        "id": "n4-sLsJD8ObU"
      },
      "outputs": [],
      "source": [
        "# Create linear_regression Class\n",
        "\n",
        "class linear_regression(nn.Module):\n",
        "    \n",
        "    # Constructor\n",
        "    def __init__(self, input_size, output_size):\n",
        "        super(linear_regression, self).__init__()\n",
        "        self.linear = nn.Linear(input_size, output_size)\n",
        "    \n",
        "    # Prediction function\n",
        "    def forward(self, x):\n",
        "        yhat = self.linear(x)\n",
        "        return yhat"
      ]
    },
    {
      "cell_type": "markdown",
      "metadata": {
        "id": "xi1UIczs8ObV"
      },
      "source": [
        "Build a linear regression object. The input feature size is two.\n"
      ]
    },
    {
      "cell_type": "code",
      "execution_count": 11,
      "metadata": {
        "id": "Nn-ce6T78ObV"
      },
      "outputs": [],
      "source": [
        "model = linear_regression(2, 1)"
      ]
    },
    {
      "cell_type": "markdown",
      "metadata": {
        "id": "7JJF_aVg8ObW"
      },
      "source": [
        "This will input the following equation:\n"
      ]
    },
    {
      "cell_type": "markdown",
      "metadata": {
        "id": "xpnxCliB8ObX"
      },
      "source": [
        "<img src=\"https://s3-api.us-geo.objectstorage.softlayer.net/cf-courses-data/CognitiveClass/DL0110EN/notebook_images%20/chapter2/2.6.1_matrix_eq.png\" width=\"600\" alt=\"Matrix Linear Regression\" />\n"
      ]
    },
    {
      "cell_type": "markdown",
      "metadata": {
        "id": "e-QZL59h8ObX"
      },
      "source": [
        "You can see the randomly initialized parameters by using the <code>parameters()</code> method:\n"
      ]
    },
    {
      "cell_type": "code",
      "execution_count": 12,
      "metadata": {
        "colab": {
          "base_uri": "https://localhost:8080/"
        },
        "id": "inJ3i-d18ObY",
        "outputId": "ae962795-98b5-4158-e5d4-d1d7092e3d49"
      },
      "outputs": [
        {
          "output_type": "stream",
          "name": "stdout",
          "text": [
            "The parameters:  [Parameter containing:\n",
            "tensor([[ 0.3319, -0.6657]], requires_grad=True), Parameter containing:\n",
            "tensor([0.4241], requires_grad=True)]\n"
          ]
        }
      ],
      "source": [
        "# Print model parameters\n",
        "\n",
        "print(\"The parameters: \", list(model.parameters()))"
      ]
    },
    {
      "cell_type": "markdown",
      "metadata": {
        "id": "nJWt_gdS8ObZ"
      },
      "source": [
        "You can also see the parameters by using the <code>state_dict()</code> method:\n"
      ]
    },
    {
      "cell_type": "code",
      "execution_count": 13,
      "metadata": {
        "colab": {
          "base_uri": "https://localhost:8080/"
        },
        "id": "l5MmuZ2_8Oba",
        "outputId": "c46f9e04-b7d9-4846-de41-6b647d58f182"
      },
      "outputs": [
        {
          "output_type": "stream",
          "name": "stdout",
          "text": [
            "The parameters:  OrderedDict([('linear.weight', tensor([[ 0.3319, -0.6657]])), ('linear.bias', tensor([0.4241]))])\n"
          ]
        }
      ],
      "source": [
        "# Print model parameters\n",
        "\n",
        "print(\"The parameters: \", model.state_dict())"
      ]
    },
    {
      "cell_type": "markdown",
      "metadata": {
        "id": "X_puQ3JZ8Oba"
      },
      "source": [
        "Now we input a 1x2 tensor, and we will get a 1x1 tensor.\n"
      ]
    },
    {
      "cell_type": "code",
      "execution_count": 14,
      "metadata": {
        "colab": {
          "base_uri": "https://localhost:8080/"
        },
        "id": "k7EGz6Up8Obb",
        "outputId": "45064822-2166-48ab-eaa8-d79e4e97cb16"
      },
      "outputs": [
        {
          "output_type": "stream",
          "name": "stdout",
          "text": [
            "The result:  tensor([[-0.5754]], grad_fn=<AddmmBackward0>)\n"
          ]
        }
      ],
      "source": [
        "# Make a prediction of x\n",
        "\n",
        "yhat = model(x)\n",
        "print(\"The result: \", yhat)"
      ]
    },
    {
      "cell_type": "markdown",
      "metadata": {
        "id": "S5sXVfn88Obc"
      },
      "source": [
        "The shape of the output is shown in the following image:\n"
      ]
    },
    {
      "cell_type": "markdown",
      "metadata": {
        "id": "mxDxdBo38Obc"
      },
      "source": [
        "<img src=\"https://s3-api.us-geo.objectstorage.softlayer.net/cf-courses-data/CognitiveClass/DL0110EN/notebook_images%20/chapter2/2.6.1_matrix_eq.png\" width=\"600\" alt=\"Matrix Linear Regression\" />\n"
      ]
    },
    {
      "cell_type": "markdown",
      "metadata": {
        "id": "ETm9-JLK8Obd"
      },
      "source": [
        "Make a prediction for multiple samples:\n"
      ]
    },
    {
      "cell_type": "code",
      "execution_count": 15,
      "metadata": {
        "colab": {
          "base_uri": "https://localhost:8080/"
        },
        "id": "axHTXcp78Obe",
        "outputId": "ee566806-70f7-427b-ffb0-af41cb0d4851"
      },
      "outputs": [
        {
          "output_type": "stream",
          "name": "stdout",
          "text": [
            "The result:  tensor([[ 0.0903],\n",
            "        [-0.5754],\n",
            "        [-1.2411]], grad_fn=<AddmmBackward0>)\n"
          ]
        }
      ],
      "source": [
        "# Make a prediction of X\n",
        "\n",
        "yhat = model(X)\n",
        "print(\"The result: \", yhat)"
      ]
    },
    {
      "cell_type": "markdown",
      "metadata": {
        "id": "6OIl-FX28Obe"
      },
      "source": [
        "The shape is shown in the following image:\n"
      ]
    },
    {
      "cell_type": "markdown",
      "metadata": {
        "id": "bm1c7TUp8Obf"
      },
      "source": [
        "<img src=\"https://s3-api.us-geo.objectstorage.softlayer.net/cf-courses-data/CognitiveClass/DL0110EN/notebook_images%20/chapter2/2.6.1Multi_sample.png\" width=\"600\" alt=\"Multiple Samples Linear Regression\" />\n"
      ]
    },
    {
      "cell_type": "markdown",
      "metadata": {
        "id": "V5XoxffG8Obg"
      },
      "source": [
        "<!--Empty Space for separating topics-->\n"
      ]
    },
    {
      "cell_type": "markdown",
      "metadata": {
        "id": "GDWEXQoX8Obg"
      },
      "source": [
        "<h3>Practice</h3>\n"
      ]
    },
    {
      "cell_type": "markdown",
      "metadata": {
        "id": "M2vHQib28Obh"
      },
      "source": [
        "Build a model or object of type <code>linear_regression</code>. Using the <code>linear_regression</code> object will predict the following tensor:\n"
      ]
    },
    {
      "cell_type": "code",
      "execution_count": 17,
      "metadata": {
        "colab": {
          "base_uri": "https://localhost:8080/"
        },
        "id": "FgUcycuZ8Obi",
        "outputId": "166007d8-d25d-4438-bff6-04c10c235943"
      },
      "outputs": [
        {
          "output_type": "stream",
          "name": "stdout",
          "text": [
            "The result:  tensor([[2.1062],\n",
            "        [2.1062]], grad_fn=<AddmmBackward0>)\n"
          ]
        }
      ],
      "source": [
        "# Practice: Build a model to predict the follow tensor.\n",
        "model = linear_regression(4, 1)\n",
        "yhat = model(X)\n",
        "print(\"The result: \", yhat)\n",
        "X = torch.tensor([[11.0, 12.0, 13, 14], [11, 12, 13, 14]])"
      ]
    },
    {
      "cell_type": "markdown",
      "metadata": {
        "id": "q0__Zp7T8Obi"
      },
      "source": [
        "Double-click <b>here</b> for the solution.\n",
        "\n",
        "<!-- Your answer is below:\n",
        "model = linear_regression(4, 1)\n",
        "yhat = model(X)\n",
        "print(\"The result: \", yhat)\n",
        "-->\n"
      ]
    },
    {
      "cell_type": "markdown",
      "metadata": {
        "id": "o3o3OECl8Obk"
      },
      "source": [
        "<a href=\"https://dataplatform.cloud.ibm.com/registration/stepone?utm_medium=Exinfluencer&utm_source=Exinfluencer&utm_content=000026UJ&utm_term=10006555&utm_id=NA-SkillsNetwork-Channel-SkillsNetworkCoursesIBMDeveloperSkillsNetworkDL0110ENSkillsNetwork20647811-2022-01-01&context=cpdaas&apps=data_science_experience%2Cwatson_machine_learning\"><img src=\"https://cf-courses-data.s3.us.cloud-object-storage.appdomain.cloud/IBMDeveloperSkillsNetwork-DL0110EN-SkillsNetwork/Template/module%201/images/Watson_Studio.png\"/></a>\n"
      ]
    },
    {
      "cell_type": "markdown",
      "metadata": {
        "id": "zgmy9E1e8Obk"
      },
      "source": [
        "<!--Empty Space for separating topics-->\n"
      ]
    },
    {
      "cell_type": "markdown",
      "metadata": {
        "id": "CJPXeWL58Obl"
      },
      "source": [
        "<h2>About the Authors:</h2> \n",
        "\n",
        "<a href=\"https://www.linkedin.com/in/joseph-s-50398b136/?utm_medium=Exinfluencer&utm_source=Exinfluencer&utm_content=000026UJ&utm_term=10006555&utm_id=NA-SkillsNetwork-Channel-SkillsNetworkCoursesIBMDeveloperSkillsNetworkDL0110ENSkillsNetwork20647811-2022-01-01\">Joseph Santarcangelo</a> has a PhD in Electrical Engineering, his research focused on using machine learning, signal processing, and computer vision to determine how videos impact human cognition. Joseph has been working for IBM since he completed his PhD.\n"
      ]
    },
    {
      "cell_type": "markdown",
      "metadata": {
        "id": "qK7lbh_38Obm"
      },
      "source": [
        "Other contributors: <a href=\"https://www.linkedin.com/in/michelleccarey/?utm_medium=Exinfluencer&utm_source=Exinfluencer&utm_content=000026UJ&utm_term=10006555&utm_id=NA-SkillsNetwork-Channel-SkillsNetworkCoursesIBMDeveloperSkillsNetworkDL0110ENSkillsNetwork20647811-2022-01-01\">Michelle Carey</a>, <a href=\"https://www.linkedin.com/in/jiahui-mavis-zhou-a4537814a?utm_medium=Exinfluencer&utm_source=Exinfluencer&utm_content=000026UJ&utm_term=10006555&utm_id=NA-SkillsNetwork-Channel-SkillsNetworkCoursesIBMDeveloperSkillsNetworkDL0110ENSkillsNetwork20647811-2022-01-01\">Mavis Zhou</a>\n"
      ]
    },
    {
      "cell_type": "markdown",
      "metadata": {
        "id": "GwCky4Ur8Obm"
      },
      "source": [
        "## Change Log\n",
        "\n",
        "| Date (YYYY-MM-DD) | Version | Changed By | Change Description                                          |\n",
        "| ----------------- | ------- | ---------- | ----------------------------------------------------------- |\n",
        "| 2020-09-23        | 2.0     | Shubham    | Migrated Lab to Markdown and added to course repo in GitLab |\n"
      ]
    },
    {
      "cell_type": "markdown",
      "metadata": {
        "id": "Gp_JDFbj8Obn"
      },
      "source": [
        "<hr>\n"
      ]
    },
    {
      "cell_type": "markdown",
      "metadata": {
        "id": "lsz0nSKK8Obo"
      },
      "source": [
        "## <h3 align=\"center\"> © IBM Corporation 2020. All rights reserved. <h3/>\n"
      ]
    }
  ],
  "metadata": {
    "kernelspec": {
      "display_name": "Python 3",
      "language": "python",
      "name": "python3"
    },
    "language_info": {
      "codemirror_mode": {
        "name": "ipython",
        "version": 3
      },
      "file_extension": ".py",
      "mimetype": "text/x-python",
      "name": "python",
      "nbconvert_exporter": "python",
      "pygments_lexer": "ipython3",
      "version": "3.7.6"
    },
    "colab": {
      "name": "4.1.multiple_linear_regression_prediction_v2.ipynb",
      "provenance": [],
      "include_colab_link": true
    }
  },
  "nbformat": 4,
  "nbformat_minor": 0
}