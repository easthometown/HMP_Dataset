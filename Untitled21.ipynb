{
  "nbformat": 4,
  "nbformat_minor": 0,
  "metadata": {
    "colab": {
      "name": "Untitled21.ipynb",
      "provenance": [],
      "authorship_tag": "ABX9TyPsEupOWCuIdjZ0HcwFz66U",
      "include_colab_link": true
    },
    "kernelspec": {
      "name": "python3",
      "display_name": "Python 3"
    },
    "language_info": {
      "name": "python"
    },
    "accelerator": "GPU"
  },
  "cells": [
    {
      "cell_type": "markdown",
      "metadata": {
        "id": "view-in-github",
        "colab_type": "text"
      },
      "source": [
        "<a href=\"https://colab.research.google.com/github/easthometown/HMP_Dataset/blob/master/Untitled21.ipynb\" target=\"_parent\"><img src=\"https://colab.research.google.com/assets/colab-badge.svg\" alt=\"Open In Colab\"/></a>"
      ]
    },
    {
      "cell_type": "code",
      "execution_count": 1,
      "metadata": {
        "id": "XUmYBEkl6x0V"
      },
      "outputs": [],
      "source": [
        "# pip install keras\n",
        "# pip install pandas\n",
        "# pip install numpy"
      ]
    },
    {
      "cell_type": "code",
      "source": [
        "import pandas as pd\n",
        "import numpy as np"
      ],
      "metadata": {
        "id": "WwPY6Yra67bo"
      },
      "execution_count": 2,
      "outputs": []
    },
    {
      "cell_type": "code",
      "source": [
        "data = pd.read_csv('https://cocl.us/concrete_data')\n",
        "data.isnull().sum()"
      ],
      "metadata": {
        "colab": {
          "base_uri": "https://localhost:8080/",
          "height": 0
        },
        "id": "xpYhl_R17gaQ",
        "outputId": "365ac201-72a6-40e1-91af-07ba0f4de44a"
      },
      "execution_count": 15,
      "outputs": [
        {
          "output_type": "execute_result",
          "data": {
            "text/plain": [
              "Cement                0\n",
              "Blast Furnace Slag    0\n",
              "Fly Ash               0\n",
              "Water                 0\n",
              "Superplasticizer      0\n",
              "Coarse Aggregate      0\n",
              "Fine Aggregate        0\n",
              "Age                   0\n",
              "Strength              0\n",
              "dtype: int64"
            ]
          },
          "metadata": {},
          "execution_count": 15
        }
      ]
    },
    {
      "cell_type": "code",
      "source": [
        "from sklearn.model_selection import train_test_split"
      ],
      "metadata": {
        "id": "Z_iSiVBT7xPI"
      },
      "execution_count": 16,
      "outputs": []
    },
    {
      "cell_type": "code",
      "source": [
        "# Split the dataset into training and test datasets \n",
        "\n",
        "train, test = train_test_split(data, test_size=0.3)\n",
        "#normalise\n",
        "train = (train - train.mean(axis=0))/train.std()\n",
        "test = (test - test.mean(axis=0))/test.std()\n",
        "\n",
        "train_data = train[train.columns[train.columns != 'Strength']]\n",
        "train_target = train['Strength']\n",
        "test_data = test[test.columns[test.columns != 'Strength']]\n",
        "test_target = test['Strength']"
      ],
      "metadata": {
        "id": "XeVx815x77yK"
      },
      "execution_count": 29,
      "outputs": []
    },
    {
      "cell_type": "code",
      "source": [
        "import keras\n",
        "from keras.models import Sequential\n",
        "from keras.layers import Dense\n",
        "model = Sequential()\n",
        "model.add(Dense(train_data.shape[1], activation='relu', input_shape=(train_data.shape[1],)))\n",
        "model.add(Dense(10, activation='relu'))\n",
        "model.add(Dense(10, activation='relu'))\n",
        "model.add(Dense(1))"
      ],
      "metadata": {
        "id": "3zp1ttu59XGz"
      },
      "execution_count": 38,
      "outputs": []
    },
    {
      "cell_type": "code",
      "source": [
        "model.compile(optimizer='adam',loss='mean_squared_error',metrics=['mse'])"
      ],
      "metadata": {
        "id": "4N7CRSbX_Ymy"
      },
      "execution_count": 39,
      "outputs": []
    },
    {
      "cell_type": "code",
      "source": [
        "history=model.fit(train_data,train_target,epochs=50,verbose=False)"
      ],
      "metadata": {
        "id": "EBRAtUZcAhfD"
      },
      "execution_count": 42,
      "outputs": []
    },
    {
      "cell_type": "code",
      "source": [
        "model.evaluate(test_data,test_target,verbose=2)"
      ],
      "metadata": {
        "colab": {
          "base_uri": "https://localhost:8080/",
          "height": 0
        },
        "id": "05kywejlBHWz",
        "outputId": "f05ee4ca-e4b7-41cd-9e5f-c1304bccb0c0"
      },
      "execution_count": 43,
      "outputs": [
        {
          "output_type": "stream",
          "name": "stdout",
          "text": [
            "10/10 - 0s - loss: 0.1276 - mse: 0.1276 - 102ms/epoch - 10ms/step\n"
          ]
        },
        {
          "output_type": "execute_result",
          "data": {
            "text/plain": [
              "[0.12757179141044617, 0.12757179141044617]"
            ]
          },
          "metadata": {},
          "execution_count": 43
        }
      ]
    },
    {
      "cell_type": "code",
      "source": [
        "#A\n",
        "print(\"mean is {},  standard deviation is {}\".format(np.mean(history.history['mse']),np.std(history.history['mse'])))"
      ],
      "metadata": {
        "colab": {
          "base_uri": "https://localhost:8080/",
          "height": 0
        },
        "id": "ZiGNkBTEK9MD",
        "outputId": "a21f4800-8b0f-46b0-a706-c7a318e86ef9"
      },
      "execution_count": 28,
      "outputs": [
        {
          "output_type": "stream",
          "name": "stdout",
          "text": [
            "mean is 45.204404983520504,  standard deviation is 1.0292462920046905\n"
          ]
        }
      ]
    },
    {
      "cell_type": "code",
      "source": [
        "#B\n",
        "print(\"mean is {},  standard deviation is {}\".format(np.mean(history.history['mse']),np.std(history.history['mse'])))"
      ],
      "metadata": {
        "colab": {
          "base_uri": "https://localhost:8080/",
          "height": 0
        },
        "id": "iOM9dp2STDE7",
        "outputId": "afcf87c5-91e2-4bae-abd0-e20ea7c27894"
      },
      "execution_count": 34,
      "outputs": [
        {
          "output_type": "stream",
          "name": "stdout",
          "text": [
            "mean is 0.429309658408165,  standard deviation is 0.23371846496689896\n"
          ]
        }
      ]
    },
    {
      "cell_type": "code",
      "source": [
        "# C\n",
        "print(\"mean is {},  standard deviation is {}\".format(np.mean(history.history['mse']),np.std(history.history['mse'])))"
      ],
      "metadata": {
        "colab": {
          "base_uri": "https://localhost:8080/",
          "height": 0
        },
        "id": "VrpPweqtV9gy",
        "outputId": "c8526e65-908b-4a15-bc2f-318cf89aa776"
      },
      "execution_count": 37,
      "outputs": [
        {
          "output_type": "stream",
          "name": "stdout",
          "text": [
            "mean is 0.14843366920948028,  standard deviation is 0.02343457190375639\n"
          ]
        }
      ]
    },
    {
      "cell_type": "code",
      "source": [
        "# D\n",
        "print(\"mean is {},  standard deviation is {}\".format(np.mean(history.history['mse']),np.std(history.history['mse'])))"
      ],
      "metadata": {
        "colab": {
          "base_uri": "https://localhost:8080/",
          "height": 0
        },
        "id": "xaF1bEM0WqZZ",
        "outputId": "c3475182-3c36-4ab0-a8b8-1d754125022f"
      },
      "execution_count": 44,
      "outputs": [
        {
          "output_type": "stream",
          "name": "stdout",
          "text": [
            "mean is 0.08080988228321076,  standard deviation is 0.001034225020949851\n"
          ]
        }
      ]
    }
  ]
}