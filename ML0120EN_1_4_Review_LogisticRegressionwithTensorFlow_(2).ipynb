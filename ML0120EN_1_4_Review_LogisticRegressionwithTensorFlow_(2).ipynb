{
  "cells": [
    {
      "cell_type": "markdown",
      "metadata": {
        "id": "view-in-github",
        "colab_type": "text"
      },
      "source": [
        "<a href=\"https://colab.research.google.com/github/easthometown/HMP_Dataset/blob/master/ML0120EN_1_4_Review_LogisticRegressionwithTensorFlow_(2).ipynb\" target=\"_parent\"><img src=\"https://colab.research.google.com/assets/colab-badge.svg\" alt=\"Open In Colab\"/></a>"
      ]
    },
    {
      "cell_type": "markdown",
      "metadata": {
        "id": "pxrBw_7A-4eg"
      },
      "source": [
        "<a href=\"https://www.skills.network/?utm_medium=Exinfluencer&utm_source=Exinfluencer&utm_content=000026UJ&utm_term=10006555&utm_id=NA-SkillsNetwork-Channel-SkillsNetworkCoursesIBMDeveloperSkillsNetworkDL0120ENSkillsNetwork20629446-2022-01-01\"><img src=\"https://cf-courses-data.s3.us.cloud-object-storage.appdomain.cloud/IBM-DL0120ENedX/labs/Template%20for%20Instructional%20Hands-on%20Labs/images/IDSNlogo.png\" width=\"400px\" align=\"center\"></a>\n"
      ]
    },
    {
      "cell_type": "markdown",
      "metadata": {
        "id": "CRVE3Ouk-4ex"
      },
      "source": [
        "<h2>LOGISTIC REGRESSION WITH TENSORFLOW</h2>\n",
        "Estimated time needed: <b>25</b> minutes\n",
        "\n",
        "<h3>Objective for this Notebook<h3>    \n",
        "<h5> 1. What is different between Linear and Logistic Regression?</h5>\n",
        "<h5> 2. Utilizing Logistic Regression in TensorFlow. </h5>\n",
        "<h5> 3. Training the model </h5>\n"
      ]
    },
    {
      "cell_type": "markdown",
      "metadata": {
        "id": "Lj80NTuz-4e0"
      },
      "source": [
        "## Table of Contents\n",
        "\n",
        "Logistic Regression is one of most important techniques in data science. It is usually used to solve the classic classification problem.\n",
        "\n",
        "<div class=\"alert alert-block alert-info\" style=\"margin-top: 20px\">\n",
        "<font size = 3><strong>This lesson covers the following concepts of Logistics Regression:</strong></font>\n",
        "<br>\n",
        "<h2>Table of Contents</h2>\n",
        "\n",
        "<ol>\n",
        "    <li><a href=\"https://#ref1\">Linear Regression vs Logistic Regression</a></li>\n",
        "    <li><a href=\"https://#ref2\">Utilizing Logistic Regression in TensorFlow</a></li>\n",
        "    <li><a href=\"https://#ref3\">Training</a></li>\n",
        "</ol>    \n",
        "</div>\n",
        "<p></p>\n",
        "<br>\n",
        "\n",
        "<hr>\n"
      ]
    },
    {
      "cell_type": "markdown",
      "metadata": {
        "id": "hJixnilX-4e3"
      },
      "source": [
        "<a id=\"ref1\"></a>\n",
        "\n",
        "<h2>What is different between Linear and Logistic Regression?</h2>\n",
        "\n",
        "While Linear Regression is suited for estimating continuous values (e.g. estimating house price), it is not the best tool for predicting the class in which an observed data point belongs. In order to provide estimate for classification, we need some sort of guidance on what would be the <b>most probable class</b> for that data point. For this, we use <b>Logistic Regression</b>.\n",
        "\n",
        "<div class=\"alert alert-success alertsuccess\" style=\"margin-top: 20px\">\n",
        "<font size=\"3\"><strong>Recall linear regression:</strong></font>\n",
        "<br>\n",
        "<br>\n",
        "Linear regression finds a function that relates a continuous dependent variable, <i>y</i>, to some predictors (independent variables <i>x1</i>, <i>x2</i>, etc.). Simple linear regression assumes a function of the form:\n",
        "<br><br>\n",
        "$$\n",
        "y = w0 + w1 \\times x1 + w2 \\times x2 + \\cdots\n",
        "$$\n",
        "<br>\n",
        "and finds the values of <i>w0</i>, <i>w1</i>, <i>w2</i>, etc. The term <i>w0</i> is the \"intercept\" or \"constant term\" (it's shown as <i>b</i> in the formula below):\n",
        "<br><br>\n",
        "$$\n",
        "Y = W X + b\n",
        "$$\n",
        "<p></p>\n",
        "\n",
        "</div>\n",
        "\n",
        "Logistic Regression is a variation of Linear Regression, useful when the observed dependent variable, <i>y</i>, is categorical. It produces a formula that predicts the probability of the class label as a function of the independent variables.\n",
        "\n",
        "Despite the name logistic <i>regression</i>, it is actually a <b>probabilistic classification</b> model. Logistic regression fits a special s-shaped curve by taking the linear regression and transforming the numeric estimate into a probability with the following function:\n",
        "\n",
        "$$\n",
        "ProbabilityOfaClass = \\theta(y) = \\frac{e^y}{1 + e^y} = exp(y) / (1 + exp(y)) = p\n",
        "$$\n",
        "\n",
        "which produces p-values between 0 (as y approaches minus infinity $-\\infty$) and 1 (as y approaches plus infinity $+\\infty$). This now becomes a special kind of non-linear regression.\n",
        "\n",
        "In this equation, <i>y</i> is the regression result (the sum of the variables weighted by the coefficients), <code>exp</code> is the exponential function and $\\theta(y)$ is the <a href=\"http://en.wikipedia.org/wiki/Logistic_function?utm_medium=Exinfluencer&utm_source=Exinfluencer&utm_content=000026UJ&utm_term=10006555&utm_id=NA-SkillsNetwork-Channel-SkillsNetworkCoursesIBMDeveloperSkillsNetworkDL0120ENSkillsNetwork20629446-2022-01-01\">logistic function</a>, also called logistic curve. It is a common \"S\" shape (sigmoid curve), and was first developed for modeling population growth.\n",
        "\n",
        "You might also have seen this function before, in another configuration:\n",
        "\n",
        "$$\n",
        "ProbabilityOfaClass = \\theta(y) = \\frac{1}{1+e^{-y}}\n",
        "$$\n",
        "\n",
        "So, briefly, Logistic Regression passes the input through the logistic/sigmoid function but then treats the result as a probability:\n",
        "\n",
        "<img src=\"https://ibm.box.com/shared/static/kgv9alcghmjcv97op4d6onkyxevk23b1.png\" width=\"400\" align=\"center\">\n"
      ]
    },
    {
      "cell_type": "markdown",
      "metadata": {
        "id": "2LShSKpD-4e9"
      },
      "source": [
        "***\n"
      ]
    },
    {
      "cell_type": "markdown",
      "metadata": {
        "id": "KhToUHwl-4fA"
      },
      "source": [
        "<a id=\"ref2\"></a>\n",
        "\n",
        "<h2>Utilizing Logistic Regression in TensorFlow</h2>\n",
        "\n",
        "We begin by installing TensorFlow version 2.2.0 and its required prerequistes.\n"
      ]
    },
    {
      "cell_type": "code",
      "execution_count": 1,
      "metadata": {
        "colab": {
          "base_uri": "https://localhost:8080/"
        },
        "id": "EkSAgOHD-4fC",
        "outputId": "b14a5e62-e9dd-4fd1-b44d-3e7401f542ee"
      },
      "outputs": [
        {
          "output_type": "stream",
          "name": "stdout",
          "text": [
            "Looking in indexes: https://pypi.org/simple, https://us-python.pkg.dev/colab-wheels/public/simple/\n",
            "Collecting grpcio==1.24.3\n",
            "  Downloading grpcio-1.24.3-cp37-cp37m-manylinux2010_x86_64.whl (2.2 MB)\n",
            "\u001b[K     |████████████████████████████████| 2.2 MB 5.1 MB/s \n",
            "\u001b[?25hRequirement already satisfied: six>=1.5.2 in /usr/local/lib/python3.7/dist-packages (from grpcio==1.24.3) (1.15.0)\n",
            "Installing collected packages: grpcio\n",
            "  Attempting uninstall: grpcio\n",
            "    Found existing installation: grpcio 1.46.3\n",
            "    Uninstalling grpcio-1.46.3:\n",
            "      Successfully uninstalled grpcio-1.46.3\n",
            "Successfully installed grpcio-1.24.3\n",
            "Looking in indexes: https://pypi.org/simple, https://us-python.pkg.dev/colab-wheels/public/simple/\n",
            "Collecting tensorflow==2.2.0\n",
            "  Downloading tensorflow-2.2.0-cp37-cp37m-manylinux2010_x86_64.whl (516.2 MB)\n",
            "\u001b[K     |████████████████████████████████| 516.2 MB 4.0 kB/s \n",
            "\u001b[?25hRequirement already satisfied: protobuf>=3.8.0 in /usr/local/lib/python3.7/dist-packages (from tensorflow==2.2.0) (3.17.3)\n",
            "Requirement already satisfied: google-pasta>=0.1.8 in /usr/local/lib/python3.7/dist-packages (from tensorflow==2.2.0) (0.2.0)\n",
            "Requirement already satisfied: keras-preprocessing>=1.1.0 in /usr/local/lib/python3.7/dist-packages (from tensorflow==2.2.0) (1.1.2)\n",
            "Requirement already satisfied: absl-py>=0.7.0 in /usr/local/lib/python3.7/dist-packages (from tensorflow==2.2.0) (1.0.0)\n",
            "Collecting gast==0.3.3\n",
            "  Downloading gast-0.3.3-py2.py3-none-any.whl (9.7 kB)\n",
            "Requirement already satisfied: wheel>=0.26 in /usr/local/lib/python3.7/dist-packages (from tensorflow==2.2.0) (0.37.1)\n",
            "Requirement already satisfied: grpcio>=1.8.6 in /usr/local/lib/python3.7/dist-packages (from tensorflow==2.2.0) (1.24.3)\n",
            "Collecting tensorboard<2.3.0,>=2.2.0\n",
            "  Downloading tensorboard-2.2.2-py3-none-any.whl (3.0 MB)\n",
            "\u001b[K     |████████████████████████████████| 3.0 MB 43.1 MB/s \n",
            "\u001b[?25hRequirement already satisfied: termcolor>=1.1.0 in /usr/local/lib/python3.7/dist-packages (from tensorflow==2.2.0) (1.1.0)\n",
            "Requirement already satisfied: wrapt>=1.11.1 in /usr/local/lib/python3.7/dist-packages (from tensorflow==2.2.0) (1.14.1)\n",
            "Requirement already satisfied: numpy<2.0,>=1.16.0 in /usr/local/lib/python3.7/dist-packages (from tensorflow==2.2.0) (1.21.6)\n",
            "Requirement already satisfied: six>=1.12.0 in /usr/local/lib/python3.7/dist-packages (from tensorflow==2.2.0) (1.15.0)\n",
            "Collecting h5py<2.11.0,>=2.10.0\n",
            "  Downloading h5py-2.10.0-cp37-cp37m-manylinux1_x86_64.whl (2.9 MB)\n",
            "\u001b[K     |████████████████████████████████| 2.9 MB 49.2 MB/s \n",
            "\u001b[?25hRequirement already satisfied: scipy==1.4.1 in /usr/local/lib/python3.7/dist-packages (from tensorflow==2.2.0) (1.4.1)\n",
            "Requirement already satisfied: opt-einsum>=2.3.2 in /usr/local/lib/python3.7/dist-packages (from tensorflow==2.2.0) (3.3.0)\n",
            "Requirement already satisfied: astunparse==1.6.3 in /usr/local/lib/python3.7/dist-packages (from tensorflow==2.2.0) (1.6.3)\n",
            "Collecting tensorflow-estimator<2.3.0,>=2.2.0\n",
            "  Downloading tensorflow_estimator-2.2.0-py2.py3-none-any.whl (454 kB)\n",
            "\u001b[K     |████████████████████████████████| 454 kB 67.3 MB/s \n",
            "\u001b[?25hRequirement already satisfied: werkzeug>=0.11.15 in /usr/local/lib/python3.7/dist-packages (from tensorboard<2.3.0,>=2.2.0->tensorflow==2.2.0) (1.0.1)\n",
            "Requirement already satisfied: setuptools>=41.0.0 in /usr/local/lib/python3.7/dist-packages (from tensorboard<2.3.0,>=2.2.0->tensorflow==2.2.0) (57.4.0)\n",
            "Requirement already satisfied: markdown>=2.6.8 in /usr/local/lib/python3.7/dist-packages (from tensorboard<2.3.0,>=2.2.0->tensorflow==2.2.0) (3.3.7)\n",
            "Requirement already satisfied: requests<3,>=2.21.0 in /usr/local/lib/python3.7/dist-packages (from tensorboard<2.3.0,>=2.2.0->tensorflow==2.2.0) (2.23.0)\n",
            "Requirement already satisfied: tensorboard-plugin-wit>=1.6.0 in /usr/local/lib/python3.7/dist-packages (from tensorboard<2.3.0,>=2.2.0->tensorflow==2.2.0) (1.8.1)\n",
            "Requirement already satisfied: google-auth-oauthlib<0.5,>=0.4.1 in /usr/local/lib/python3.7/dist-packages (from tensorboard<2.3.0,>=2.2.0->tensorflow==2.2.0) (0.4.6)\n",
            "Requirement already satisfied: google-auth<2,>=1.6.3 in /usr/local/lib/python3.7/dist-packages (from tensorboard<2.3.0,>=2.2.0->tensorflow==2.2.0) (1.35.0)\n",
            "Requirement already satisfied: cachetools<5.0,>=2.0.0 in /usr/local/lib/python3.7/dist-packages (from google-auth<2,>=1.6.3->tensorboard<2.3.0,>=2.2.0->tensorflow==2.2.0) (4.2.4)\n",
            "Requirement already satisfied: pyasn1-modules>=0.2.1 in /usr/local/lib/python3.7/dist-packages (from google-auth<2,>=1.6.3->tensorboard<2.3.0,>=2.2.0->tensorflow==2.2.0) (0.2.8)\n",
            "Requirement already satisfied: rsa<5,>=3.1.4 in /usr/local/lib/python3.7/dist-packages (from google-auth<2,>=1.6.3->tensorboard<2.3.0,>=2.2.0->tensorflow==2.2.0) (4.8)\n",
            "Requirement already satisfied: requests-oauthlib>=0.7.0 in /usr/local/lib/python3.7/dist-packages (from google-auth-oauthlib<0.5,>=0.4.1->tensorboard<2.3.0,>=2.2.0->tensorflow==2.2.0) (1.3.1)\n",
            "Requirement already satisfied: importlib-metadata>=4.4 in /usr/local/lib/python3.7/dist-packages (from markdown>=2.6.8->tensorboard<2.3.0,>=2.2.0->tensorflow==2.2.0) (4.11.4)\n",
            "Requirement already satisfied: zipp>=0.5 in /usr/local/lib/python3.7/dist-packages (from importlib-metadata>=4.4->markdown>=2.6.8->tensorboard<2.3.0,>=2.2.0->tensorflow==2.2.0) (3.8.0)\n",
            "Requirement already satisfied: typing-extensions>=3.6.4 in /usr/local/lib/python3.7/dist-packages (from importlib-metadata>=4.4->markdown>=2.6.8->tensorboard<2.3.0,>=2.2.0->tensorflow==2.2.0) (4.2.0)\n",
            "Requirement already satisfied: pyasn1<0.5.0,>=0.4.6 in /usr/local/lib/python3.7/dist-packages (from pyasn1-modules>=0.2.1->google-auth<2,>=1.6.3->tensorboard<2.3.0,>=2.2.0->tensorflow==2.2.0) (0.4.8)\n",
            "Requirement already satisfied: idna<3,>=2.5 in /usr/local/lib/python3.7/dist-packages (from requests<3,>=2.21.0->tensorboard<2.3.0,>=2.2.0->tensorflow==2.2.0) (2.10)\n",
            "Requirement already satisfied: urllib3!=1.25.0,!=1.25.1,<1.26,>=1.21.1 in /usr/local/lib/python3.7/dist-packages (from requests<3,>=2.21.0->tensorboard<2.3.0,>=2.2.0->tensorflow==2.2.0) (1.24.3)\n",
            "Requirement already satisfied: chardet<4,>=3.0.2 in /usr/local/lib/python3.7/dist-packages (from requests<3,>=2.21.0->tensorboard<2.3.0,>=2.2.0->tensorflow==2.2.0) (3.0.4)\n",
            "Requirement already satisfied: certifi>=2017.4.17 in /usr/local/lib/python3.7/dist-packages (from requests<3,>=2.21.0->tensorboard<2.3.0,>=2.2.0->tensorflow==2.2.0) (2022.5.18.1)\n",
            "Requirement already satisfied: oauthlib>=3.0.0 in /usr/local/lib/python3.7/dist-packages (from requests-oauthlib>=0.7.0->google-auth-oauthlib<0.5,>=0.4.1->tensorboard<2.3.0,>=2.2.0->tensorflow==2.2.0) (3.2.0)\n",
            "Installing collected packages: tensorflow-estimator, tensorboard, h5py, gast, tensorflow\n",
            "  Attempting uninstall: tensorflow-estimator\n",
            "    Found existing installation: tensorflow-estimator 2.8.0\n",
            "    Uninstalling tensorflow-estimator-2.8.0:\n",
            "      Successfully uninstalled tensorflow-estimator-2.8.0\n",
            "  Attempting uninstall: tensorboard\n",
            "    Found existing installation: tensorboard 2.8.0\n",
            "    Uninstalling tensorboard-2.8.0:\n",
            "      Successfully uninstalled tensorboard-2.8.0\n",
            "  Attempting uninstall: h5py\n",
            "    Found existing installation: h5py 3.1.0\n",
            "    Uninstalling h5py-3.1.0:\n",
            "      Successfully uninstalled h5py-3.1.0\n",
            "  Attempting uninstall: gast\n",
            "    Found existing installation: gast 0.5.3\n",
            "    Uninstalling gast-0.5.3:\n",
            "      Successfully uninstalled gast-0.5.3\n",
            "  Attempting uninstall: tensorflow\n",
            "    Found existing installation: tensorflow 2.8.2+zzzcolab20220527125636\n",
            "    Uninstalling tensorflow-2.8.2+zzzcolab20220527125636:\n",
            "      Successfully uninstalled tensorflow-2.8.2+zzzcolab20220527125636\n",
            "Successfully installed gast-0.3.3 h5py-2.10.0 tensorboard-2.2.2 tensorflow-2.2.0 tensorflow-estimator-2.2.0\n"
          ]
        }
      ],
      "source": [
        "!pip install grpcio==1.24.3\n",
        "!pip install tensorflow==2.2.0"
      ]
    },
    {
      "cell_type": "markdown",
      "metadata": {
        "id": "vZ5lv8f3-4fH"
      },
      "source": [
        "**Restart kernel for latest version of TensorFlow to be activated, then continue to the next step.**\n"
      ]
    },
    {
      "cell_type": "markdown",
      "metadata": {
        "id": "ot7h6q7A-4fJ"
      },
      "source": [
        "For us to utilize Logistic Regression in TensorFlow, we first need to import the required libraries. To do so, you can run the code cell below.\n"
      ]
    },
    {
      "cell_type": "code",
      "execution_count": 1,
      "metadata": {
        "id": "Ms1ru6aP-4fL"
      },
      "outputs": [],
      "source": [
        "import tensorflow as tf\n",
        "import pandas as pd\n",
        "import numpy as np\n",
        "import time\n",
        "from sklearn.datasets import load_iris\n",
        "from sklearn.model_selection import train_test_split\n",
        "import matplotlib.pyplot as plt"
      ]
    },
    {
      "cell_type": "code",
      "execution_count": 2,
      "metadata": {
        "id": "-j3VhkUD-4fN"
      },
      "outputs": [],
      "source": [
        "if not tf.__version__ == '2.2.0':\n",
        "    print(tf.__version__)\n",
        "    raise ValueError('please upgrade to TensorFlow 2.2.0, or restart your Kernel (Kernel->Restart & Clear Output)')"
      ]
    },
    {
      "cell_type": "markdown",
      "metadata": {
        "id": "9vwzmkpK-4fO"
      },
      "source": [
        "IMPORTANT! => Please restart the kernel by clicking on \"Kernel\"->\"Restart and Clear Outout\" and wait until all output disapears. Then your changes will be picked up.\n",
        "\n",
        "After you have restarted the kernel, re-run the previous two cells to import the libraries properly and then continue to the next section.\n"
      ]
    },
    {
      "cell_type": "markdown",
      "metadata": {
        "id": "3UeLAiUa-4fQ"
      },
      "source": [
        "Next, we will load the dataset we are going to use. In this case, we are utilizing the <code>iris</code> dataset, which is inbuilt -- so there's no need to do any preprocessing and we can jump right into manipulating it. We separate the dataset into <i>xs</i> and <i>ys</i>, and then into training <i>xs</i> and <i>ys</i> and testing <i>xs</i> and <i>ys</i>, (pseudo)randomly.\n"
      ]
    },
    {
      "cell_type": "markdown",
      "metadata": {
        "id": "aEUTlWsA-4fR"
      },
      "source": [
        "<h3>Understanding the Data</h3>\n",
        "\n",
        "<h4><code>Iris Dataset</code>:</h4>\n",
        "This dataset was introduced by British Statistician and Biologist Ronald Fisher, it consists of 50 samples from each of three species of Iris (Iris setosa, Iris virginica and Iris versicolor). In total it has 150 records under five attributes - petal length, petal width, sepal length, sepal width and species. <a href=\"https://archive.ics.uci.edu/ml/datasets/iris?utm_medium=Exinfluencer&utm_source=Exinfluencer&utm_content=000026UJ&utm_term=10006555&utm_id=NA-SkillsNetwork-Channel-SkillsNetworkCoursesIBMDeveloperSkillsNetworkDL0120ENSkillsNetwork20629446-2022-01-01\">Dataset source</a>\n",
        "\n",
        "Attributes\n",
        "Independent Variable\n",
        "\n",
        "<ul>\n",
        "    <li>petal length</li>\n",
        "    <li>petal width</li>\n",
        "    <li>sepal length</li>\n",
        "    <li>sepal width</li>\n",
        "</ul>\n",
        "Dependent Variable\n",
        "<ul>    \n",
        "    <li>Species\n",
        "        <ul>\n",
        "            <li>Iris setosa</li>\n",
        "            <li>Iris virginica</li>\n",
        "            <li>Iris versicolor</li>\n",
        "        </ul>\n",
        "    </li>\n",
        "</ul>\n",
        "<br>\n"
      ]
    },
    {
      "cell_type": "code",
      "execution_count": 3,
      "metadata": {
        "id": "I-sZgqW7-4fT"
      },
      "outputs": [],
      "source": [
        "iris = load_iris()\n",
        "iris_X, iris_y = iris.data[:-1,:], iris.target[:-1]\n",
        "iris_y= pd.get_dummies(iris_y).values\n",
        "trainX, testX, trainY, testY = train_test_split(iris_X, iris_y, test_size=0.33, random_state=42)"
      ]
    },
    {
      "cell_type": "markdown",
      "metadata": {
        "id": "v9dG_FY3-4fT"
      },
      "source": [
        "Now we define x and y. These variables will hold our iris data (both the features and label matrices) We also need to give them shapes which correspond to the shape of our data.\n"
      ]
    },
    {
      "cell_type": "code",
      "execution_count": 4,
      "metadata": {
        "colab": {
          "base_uri": "https://localhost:8080/"
        },
        "id": "myA8c_00-4fV",
        "outputId": "f8da88c0-b191-4af7-e022-02dadf2821cf"
      },
      "outputs": [
        {
          "output_type": "stream",
          "name": "stdout",
          "text": [
            "numFeatures is :  4\n",
            "numLabels is :  3\n"
          ]
        }
      ],
      "source": [
        "# numFeatures is the number of features in our input data.\n",
        "# In the iris dataset, this number is '4'.\n",
        "numFeatures = trainX.shape[1]\n",
        "print('numFeatures is : ', numFeatures )\n",
        "# numLabels is the number of classes our data points can be in.\n",
        "# In the iris dataset, this number is '3'.\n",
        "numLabels = trainY.shape[1]\n",
        "print('numLabels is : ', numLabels )\n",
        "\n",
        "#X = tf.Variable( np.identity(numFeatures), tf.TensorShape(numFeatures),dtype='float32') # Iris has 4 features, so X is a tensor to hold our data.\n",
        "#yGold = tf.Variable(np.array([1,1,1]),shape=tf.TensorShape(numLabels),dtype='float32') # This will be our correct answers matrix for 3 classes."
      ]
    },
    {
      "cell_type": "code",
      "execution_count": 5,
      "metadata": {
        "id": "tTBULpsp-4fW"
      },
      "outputs": [],
      "source": [
        "trainX = tf.constant(trainX, dtype='float32')\n",
        "trainY = tf.constant(trainY, dtype='float32')\n",
        "testX = tf.constant(testX, dtype='float32')\n",
        "testY = tf.constant(testY, dtype='float32')"
      ]
    },
    {
      "cell_type": "markdown",
      "metadata": {
        "id": "57ddykGo-4fX"
      },
      "source": [
        "<h3>Set model weights and bias</h3>\n",
        "\n",
        "Much like Linear Regression, we need a shared variable weight matrix for Logistic Regression. We initialize both <code>W</code> and <code>b</code> as tensors full of zeros. Since we are going to learn <code>W</code> and <code>b</code>, their initial value does not matter too much. These variables are the objects which define the structure of our regression model, and we can save them after they have been trained so we can reuse them later.\n",
        "\n",
        "We define two TensorFlow variables as our parameters. These variables will hold the weights and biases of our logistic regression and they will be continually updated during training.\n",
        "\n",
        "Notice that <code>W</code> has a shape of \\[4, 3] because we want to multiply the 4-dimensional input vectors by it to produce 3-dimensional vectors of evidence for the difference classes. <code>b</code> has a shape of \\[3] so we can add it to the output. TensorFlow variables need to be initialized with values, e.g. with zeros.\n"
      ]
    },
    {
      "cell_type": "code",
      "execution_count": 6,
      "metadata": {
        "id": "n0MDkkk--4fY"
      },
      "outputs": [],
      "source": [
        "W = tf.Variable(tf.zeros([4, 3]))  # 4-dimensional input and  3 classes\n",
        "b = tf.Variable(tf.zeros([3])) # 3-dimensional output [0,0,1],[0,1,0],[1,0,0]"
      ]
    },
    {
      "cell_type": "code",
      "execution_count": 7,
      "metadata": {
        "id": "VMtdj20e-4fZ"
      },
      "outputs": [],
      "source": [
        "#Randomly sample from a normal distribution with standard deviation .01\n",
        "\n",
        "weights = tf.Variable(tf.random.normal([numFeatures,numLabels],\n",
        "                                       mean=0.,\n",
        "                                       stddev=0.01,\n",
        "                                       name=\"weights\"),dtype='float32')\n",
        "\n",
        "\n",
        "bias = tf.Variable(tf.random.normal([1,numLabels],\n",
        "                                    mean=0.,\n",
        "                                    stddev=0.01,\n",
        "                                    name=\"bias\"))\n"
      ]
    },
    {
      "cell_type": "markdown",
      "metadata": {
        "id": "sckGCeQv-4fa"
      },
      "source": [
        "<h3>Logistic Regression model</h3>\n",
        "\n",
        "We now define our operations in order to properly run the Logistic Regression. Logistic regression is typically thought of as a single equation:\n",
        "\n",
        "$$\n",
        "ŷ =sigmoid(WX+b)\n",
        "$$\n",
        "\n",
        "However, for the sake of clarity, we can have it broken into its three main components:\n",
        "\n",
        "*   a weight times features matrix multiplication operation,\n",
        "*   a summation of the weighted features and a bias term,\n",
        "*   and finally the application of a sigmoid function.\n",
        "\n",
        "As such, you will find these components defined as three separate operations below.\n"
      ]
    },
    {
      "cell_type": "code",
      "execution_count": 8,
      "metadata": {
        "id": "3Sdoo9ds-4fc"
      },
      "outputs": [],
      "source": [
        "# Three-component breakdown of the Logistic Regression equation.\n",
        "# Note that these feed into each other.\n",
        "def logistic_regression(x):\n",
        "    apply_weights_OP = tf.matmul(x, weights, name=\"apply_weights\")\n",
        "    add_bias_OP = tf.add(apply_weights_OP, bias, name=\"add_bias\") \n",
        "    activation_OP = tf.nn.sigmoid(add_bias_OP, name=\"activation\")\n",
        "    return activation_OP"
      ]
    },
    {
      "cell_type": "markdown",
      "metadata": {
        "id": "cFgTPO2A-4fd"
      },
      "source": [
        "As we have seen before, the function we are going to use is the <i>logistic function</i> $(\\frac{1}{1+e^{-Wx}})$, which is fed the input data after applying weights and bias. In TensorFlow, this function is implemented as the <code>nn.sigmoid</code> function. Effectively, this fits the weighted input with bias into a 0-100 percent curve, which is the probability function we want.\n"
      ]
    },
    {
      "cell_type": "markdown",
      "metadata": {
        "id": "B1jo92Ug-4fe"
      },
      "source": [
        "<hr>\n"
      ]
    },
    {
      "cell_type": "markdown",
      "metadata": {
        "id": "G6smiBhQ-4ff"
      },
      "source": [
        "<a id=\"ref3\"></a>\n",
        "\n",
        "<h2>Training</h2>\n",
        "\n",
        "The learning algorithm is how we search for the best weight vector (${\\\\\\bf w}$). This search is an optimization problem looking for the hypothesis that optimizes an error/cost measure.\n",
        "\n",
        "<b>What tells us that our model is bad?</b>\\\n",
        "The Cost or Loss of the model, so what we want is to minimize that.\n",
        "\n",
        "<h3>Cost function</h3>\n",
        "Before defining our cost function, we need to define how long we are going to train and how should we define the learning rate.\n"
      ]
    },
    {
      "cell_type": "code",
      "execution_count": 9,
      "metadata": {
        "id": "zG2kxGlm-4ff"
      },
      "outputs": [],
      "source": [
        "# Number of Epochs in our training\n",
        "numEpochs = 700\n",
        "\n",
        "# Defining our learning rate iterations (decay)\n",
        "learningRate = tf.keras.optimizers.schedules.ExponentialDecay(initial_learning_rate=0.0008,\n",
        "                                          decay_steps=trainX.shape[0],\n",
        "                                          decay_rate= 0.95,\n",
        "                                          staircase=True)"
      ]
    },
    {
      "cell_type": "markdown",
      "metadata": {
        "id": "zgFZ8e5b-4fg"
      },
      "source": [
        "<b>What is the cost function in our model?</b>\\\n",
        "The cost function we are going to utilize is the Squared Mean Error loss function.\n",
        "\n",
        "<b>How to minimize the cost function?</b>\\\n",
        "We can't use <b>least-squares linear regression</b> here, so we will use <a href=\"http://en.wikipedia.org/wiki/Gradient_descent?utm_medium=Exinfluencer&utm_source=Exinfluencer&utm_content=000026UJ&utm_term=10006555&utm_id=NA-SkillsNetwork-Channel-SkillsNetworkCoursesIBMDeveloperSkillsNetworkDL0120ENSkillsNetwork20629446-2022-01-01\">gradient descent</a> instead. Specifically, we will use batch gradient descent which calculates the gradient from all data points in the data set.\n"
      ]
    },
    {
      "cell_type": "code",
      "execution_count": 10,
      "metadata": {
        "id": "8wCW1W5y-4fh"
      },
      "outputs": [],
      "source": [
        "#Defining our cost function - Squared Mean Error\n",
        "loss_object = tf.keras.losses.MeanSquaredLogarithmicError()\n",
        "optimizer = tf.keras.optimizers.SGD(learningRate)"
      ]
    },
    {
      "cell_type": "markdown",
      "metadata": {
        "id": "NhQSKgVv-4fi"
      },
      "source": [
        "We also want some additional operations to keep track of our model's efficiency over time. We can do this like so:\n"
      ]
    },
    {
      "cell_type": "code",
      "execution_count": 11,
      "metadata": {
        "id": "kw_vJnOE-4fj"
      },
      "outputs": [],
      "source": [
        "# Accuracy metric.\n",
        "def accuracy(y_pred, y_true):\n",
        "# Predicted class is the index of the highest score in prediction vector (i.e. argmax).\n",
        "\n",
        "    correct_prediction = tf.equal(tf.argmax(y_pred, 1), tf.argmax(y_true, 1))\n",
        "\n",
        "    return tf.reduce_mean(tf.cast(correct_prediction, tf.float32))"
      ]
    },
    {
      "cell_type": "markdown",
      "metadata": {
        "id": "qj3YsjJJ-4fj"
      },
      "source": [
        "We first wrap computation inside a GradientTape for automatic differentiation. Then we compute gradients and update W and b.\n"
      ]
    },
    {
      "cell_type": "code",
      "execution_count": 12,
      "metadata": {
        "id": "ju6Tu2Ax-4fk"
      },
      "outputs": [],
      "source": [
        "# Optimization process. \n",
        "\n",
        "def run_optimization(x, y):\n",
        "    with tf.GradientTape() as g:\n",
        "        pred = logistic_regression(x)\n",
        "        loss = loss_object(pred, y)\n",
        "    gradients = g.gradient(loss, [weights, bias])\n",
        "    optimizer.apply_gradients(zip(gradients, [weights, bias]))"
      ]
    },
    {
      "cell_type": "markdown",
      "metadata": {
        "id": "7ZfbY2K7-4fl"
      },
      "source": [
        "Now we move on to actually running our operations. We will start with the operations involved in the prediction phase (i.e. the logistic regression itself).\n"
      ]
    },
    {
      "cell_type": "markdown",
      "metadata": {
        "id": "-G5rlZ2X-4fl"
      },
      "source": [
        "Now we can define and run the actual training loop, like this:\n"
      ]
    },
    {
      "cell_type": "code",
      "execution_count": 13,
      "metadata": {
        "colab": {
          "base_uri": "https://localhost:8080/"
        },
        "id": "NF9-r6f6-4fm",
        "outputId": "d86452c4-edf2-475a-ebe7-07018c6d89e3"
      },
      "outputs": [
        {
          "output_type": "stream",
          "name": "stdout",
          "text": [
            "step 0, training accuracy 0.3, loss 0.137607, change in loss 0.137607\n",
            "step 10, training accuracy 0.3, loss 0.137019, change in loss 0.000587299\n",
            "step 20, training accuracy 0.3, loss 0.13644, change in loss 0.000579074\n",
            "step 30, training accuracy 0.3, loss 0.135869, change in loss 0.000570819\n",
            "step 40, training accuracy 0.3, loss 0.135307, change in loss 0.000562564\n",
            "step 50, training accuracy 0.3, loss 0.134752, change in loss 0.000554323\n",
            "step 60, training accuracy 0.3, loss 0.134206, change in loss 0.000546083\n",
            "step 70, training accuracy 0.3, loss 0.133668, change in loss 0.000537857\n",
            "step 80, training accuracy 0.28, loss 0.133139, change in loss 0.000529647\n",
            "step 90, training accuracy 0.18, loss 0.132617, change in loss 0.000521496\n",
            "step 100, training accuracy 0.12, loss 0.132109, change in loss 0.000508249\n",
            "step 110, training accuracy 0.08, loss 0.131629, change in loss 0.000480235\n",
            "step 120, training accuracy 0.02, loss 0.131156, change in loss 0.000472963\n",
            "step 130, training accuracy 0.06, loss 0.13069, change in loss 0.000465736\n",
            "step 140, training accuracy 0.14, loss 0.130232, change in loss 0.000458553\n",
            "step 150, training accuracy 0.22, loss 0.12978, change in loss 0.000451416\n",
            "step 160, training accuracy 0.28, loss 0.129336, change in loss 0.000444308\n",
            "step 170, training accuracy 0.32, loss 0.128899, change in loss 0.000437289\n",
            "step 180, training accuracy 0.32, loss 0.128468, change in loss 0.000430316\n",
            "step 190, training accuracy 0.32, loss 0.128045, change in loss 0.000423387\n",
            "step 200, training accuracy 0.32, loss 0.127635, change in loss 0.000410363\n",
            "step 210, training accuracy 0.32, loss 0.127245, change in loss 0.000389501\n",
            "step 220, training accuracy 0.32, loss 0.126862, change in loss 0.000383481\n",
            "step 230, training accuracy 0.32, loss 0.126484, change in loss 0.000377446\n",
            "step 240, training accuracy 0.32, loss 0.126113, change in loss 0.000371516\n",
            "step 250, training accuracy 0.32, loss 0.125747, change in loss 0.000365645\n",
            "step 260, training accuracy 0.32, loss 0.125387, change in loss 0.000359818\n",
            "step 270, training accuracy 0.32, loss 0.125033, change in loss 0.000354096\n",
            "step 280, training accuracy 0.32, loss 0.124685, change in loss 0.000348397\n",
            "step 290, training accuracy 0.32, loss 0.124342, change in loss 0.000342801\n",
            "step 300, training accuracy 0.32, loss 0.124011, change in loss 0.000330552\n",
            "step 310, training accuracy 0.32, loss 0.123696, change in loss 0.000315405\n",
            "step 320, training accuracy 0.32, loss 0.123385, change in loss 0.000310555\n",
            "step 330, training accuracy 0.32, loss 0.12308, change in loss 0.000305712\n",
            "step 340, training accuracy 0.32, loss 0.122779, change in loss 0.000300966\n",
            "step 350, training accuracy 0.32, loss 0.122482, change in loss 0.000296287\n",
            "step 360, training accuracy 0.32, loss 0.122191, change in loss 0.000291646\n",
            "step 370, training accuracy 0.32, loss 0.121904, change in loss 0.000287086\n",
            "step 380, training accuracy 0.32, loss 0.121621, change in loss 0.000282571\n",
            "step 390, training accuracy 0.32, loss 0.121343, change in loss 0.000278138\n",
            "step 400, training accuracy 0.32, loss 0.121076, change in loss 0.000266962\n",
            "step 410, training accuracy 0.32, loss 0.12082, change in loss 0.000256158\n",
            "step 420, training accuracy 0.32, loss 0.120567, change in loss 0.000252336\n",
            "step 430, training accuracy 0.32, loss 0.120319, change in loss 0.000248536\n",
            "step 440, training accuracy 0.32, loss 0.120074, change in loss 0.000244796\n",
            "step 450, training accuracy 0.32, loss 0.119833, change in loss 0.000241138\n",
            "step 460, training accuracy 0.32, loss 0.119596, change in loss 0.000237472\n",
            "step 470, training accuracy 0.32, loss 0.119362, change in loss 0.000233918\n",
            "step 480, training accuracy 0.32, loss 0.119131, change in loss 0.000230402\n",
            "step 490, training accuracy 0.32, loss 0.118904, change in loss 0.000226922\n",
            "step 500, training accuracy 0.32, loss 0.118687, change in loss 0.000216842\n",
            "step 510, training accuracy 0.32, loss 0.118478, change in loss 0.000209317\n",
            "step 520, training accuracy 0.32, loss 0.118272, change in loss 0.000206292\n",
            "step 530, training accuracy 0.32, loss 0.118068, change in loss 0.000203364\n",
            "step 540, training accuracy 0.32, loss 0.117868, change in loss 0.00020045\n",
            "step 550, training accuracy 0.32, loss 0.11767, change in loss 0.000197574\n",
            "step 560, training accuracy 0.32, loss 0.117476, change in loss 0.000194758\n",
            "step 570, training accuracy 0.32, loss 0.117284, change in loss 0.000191987\n",
            "step 580, training accuracy 0.32, loss 0.117094, change in loss 0.000189245\n",
            "step 590, training accuracy 0.32, loss 0.116908, change in loss 0.00018654\n",
            "step 600, training accuracy 0.32, loss 0.11673, change in loss 0.000177495\n",
            "step 610, training accuracy 0.32, loss 0.116558, change in loss 0.000172362\n",
            "step 620, training accuracy 0.32, loss 0.116388, change in loss 0.00017003\n",
            "step 630, training accuracy 0.32, loss 0.11622, change in loss 0.000167727\n",
            "step 640, training accuracy 0.32, loss 0.116055, change in loss 0.000165492\n",
            "step 650, training accuracy 0.32, loss 0.115892, change in loss 0.00016325\n",
            "step 660, training accuracy 0.32, loss 0.11573, change in loss 0.000161067\n",
            "step 670, training accuracy 0.32, loss 0.115572, change in loss 0.000158891\n",
            "step 680, training accuracy 0.32, loss 0.115415, change in loss 0.000156783\n",
            "step 690, training accuracy 0.32, loss 0.11526, change in loss 0.000154689\n",
            "final accuracy on test set: 0.32\n"
          ]
        }
      ],
      "source": [
        "# Initialize reporting variables\n",
        "display_step = 10\n",
        "epoch_values = []\n",
        "accuracy_values = []\n",
        "loss_values = []\n",
        "loss = 0\n",
        "diff = 1\n",
        "# Training epochs\n",
        "for i in range(numEpochs):\n",
        "    if i > 1 and diff < .0001:\n",
        "        print(\"change in loss %g; convergence.\"%diff)\n",
        "        break\n",
        "    else:\n",
        "        # Run training step\n",
        "        run_optimization(trainX, trainY)\n",
        "        \n",
        "        # Report occasional stats\n",
        "        if i % display_step == 0:\n",
        "            # Add epoch to epoch_values\n",
        "            epoch_values.append(i)\n",
        "            \n",
        "            pred = logistic_regression(testX)\n",
        "\n",
        "            newLoss = loss_object(pred, testY)\n",
        "            # Add loss to live graphing variable\n",
        "            loss_values.append(newLoss)\n",
        "            \n",
        "            # Generate accuracy stats on test data\n",
        "            acc = accuracy(pred, testY)\n",
        "            accuracy_values.append(acc)\n",
        "            \n",
        "    \n",
        "            # Re-assign values for variables\n",
        "            diff = abs(newLoss - loss)\n",
        "            loss = newLoss\n",
        "\n",
        "            #generate print statements\n",
        "            print(\"step %d, training accuracy %g, loss %g, change in loss %g\"%(i, acc, newLoss, diff))\n",
        "\n",
        "        \n",
        "\n",
        "          \n",
        "\n",
        "# How well do we perform on held-out test data?\n",
        "print(\"final accuracy on test set: %s\" %acc.numpy())\n",
        "\n",
        "\n"
      ]
    },
    {
      "cell_type": "markdown",
      "metadata": {
        "id": "HOsp-wib-4fn"
      },
      "source": [
        "<b>Why don't we plot the loss to see how it behaves?</b>\n"
      ]
    },
    {
      "cell_type": "code",
      "execution_count": 14,
      "metadata": {
        "colab": {
          "base_uri": "https://localhost:8080/",
          "height": 279
        },
        "id": "yA2nf_ud-4fo",
        "outputId": "6b65d648-f4ba-4dd9-9f6e-39f7a1138676"
      },
      "outputs": [
        {
          "output_type": "display_data",
          "data": {
            "text/plain": [
              "<Figure size 432x288 with 1 Axes>"
            ],
            "image/png": "[encoded data removed]"
          },
          "metadata": {
            "needs_background": "light"
          }
        }
      ],
      "source": [
        "%matplotlib inline\n",
        "import numpy as np\n",
        "import matplotlib.pyplot as plt\n",
        "plt.xlabel(\"Epoch\")\n",
        "plt.ylabel(\"Loss\")\n",
        "plt.plot(loss_values)\n",
        "plt.show()"
      ]
    },
    {
      "cell_type": "markdown",
      "metadata": {
        "id": "xseNGjZE-4fp"
      },
      "source": [
        "Try changing the parameters such as the length of training, and maybe some operations to see how the model behaves. Does it take much longer? How is the performance?\n"
      ]
    },
    {
      "cell_type": "markdown",
      "metadata": {
        "id": "ifg9dNDa-4fp"
      },
      "source": [
        "<hr>\n"
      ]
    },
    {
      "cell_type": "markdown",
      "metadata": {
        "id": "hwb9OBQR-4fq"
      },
      "source": [
        "## Want to learn more?\n",
        "\n",
        "Also, you can use **Watson Studio** to run these notebooks faster with bigger datasets.**Watson Studio** is IBM’s leading cloud solution for data scientists, built by data scientists. With Jupyter notebooks, RStudio, Apache Spark and popular libraries pre-packaged in the cloud, **Watson Studio** enables data scientists to collaborate on their projects without having to install anything. Join the fast-growing community of **Watson Studio** users today with a free account at [Watson Studio](https://cocl.us/ML0120EN_DSX).This is the end of this lesson. Thank you for reading this notebook, and good luck on your studies.\n"
      ]
    },
    {
      "cell_type": "markdown",
      "metadata": {
        "id": "qe_SyvrK-4fr"
      },
      "source": [
        "### Thanks for completing this lesson!\n",
        "\n",
        "This is the end of **Logistic Regression with TensorFlow** notebook. Hopefully, now you have a deeper understanding of Logistic Regression and how its structure and flow work. Thank you for reading this notebook and good luck on your studies.\n"
      ]
    },
    {
      "cell_type": "markdown",
      "metadata": {
        "id": "S6XIyENg-4fs"
      },
      "source": [
        "Created by: <a href=\"https://linkedin.com/in/romeo-kienzler-089b4557?utm_medium=Exinfluencer&utm_source=Exinfluencer&utm_content=000026UJ&utm_term=10006555&utm_id=NA-SkillsNetwork-Channel-SkillsNetworkCoursesIBMDeveloperSkillsNetworkDL0120ENSkillsNetwork20629446-2022-01-01\"> Romeo Kienzler </a>, <a href=\"https://br.linkedin.com/in/walter-gomes-de-amorim-junior-624726121?utm_medium=Exinfluencer&utm_source=Exinfluencer&utm_content=000026UJ&utm_term=10006555&utm_id=NA-SkillsNetwork-Channel-SkillsNetworkCoursesIBMDeveloperSkillsNetworkDL0120ENSkillsNetwork20629446-2022-01-01\">Saeed Aghabozorgi</a> , <a href=\"https://br.linkedin.com/in/walter-gomes-de-amorim-junior-624726121?utm_medium=Exinfluencer&utm_source=Exinfluencer&utm_content=000026UJ&utm_term=10006555&utm_id=NA-SkillsNetwork-Channel-SkillsNetworkCoursesIBMDeveloperSkillsNetworkDL0120ENSkillsNetwork20629446-2022-01-01\">Walter Gomes de Amorim Junior</a> ,  Victor Barros Costa\n",
        "\n",
        "Updated to TF 2.X by  <a href=\"https://www.linkedin.com/in/samaya-madhavan?utm_medium=Exinfluencer&utm_source=Exinfluencer&utm_content=000026UJ&utm_term=10006555&utm_id=NA-SkillsNetwork-Channel-SkillsNetworkCoursesIBMDeveloperSkillsNetworkDL0120ENSkillsNetwork20629446-2022-01-01\"> Samaya Madhavan </a>\n"
      ]
    },
    {
      "cell_type": "markdown",
      "metadata": {
        "id": "g6qZ07NI-4ft"
      },
      "source": [
        "## Change Log\n",
        "\n",
        "| Date (YYYY-MM-DD) | Version | Changed By | Change Description                                          |\n",
        "| ----------------- | ------- | ---------- | ----------------------------------------------------------- |\n",
        "| 2020-09-21        | 2.0     | Srishti    | Migrated Lab to Markdown and added to course repo in GitLab |\n",
        "\n",
        "<hr>\n",
        "\n",
        "## <h3 align=\"center\"> © IBM Corporation 2020. All rights reserved. <h3/>\n"
      ]
    },
    {
      "cell_type": "markdown",
      "metadata": {
        "id": "-NvfRaBC-4fu"
      },
      "source": [
        "<hr>\n",
        "\n",
        "Copyright © 2018 [Cognitive Class](https://cocl.us/DX0108EN_CC). This notebook and its source code are released under the terms of the [MIT License](https://bigdatauniversity.com/mit-license?utm_medium=Exinfluencer&utm_source=Exinfluencer&utm_content=000026UJ&utm_term=10006555&utm_id=NA-SkillsNetwork-Channel-SkillsNetworkCoursesIBMDeveloperSkillsNetworkDL0120ENSkillsNetwork20629446-2022-01-01&cm_mmc=Email_Newsletter-\\_-Developer_Ed%2BTech-\\_-WW_WW-\\_-SkillsNetwork-Courses-IBMDeveloperSkillsNetwork-DL0120EN-SkillsNetwork-20629446&cm_mmca1=000026UJ&cm_mmca2=10006555&cm_mmca3=M12345678&cvosrc=email.Newsletter.M12345678&cvo_campaign=000026UJ).\n"
      ]
    }
  ],
  "metadata": {
    "kernelspec": {
      "display_name": "Python 3",
      "language": "python",
      "name": "python3"
    },
    "language_info": {
      "codemirror_mode": {
        "name": "ipython",
        "version": 3
      },
      "file_extension": ".py",
      "mimetype": "text/x-python",
      "name": "python",
      "nbconvert_exporter": "python",
      "pygments_lexer": "ipython3",
      "version": "3.8.0"
    },
    "colab": {
      "name": "ML0120EN-1.4-Review-LogisticRegressionwithTensorFlow (2).ipynb",
      "provenance": [],
      "include_colab_link": true
    }
  },
  "nbformat": 4,
  "nbformat_minor": 0
}