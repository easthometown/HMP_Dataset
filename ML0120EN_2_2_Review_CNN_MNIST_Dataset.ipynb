{
  "cells": [
    {
      "cell_type": "markdown",
      "metadata": {
        "id": "view-in-github",
        "colab_type": "text"
      },
      "source": [
        "<a href=\"https://colab.research.google.com/github/easthometown/HMP_Dataset/blob/master/ML0120EN_2_2_Review_CNN_MNIST_Dataset.ipynb\" target=\"_parent\"><img src=\"https://colab.research.google.com/assets/colab-badge.svg\" alt=\"Open In Colab\"/></a>"
      ]
    },
    {
      "cell_type": "markdown",
      "metadata": {
        "id": "a7k0T5XlTvCb"
      },
      "source": [
        "<a href=\"https://www.skills.network/?utm_medium=Exinfluencer&utm_source=Exinfluencer&utm_content=000026UJ&utm_term=10006555&utm_id=NA-SkillsNetwork-Channel-SkillsNetworkCoursesIBMDeveloperSkillsNetworkDL0120ENSkillsNetwork20629446-2022-01-01\"><img src=\"https://cf-courses-data.s3.us.cloud-object-storage.appdomain.cloud/IBM-DL0120ENedX/labs/Template%20for%20Instructional%20Hands-on%20Labs/images/IDSNlogo.png\" width=\"400px\" align=\"center\"></a>\n",
        "\n",
        "<h1 align=\"center\"><font size=\"5\">CONVOLUTIONAL NEURAL NETWORK APPLICATION</font></h1>\n"
      ]
    },
    {
      "cell_type": "markdown",
      "metadata": {
        "id": "w1kWZH8uTvCu"
      },
      "source": [
        "<h2>Introduction</h2>\n"
      ]
    },
    {
      "cell_type": "markdown",
      "metadata": {
        "id": "SS3cFgiNTvCy"
      },
      "source": [
        "Estimated time needed: **25** minutes\n"
      ]
    },
    {
      "cell_type": "markdown",
      "metadata": {
        "id": "mZ6cJb7zTvCz"
      },
      "source": [
        "In this section, we will use the famous [MNIST Dataset](http://yann.lecun.com/exdb/mnist/?utm_medium=Exinfluencer&utm_source=Exinfluencer&utm_content=000026UJ&utm_term=10006555&utm_id=NA-SkillsNetwork-Channel-SkillsNetworkCoursesIBMDeveloperSkillsNetworkDL0120ENSkillsNetwork20629446-2022-01-01) to build two Neural Networks capable to perform handwritten digits classification. The first Network is a simple Multi-layer Perceptron (MLP) and the second one is a Convolutional Neural Network (CNN from now on). In other words, when given an input our algorithm will say, with some associated error, what type of digit this input represents.\n"
      ]
    },
    {
      "cell_type": "markdown",
      "metadata": {
        "id": "VEpklPNVTvC1"
      },
      "source": [
        "***\n"
      ]
    },
    {
      "cell_type": "markdown",
      "metadata": {
        "id": "Ee8ojFWkTvC3"
      },
      "source": [
        "<div class=\"alert alert-block alert-info\" style=\"margin-top: 20px\">\n",
        "<font size = 3><strong>Click on the links to go to the following sections:</strong></font>\n",
        "<br>\n",
        "<h2>Table of Contents</h2>\n",
        "<ol>\n",
        "    <li><a href=\"https://#ref1\">What is Deep Learning</a></li>\n",
        "    <li><a href=\"https://#ref2\">Simple test: Is TensorFlow working?</a></li>\n",
        "    <li><a href=\"https://#ref3\">1st part: classify MNIST using a simple model</a></li>\n",
        "    <li><a href=\"https://#ref4\">Evaluating the final result</a></li>\n",
        "    <li><a href=\"https://#ref5\">How to improve our model?</a></li>\n",
        "    <li><a href=\"https://#ref6\">2nd part: Deep Learning applied on MNIST</a></li>\n",
        "    <li><a href=\"https://#ref7\">Summary of the Deep Convolutional Neural Network</a></li>\n",
        "    <li><a href=\"https://#ref8\">Define functions and train the model</a></li>\n",
        "    <li><a href=\"https://#ref9\">Evaluate the model</a></li>\n",
        "</ol>    \n",
        "</div>\n"
      ]
    },
    {
      "cell_type": "markdown",
      "metadata": {
        "id": "-14Ht5ZGTvC6"
      },
      "source": [
        "<hr>\n"
      ]
    },
    {
      "cell_type": "markdown",
      "metadata": {
        "id": "Grw2I6QTTvC9"
      },
      "source": [
        "<a id=\"ref1\"></a>\n",
        "\n",
        "<h2>What is Deep Learning?</h2>\n"
      ]
    },
    {
      "cell_type": "markdown",
      "metadata": {
        "id": "sfsyPf4VTvDA"
      },
      "source": [
        "<b>Brief Theory:</b> Deep learning (also known as deep structured learning, hierarchical learning or deep machine learning) is a branch of machine learning based on a set of algorithms that attempt to model high-level abstractions in data by using multiple processing layers, with complex structures or otherwise, composed of multiple non-linear transformations.\n"
      ]
    },
    {
      "cell_type": "markdown",
      "metadata": {
        "id": "GFxz1SLsTvDE"
      },
      "source": [
        "<img src=\"https://ibm.box.com/shared/static/gcbbrh440604cj2nksu3f44be87b8ank.png\" alt=\"HTML5 Icon\" style=\"width: 600px; height: 450px;\">\n",
        "<div style=\"text-align: center\">It's time for deep learning. Our brain doesn't work with only one or three layers. Why it would be different with machines?. </div>\n"
      ]
    },
    {
      "cell_type": "markdown",
      "metadata": {
        "id": "jWX3_30BTvDG"
      },
      "source": [
        "<b>In Practice, defining the term \"Deep\":</b> in this context, deep means that we are studying a Neural Network which has several hidden layers (more than one), no matter what type (convolutional, pooling, normalization, fully-connected etc). The most interesting part is that some papers noticed that Deep Neural Networks with the right architectures/hyper-parameters achieve better results than shallow Neural Networks with the same computational power (e.g. number of neurons or connections).\n"
      ]
    },
    {
      "cell_type": "markdown",
      "metadata": {
        "id": "e9y-ryfVTvDH"
      },
      "source": [
        "<b>In Practice, defining \"Learning\":</b> In the context of supervised learning, digits recognition in our case, the learning part consists of a target/feature which is to be predicted using a given set of observations with the already known final prediction (label). In our case, the target will be the digit (0, 1, 2, 3, 4, 5, 6, 7, 8, 9) and the observations are the intensity and relative position of the pixels. After some training, it is possible to generate a \"function\" that map inputs (digit image) to desired outputs(type of digit). The only problem is how well this map operation occurs. While trying to generate this \"function\", the training process continues until the model achieves a desired level of accuracy on the training data.\n"
      ]
    },
    {
      "cell_type": "markdown",
      "metadata": {
        "id": "PUnvsYYETvDJ"
      },
      "source": [
        "<hr>\n"
      ]
    },
    {
      "cell_type": "markdown",
      "metadata": {
        "id": "mFOyLFmqTvDK"
      },
      "source": [
        "<h2>Installing TensorFlow </h2>\n",
        "\n",
        "We begin by installing TensorFlow version 2.2.0 and its required prerequistes.\n"
      ]
    },
    {
      "cell_type": "code",
      "execution_count": 1,
      "metadata": {
        "colab": {
          "base_uri": "https://localhost:8080/"
        },
        "id": "valfmiBsTvDM",
        "outputId": "655fef3c-94a2-4f22-e631-99189a7df9c7"
      },
      "outputs": [
        {
          "output_type": "stream",
          "name": "stdout",
          "text": [
            "Looking in indexes: https://pypi.org/simple, https://us-python.pkg.dev/colab-wheels/public/simple/\n",
            "Collecting grpcio==1.24.3\n",
            "  Downloading grpcio-1.24.3-cp37-cp37m-manylinux2010_x86_64.whl (2.2 MB)\n",
            "\u001b[K     |████████████████████████████████| 2.2 MB 6.8 MB/s \n",
            "\u001b[?25hRequirement already satisfied: six>=1.5.2 in /usr/local/lib/python3.7/dist-packages (from grpcio==1.24.3) (1.15.0)\n",
            "Installing collected packages: grpcio\n",
            "  Attempting uninstall: grpcio\n",
            "    Found existing installation: grpcio 1.46.3\n",
            "    Uninstalling grpcio-1.46.3:\n",
            "      Successfully uninstalled grpcio-1.46.3\n",
            "Successfully installed grpcio-1.24.3\n",
            "Looking in indexes: https://pypi.org/simple, https://us-python.pkg.dev/colab-wheels/public/simple/\n",
            "Collecting tensorflow==2.2.0\n",
            "  Downloading tensorflow-2.2.0-cp37-cp37m-manylinux2010_x86_64.whl (516.2 MB)\n",
            "\u001b[K     |████████████████████████████████| 516.2 MB 4.3 kB/s \n",
            "\u001b[33mWARNING: Retrying (Retry(total=4, connect=None, read=None, redirect=None, status=None)) after connection broken by 'ProtocolError('Connection aborted.', ConnectionResetError(104, 'Connection reset by peer'))': /simple/gast/\u001b[0m\n",
            "\u001b[?25hCollecting gast==0.3.3\n",
            "  Downloading gast-0.3.3-py2.py3-none-any.whl (9.7 kB)\n",
            "Collecting tensorflow-estimator<2.3.0,>=2.2.0\n",
            "  Downloading tensorflow_estimator-2.2.0-py2.py3-none-any.whl (454 kB)\n",
            "\u001b[K     |████████████████████████████████| 454 kB 50.5 MB/s \n",
            "\u001b[?25hRequirement already satisfied: scipy==1.4.1 in /usr/local/lib/python3.7/dist-packages (from tensorflow==2.2.0) (1.4.1)\n",
            "Requirement already satisfied: google-pasta>=0.1.8 in /usr/local/lib/python3.7/dist-packages (from tensorflow==2.2.0) (0.2.0)\n",
            "Requirement already satisfied: wrapt>=1.11.1 in /usr/local/lib/python3.7/dist-packages (from tensorflow==2.2.0) (1.14.1)\n",
            "Requirement already satisfied: absl-py>=0.7.0 in /usr/local/lib/python3.7/dist-packages (from tensorflow==2.2.0) (1.0.0)\n",
            "Requirement already satisfied: wheel>=0.26 in /usr/local/lib/python3.7/dist-packages (from tensorflow==2.2.0) (0.37.1)\n",
            "Requirement already satisfied: grpcio>=1.8.6 in /usr/local/lib/python3.7/dist-packages (from tensorflow==2.2.0) (1.24.3)\n",
            "Requirement already satisfied: numpy<2.0,>=1.16.0 in /usr/local/lib/python3.7/dist-packages (from tensorflow==2.2.0) (1.21.6)\n",
            "Collecting tensorboard<2.3.0,>=2.2.0\n",
            "  Downloading tensorboard-2.2.2-py3-none-any.whl (3.0 MB)\n",
            "\u001b[K     |████████████████████████████████| 3.0 MB 49.1 MB/s \n",
            "\u001b[?25hRequirement already satisfied: astunparse==1.6.3 in /usr/local/lib/python3.7/dist-packages (from tensorflow==2.2.0) (1.6.3)\n",
            "Requirement already satisfied: protobuf>=3.8.0 in /usr/local/lib/python3.7/dist-packages (from tensorflow==2.2.0) (3.17.3)\n",
            "Requirement already satisfied: termcolor>=1.1.0 in /usr/local/lib/python3.7/dist-packages (from tensorflow==2.2.0) (1.1.0)\n",
            "Requirement already satisfied: six>=1.12.0 in /usr/local/lib/python3.7/dist-packages (from tensorflow==2.2.0) (1.15.0)\n",
            "Requirement already satisfied: opt-einsum>=2.3.2 in /usr/local/lib/python3.7/dist-packages (from tensorflow==2.2.0) (3.3.0)\n",
            "Collecting h5py<2.11.0,>=2.10.0\n",
            "  Downloading h5py-2.10.0-cp37-cp37m-manylinux1_x86_64.whl (2.9 MB)\n",
            "\u001b[K     |████████████████████████████████| 2.9 MB 45.2 MB/s \n",
            "\u001b[?25hRequirement already satisfied: keras-preprocessing>=1.1.0 in /usr/local/lib/python3.7/dist-packages (from tensorflow==2.2.0) (1.1.2)\n",
            "Requirement already satisfied: requests<3,>=2.21.0 in /usr/local/lib/python3.7/dist-packages (from tensorboard<2.3.0,>=2.2.0->tensorflow==2.2.0) (2.23.0)\n",
            "Requirement already satisfied: setuptools>=41.0.0 in /usr/local/lib/python3.7/dist-packages (from tensorboard<2.3.0,>=2.2.0->tensorflow==2.2.0) (57.4.0)\n",
            "Requirement already satisfied: google-auth-oauthlib<0.5,>=0.4.1 in /usr/local/lib/python3.7/dist-packages (from tensorboard<2.3.0,>=2.2.0->tensorflow==2.2.0) (0.4.6)\n",
            "Requirement already satisfied: tensorboard-plugin-wit>=1.6.0 in /usr/local/lib/python3.7/dist-packages (from tensorboard<2.3.0,>=2.2.0->tensorflow==2.2.0) (1.8.1)\n",
            "Requirement already satisfied: werkzeug>=0.11.15 in /usr/local/lib/python3.7/dist-packages (from tensorboard<2.3.0,>=2.2.0->tensorflow==2.2.0) (1.0.1)\n",
            "Requirement already satisfied: google-auth<2,>=1.6.3 in /usr/local/lib/python3.7/dist-packages (from tensorboard<2.3.0,>=2.2.0->tensorflow==2.2.0) (1.35.0)\n",
            "Requirement already satisfied: markdown>=2.6.8 in /usr/local/lib/python3.7/dist-packages (from tensorboard<2.3.0,>=2.2.0->tensorflow==2.2.0) (3.3.7)\n",
            "Requirement already satisfied: rsa<5,>=3.1.4 in /usr/local/lib/python3.7/dist-packages (from google-auth<2,>=1.6.3->tensorboard<2.3.0,>=2.2.0->tensorflow==2.2.0) (4.8)\n",
            "Requirement already satisfied: cachetools<5.0,>=2.0.0 in /usr/local/lib/python3.7/dist-packages (from google-auth<2,>=1.6.3->tensorboard<2.3.0,>=2.2.0->tensorflow==2.2.0) (4.2.4)\n",
            "Requirement already satisfied: pyasn1-modules>=0.2.1 in /usr/local/lib/python3.7/dist-packages (from google-auth<2,>=1.6.3->tensorboard<2.3.0,>=2.2.0->tensorflow==2.2.0) (0.2.8)\n",
            "Requirement already satisfied: requests-oauthlib>=0.7.0 in /usr/local/lib/python3.7/dist-packages (from google-auth-oauthlib<0.5,>=0.4.1->tensorboard<2.3.0,>=2.2.0->tensorflow==2.2.0) (1.3.1)\n",
            "Requirement already satisfied: importlib-metadata>=4.4 in /usr/local/lib/python3.7/dist-packages (from markdown>=2.6.8->tensorboard<2.3.0,>=2.2.0->tensorflow==2.2.0) (4.11.4)\n",
            "Requirement already satisfied: zipp>=0.5 in /usr/local/lib/python3.7/dist-packages (from importlib-metadata>=4.4->markdown>=2.6.8->tensorboard<2.3.0,>=2.2.0->tensorflow==2.2.0) (3.8.0)\n",
            "Requirement already satisfied: typing-extensions>=3.6.4 in /usr/local/lib/python3.7/dist-packages (from importlib-metadata>=4.4->markdown>=2.6.8->tensorboard<2.3.0,>=2.2.0->tensorflow==2.2.0) (4.2.0)\n",
            "Requirement already satisfied: pyasn1<0.5.0,>=0.4.6 in /usr/local/lib/python3.7/dist-packages (from pyasn1-modules>=0.2.1->google-auth<2,>=1.6.3->tensorboard<2.3.0,>=2.2.0->tensorflow==2.2.0) (0.4.8)\n",
            "Requirement already satisfied: chardet<4,>=3.0.2 in /usr/local/lib/python3.7/dist-packages (from requests<3,>=2.21.0->tensorboard<2.3.0,>=2.2.0->tensorflow==2.2.0) (3.0.4)\n",
            "Requirement already satisfied: certifi>=2017.4.17 in /usr/local/lib/python3.7/dist-packages (from requests<3,>=2.21.0->tensorboard<2.3.0,>=2.2.0->tensorflow==2.2.0) (2022.5.18.1)\n",
            "Requirement already satisfied: urllib3!=1.25.0,!=1.25.1,<1.26,>=1.21.1 in /usr/local/lib/python3.7/dist-packages (from requests<3,>=2.21.0->tensorboard<2.3.0,>=2.2.0->tensorflow==2.2.0) (1.24.3)\n",
            "Requirement already satisfied: idna<3,>=2.5 in /usr/local/lib/python3.7/dist-packages (from requests<3,>=2.21.0->tensorboard<2.3.0,>=2.2.0->tensorflow==2.2.0) (2.10)\n",
            "Requirement already satisfied: oauthlib>=3.0.0 in /usr/local/lib/python3.7/dist-packages (from requests-oauthlib>=0.7.0->google-auth-oauthlib<0.5,>=0.4.1->tensorboard<2.3.0,>=2.2.0->tensorflow==2.2.0) (3.2.0)\n",
            "Installing collected packages: tensorflow-estimator, tensorboard, h5py, gast, tensorflow\n",
            "  Attempting uninstall: tensorflow-estimator\n",
            "    Found existing installation: tensorflow-estimator 2.8.0\n",
            "    Uninstalling tensorflow-estimator-2.8.0:\n",
            "      Successfully uninstalled tensorflow-estimator-2.8.0\n",
            "  Attempting uninstall: tensorboard\n",
            "    Found existing installation: tensorboard 2.8.0\n",
            "    Uninstalling tensorboard-2.8.0:\n",
            "      Successfully uninstalled tensorboard-2.8.0\n",
            "  Attempting uninstall: h5py\n",
            "    Found existing installation: h5py 3.1.0\n",
            "    Uninstalling h5py-3.1.0:\n",
            "      Successfully uninstalled h5py-3.1.0\n",
            "  Attempting uninstall: gast\n",
            "    Found existing installation: gast 0.5.3\n",
            "    Uninstalling gast-0.5.3:\n",
            "      Successfully uninstalled gast-0.5.3\n",
            "  Attempting uninstall: tensorflow\n",
            "    Found existing installation: tensorflow 2.8.2+zzzcolab20220527125636\n",
            "    Uninstalling tensorflow-2.8.2+zzzcolab20220527125636:\n",
            "      Successfully uninstalled tensorflow-2.8.2+zzzcolab20220527125636\n",
            "Successfully installed gast-0.3.3 h5py-2.10.0 tensorboard-2.2.2 tensorflow-2.2.0 tensorflow-estimator-2.2.0\n"
          ]
        }
      ],
      "source": [
        "!pip install grpcio==1.24.3\n",
        "!pip install tensorflow==2.2.0"
      ]
    },
    {
      "cell_type": "markdown",
      "metadata": {
        "id": "1_SrCu_oTvDQ"
      },
      "source": [
        "<b>Notice:</b> This notebook has been created with TensorFlow version 2.2, and might not work with other versions. Therefore we check:\n"
      ]
    },
    {
      "cell_type": "code",
      "execution_count": 2,
      "metadata": {
        "id": "bMB-eAYoTvDR"
      },
      "outputs": [],
      "source": [
        "import tensorflow as tf\n",
        "from IPython.display import Markdown, display\n",
        "\n",
        "def printmd(string):\n",
        "    display(Markdown('# <span style=\"color:red\">'+string+'</span>'))\n",
        "\n",
        "\n",
        "if not tf.__version__ == '2.2.0':\n",
        "    printmd('<<<<<!!!!! ERROR !!!! please upgrade to TensorFlow 2.2.0, or restart your Kernel (Kernel->Restart & Clear Output)>>>>>')"
      ]
    },
    {
      "cell_type": "markdown",
      "metadata": {
        "id": "RlzCCkqCTvDT"
      },
      "source": [
        "In this tutorial, we first classify MNIST using a simple Multi-layer perceptron and then, in the second part, we use deeplearning to improve the accuracy of our results.\n",
        "\n",
        "<a id=\"ref3\"></a>\n",
        "\n",
        "<h2>1st part: classify MNIST using a simple model.</h2>\n"
      ]
    },
    {
      "cell_type": "markdown",
      "metadata": {
        "id": "qcRr34zhTvDT"
      },
      "source": [
        "We are going to create a simple Multi-layer perceptron, a simple type of Neural Network, to perform classification tasks on the MNIST digits dataset. If you are not familiar with the MNIST dataset, please consider to read more about it: <a href=\"http://yann.lecun.com/exdb/mnist/?utm_medium=Exinfluencer&utm_source=Exinfluencer&utm_content=000026UJ&utm_term=10006555&utm_id=NA-SkillsNetwork-Channel-SkillsNetworkCoursesIBMDeveloperSkillsNetworkDL0120ENSkillsNetwork20629446-2022-01-01\">click here</a>\n"
      ]
    },
    {
      "cell_type": "markdown",
      "metadata": {
        "id": "GL_HsxT1TvDU"
      },
      "source": [
        "<h3>What is MNIST?</h3>\n"
      ]
    },
    {
      "cell_type": "markdown",
      "metadata": {
        "id": "zZn7eMBDTvDW"
      },
      "source": [
        "According to LeCun's website, the MNIST is a: \"database of handwritten digits that has a training set of 60,000 examples, and a test set of 10,000 examples. It is a subset of a larger set available from NIST. The digits have been size-normalized and centered in a fixed-size image\".\n"
      ]
    },
    {
      "cell_type": "markdown",
      "metadata": {
        "id": "PRify091TvDX"
      },
      "source": [
        "<h3>Import the MNIST dataset using TensorFlow built-in feature</h3>\n"
      ]
    },
    {
      "cell_type": "markdown",
      "metadata": {
        "id": "vPAKBRD-TvDX"
      },
      "source": [
        "It's very important to notice that MNIST is a high optimized data-set and it does not contain images. You will need to build your own code if you want to see the real digits. Another important side note is the effort that the authors invested on this data-set with normalization and centering operations.\n"
      ]
    },
    {
      "cell_type": "code",
      "execution_count": 3,
      "metadata": {
        "colab": {
          "base_uri": "https://localhost:8080/"
        },
        "id": "Yqj9teaUTvDZ",
        "outputId": "bed48ec7-51f4-4ea4-cacc-d0facea69601"
      },
      "outputs": [
        {
          "output_type": "stream",
          "name": "stdout",
          "text": [
            "Downloading data from https://storage.googleapis.com/tensorflow/tf-keras-datasets/mnist.npz\n",
            "11493376/11490434 [==============================] - 0s 0us/step\n"
          ]
        }
      ],
      "source": [
        "mnist = tf.keras.datasets.mnist\n",
        "(x_train, y_train), (x_test, y_test) = mnist.load_data()"
      ]
    },
    {
      "cell_type": "markdown",
      "metadata": {
        "id": "HXIEkF7CTvDb"
      },
      "source": [
        "The features data are between 0 and 255, and we will normalize this to improve optimization performance.\n"
      ]
    },
    {
      "cell_type": "code",
      "execution_count": 4,
      "metadata": {
        "id": "imiz9PKpTvDb"
      },
      "outputs": [],
      "source": [
        "x_train, x_test = x_train / 255.0, x_test / 255.0"
      ]
    },
    {
      "cell_type": "markdown",
      "metadata": {
        "id": "TpSNRpCGTvDc"
      },
      "source": [
        "Let's take a look at the first few label values:\n"
      ]
    },
    {
      "cell_type": "code",
      "execution_count": 5,
      "metadata": {
        "colab": {
          "base_uri": "https://localhost:8080/"
        },
        "id": "tz2AOCMjTvDd",
        "outputId": "b3505504-1607-4165-c04a-9e7adbed3e88"
      },
      "outputs": [
        {
          "output_type": "stream",
          "name": "stdout",
          "text": [
            "[5 0 4 1 9]\n"
          ]
        }
      ],
      "source": [
        "print(y_train[0:5])"
      ]
    },
    {
      "cell_type": "markdown",
      "metadata": {
        "id": "aiDlKYHnTvDd"
      },
      "source": [
        "The current label scheme simply identifies the category to which each data point belongs (each handwritten digit is assigned a category equal to the number value).  We need to convert this into a one-hot encoded vector.  In contrast to Binary representation, the labels will be presented in a way that to represent a number N, the $N^{th}$ bit is 1 while the the other bits are 0. For example, five and zero in a binary code would be:\n"
      ]
    },
    {
      "cell_type": "markdown",
      "metadata": {
        "id": "Xxintic4TvDe"
      },
      "source": [
        "<pre>\n",
        "Number representation:    0\n",
        "Binary encoding:        [2^5]  [2^4]   [2^3]   [2^2]   [2^1]   [2^0]  \n",
        "Array/vector:             0      0       0       0       0       0 \n",
        "\n",
        "Number representation:    5\n",
        "Binary encoding:        [2^5]  [2^4]   [2^3]   [2^2]   [2^1]   [2^0]  \n",
        "Array/vector:             0      0       0       1       0       1  \n",
        "</pre>\n"
      ]
    },
    {
      "cell_type": "markdown",
      "metadata": {
        "id": "B4TSUQOjTvDf"
      },
      "source": [
        "Using a different notation, the same digits using one-hot vector representation can be show as:\n"
      ]
    },
    {
      "cell_type": "markdown",
      "metadata": {
        "id": "kYWDcljTTvDg"
      },
      "source": [
        "<pre>\n",
        "Number representation:    0\n",
        "One-hot encoding:        [5]   [4]    [3]    [2]    [1]   [0]  \n",
        "Array/vector:             0     0      0      0      0     1   \n",
        "\n",
        "Number representation:    5\n",
        "One-hot encoding:        [5]   [4]    [3]    [2]    [1]    [0]  \n",
        "Array/vector:             1     0      0      0      0      0   \n",
        "</pre>\n"
      ]
    },
    {
      "cell_type": "markdown",
      "metadata": {
        "id": "MgKAS8CQTvDg"
      },
      "source": [
        "This is a standard operation, and is shown below.\n"
      ]
    },
    {
      "cell_type": "code",
      "execution_count": 6,
      "metadata": {
        "colab": {
          "base_uri": "https://localhost:8080/"
        },
        "id": "7Hh_v1wrTvDh",
        "outputId": "62b6aff1-5366-4df6-a84f-aaee3988d8c1"
      },
      "outputs": [
        {
          "output_type": "stream",
          "name": "stdout",
          "text": [
            "categorical labels\n",
            "[5 0 4 1 9]\n",
            "one hot encoded labels\n",
            "tf.Tensor(\n",
            "[[0. 0. 0. 0. 0. 1. 0. 0. 0. 0.]\n",
            " [1. 0. 0. 0. 0. 0. 0. 0. 0. 0.]\n",
            " [0. 0. 0. 0. 1. 0. 0. 0. 0. 0.]\n",
            " [0. 1. 0. 0. 0. 0. 0. 0. 0. 0.]\n",
            " [0. 0. 0. 0. 0. 0. 0. 0. 0. 1.]], shape=(5, 10), dtype=float32)\n"
          ]
        }
      ],
      "source": [
        "print(\"categorical labels\")\n",
        "print(y_train[0:5])\n",
        "\n",
        "# make labels one hot encoded\n",
        "y_train = tf.one_hot(y_train, 10)\n",
        "y_test = tf.one_hot(y_test, 10)\n",
        "\n",
        "print(\"one hot encoded labels\")\n",
        "print(y_train[0:5])"
      ]
    },
    {
      "cell_type": "markdown",
      "metadata": {
        "id": "fHhTHc9fTvDi"
      },
      "source": [
        "<h3>Understanding the imported data</h3>\n"
      ]
    },
    {
      "cell_type": "markdown",
      "metadata": {
        "id": "7848QPmiTvDj"
      },
      "source": [
        "The imported data can be divided as follows:\n",
        "\n",
        "*   Training >>  Use the given dataset with inputs and related outputs for training of NN. In our case, if you give an image that you know that represents a \"nine\", this set will tell the neural network that we expect a \"nine\" as the output.\\\n",
        "    \\- 60,000 data points\n",
        "    \\- x_train for inputs\n",
        "    \\- y_train for outputs/labels\n",
        "\n",
        "*   Test >> The model does not have access to this information prior to the testing phase. It is used to evaluate the performance and accuracy of the model against \"real life situations\". No further optimization beyond this point.\\\n",
        "    \\- 10,000 data points\n",
        "    \\- x_test for inputs\n",
        "    \\- y_test for outputs/labels\n",
        "\n",
        "*   Validation data is not used in this example.\n"
      ]
    },
    {
      "cell_type": "code",
      "execution_count": 7,
      "metadata": {
        "colab": {
          "base_uri": "https://localhost:8080/"
        },
        "id": "EJ81IyLaTvDk",
        "outputId": "3acf0180-2151-4fc6-821c-6560ccfc6474"
      },
      "outputs": [
        {
          "output_type": "stream",
          "name": "stdout",
          "text": [
            "number of training examples: 60000\n",
            "number of test examples: 10000\n"
          ]
        }
      ],
      "source": [
        "print(\"number of training examples:\" , x_train.shape[0])\n",
        "print(\"number of test examples:\" , x_test.shape[0])"
      ]
    },
    {
      "cell_type": "markdown",
      "metadata": {
        "id": "_uC-3rb7TvDl"
      },
      "source": [
        "The new Dataset API in TensorFlow 2.X allows you to define batch sizes as part of the dataset.  It also has improved I/O characteristics, and is the recommended way of loading data.  This allows you to iterate through  subsets (batches) of the data during training.  This is a common practice that improves performance by computing gradients over smaller batches.  We will see this in action during the training step.\n",
        "\n",
        "Additionally, you can shuffle the dataset if you believe that there is a skewed distribution of data in the original dataset that may result in batches with different distributions.  We aren't shuffling data here.\n"
      ]
    },
    {
      "cell_type": "code",
      "execution_count": 8,
      "metadata": {
        "id": "KbETPhcGTvDm"
      },
      "outputs": [],
      "source": [
        "train_ds = tf.data.Dataset.from_tensor_slices((x_train, y_train)).batch(50)\n",
        "test_ds = tf.data.Dataset.from_tensor_slices((x_test, y_test)).batch(50)"
      ]
    },
    {
      "cell_type": "markdown",
      "metadata": {
        "id": "Vf-gvSttTvDn"
      },
      "source": [
        "<h3>Converting a 2D Image into a 1D Vector</h3>\n"
      ]
    },
    {
      "cell_type": "markdown",
      "metadata": {
        "id": "oyc1L7c_TvDo"
      },
      "source": [
        "MNIST images are black and white thumbnail square images with 28x28 pixels.  Each pixel is assigned an intensity (originally on a scale of 0 to 255).  To make the input useful to us, we need these to be arranged in a 1D vector using a consistent strategy, as is shown in the figure below.  We can use `Flatten` to accomplish this task.\n"
      ]
    },
    {
      "cell_type": "code",
      "execution_count": 9,
      "metadata": {
        "colab": {
          "base_uri": "https://localhost:8080/"
        },
        "id": "PoGHY2AVTvDp",
        "outputId": "e5379a26-a360-47f5-90a2-e78c97e96f8c"
      },
      "outputs": [
        {
          "output_type": "stream",
          "name": "stdout",
          "text": [
            "(60000, 28, 28)\n",
            "(60000, 784)\n"
          ]
        }
      ],
      "source": [
        "# showing an example of the Flatten class and operation\n",
        "from tensorflow.keras.layers import Flatten\n",
        "flatten = Flatten(dtype='float32')\n",
        "\n",
        "\"original data shape\"\n",
        "print(x_train.shape)\n",
        "\n",
        "\"flattened shape\"\n",
        "print(flatten(x_train).shape)"
      ]
    },
    {
      "cell_type": "markdown",
      "metadata": {
        "id": "JLX9Gx-WTvDq"
      },
      "source": [
        "<img src=\"https://cf-courses-data.s3.us.cloud-object-storage.appdomain.cloud/IBMDeveloperSkillsNetwork-DL0120EN-SkillsNetwork/labs/Week2/Flatten.png\" alt=\"HTML5 Icon\" style=\"width:350px\">\n",
        "\n",
        "<div style=\"text-align:center\">Illustration of the Flatten operation </div>\n"
      ]
    },
    {
      "cell_type": "markdown",
      "metadata": {
        "id": "MWbQJYkoTvDr"
      },
      "source": [
        "<h3>Assigning bias and weights to null tensors</h3>\n"
      ]
    },
    {
      "cell_type": "markdown",
      "metadata": {
        "id": "efaFIZ94TvDr"
      },
      "source": [
        "Now we are going to create the weights and biases, for this purpose they will be used as arrays filled with zeros. The values that we choose here can be critical, but we'll cover a better way on the second part, instead of this type of initialization.\n",
        "Since these values will be adjusted during the optimization process, we define them using  `tf.Variable`.\n",
        "\n",
        "NOTE:  `tf.Variable` creates adjustable variables that are in the global namespace, so any function that references these variables need not pass the varibles.  But they are globals, so exercise caution when naming!\n"
      ]
    },
    {
      "cell_type": "code",
      "execution_count": 10,
      "metadata": {
        "id": "nBIEsr3VTvDs"
      },
      "outputs": [],
      "source": [
        "# Weight tensor\n",
        "W = tf.Variable(tf.zeros([784, 10], tf.float32))\n",
        "# Bias tensor\n",
        "b = tf.Variable(tf.zeros([10], tf.float32))"
      ]
    },
    {
      "cell_type": "markdown",
      "metadata": {
        "id": "s25oiYxoTvDt"
      },
      "source": [
        "<h3>Adding Weights and Biases to input</h3>\n"
      ]
    },
    {
      "cell_type": "markdown",
      "metadata": {
        "id": "gmdsd0w4TvDu"
      },
      "source": [
        "The only difference for our next operation to the picture below is that we are using the mathematical convention for what is being executed in the illustration. The tf.matmul operation performs a matrix multiplication between x (inputs) and W (weights) and after the code add biases.\n"
      ]
    },
    {
      "cell_type": "markdown",
      "metadata": {
        "id": "BOLBfGfWTvDv"
      },
      "source": [
        "<img src=\"https://ibm.box.com/shared/static/88ksiymk1xkb10rgk0jwr3jw814jbfxo.png\" alt=\"HTML5 Icon\" style=\"width:350px\"> \n",
        "<div style=\"text-align:center\">Illustration showing how weights and biases are added to neurons/nodes. </div>\n"
      ]
    },
    {
      "cell_type": "code",
      "execution_count": 11,
      "metadata": {
        "id": "U4iiFSFZTvDw"
      },
      "outputs": [],
      "source": [
        "def forward(x):\n",
        "    return tf.matmul(x,W) + b"
      ]
    },
    {
      "cell_type": "markdown",
      "metadata": {
        "id": "2diZaSmUTvDw"
      },
      "source": [
        "<h3>Softmax Regression</h3>\n"
      ]
    },
    {
      "cell_type": "markdown",
      "metadata": {
        "id": "HNBmiYnmTvDx"
      },
      "source": [
        "Softmax is an activation function that is normally used in classification problems. It generates the probabilities for the output. For example, our model will not be 100% sure that one digit is the number nine, instead, the answer will be a distribution of probabilities where, if the model is right, the nine number will have a larger probability than the other other digits.\n",
        "\n",
        "For comparison, below is the one-hot vector for a nine digit label:\n"
      ]
    },
    {
      "cell_type": "raw",
      "metadata": {
        "id": "SS4kXBKoTvDy"
      },
      "source": [
        "0 --> 0  \n",
        "1 --> 0 \n",
        "2 --> 0\n",
        "3 --> 0\n",
        "4 --> 0\n",
        "5 --> 0\n",
        "6 --> 0\n",
        "7 --> 0\n",
        "8 --> 0\n",
        "9 --> 1"
      ]
    },
    {
      "cell_type": "markdown",
      "metadata": {
        "id": "RTR5bC7hTvDy"
      },
      "source": [
        "A machine does not have all this certainty, so we want to know what is the best guess, but we also want to understand how sure it was and what was the second better option. Below is an example of a hypothetical distribution for a nine digit:\n"
      ]
    },
    {
      "cell_type": "raw",
      "metadata": {
        "id": "5ddtINjqTvDz"
      },
      "source": [
        "0 -->0.01  \n",
        "1 -->0.02  \n",
        "2 -->0.03  \n",
        "3 -->0.02  \n",
        "4 -->0.12  \n",
        "5 -->0.01  \n",
        "6 -->0.03\n",
        "7 -->0.06\n",
        "8 -->0.1\n",
        "9 -->0.6  "
      ]
    },
    {
      "cell_type": "markdown",
      "metadata": {
        "id": "2VyORaXqTvD0"
      },
      "source": [
        "Softmax is simply an exponential of each value of a vector that is also normalized.  The formula is:\n",
        "\n",
        "$$\\sigma(z_i) = \\frac{e^{z_i}}{\\sum{e^{z_i}}}$$\n"
      ]
    },
    {
      "cell_type": "code",
      "execution_count": 12,
      "metadata": {
        "colab": {
          "base_uri": "https://localhost:8080/"
        },
        "id": "cAtv-f2_TvD0",
        "outputId": "1e1253d2-a0a1-4d76-872e-7a274f6385f7"
      },
      "outputs": [
        {
          "output_type": "stream",
          "name": "stdout",
          "text": [
            "softmax calculation\n",
            "[8.8075405e-01 4.8839214e-05 1.1919710e-01]\n",
            "verifying normalization\n",
            "tf.Tensor(1.0, shape=(), dtype=float32)\n",
            "finding vector with largest value (label assignment)\n",
            "category 0\n"
          ]
        }
      ],
      "source": [
        "# a sample softmax calculation on an input vector\n",
        "vector = [10, 0.2, 8]\n",
        "softmax = tf.nn.softmax(vector)\n",
        "print(\"softmax calculation\")\n",
        "print(softmax.numpy())\n",
        "print(\"verifying normalization\")\n",
        "print(tf.reduce_sum(softmax))\n",
        "print(\"finding vector with largest value (label assignment)\")\n",
        "print(\"category\", tf.argmax(softmax).numpy())"
      ]
    },
    {
      "cell_type": "markdown",
      "metadata": {
        "id": "MNWTW5plTvD1"
      },
      "source": [
        "Now we can define our output layer\n"
      ]
    },
    {
      "cell_type": "code",
      "execution_count": 13,
      "metadata": {
        "id": "y4-t3QyHTvD2"
      },
      "outputs": [],
      "source": [
        "def activate(x):\n",
        "    return tf.nn.softmax(forward(x))"
      ]
    },
    {
      "cell_type": "markdown",
      "metadata": {
        "id": "Qpm39N0ITvD3"
      },
      "source": [
        "Logistic function output is used for the classification between two target classes 0/1. Softmax function is generalized type of logistic function. That is, Softmax can output a multiclass categorical probability distribution.\n"
      ]
    },
    {
      "cell_type": "markdown",
      "metadata": {
        "id": "kaKIVm1HTvD3"
      },
      "source": [
        "Let's create a `model` function for convenience.\n"
      ]
    },
    {
      "cell_type": "code",
      "execution_count": 14,
      "metadata": {
        "id": "1niqNd_XTvD4"
      },
      "outputs": [],
      "source": [
        "def model(x):\n",
        "    x = flatten(x)\n",
        "    return activate(x)"
      ]
    },
    {
      "cell_type": "markdown",
      "metadata": {
        "id": "QBlL5gwmTvD5"
      },
      "source": [
        "<h3>Cost function</h3>\n"
      ]
    },
    {
      "cell_type": "markdown",
      "metadata": {
        "id": "JY4Wj2hhTvD6"
      },
      "source": [
        "It is a function that is used to minimize the difference between the right answers (labels) and estimated outputs by our Network. Here we use the cross entropy function, which is a popular cost function used for categorical models.  The function is defined in terms of probabilities, which is why we must used normalized vectors.  It is given as:\n",
        "\n",
        "$$ CrossEntropy = \\sum{y\\_{Label}\\cdot \\log(y\\_{Prediction})}$$\n"
      ]
    },
    {
      "cell_type": "code",
      "execution_count": 15,
      "metadata": {
        "colab": {
          "base_uri": "https://localhost:8080/"
        },
        "id": "CNyrIrEQTvD7",
        "outputId": "3ff24b12-e1f7-4eee-bd2a-401caa242253"
      },
      "outputs": [
        {
          "output_type": "execute_result",
          "data": {
            "text/plain": [
              "138155.0"
            ]
          },
          "metadata": {},
          "execution_count": 15
        }
      ],
      "source": [
        "def cross_entropy(y_label, y_pred):\n",
        "    return (-tf.reduce_sum(y_label * tf.math.log(y_pred + 1.e-10)))\n",
        "# addition of 1e-10 to prevent errors in zero calculations\n",
        "\n",
        "# current loss function for unoptimized model\n",
        "cross_entropy(y_train, model(x_train)).numpy()"
      ]
    },
    {
      "cell_type": "markdown",
      "metadata": {
        "id": "EGAiwXbATvD8"
      },
      "source": [
        "<h3>Type of optimization: Gradient Descent</h3>\n"
      ]
    },
    {
      "cell_type": "markdown",
      "metadata": {
        "id": "mZl0YyfYTvD9"
      },
      "source": [
        "This is the part where you configure the optimizer for your Neural Network. There are several optimizers available, in our case we will use Gradient Descent because it is a well established optimizer.\n"
      ]
    },
    {
      "cell_type": "code",
      "execution_count": 16,
      "metadata": {
        "id": "6j4yESAtTvD9"
      },
      "outputs": [],
      "source": [
        "optimizer = tf.keras.optimizers.SGD(learning_rate=0.25)"
      ]
    },
    {
      "cell_type": "markdown",
      "metadata": {
        "id": "W1TdfLJ4TvD-"
      },
      "source": [
        "Now we define the training step.  This step uses `GradientTape` to automatically compute deriviatives of the functions we have manually created and applies them using the `SGD` optimizer.\n"
      ]
    },
    {
      "cell_type": "code",
      "execution_count": 17,
      "metadata": {
        "id": "rGYwcMu5TvD-"
      },
      "outputs": [],
      "source": [
        "def train_step(x, y ):\n",
        "    with tf.GradientTape() as tape:\n",
        "        #compute loss function\n",
        "        current_loss = cross_entropy( y, model(x))\n",
        "        # compute gradient of loss \n",
        "        #(This is automatic! Even with specialized funcctions!)\n",
        "        grads = tape.gradient( current_loss , [W,b] )\n",
        "        # Apply SGD step to our Variables W and b\n",
        "        optimizer.apply_gradients( zip( grads , [W,b] ) )     \n",
        "    return current_loss.numpy()"
      ]
    },
    {
      "cell_type": "markdown",
      "metadata": {
        "id": "rcbU-FCkTvD_"
      },
      "source": [
        "<h3>Training batches</h3>\n"
      ]
    },
    {
      "cell_type": "markdown",
      "metadata": {
        "id": "2dPlrKZBTvEA"
      },
      "source": [
        "Train using minibatch Gradient Descent.\n",
        "\n",
        "In practice, Batch Gradient Descent is not often used because is too computationally expensive. The good part about this method is that you have the true gradient, but with the expensive computing task of using the whole dataset in one time. Due to this problem, Neural Networks usually use minibatch to train.\n",
        "\n",
        "We have already divided our full dataset into batches of 50 each using the Datasets API.  Now we can iterate through each of those batches to compute a gradient.  Once we iterate through all of the batches in the dataset, we complete an **epoch**, or a full traversal of the dataset.\n"
      ]
    },
    {
      "cell_type": "code",
      "execution_count": 18,
      "metadata": {
        "colab": {
          "base_uri": "https://localhost:8080/"
        },
        "id": "PvyNuVF6TvEB",
        "outputId": "b46edbf9-7665-45f8-ccea-800d2bd8a86f"
      },
      "outputs": [
        {
          "output_type": "stream",
          "name": "stdout",
          "text": [
            "epoch  0 batch 500 loss: 177.26141\n",
            "epoch  0 batch 1000 loss: 174.39491\n",
            "end of epoch  0 loss 223471.0 accuracy 0.8147\n",
            "epoch  1 batch 500 loss: 153.2364\n",
            "epoch  1 batch 1000 loss: 178.1075\n",
            "end of epoch  1 loss 216641.61 accuracy 0.824\n",
            "epoch  2 batch 500 loss: 209.28334\n",
            "epoch  2 batch 1000 loss: 172.85431\n",
            "end of epoch  2 loss 207265.33 accuracy 0.83315\n",
            "epoch  3 batch 500 loss: 203.7942\n",
            "epoch  3 batch 1000 loss: 152.35666\n",
            "end of epoch  3 loss 210062.88 accuracy 0.8303\n",
            "epoch  4 batch 500 loss: 189.21526\n",
            "epoch  4 batch 1000 loss: 163.97006\n",
            "end of epoch  4 loss 211364.31 accuracy 0.82985\n",
            "epoch  5 batch 500 loss: 215.90894\n",
            "epoch  5 batch 1000 loss: 175.0403\n",
            "end of epoch  5 loss 202569.7 accuracy 0.83845\n",
            "epoch  6 batch 500 loss: 200.97389\n",
            "epoch  6 batch 1000 loss: 167.53844\n",
            "end of epoch  6 loss 207683.56 accuracy 0.83435\n",
            "epoch  7 batch 500 loss: 200.98653\n",
            "epoch  7 batch 1000 loss: 185.46494\n",
            "end of epoch  7 loss 200680.2 accuracy 0.8413333\n",
            "epoch  8 batch 500 loss: 213.95403\n",
            "epoch  8 batch 1000 loss: 172.93088\n",
            "end of epoch  8 loss 205809.36 accuracy 0.8361\n",
            "epoch  9 batch 500 loss: 208.41548\n",
            "epoch  9 batch 1000 loss: 165.63356\n",
            "end of epoch  9 loss 199166.22 accuracy 0.84305\n"
          ]
        }
      ],
      "source": [
        "# zeroing out weights in case you want to run this cell multiple times\n",
        "# Weight tensor\n",
        "W = tf.Variable(tf.zeros([784, 10],tf.float32))\n",
        "# Bias tensor\n",
        "b = tf.Variable(tf.zeros([10],tf.float32))\n",
        "\n",
        "loss_values=[]\n",
        "accuracies = []\n",
        "epochs = 10\n",
        "\n",
        "for i in range(epochs):\n",
        "    j=0\n",
        "    # each batch has 50 examples\n",
        "    for x_train_batch, y_train_batch in train_ds:\n",
        "        j+=1\n",
        "        current_loss = train_step(x_train_batch, y_train_batch)\n",
        "        if j%500==0: #reporting intermittent batch statistics\n",
        "            print(\"epoch \", str(i), \"batch\", str(j), \"loss:\", str(current_loss) ) \n",
        "    \n",
        "    # collecting statistics at each epoch...loss function and accuracy\n",
        "    #  loss function\n",
        "    current_loss = cross_entropy( y_train, model( x_train )).numpy()\n",
        "    loss_values.append(current_loss)\n",
        "    correct_prediction = tf.equal(tf.argmax(model(x_train), axis=1),\n",
        "                                  tf.argmax(y_train, axis=1))\n",
        "    #  accuracy\n",
        "    accuracy = tf.reduce_mean(tf.cast(correct_prediction, tf.float32)).numpy()\n",
        "    accuracies.append(accuracy)\n",
        "    print(\"end of epoch \", str(i), \"loss\", str(current_loss), \"accuracy\", str(accuracy) ) \n"
      ]
    },
    {
      "cell_type": "markdown",
      "metadata": {
        "id": "jsSpmqimTvEC"
      },
      "source": [
        "<h3>Test and Plots</h3>\n"
      ]
    },
    {
      "cell_type": "markdown",
      "metadata": {
        "id": "Vsgiz9soTvED"
      },
      "source": [
        "It is common to run intermittent diagnostics (such as accuracy and loss over entire dataset) during training.  Here we compute a summary statistic on the test dataset as well.  Fitness metrics for the training data should closely match those of the test data.  If the test metrics are distinctly less favorable, this can be a sign of overfitting.\n"
      ]
    },
    {
      "cell_type": "code",
      "execution_count": 19,
      "metadata": {
        "colab": {
          "base_uri": "https://localhost:8080/"
        },
        "id": "qq9dTtalTvEE",
        "outputId": "e3aa8efe-e9ca-4f68-8b69-0af912f3ac77"
      },
      "outputs": [
        {
          "output_type": "stream",
          "name": "stdout",
          "text": [
            "training accuracy 0.84305\n",
            "test accuracy 0.8355\n"
          ]
        }
      ],
      "source": [
        "correct_prediction_train = tf.equal(tf.argmax(model(x_train), axis=1),tf.argmax(y_train,axis=1))\n",
        "accuracy_train = tf.reduce_mean(tf.cast(correct_prediction_train, tf.float32)).numpy()\n",
        "\n",
        "correct_prediction_test = tf.equal(tf.argmax(model(x_test), axis=1),tf.argmax(y_test, axis=1))\n",
        "accuracy_test = tf.reduce_mean(tf.cast(correct_prediction_test, tf.float32)).numpy()\n",
        "\n",
        "print(\"training accuracy\", accuracy_train)\n",
        "print(\"test accuracy\", accuracy_test)"
      ]
    },
    {
      "cell_type": "markdown",
      "metadata": {
        "id": "VfqYLewITvEF"
      },
      "source": [
        "<hr>\n"
      ]
    },
    {
      "cell_type": "markdown",
      "metadata": {
        "id": "E6d_W-0GTvEF"
      },
      "source": [
        "The next two plots show the performance of the optimization at each epoch.\n"
      ]
    },
    {
      "cell_type": "code",
      "execution_count": 20,
      "metadata": {
        "colab": {
          "base_uri": "https://localhost:8080/",
          "height": 422
        },
        "id": "7nFG_ugHTvEG",
        "outputId": "cff3f79e-5cf0-47da-f443-32931a209ef3"
      },
      "outputs": [
        {
          "output_type": "execute_result",
          "data": {
            "text/plain": [
              "Text(0, 0.5, 'loss')"
            ]
          },
          "metadata": {},
          "execution_count": 20
        },
        {
          "output_type": "display_data",
          "data": {
            "text/plain": [
              "<Figure size 720x432 with 1 Axes>"
            ],
            "image/png": "[encoded data removed]"
          },
          "metadata": {
            "needs_background": "light"
          }
        }
      ],
      "source": [
        "import matplotlib.pyplot as plt\n",
        "%matplotlib inline\n",
        "plt.rcParams['figure.figsize'] = (10, 6)\n",
        "#print(loss_values)\n",
        "plt.plot(loss_values,'-ro')\n",
        "plt.title(\"loss per epoch\")\n",
        "plt.xlabel(\"epoch\")\n",
        "plt.ylabel(\"loss\")"
      ]
    },
    {
      "cell_type": "code",
      "execution_count": 21,
      "metadata": {
        "colab": {
          "base_uri": "https://localhost:8080/",
          "height": 422
        },
        "id": "-lb_Q53vTvEH",
        "outputId": "9098b3b4-81ec-4712-a6fb-3328c97593cc"
      },
      "outputs": [
        {
          "output_type": "execute_result",
          "data": {
            "text/plain": [
              "Text(0, 0.5, 'accuracy')"
            ]
          },
          "metadata": {},
          "execution_count": 21
        },
        {
          "output_type": "display_data",
          "data": {
            "text/plain": [
              "<Figure size 720x432 with 1 Axes>"
            ],
            "image/png": "[encoded data removed]"
          },
          "metadata": {
            "needs_background": "light"
          }
        }
      ],
      "source": [
        "plt.plot(accuracies,'-ro')\n",
        "plt.title(\"accuracy per epoch\")\n",
        "plt.xlabel(\"epoch\")\n",
        "plt.ylabel(\"accuracy\")"
      ]
    },
    {
      "cell_type": "markdown",
      "metadata": {
        "id": "Yab_gMcITvEH"
      },
      "source": [
        "<a id=\"ref4\"></a>\n",
        "\n",
        "<h2>Evaluating the final result</h2>\n"
      ]
    },
    {
      "cell_type": "markdown",
      "metadata": {
        "id": "cTytv6CmTvEI"
      },
      "source": [
        "84% accuracy is not bad considering the simplicity of the model, but >90% accuracy has been achieved in the past.\n"
      ]
    },
    {
      "cell_type": "markdown",
      "metadata": {
        "id": "BGCq_DBRTvEJ"
      },
      "source": [
        "<a id=\"ref5\"></a>\n",
        "\n",
        "<h2>How to improve our model?</h2>\n"
      ]
    },
    {
      "cell_type": "markdown",
      "metadata": {
        "id": "QNDhXrPpTvEJ"
      },
      "source": [
        "<h4>Several options as follow:</h4>\n",
        "<ul>\n",
        "    <li>Regularization of Neural Networks using DropConnect</li>\n",
        "    <li>Multi-column Deep Neural Networks for Image Classification</li> \n",
        "    <li>APAC: Augmented Pattern Classification with Neural Networks</li>\n",
        "    <li>Simple Deep Neural Network with Dropout</li>\n",
        "</ul>\n",
        "<h4>In the next part we are going to explore the option:</h4>\n",
        "<ul>\n",
        "    <li>Simple Deep Neural Network with Dropout (more than 1 hidden layer)</li>\n",
        "</ul> \n"
      ]
    },
    {
      "cell_type": "markdown",
      "metadata": {
        "id": "AXX_zmqOTvEK"
      },
      "source": [
        "<hr>\n"
      ]
    },
    {
      "cell_type": "markdown",
      "metadata": {
        "id": "xBMIguW0TvEL"
      },
      "source": [
        "<a id=\"ref6\"></a>\n",
        "\n",
        "<h2>2nd part: Deep Learning applied on MNIST</h2>\n"
      ]
    },
    {
      "cell_type": "markdown",
      "metadata": {
        "id": "Qp_Q7XgTTvEL"
      },
      "source": [
        "In the first part, we learned how to use a simple ANN to classify MNIST. Now we are going to expand our knowledge using a Deep Neural Network.\n",
        "\n",
        "Architecture of our network is:\n",
        "\n",
        "*   (Input) -> \\[batch_size, 28, 28, 1]  >> Apply 32 filter of \\[5x5]\n",
        "*   (Convolutional layer 1)  -> \\[batch_size, 28, 28, 32]\n",
        "*   (ReLU 1)  -> \\[?, 28, 28, 32]\n",
        "*   (Max pooling 1) -> \\[?, 14, 14, 32]\n",
        "*   (Convolutional layer 2)  -> \\[?, 14, 14, 64]\n",
        "*   (ReLU 2)  -> \\[?, 14, 14, 64]\n",
        "*   (Max pooling 2)  -> \\[?, 7, 7, 64]\n",
        "*   \\[fully connected layer 3] -> \\[1x1024]\n",
        "*   \\[ReLU 3]  -> \\[1x1024]\n",
        "*   \\[Drop out]  -> \\[1x1024]\n",
        "*   \\[fully connected layer 4] -> \\[1x10]\n",
        "\n",
        "The next cells will explore this new architecture.\n"
      ]
    },
    {
      "cell_type": "markdown",
      "metadata": {
        "id": "3QPCOQgkTvEM"
      },
      "source": [
        "<h3>The MNIST data</h3>\n"
      ]
    },
    {
      "cell_type": "markdown",
      "metadata": {
        "jupyter": {
          "outputs_hidden": true
        },
        "id": "zyqsb3xoTvEN"
      },
      "source": [
        "The MNIST Dataset will be used from the above example.\n"
      ]
    },
    {
      "cell_type": "markdown",
      "metadata": {
        "id": "aSUuDtnBTvEN"
      },
      "source": [
        "<h3>Initial parameters</h3>\n"
      ]
    },
    {
      "cell_type": "markdown",
      "metadata": {
        "id": "QGsiHQgMTvEO"
      },
      "source": [
        "Create general parameters for the model\n"
      ]
    },
    {
      "cell_type": "code",
      "execution_count": 22,
      "metadata": {
        "id": "qKNYy1lNTvEP"
      },
      "outputs": [],
      "source": [
        "width = 28 # width of the image in pixels \n",
        "height = 28 # height of the image in pixels\n",
        "flat = width * height # number of pixels in one image \n",
        "class_output = 10 # number of possible classifications for the problem"
      ]
    },
    {
      "cell_type": "markdown",
      "metadata": {
        "id": "X2I_cXnOTvEP"
      },
      "source": [
        "<h4>Converting images of the data set to tensors</h4>\n"
      ]
    },
    {
      "cell_type": "markdown",
      "metadata": {
        "id": "5BAEOFOkTvEQ"
      },
      "source": [
        "The input image is 28 pixels by 28 pixels, 1 channel (grayscale). In this case, the first dimension is the <b>batch number</b> of the image, and can be of any size (so we set it to -1). The second and third dimensions are width and height, and the last one is the image channels.\n"
      ]
    },
    {
      "cell_type": "code",
      "execution_count": 23,
      "metadata": {
        "id": "qBld2K1ITvER"
      },
      "outputs": [],
      "source": [
        "x_image_train = tf.reshape(x_train, [-1,28,28,1])  \n",
        "x_image_train = tf.cast(x_image_train, 'float32') \n",
        "\n",
        "x_image_test = tf.reshape(x_test, [-1,28,28,1]) \n",
        "x_image_test = tf.cast(x_image_test, 'float32') \n",
        "\n",
        "#creating new dataset with reshaped inputs\n",
        "train_ds2 = tf.data.Dataset.from_tensor_slices((x_image_train, y_train)).batch(50)\n",
        "test_ds2 = tf.data.Dataset.from_tensor_slices((x_image_test, y_test)).batch(50)"
      ]
    },
    {
      "cell_type": "markdown",
      "metadata": {
        "id": "xu5ZcYU_TvER"
      },
      "source": [
        "Reducing data set size from this point on because the Skills Netowrk Labs only provides 4 GB of main memory but 8 are needed otherwise. If you want to run faster (in multiple CPU or GPU) and on the whole data set consider using IBM Watson Studio. You get 100 hours of free usage every month. <https://github.com/IBM/skillsnetwork/wiki/Watson-Studio-Setup>\n"
      ]
    },
    {
      "cell_type": "code",
      "execution_count": 24,
      "metadata": {
        "id": "DWmlfbqATvES"
      },
      "outputs": [],
      "source": [
        "x_image_train = tf.slice(x_image_train,[0,0,0,0],[10000, 28, 28, 1])\n",
        "y_train = tf.slice(y_train,[0,0],[10000, 10])"
      ]
    },
    {
      "cell_type": "markdown",
      "metadata": {
        "id": "ObBDU70STvET"
      },
      "source": [
        "<h3>Convolutional Layer 1</h3>\n"
      ]
    },
    {
      "cell_type": "markdown",
      "metadata": {
        "id": "I9dP5kadTvEU"
      },
      "source": [
        "<h4>Defining kernel weight and bias</h4>\n",
        "We define a kernel here. The Size of the filter/kernel is 5x5;  Input channels is 1 (grayscale);  and we need 32 different feature maps (here, 32 feature maps means 32 different filters are applied on each image. So, the output of convolution layer would be 28x28x32). In this step, we create a filter / kernel tensor of shape <code>[filter_height, filter_width, in_channels, out_channels]</code>\n"
      ]
    },
    {
      "cell_type": "code",
      "execution_count": 25,
      "metadata": {
        "id": "QozI9Jk7TvEV"
      },
      "outputs": [],
      "source": [
        "W_conv1 = tf.Variable(tf.random.truncated_normal([5, 5, 1, 32], stddev=0.1, seed=0))\n",
        "b_conv1 = tf.Variable(tf.constant(0.1, shape=[32])) # need 32 biases for 32 outputs"
      ]
    },
    {
      "cell_type": "markdown",
      "metadata": {
        "id": "eRWxowe2TvEW"
      },
      "source": [
        "<img src=\"https://ibm.box.com/shared/static/vn26neef1nnv2oxn5cb3uueowcawhkgb.png\" style=\"width: 800px; height: 400px;\" alt=\"HTML5 Icon\" >\n",
        "\n",
        "</h4>Convolve with weight tensor and add biases.</h4>\n",
        "\n",
        "To create convolutional layer, we use <b>tf.nn.conv2d</b>. It computes a 2-D convolution given 4-D input and filter tensors.\n",
        "\n",
        "Inputs:\n",
        "\n",
        "*   tensor of shape \\[batch, in_height, in_width, in_channels]. x of shape \\[batch_size,28 ,28, 1]\n",
        "\n",
        "*   a filter / kernel tensor of shape \\[filter_height, filter_width, in_channels, out_channels]. W is of size \\[5, 5, 1, 32]\n",
        "\n",
        "*   stride which is  \\[1, 1, 1, 1]. The convolutional layer, slides the \"kernel window\" across the input tensor. As the input tensor has 4 dimensions:  \\[batch, height, width, channels], then the convolution operates on a 2D window on the height and width dimensions. **strides** determines how much the window shifts by in each of the dimensions. As the first and last dimensions are related to batch and channels, we set the stride to 1. But for second and third dimension, we could set other values, e.g. \\[1, 2, 2, 1]\n",
        "\n",
        "Process:\n",
        "\n",
        "*   Change the filter to a 2-D matrix with shape \\[5\\*5\\*1,32]\n",
        "*   Extracts image patches from the input tensor to form a *virtual* tensor of shape `[batch, 28, 28, 5*5*1]`.\n",
        "*   For each batch, right-multiplies the filter matrix and the image vector.\n",
        "\n",
        "Output:\n",
        "\n",
        "*   A `Tensor` (a 2-D convolution) of size tf.Tensor 'add\\_7:0' shape=(?, 28, 28, 32)- Notice: the output of the first convolution layer is 32 \\[28x28] images. Here 32 is considered as volume/depth of the output image.\n"
      ]
    },
    {
      "cell_type": "code",
      "execution_count": 26,
      "metadata": {
        "id": "ljwg7VNwTvEX"
      },
      "outputs": [],
      "source": [
        "def convolve1(x):\n",
        "    return(\n",
        "        tf.nn.conv2d(x, W_conv1, strides=[1, 1, 1, 1], padding='SAME') + b_conv1)"
      ]
    },
    {
      "cell_type": "markdown",
      "metadata": {
        "id": "LyKkncpTTvEY"
      },
      "source": [
        "<img src=\"https://ibm.box.com/shared/static/iizf4ui4b2hh9wn86pplqxu27ykpqci9.png\" style=\"width: 800px; height: 400px;\" alt=\"HTML5 Icon\" >\n"
      ]
    },
    {
      "cell_type": "markdown",
      "metadata": {
        "id": "QDxLhNbXTvEY"
      },
      "source": [
        "<h4>Apply the ReLU activation Function</h4>\n"
      ]
    },
    {
      "cell_type": "markdown",
      "metadata": {
        "id": "6nLxU9N5TvEZ"
      },
      "source": [
        "In this step, we just go through all outputs convolution layer, <b>convolve1</b>, and wherever a negative number occurs, we swap it out for a 0. It is called ReLU activation Function.<br> Let f(x) is a ReLU activation function $f(x) = max(0,x)$.\n"
      ]
    },
    {
      "cell_type": "code",
      "execution_count": 27,
      "metadata": {
        "id": "j2jVBjxfTvEZ"
      },
      "outputs": [],
      "source": [
        "def h_conv1(x): return(tf.nn.relu(convolve1(x)))"
      ]
    },
    {
      "cell_type": "markdown",
      "metadata": {
        "id": "9arb3UwdTvEa"
      },
      "source": [
        "<h4>Apply the max pooling</h4>\n"
      ]
    },
    {
      "cell_type": "markdown",
      "metadata": {
        "id": "RXLmHR2sTvEb"
      },
      "source": [
        "<b>max pooling</b> is a form of non-linear down-sampling. It partitions the input image into a set of rectangles and, and then find the maximum value for that region.\n",
        "\n",
        "Lets use <b>tf.nn.max_pool</b> function to perform max pooling. <b>Kernel size:</b> 2x2 (if the window is a 2x2 matrix, it would result in one output pixel)\\ <b>Strides:</b> dictates the sliding behaviour of the kernel. In this case it will move 2 pixels everytime, thus not overlapping. The input is a matrix of size 28x28x32, and the output would be a matrix of size 14x14x32.\n",
        "\n",
        "<img src=\"https://ibm.box.com/shared/static/kmaja90mn3aud9mro9cn8pbbg1h5pejy.png\" alt=\"HTML5 Icon\" style=\"width: 800px; height: 400px;\"> \n"
      ]
    },
    {
      "cell_type": "code",
      "execution_count": 28,
      "metadata": {
        "id": "ApV4AeYmTvEb"
      },
      "outputs": [],
      "source": [
        "def conv1(x):\n",
        "    return tf.nn.max_pool(h_conv1(x), ksize=[1, 2, 2, 1], \n",
        "                          strides=[1, 2, 2, 1], padding='SAME')"
      ]
    },
    {
      "cell_type": "markdown",
      "metadata": {
        "id": "df6qEoNTTvEc"
      },
      "source": [
        "First layer completed\n"
      ]
    },
    {
      "cell_type": "markdown",
      "metadata": {
        "id": "2tE53O4NTvEd"
      },
      "source": [
        "<h3>Convolutional Layer 2</h3>\n",
        "<h4>Weights and Biases of kernels</h4>\n"
      ]
    },
    {
      "cell_type": "markdown",
      "metadata": {
        "id": "xdKH0l50TvEd"
      },
      "source": [
        "We apply the convolution again in this layer. Lets look at the second layer kernel:\n",
        "\n",
        "*   Filter/kernel: 5x5 (25 pixels)\n",
        "*   Input channels: 32 (from the 1st Conv layer, we had 32 feature maps)\n",
        "*   64 output feature maps\n",
        "\n",
        "<b>Notice:</b> here, the input image is \\[14x14x32], the filter is \\[5x5x32], we use 64 filters of size \\[5x5x32], and the output of the convolutional layer would be 64 convolved image, \\[14x14x64].\n",
        "\n",
        "<b>Notice:</b> the convolution result of applying a filter of size \\[5x5x32] on image of size \\[14x14x32] is an image of size \\[14x14x1], that is, the convolution is functioning on volume.\n"
      ]
    },
    {
      "cell_type": "code",
      "execution_count": 29,
      "metadata": {
        "id": "9fVAvoLSTvEe"
      },
      "outputs": [],
      "source": [
        "W_conv2 = tf.Variable(tf.random.truncated_normal([5, 5, 32, 64], stddev=0.1, seed=1))\n",
        "b_conv2 = tf.Variable(tf.constant(0.1, shape=[64])) #need 64 biases for 64 outputs"
      ]
    },
    {
      "cell_type": "markdown",
      "metadata": {
        "id": "JtxU7c-ETvEf"
      },
      "source": [
        "<h4>Convolve image with weight tensor and add biases.</h4>\n"
      ]
    },
    {
      "cell_type": "code",
      "execution_count": 30,
      "metadata": {
        "id": "qmfn-cAfTvEf"
      },
      "outputs": [],
      "source": [
        "def convolve2(x): \n",
        "    return( \n",
        "    tf.nn.conv2d(conv1(x), W_conv2, strides=[1, 1, 1, 1], padding='SAME') + b_conv2)"
      ]
    },
    {
      "cell_type": "markdown",
      "metadata": {
        "id": "bxjoiqoUTvEg"
      },
      "source": [
        "<h4>Apply the ReLU activation Function</h4>\n"
      ]
    },
    {
      "cell_type": "code",
      "execution_count": 32,
      "metadata": {
        "id": "zZgtUukMTvEg"
      },
      "outputs": [],
      "source": [
        "def h_conv2(x):  return tf.nn.relu(convolve2(x))"
      ]
    },
    {
      "cell_type": "markdown",
      "metadata": {
        "id": "SbMbk_BHTvEh"
      },
      "source": [
        "<h4>Apply the max pooling</h4>\n"
      ]
    },
    {
      "cell_type": "code",
      "execution_count": 33,
      "metadata": {
        "id": "nL57VpscTvEi"
      },
      "outputs": [],
      "source": [
        "def conv2(x):  \n",
        "    return(\n",
        "    tf.nn.max_pool(h_conv2(x), ksize=[1, 2, 2, 1], strides=[1, 2, 2, 1], padding='SAME'))"
      ]
    },
    {
      "cell_type": "markdown",
      "metadata": {
        "id": "-_F5RQqQTvEi"
      },
      "source": [
        "Second layer completed. So, what is the output of the second layer, layer2?\n",
        "\n",
        "*   it is 64 matrix of \\[7x7]\n"
      ]
    },
    {
      "cell_type": "markdown",
      "metadata": {
        "id": "fvV4VujOTvEj"
      },
      "source": [
        "<h3>Fully Connected Layer</h3>\n"
      ]
    },
    {
      "cell_type": "markdown",
      "metadata": {
        "id": "pZ2yeEGXTvEk"
      },
      "source": [
        "You need a fully connected layer to use the Softmax and create the probabilities in the end. Fully connected layers take the high-level filtered images from previous layer, that is all 64 matrices, and convert them to a flat array.\n",
        "\n",
        "So, each matrix \\[7x7] will be converted to a matrix of \\[49x1], and then all of the 64 matrix will be connected, which make an array of size \\[3136x1]. We will connect it into another layer of size \\[1024x1]. So, the weight between these 2 layers will be \\[3136x1024]\n",
        "\n",
        "<img src=\"https://ibm.box.com/shared/static/pr9mnirmlrzm2bitf1d4jj389hyvv7ey.png\" alt=\"HTML5 Icon\" style=\"width: 800px; height: 400px;\"> \n"
      ]
    },
    {
      "cell_type": "markdown",
      "metadata": {
        "id": "FXaiae2fTvEl"
      },
      "source": [
        "<h4>Flattening Second Layer</h4>\n"
      ]
    },
    {
      "cell_type": "code",
      "execution_count": 34,
      "metadata": {
        "id": "Y4Qk8CUiTvEl"
      },
      "outputs": [],
      "source": [
        "def layer2_matrix(x): return tf.reshape(conv2(x), [-1, 7 * 7 * 64])"
      ]
    },
    {
      "cell_type": "markdown",
      "metadata": {
        "id": "E_XLH3hMTvEm"
      },
      "source": [
        "<h4>Weights and Biases between layer 2 and 3</h4>\n"
      ]
    },
    {
      "cell_type": "markdown",
      "metadata": {
        "id": "_NF3Us5hTvEn"
      },
      "source": [
        "Composition of the feature map from the last layer (7x7) multiplied by the number of feature maps (64); 1027 outputs to Softmax layer\n"
      ]
    },
    {
      "cell_type": "code",
      "execution_count": 35,
      "metadata": {
        "id": "kFUNkqwBTvEo"
      },
      "outputs": [],
      "source": [
        "W_fc1 = tf.Variable(tf.random.truncated_normal([7 * 7 * 64, 1024], stddev=0.1, seed = 2))\n",
        "b_fc1 = tf.Variable(tf.constant(0.1, shape=[1024])) # need 1024 biases for 1024 outputs"
      ]
    },
    {
      "cell_type": "markdown",
      "metadata": {
        "id": "L2Wg8W2ATvEq"
      },
      "source": [
        "<h4>Matrix Multiplication (applying weights and biases)</h4>\n"
      ]
    },
    {
      "cell_type": "code",
      "execution_count": 36,
      "metadata": {
        "id": "j5mpUev0TvEs"
      },
      "outputs": [],
      "source": [
        "def fcl(x): return tf.matmul(layer2_matrix(x), W_fc1) + b_fc1"
      ]
    },
    {
      "cell_type": "markdown",
      "metadata": {
        "id": "LRFqrNpSTvEt"
      },
      "source": [
        "<h4>Apply the ReLU activation Function</h4>\n"
      ]
    },
    {
      "cell_type": "code",
      "execution_count": 37,
      "metadata": {
        "id": "EgTxydzDTvEt"
      },
      "outputs": [],
      "source": [
        "def h_fc1(x): return tf.nn.relu(fcl(x))"
      ]
    },
    {
      "cell_type": "markdown",
      "metadata": {
        "id": "TkpDU4uiTvEu"
      },
      "source": [
        "Third layer completed\n"
      ]
    },
    {
      "cell_type": "markdown",
      "metadata": {
        "id": "1kRPA01zTvEv"
      },
      "source": [
        "<h4>Dropout Layer, Optional phase for reducing overfitting</h4>\n"
      ]
    },
    {
      "cell_type": "markdown",
      "metadata": {
        "id": "WAWp5F0bTvEv"
      },
      "source": [
        "It is a phase where the network \"forget\" some features. At each training step in a mini-batch, some units get switched off randomly so that it will not interact with the network. That is, it weights cannot be updated, nor affect the learning of the other network nodes.  This can be very useful for very large neural networks to prevent overfitting.\n"
      ]
    },
    {
      "cell_type": "code",
      "execution_count": 38,
      "metadata": {
        "id": "7w7j5dQoTvEw"
      },
      "outputs": [],
      "source": [
        "keep_prob=0.5\n",
        "def layer_drop(x): return tf.nn.dropout(h_fc1(x), keep_prob)"
      ]
    },
    {
      "cell_type": "markdown",
      "metadata": {
        "id": "9Jk3FAIfTvEx"
      },
      "source": [
        "<h4>Readout Layer (Softmax Layer)</h4>\n"
      ]
    },
    {
      "cell_type": "markdown",
      "metadata": {
        "id": "Bl5jyQlOTvEx"
      },
      "source": [
        "Type: Softmax, Fully Connected Layer.\n"
      ]
    },
    {
      "cell_type": "markdown",
      "metadata": {
        "id": "r8bq4tsFTvEy"
      },
      "source": [
        "<h4>Weights and Biases</h4>\n"
      ]
    },
    {
      "cell_type": "markdown",
      "metadata": {
        "id": "gRAMr8ypTvEy"
      },
      "source": [
        "In last layer, CNN takes the high-level filtered images and translate them into votes using softmax.\n",
        "Input channels: 1024 (neurons from the 3rd Layer); 10 output features\n"
      ]
    },
    {
      "cell_type": "code",
      "execution_count": 39,
      "metadata": {
        "id": "NWyKhHD3TvEz"
      },
      "outputs": [],
      "source": [
        "W_fc2 = tf.Variable(tf.random.truncated_normal([1024, 10], stddev=0.1, seed = 2)) #1024 neurons\n",
        "b_fc2 = tf.Variable(tf.constant(0.1, shape=[10])) # 10 possibilities for digits [0,1,2,3,4,5,6,7,8,9]"
      ]
    },
    {
      "cell_type": "markdown",
      "metadata": {
        "id": "GAZaP-qfTvE0"
      },
      "source": [
        "<h4>Matrix Multiplication (applying weights and biases)</h4>\n"
      ]
    },
    {
      "cell_type": "code",
      "execution_count": 40,
      "metadata": {
        "id": "sAKYGnecTvE1"
      },
      "outputs": [],
      "source": [
        "def fc(x): return tf.matmul(layer_drop(x), W_fc2) + b_fc2"
      ]
    },
    {
      "cell_type": "markdown",
      "metadata": {
        "id": "t4Nn6fSnTvE1"
      },
      "source": [
        "<h4>Apply the Softmax activation Function</h4>\n",
        "<b>softmax</b> allows us to interpret the outputs of <b>fcl4</b> as probabilities. So, <b>y_conv</b> is a tensor of probabilities.\n"
      ]
    },
    {
      "cell_type": "code",
      "execution_count": 41,
      "metadata": {
        "id": "oTKVpUpZTvE2"
      },
      "outputs": [],
      "source": [
        "def y_CNN(x): return tf.nn.softmax(fc(x))"
      ]
    },
    {
      "cell_type": "markdown",
      "metadata": {
        "id": "cwsR00XWTvE3"
      },
      "source": [
        "***\n"
      ]
    },
    {
      "cell_type": "markdown",
      "metadata": {
        "id": "rN3eTIZPTvE5"
      },
      "source": [
        "<a id=\"ref7\"></a>\n",
        "\n",
        "<h2>Summary of the Deep Convolutional Neural Network</h2>\n"
      ]
    },
    {
      "cell_type": "markdown",
      "metadata": {
        "id": "X_1uvhzATvE5"
      },
      "source": [
        "Now is time to remember the structure of  our network\n"
      ]
    },
    {
      "cell_type": "markdown",
      "metadata": {
        "id": "EekkRMkITvE6"
      },
      "source": [
        "#### 0) Input - MNIST dataset\n",
        "\n",
        "#### 1) Convolutional and Max-Pooling\n",
        "\n",
        "#### 2) Convolutional and Max-Pooling\n",
        "\n",
        "#### 3) Fully Connected Layer\n",
        "\n",
        "#### 4) Processing - Dropout\n",
        "\n",
        "#### 5) Readout layer - Fully Connected\n",
        "\n",
        "#### 6) Outputs - Classified digits\n"
      ]
    },
    {
      "cell_type": "markdown",
      "metadata": {
        "id": "ZD52W5xlTvE6"
      },
      "source": [
        "***\n"
      ]
    },
    {
      "cell_type": "markdown",
      "metadata": {
        "id": "vR3_0eGTTvE7"
      },
      "source": [
        "<a id=\"ref8\"></a>\n",
        "\n",
        "<h2>Define functions and train the model</h2>\n"
      ]
    },
    {
      "cell_type": "markdown",
      "metadata": {
        "id": "kKyTpg2NTvE8"
      },
      "source": [
        "<h4>Define the loss function</h4>\n",
        "\n",
        "We need to compare our output, layer4 tensor, with ground truth for all mini_batch. we can use <b>cross entropy>/b> to see how bad our CNN is working - to measure the error at a softmax layer.\n",
        "\n",
        "The following code shows an toy sample of cross-entropy for a mini-batch of size 2 which its items have been classified. You can run it (first change the cell type to <b>code</b> in the toolbar) to see how cross entropy changes.\n"
      ]
    },
    {
      "cell_type": "raw",
      "metadata": {
        "id": "olwyj4oCTvE-"
      },
      "source": [
        "import numpy as np\n",
        "layer4_test =[[0.9, 0.1, 0.1],[0.9, 0.1, 0.1]]\n",
        "y_test=[[1.0, 0.0, 0.0],[1.0, 0.0, 0.0]]\n",
        "np.mean( -np.sum(y_test * np.log(layer4_test),1))"
      ]
    },
    {
      "cell_type": "markdown",
      "metadata": {
        "id": "xC9pZ9ktTvE_"
      },
      "source": [
        "<b>reduce_sum</b> computes the sum of elements of <b>(y\\_ \\* tf.log(layer4)</b> across second dimension of the tensor, and <b>reduce_mean</b> computes the mean of all elements in the tensor..\n",
        "\n",
        "$$ CrossEntropy = \\sum{y\\_{Label}\\cdot \\log(y\\_{Prediction})}$$\n"
      ]
    },
    {
      "cell_type": "code",
      "execution_count": 42,
      "metadata": {
        "id": "0pmK1xE8TvE_"
      },
      "outputs": [],
      "source": [
        "def cross_entropy(y_label, y_pred):\n",
        "    return (-tf.reduce_sum(y_label * tf.math.log(y_pred + 1.e-10)))"
      ]
    },
    {
      "cell_type": "markdown",
      "metadata": {
        "id": "NVApiV1sTvFA"
      },
      "source": [
        "<h4>Define the optimizer</h4>\n",
        "\n",
        "It is obvious that we want minimize the error of our network which is calculated by cross_entropy metric. To solve the problem, we have to compute gradients for the loss (which is minimizing the cross-entropy) and apply gradients to variables. It will be done by an optimizer: GradientDescent or Adagrad.\n"
      ]
    },
    {
      "cell_type": "code",
      "execution_count": 43,
      "metadata": {
        "id": "tEYQVbgpTvFB"
      },
      "outputs": [],
      "source": [
        "optimizer = tf.keras.optimizers.Adam(1e-4)"
      ]
    },
    {
      "cell_type": "markdown",
      "metadata": {
        "id": "KOT2dkttTvFB"
      },
      "source": [
        "Following the convention of our first example, we will use `GradientTape` to define a model.\n"
      ]
    },
    {
      "cell_type": "code",
      "execution_count": 44,
      "metadata": {
        "id": "yBWtkiazTvFC"
      },
      "outputs": [],
      "source": [
        "variables = [W_conv1, b_conv1, W_conv2, b_conv2, \n",
        "             W_fc1, b_fc1, W_fc2, b_fc2, ]\n",
        "\n",
        "def train_step(x, y):\n",
        "    with tf.GradientTape() as tape:\n",
        "        current_loss = cross_entropy( y, y_CNN( x ))\n",
        "        grads = tape.gradient( current_loss , variables )\n",
        "        optimizer.apply_gradients( zip( grads , variables ) )\n",
        "        return current_loss.numpy()\n"
      ]
    },
    {
      "cell_type": "code",
      "execution_count": 45,
      "metadata": {
        "colab": {
          "base_uri": "https://localhost:8080/",
          "height": 35
        },
        "id": "Hl6Ib0N7TvFD",
        "outputId": "89282c91-be75-4e5c-a4dc-e577af674090"
      },
      "outputs": [
        {
          "output_type": "execute_result",
          "data": {
            "text/plain": [
              "'results = []\\nincrement = 1000\\nfor start in range(0,60000,increment):\\n    s = tf.slice(x_image_train,[start,0,0,0],[start+increment-1, 28, 28, 1])\\n    t = y_CNN(s)\\n    #results.append(t)\\n'"
            ],
            "application/vnd.google.colaboratory.intrinsic+json": {
              "type": "string"
            }
          },
          "metadata": {},
          "execution_count": 45
        }
      ],
      "source": [
        "\"\"\"results = []\n",
        "increment = 1000\n",
        "for start in range(0,60000,increment):\n",
        "    s = tf.slice(x_image_train,[start,0,0,0],[start+increment-1, 28, 28, 1])\n",
        "    t = y_CNN(s)\n",
        "    #results.append(t)\n",
        "\"\"\""
      ]
    },
    {
      "cell_type": "markdown",
      "metadata": {
        "id": "ER44pwbHTvFD"
      },
      "source": [
        "<h4>Define prediction</h4>\n",
        "Do you want to know how many of the cases in a mini-batch has been classified correctly? lets count them.\n"
      ]
    },
    {
      "cell_type": "code",
      "execution_count": 46,
      "metadata": {
        "id": "loAl8v4iTvFE"
      },
      "outputs": [],
      "source": [
        "correct_prediction = tf.equal(tf.argmax(y_CNN(x_image_train), axis=1), tf.argmax(y_train, axis=1))"
      ]
    },
    {
      "cell_type": "markdown",
      "metadata": {
        "id": "19YT2LbJTvFF"
      },
      "source": [
        "<h4>Define accuracy</h4>\n",
        "It makes more sense to report accuracy using average of correct cases.\n"
      ]
    },
    {
      "cell_type": "code",
      "execution_count": 47,
      "metadata": {
        "id": "O1kk2DSXTvFF"
      },
      "outputs": [],
      "source": [
        "accuracy = tf.reduce_mean(tf.cast(correct_prediction, 'float32'))"
      ]
    },
    {
      "cell_type": "markdown",
      "metadata": {
        "id": "VdsDUoOgTvFG"
      },
      "source": [
        "<h4>Run session, train</h4>\n"
      ]
    },
    {
      "cell_type": "markdown",
      "metadata": {
        "id": "3e29vuewTvFG"
      },
      "source": [
        "<i>If you want a fast result (<b>it might take sometime to train it</b>)</i>\n"
      ]
    },
    {
      "cell_type": "code",
      "execution_count": 48,
      "metadata": {
        "colab": {
          "base_uri": "https://localhost:8080/"
        },
        "id": "iUn82jhmTvFH",
        "outputId": "2cb75dd3-5e63-4884-98dc-5854f1b23a6a"
      },
      "outputs": [
        {
          "output_type": "stream",
          "name": "stdout",
          "text": [
            "epoch  0 batch 50 loss: 147.91524 accuracy 0.4\n",
            "epoch  0 batch 100 loss: 44.182068 accuracy 0.64\n",
            "epoch  0 batch 150 loss: 34.635788 accuracy 0.78\n",
            "epoch  0 batch 200 loss: 20.22757 accuracy 0.82\n",
            "epoch  0 batch 250 loss: 26.413158 accuracy 0.78\n",
            "epoch  0 batch 300 loss: 20.311346 accuracy 0.82\n",
            "epoch  0 batch 350 loss: 23.250366 accuracy 0.8\n",
            "epoch  0 batch 400 loss: 20.443487 accuracy 0.88\n",
            "epoch  0 batch 450 loss: 28.609354 accuracy 0.84\n",
            "epoch  0 batch 500 loss: 11.24156 accuracy 0.92\n",
            "epoch  0 batch 550 loss: 15.961245 accuracy 0.92\n",
            "epoch  0 batch 600 loss: 24.759232 accuracy 0.84\n",
            "epoch  0 batch 650 loss: 23.970299 accuracy 0.9\n",
            "epoch  0 batch 700 loss: 6.505546 accuracy 0.96\n",
            "epoch  0 batch 750 loss: 28.242277 accuracy 0.84\n",
            "epoch  0 batch 800 loss: 11.31168 accuracy 0.94\n",
            "epoch  0 batch 850 loss: 12.416592 accuracy 0.9\n",
            "epoch  0 batch 900 loss: 15.043723 accuracy 0.92\n",
            "epoch  0 batch 950 loss: 18.680738 accuracy 0.86\n",
            "epoch  0 batch 1000 loss: 10.587234 accuracy 0.9\n",
            "epoch  0 batch 1050 loss: 4.0977244 accuracy 0.98\n",
            "epoch  0 batch 1100 loss: 17.415718 accuracy 0.9\n",
            "epoch  0 batch 1150 loss: 9.616038 accuracy 0.9\n",
            "epoch  0 batch 1200 loss: 2.5546436 accuracy 0.94\n",
            "end of epoch  0 loss 2048.3848 accuracy 0.9337\n"
          ]
        }
      ],
      "source": [
        "loss_values=[]\n",
        "accuracies = []\n",
        "epochs = 1\n",
        "\n",
        "for i in range(epochs):\n",
        "    j=0\n",
        "    # each batch has 50 examples\n",
        "    for x_train_batch, y_train_batch in train_ds2:\n",
        "        j+=1\n",
        "        current_loss = train_step(x_train_batch, y_train_batch)\n",
        "        if j%50==0: #reporting intermittent batch statistics\n",
        "            correct_prediction = tf.equal(tf.argmax(y_CNN(x_train_batch), axis=1),\n",
        "                                  tf.argmax(y_train_batch, axis=1))\n",
        "            #  accuracy\n",
        "            accuracy = tf.reduce_mean(tf.cast(correct_prediction, tf.float32)).numpy()\n",
        "            print(\"epoch \", str(i), \"batch\", str(j), \"loss:\", str(current_loss),\n",
        "                     \"accuracy\", str(accuracy)) \n",
        "            \n",
        "    current_loss = cross_entropy( y_train, y_CNN( x_image_train )).numpy()\n",
        "    loss_values.append(current_loss)\n",
        "    correct_prediction = tf.equal(tf.argmax(y_CNN(x_image_train), axis=1),\n",
        "                                  tf.argmax(y_train, axis=1))\n",
        "    #  accuracy\n",
        "    accuracy = tf.reduce_mean(tf.cast(correct_prediction, tf.float32)).numpy()\n",
        "    accuracies.append(accuracy)\n",
        "    print(\"end of epoch \", str(i), \"loss\", str(current_loss), \"accuracy\", str(accuracy) )  "
      ]
    },
    {
      "cell_type": "markdown",
      "metadata": {
        "id": "BM2AV11mTvFI"
      },
      "source": [
        "<div class=\"alert alert-success alertsuccess\" style=\"margin-top: 20px\">\n",
        "<font size = 3><strong><i>Wow...95% accuracy after only 1 epoch!  You can increase the number of epochs in the previsous cell if you REALLY have time to wait, or you are running it using PowerAI (<b>change the type of the cell to code</b>)</i></strong></font>\n"
      ]
    },
    {
      "cell_type": "markdown",
      "metadata": {
        "id": "Q5VtCmNXTvFJ"
      },
      "source": [
        "<i>PS. If you have problems running this notebook, please shutdown all your Jupyter runnning notebooks, clear all cells outputs and run each cell only after the completion of the previous cell.</i>\n"
      ]
    },
    {
      "cell_type": "markdown",
      "metadata": {
        "id": "8ArruPIpTvFK"
      },
      "source": [
        "<hr>\n"
      ]
    },
    {
      "cell_type": "markdown",
      "metadata": {
        "id": "RyEgo7X6TvFL"
      },
      "source": [
        "<a id=\"ref9\"></a>\n",
        "\n",
        "<h2>Evaluate the model</h2>\n"
      ]
    },
    {
      "cell_type": "markdown",
      "metadata": {
        "id": "xR8oloz8TvFM"
      },
      "source": [
        "Print the evaluation to the user\n"
      ]
    },
    {
      "cell_type": "code",
      "execution_count": 49,
      "metadata": {
        "colab": {
          "base_uri": "https://localhost:8080/"
        },
        "id": "8wN8kZaATvFM",
        "outputId": "88dcaddb-e1d0-4a35-84b7-ff2c1dae4c9d"
      },
      "outputs": [
        {
          "output_type": "stream",
          "name": "stdout",
          "text": [
            "batch 100 accuracy 0.96\n",
            "batch 200 accuracy 0.98\n",
            "batch 300 accuracy 0.9\n",
            "batch 400 accuracy 0.96\n",
            "batch 500 accuracy 0.92\n",
            "batch 600 accuracy 0.84\n",
            "batch 700 accuracy 1.0\n",
            "batch 800 accuracy 0.98\n",
            "batch 900 accuracy 0.94\n",
            "batch 1000 accuracy 0.92\n",
            "batch 1100 accuracy 0.92\n",
            "batch 1200 accuracy 0.96\n",
            "accuracy of entire set 0.9337\n"
          ]
        }
      ],
      "source": [
        "j=0\n",
        "acccuracies=[]\n",
        "# evaluate accuracy by batch and average...reporting every 100th batch\n",
        "for x_train_batch, y_train_batch in train_ds2:\n",
        "        j+=1\n",
        "        correct_prediction = tf.equal(tf.argmax(y_CNN(x_train_batch), axis=1),\n",
        "                                  tf.argmax(y_train_batch, axis=1))\n",
        "        accuracy = tf.reduce_mean(tf.cast(correct_prediction, tf.float32)).numpy()\n",
        "        #accuracies.append(accuracy)\n",
        "        if j%100==0:\n",
        "            print(\"batch\", str(j), \"accuracy\", str(accuracy) ) \n",
        "import numpy as np\n",
        "print(\"accuracy of entire set\", str(np.mean(accuracies)))            "
      ]
    },
    {
      "cell_type": "markdown",
      "metadata": {
        "id": "BHx2x4F7TvFN"
      },
      "source": [
        "<h3>Visualization</h3>\n"
      ]
    },
    {
      "cell_type": "markdown",
      "metadata": {
        "id": "t3O8YkxiTvFO"
      },
      "source": [
        "Do you want to look at all the filters?\n"
      ]
    },
    {
      "cell_type": "code",
      "execution_count": 50,
      "metadata": {
        "id": "Mc3brgEaTvFO"
      },
      "outputs": [],
      "source": [
        "kernels = tf.reshape(tf.transpose(W_conv1, perm=[2, 3, 0,1]),[32, -1])"
      ]
    },
    {
      "cell_type": "code",
      "execution_count": 51,
      "metadata": {
        "colab": {
          "base_uri": "https://localhost:8080/",
          "height": 741
        },
        "id": "kKK-jwHLTvFP",
        "outputId": "ae137f98-66bc-4abf-b687-43ed5829a848"
      },
      "outputs": [
        {
          "output_type": "stream",
          "name": "stdout",
          "text": [
            "--2022-06-03 21:01:53--  https://cf-courses-data.s3.us.cloud-object-storage.appdomain.cloud/IBMDeveloperSkillsNetwork-DL0120EN-SkillsNetwork/labs/Week2/data/utils.py\n",
            "Resolving cf-courses-data.s3.us.cloud-object-storage.appdomain.cloud (cf-courses-data.s3.us.cloud-object-storage.appdomain.cloud)... 169.45.118.108\n",
            "Connecting to cf-courses-data.s3.us.cloud-object-storage.appdomain.cloud (cf-courses-data.s3.us.cloud-object-storage.appdomain.cloud)|169.45.118.108|:443... connected.\n",
            "HTTP request sent, awaiting response... 200 OK\n",
            "Length: 5097 (5.0K) [text/x-python]\n",
            "Saving to: ‘utils1.py’\n",
            "\n",
            "utils1.py           100%[===================>]   4.98K  --.-KB/s    in 0s      \n",
            "\n",
            "2022-06-03 21:01:54 (1005 MB/s) - ‘utils1.py’ saved [5097/5097]\n",
            "\n"
          ]
        },
        {
          "output_type": "display_data",
          "data": {
            "text/plain": [
              "<Figure size 1296x1296 with 1 Axes>"
            ],
            "image/png": "[encoded data removed]"
          },
          "metadata": {
            "needs_background": "light"
          }
        }
      ],
      "source": [
        "!wget --output-document utils1.py https://cf-courses-data.s3.us.cloud-object-storage.appdomain.cloud/IBMDeveloperSkillsNetwork-DL0120EN-SkillsNetwork/labs/Week2/data/utils.py\n",
        "import utils1\n",
        "import imp\n",
        "imp.reload(utils1)\n",
        "from utils1 import tile_raster_images\n",
        "import matplotlib.pyplot as plt\n",
        "from PIL import Image\n",
        "%matplotlib inline\n",
        "image = Image.fromarray(tile_raster_images(kernels.numpy(), img_shape=(5, 5) ,tile_shape=(4, 8), tile_spacing=(1, 1)))\n",
        "### Plot image\n",
        "plt.rcParams['figure.figsize'] = (18.0, 18.0)\n",
        "imgplot = plt.imshow(image)\n",
        "imgplot.set_cmap('gray')  "
      ]
    },
    {
      "cell_type": "markdown",
      "metadata": {
        "id": "nn3Px9CpTvFQ"
      },
      "source": [
        "Do you want to see the output of an image passing through first convolution layer?\n"
      ]
    },
    {
      "cell_type": "code",
      "execution_count": 52,
      "metadata": {
        "colab": {
          "base_uri": "https://localhost:8080/",
          "height": 338
        },
        "id": "W6WMoyPaTvFR",
        "outputId": "31113287-3a90-4000-84c2-5c1e0b1c5b57"
      },
      "outputs": [
        {
          "output_type": "execute_result",
          "data": {
            "text/plain": [
              "<matplotlib.image.AxesImage at 0x7f9c78ebc090>"
            ]
          },
          "metadata": {},
          "execution_count": 52
        },
        {
          "output_type": "display_data",
          "data": {
            "text/plain": [
              "<Figure size 360x360 with 1 Axes>"
            ],
            "image/png": "[encoded data removed]"
          },
          "metadata": {
            "needs_background": "light"
          }
        }
      ],
      "source": [
        "import numpy as np\n",
        "plt.rcParams['figure.figsize'] = (5.0, 5.0)\n",
        "sampleimage = [x_image_train[0]]\n",
        "plt.imshow(np.reshape(sampleimage,[28,28]), cmap=\"gray\")"
      ]
    },
    {
      "cell_type": "code",
      "execution_count": 53,
      "metadata": {
        "colab": {
          "base_uri": "https://localhost:8080/",
          "height": 992
        },
        "id": "X9mpbA_HTvFS",
        "outputId": "e1c2d11d-f55f-4e3f-8917-53a796ed490b"
      },
      "outputs": [
        {
          "output_type": "display_data",
          "data": {
            "text/plain": [
              "<Figure size 1440x1440 with 32 Axes>"
            ],
            "image/png": "[encoded data removed]"
          },
          "metadata": {
            "needs_background": "light"
          }
        }
      ],
      "source": [
        "#ActivatedUnits = sess.run(convolve1,feed_dict={x:np.reshape(sampleimage,[1,784],order='F'),keep_prob:1.0})\n",
        "keep_prob=1.0\n",
        "ActivatedUnits = convolve1(sampleimage)\n",
        "                           \n",
        "filters = ActivatedUnits.shape[3]\n",
        "plt.figure(1, figsize=(20,20))\n",
        "n_columns = 6\n",
        "n_rows = np.math.ceil(filters / n_columns) + 1\n",
        "for i in range(filters):\n",
        "    plt.subplot(n_rows, n_columns, i+1)\n",
        "    plt.title('Filter ' + str(i))\n",
        "    plt.imshow(ActivatedUnits[0,:,:,i], interpolation=\"nearest\", cmap=\"gray\")"
      ]
    },
    {
      "cell_type": "markdown",
      "metadata": {
        "id": "K2Fj547ZTvFT"
      },
      "source": [
        "What about second convolution layer?\n"
      ]
    },
    {
      "cell_type": "code",
      "execution_count": 54,
      "metadata": {
        "colab": {
          "base_uri": "https://localhost:8080/",
          "height": 1000
        },
        "id": "YPXRQnVjTvFU",
        "outputId": "a387f4c9-37d4-4456-965a-8a94b7941751"
      },
      "outputs": [
        {
          "output_type": "display_data",
          "data": {
            "text/plain": [
              "<Figure size 1440x1440 with 64 Axes>"
            ],
            "image/png": "[encoded data removed]"
          },
          "metadata": {
            "needs_background": "light"
          }
        }
      ],
      "source": [
        "#ActivatedUnits = sess.run(convolve2,feed_dict={x:np.reshape(sampleimage,[1,784],order='F'),keep_prob:1.0})\n",
        "ActivatedUnits = convolve2(sampleimage)\n",
        "filters = ActivatedUnits.shape[3]\n",
        "plt.figure(1, figsize=(20,20))\n",
        "n_columns = 8\n",
        "n_rows = np.math.ceil(filters / n_columns) + 1\n",
        "for i in range(filters):\n",
        "    plt.subplot(n_rows, n_columns, i+1)\n",
        "    plt.title('Filter ' + str(i))\n",
        "    plt.imshow(ActivatedUnits[0,:,:,i], interpolation=\"nearest\", cmap=\"gray\")"
      ]
    },
    {
      "cell_type": "markdown",
      "metadata": {
        "id": "-MXS8ZtyTvFV"
      },
      "source": [
        "## Want to learn more?\n",
        "\n",
        "Also, you can use **Watson Studio** to run these notebooks faster with bigger datasets.**Watson Studio** is IBM’s leading cloud solution for data scientists, built by data scientists. With Jupyter notebooks, RStudio, Apache Spark, and NVIDIA GPU accelerated hardware environemnts, as well as and popular libraries pre-packaged in the cloud, **Watson Studio** enables data scientists to collaborate on their projects without having to install anything. Join the fast-growing community of **Watson Studio** users today with a free account at [Watson Studio](https://cocl.us/ML0120EN_DSX).This is the end of this lesson. Thank you for reading this notebook, and good luck on your studies.\n"
      ]
    },
    {
      "cell_type": "markdown",
      "metadata": {
        "id": "sGFfOxfTTvFY"
      },
      "source": [
        "### Thanks for completing this lesson!\n"
      ]
    },
    {
      "cell_type": "markdown",
      "metadata": {
        "id": "IpwBw_L-TvFZ"
      },
      "source": [
        "Created by <a href=\"https://linkedin.com/in/saeedaghabozorgi?utm_medium=Exinfluencer&utm_source=Exinfluencer&utm_content=000026UJ&utm_term=10006555&utm_id=NA-SkillsNetwork-Channel-SkillsNetworkCoursesIBMDeveloperSkillsNetworkDL0120ENSkillsNetwork20629446-2022-01-01\"> Saeed Aghabozorgi </a>, <a href=\"https://linkedin.com/in/luisotsm?utm_medium=Exinfluencer&utm_source=Exinfluencer&utm_content=000026UJ&utm_term=10006555&utm_id=NA-SkillsNetwork-Channel-SkillsNetworkCoursesIBMDeveloperSkillsNetworkDL0120ENSkillsNetwork20629446-2022-01-01\">Luis Otavio Silveira Martins</a>, <a href=\"https://linkedin.com/in/erich-natsubori-sato?utm_medium=Exinfluencer&utm_source=Exinfluencer&utm_content=000026UJ&utm_term=10006555&utm_id=NA-SkillsNetwork-Channel-SkillsNetworkCoursesIBMDeveloperSkillsNetworkDL0120ENSkillsNetwork20629446-2022-01-01\"> Erich Natsubori Sato </a></h4>\n",
        "\n",
        "Updated to TF 2.X by  <a href=\"https://ca.linkedin.com/in/nilmeier?utm_medium=Exinfluencer&utm_source=Exinfluencer&utm_content=000026UJ&utm_term=10006555&utm_id=NA-SkillsNetwork-Channel-SkillsNetworkCoursesIBMDeveloperSkillsNetworkDL0120ENSkillsNetwork20629446-2022-01-01\"> Jerome Nilmeier</a><br />\n"
      ]
    },
    {
      "cell_type": "markdown",
      "metadata": {
        "id": "snOu9N4KTvFa"
      },
      "source": [
        "### References:\n",
        "\n",
        "[https://en.wikipedia.org/wiki/Deep_learning](https://en.wikipedia.org/wiki/Deep_learning?utm_medium=Exinfluencer&utm_source=Exinfluencer&utm_content=000026UJ&utm_term=10006555&utm_id=NA-SkillsNetwork-Channel-SkillsNetworkCoursesIBMDeveloperSkillsNetworkDL0120ENSkillsNetwork20629446-2022-01-01)\\\n",
        "[http://ruder.io/optimizing-gradient-descent/](http://ruder.io/optimizing-gradient-descent/?utm_medium=Exinfluencer&utm_source=Exinfluencer&utm_content=000026UJ&utm_term=10006555&utm_id=NA-SkillsNetwork-Channel-SkillsNetworkCoursesIBMDeveloperSkillsNetworkDL0120ENSkillsNetwork20629446-2022-01-01)<br>\n",
        "[http://yann.lecun.com/exdb/mnist/](http://yann.lecun.com/exdb/mnist/?utm_medium=Exinfluencer&utm_source=Exinfluencer&utm_content=000026UJ&utm_term=10006555&utm_id=NA-SkillsNetwork-Channel-SkillsNetworkCoursesIBMDeveloperSkillsNetworkDL0120ENSkillsNetwork20629446-2022-01-01)\\\n",
        "[https://www.quora.com/Artificial-Neural-Networks-What-is-the-difference-between-activation-functions](https://www.quora.com/Artificial-Neural-Networks-What-is-the-difference-between-activation-functions?utm_medium=Exinfluencer&utm_source=Exinfluencer&utm_content=000026UJ&utm_term=10006555&utm_id=NA-SkillsNetwork-Channel-SkillsNetworkCoursesIBMDeveloperSkillsNetworkDL0120ENSkillsNetwork20629446-2022-01-01)\\\n",
        "[https://www.tensorflow.org/versions/r0.9/tutorials/mnist/pros/index.html](https://www.tensorflow.org/versions/r0.9/tutorials/mnist/pros/index.html?utm_medium=Exinfluencer&utm_source=Exinfluencer&utm_content=000026UJ&utm_term=10006555&utm_id=NA-SkillsNetwork-Channel-SkillsNetworkCoursesIBMDeveloperSkillsNetworkDL0120ENSkillsNetwork20629446-2022-01-01)\n"
      ]
    },
    {
      "cell_type": "markdown",
      "metadata": {
        "id": "S6gwha5VTvFb"
      },
      "source": [
        "<hr>\n",
        "\n",
        "Copyright © 2018 [Cognitive Class](https://cocl.us/DX0108EN_CC). This notebook and its source code are released under the terms of the [MIT License](https://bigdatauniversity.com/mit-license/?utm_medium=Exinfluencer&utm_source=Exinfluencer&utm_content=000026UJ&utm_term=10006555&utm_id=NA-SkillsNetwork-Channel-SkillsNetworkCoursesIBMDeveloperSkillsNetworkDL0120ENSkillsNetwork20629446-2022-01-01).\n"
      ]
    }
  ],
  "metadata": {
    "anaconda-cloud": {},
    "kernelspec": {
      "display_name": "Python 3 (ipykernel)",
      "language": "python",
      "name": "python3"
    },
    "language_info": {
      "codemirror_mode": {
        "name": "ipython",
        "version": 3
      },
      "file_extension": ".py",
      "mimetype": "text/x-python",
      "name": "python",
      "nbconvert_exporter": "python",
      "pygments_lexer": "ipython3",
      "version": "3.7.6"
    },
    "colab": {
      "name": "ML0120EN-2.2-Review-CNN-MNIST-Dataset.ipynb",
      "provenance": [],
      "include_colab_link": true
    }
  },
  "nbformat": 4,
  "nbformat_minor": 0
}