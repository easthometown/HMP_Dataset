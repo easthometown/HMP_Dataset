{
  "cells": [
    {
      "cell_type": "markdown",
      "metadata": {
        "id": "view-in-github",
        "colab_type": "text"
      },
      "source": [
        "<a href=\"https://colab.research.google.com/github/easthometown/HMP_Dataset/blob/master/7_2multiple_neurons.ipynb\" target=\"_parent\"><img src=\"https://colab.research.google.com/assets/colab-badge.svg\" alt=\"Open In Colab\"/></a>"
      ]
    },
    {
      "cell_type": "markdown",
      "metadata": {
        "id": "Hz-VuFb6rmYA"
      },
      "source": [
        "<p style=\"text-align:center\">\n",
        "    <a href=\"https://skills.network/?utm_medium=Exinfluencer&utm_source=Exinfluencer&utm_content=000026UJ&utm_term=10006555&utm_id=NA-SkillsNetwork-Channel-SkillsNetworkCoursesIBMDeveloperSkillsNetworkDL0110ENSkillsNetwork20647811-2022-01-01\" target=\"_blank\">\n",
        "    <img src=\"https://cf-courses-data.s3.us.cloud-object-storage.appdomain.cloud/assets/logos/SN_web_lightmode.png\" width=\"200\" alt=\"Skills Network Logo\"  />\n",
        "    </a>\n",
        "</p>\n"
      ]
    },
    {
      "cell_type": "markdown",
      "metadata": {
        "id": "fZ_gsBCLrmYM"
      },
      "source": [
        "<h1>Neural Networks More Hidden Neutrons</h1>\n"
      ]
    },
    {
      "cell_type": "markdown",
      "metadata": {
        "id": "poUuoIfurmYP"
      },
      "source": [
        "<h2>Objective</h2><ul><li> How to create complex Neural Network in pytorch.</li></ul> \n"
      ]
    },
    {
      "cell_type": "markdown",
      "metadata": {
        "id": "GBj19GIArmYR"
      },
      "source": [
        "<h2>Table of Contents</h2>\n",
        "\n",
        "<ul>\n",
        "    <li><a href=\"https://#Prep\">Preperation</a></li>\n",
        "    <li><a href=\"https://#Data\">Get Our Data</a></li>\n",
        "    <li><a href=\"https://#Train\">Define the Neural Network, Optimizer, and Train the Model</a></li>\n",
        "</ul>\n",
        "<p>Estimated Time Needed: <strong>25 min</strong></p>\n",
        "\n",
        "<hr>\n"
      ]
    },
    {
      "cell_type": "markdown",
      "metadata": {
        "id": "_Z1ECqjKrmYU"
      },
      "source": [
        "<h2 id=\"Prep\">Preparation</h2>\n"
      ]
    },
    {
      "cell_type": "markdown",
      "metadata": {
        "id": "ZU75tmKNrmYX"
      },
      "source": [
        "We'll need to import the following libraries for this lab.\n"
      ]
    },
    {
      "cell_type": "code",
      "execution_count": 1,
      "metadata": {
        "id": "9FgKNhjXrmYZ"
      },
      "outputs": [],
      "source": [
        "import torch\n",
        "import numpy as np\n",
        "import matplotlib.pyplot as plt \n",
        "%matplotlib inline\n",
        "import torch.nn as nn\n",
        "import torch.nn.functional as F\n",
        "from torch.utils.data import Dataset, DataLoader"
      ]
    },
    {
      "cell_type": "markdown",
      "metadata": {
        "id": "-aAzNic6rmYe"
      },
      "source": [
        "Define the plotting functions.\n"
      ]
    },
    {
      "cell_type": "code",
      "execution_count": 2,
      "metadata": {
        "id": "CL_b1cC1rmYh"
      },
      "outputs": [],
      "source": [
        "def get_hist(model,data_set):\n",
        "    activations=model.activation(data_set.x)\n",
        "    for i,activation in enumerate(activations):\n",
        "        plt.hist(activation.numpy(),4,density=True)\n",
        "        plt.title(\"Activation layer \" + str(i+1))\n",
        "        plt.xlabel(\"Activation\")\n",
        "        plt.xlabel(\"Activation\")\n",
        "        plt.legend()\n",
        "        plt.show()"
      ]
    },
    {
      "cell_type": "code",
      "execution_count": 3,
      "metadata": {
        "id": "TL7YdHn4rmYj"
      },
      "outputs": [],
      "source": [
        "def PlotStuff(X,Y,model=None,leg=False):\n",
        "    \n",
        "    plt.plot(X[Y==0].numpy(),Y[Y==0].numpy(),'or',label='training points y=0 ' )\n",
        "    plt.plot(X[Y==1].numpy(),Y[Y==1].numpy(),'ob',label='training points y=1 ' )\n",
        "\n",
        "    if model!=None:\n",
        "        plt.plot(X.numpy(),model(X).detach().numpy(),label='neral network ')\n",
        "\n",
        "    plt.legend()\n",
        "    plt.show()"
      ]
    },
    {
      "cell_type": "markdown",
      "metadata": {
        "id": "MrpMxKtBrmYm"
      },
      "source": [
        "<h2 id=\"Data\">Get Our Data</h2>\n"
      ]
    },
    {
      "cell_type": "markdown",
      "metadata": {
        "id": "OFoHQdswrmYo"
      },
      "source": [
        "Define the class to get our dataset.\n"
      ]
    },
    {
      "cell_type": "code",
      "execution_count": 4,
      "metadata": {
        "id": "Rb-OJ3SmrmYq"
      },
      "outputs": [],
      "source": [
        "class Data(Dataset):\n",
        "    def __init__(self):\n",
        "        self.x=torch.linspace(-20, 20, 100).view(-1,1)\n",
        "  \n",
        "        self.y=torch.zeros(self.x.shape[0])\n",
        "        self.y[(self.x[:,0]>-10)& (self.x[:,0]<-5)]=1\n",
        "        self.y[(self.x[:,0]>5)& (self.x[:,0]<10)]=1\n",
        "        self.y=self.y.view(-1,1)\n",
        "        self.len=self.x.shape[0]\n",
        "    def __getitem__(self,index):    \n",
        "            \n",
        "        return self.x[index],self.y[index]\n",
        "    def __len__(self):\n",
        "        return self.len\n",
        "\n"
      ]
    },
    {
      "cell_type": "markdown",
      "metadata": {
        "id": "DSCA8hkqrmYs"
      },
      "source": [
        "<h2 id=\"Train\">Define the Neural Network, Optimizer and Train the Model</h2>\n"
      ]
    },
    {
      "cell_type": "markdown",
      "metadata": {
        "id": "nYbm733urmYt"
      },
      "source": [
        "Define the class for creating our model.\n"
      ]
    },
    {
      "cell_type": "code",
      "execution_count": 5,
      "metadata": {
        "id": "riGE-DyNrmYu"
      },
      "outputs": [],
      "source": [
        "class Net(nn.Module):\n",
        "    def __init__(self,D_in,H,D_out):\n",
        "        super(Net,self).__init__()\n",
        "        self.linear1=nn.Linear(D_in,H)\n",
        "        self.linear2=nn.Linear(H,D_out)\n",
        "\n",
        "        \n",
        "    def forward(self,x):\n",
        "        x=torch.sigmoid(self.linear1(x))  \n",
        "        x=torch.sigmoid(self.linear2(x))\n",
        "        return x"
      ]
    },
    {
      "cell_type": "markdown",
      "metadata": {
        "id": "7we5mQtzrmYw"
      },
      "source": [
        "Create the function to train our model, which accumulate lost for each iteration to obtain the cost.\n"
      ]
    },
    {
      "cell_type": "code",
      "execution_count": 6,
      "metadata": {
        "id": "K9_jhSPmrmYx"
      },
      "outputs": [],
      "source": [
        " def train(data_set,model,criterion, train_loader, optimizer, epochs=5,plot_number=10):\n",
        "    cost=[]\n",
        "    \n",
        "    for epoch in range(epochs):\n",
        "        total=0\n",
        "        \n",
        "        for x,y in train_loader:\n",
        "            optimizer.zero_grad()\n",
        "            \n",
        "            yhat=model(x)\n",
        "            loss=criterion(yhat,y)\n",
        "            optimizer.zero_grad()\n",
        "            loss.backward()\n",
        "            optimizer.step()\n",
        "            total+=loss.item()\n",
        "            \n",
        "        if epoch%plot_number==0:\n",
        "            PlotStuff(data_set.x,data_set.y,model)\n",
        "        \n",
        "        cost.append(total)\n",
        "    plt.figure()\n",
        "    plt.plot(cost)\n",
        "    plt.xlabel('epoch')\n",
        "    plt.ylabel('cost')\n",
        "    plt.show()\n",
        "    return cost"
      ]
    },
    {
      "cell_type": "code",
      "execution_count": 7,
      "metadata": {
        "id": "FNdTyDfWrmYy"
      },
      "outputs": [],
      "source": [
        "data_set=Data()"
      ]
    },
    {
      "cell_type": "code",
      "execution_count": 8,
      "metadata": {
        "colab": {
          "base_uri": "https://localhost:8080/",
          "height": 265
        },
        "id": "3YOrgioPrmYz",
        "outputId": "cb57e1db-5259-40ea-84e4-6cc687365161"
      },
      "outputs": [
        {
          "output_type": "display_data",
          "data": {
            "text/plain": [
              "<Figure size 432x288 with 1 Axes>"
            ],
            "image/png": "[encoded data removed]"
          },
          "metadata": {
            "needs_background": "light"
          }
        }
      ],
      "source": [
        "PlotStuff(data_set.x,data_set.y,leg=False)"
      ]
    },
    {
      "cell_type": "markdown",
      "metadata": {
        "id": "Qy-0mw7TrmY1"
      },
      "source": [
        "Create our model with 9\n",
        "neurons in the hidden layer. And then create a BCE loss and an Adam optimizer.\n"
      ]
    },
    {
      "cell_type": "code",
      "execution_count": 9,
      "metadata": {
        "colab": {
          "base_uri": "https://localhost:8080/",
          "height": 1000
        },
        "id": "60QlqCFkrmY1",
        "outputId": "ab24162a-3b19-4858-e6d6-a5b70e2272dd"
      },
      "outputs": [
        {
          "output_type": "display_data",
          "data": {
            "text/plain": [
              "<Figure size 432x288 with 1 Axes>"
            ],
            "image/png": "[encoded data removed]"
          },
          "metadata": {
            "needs_background": "light"
          }
        },
        {
          "output_type": "display_data",
          "data": {
            "text/plain": [
              "<Figure size 432x288 with 1 Axes>"
            ],
            "image/png": "[encoded data removed]"
          },
          "metadata": {
            "needs_background": "light"
          }
        },
        {
          "output_type": "display_data",
          "data": {
            "text/plain": [
              "<Figure size 432x288 with 1 Axes>"
            ],
            "image/png": "[encoded data removed]"
          },
          "metadata": {
            "needs_background": "light"
          }
        },
        {
          "output_type": "display_data",
          "data": {
            "text/plain": [
              "<Figure size 432x288 with 1 Axes>"
            ],
            "image/png": "[encoded data removed]"
          },
          "metadata": {
            "needs_background": "light"
          }
        }
      ],
      "source": [
        "torch.manual_seed(0)\n",
        "model=Net(1,9,1)\n",
        "learning_rate=0.1\n",
        "criterion=nn.BCELoss()\n",
        "optimizer=torch.optim.Adam(model.parameters(), lr=learning_rate)\n",
        "train_loader=DataLoader(dataset=data_set,batch_size=100)\n",
        "COST=train(data_set,model,criterion, train_loader, optimizer, epochs=600,plot_number=200)"
      ]
    },
    {
      "cell_type": "raw",
      "metadata": {
        "id": "tSQ6dFMprmY2"
      },
      "source": [
        "# this is for exercises\n",
        "model= torch.nn.Sequential(\n",
        "    torch.nn.Linear(1, 6), \n",
        "    torch.nn.Sigmoid(),\n",
        "    torch.nn.Linear(6,1),\n",
        "    torch.nn.Sigmoid()\n",
        "\n",
        ")"
      ]
    },
    {
      "cell_type": "code",
      "execution_count": 10,
      "metadata": {
        "colab": {
          "base_uri": "https://localhost:8080/",
          "height": 283
        },
        "id": "ppOB7P3yrmY4",
        "outputId": "fff588fb-8acf-4aec-cae3-a7fa116c3ae7"
      },
      "outputs": [
        {
          "output_type": "execute_result",
          "data": {
            "text/plain": [
              "[<matplotlib.lines.Line2D at 0x7f77053ed4d0>]"
            ]
          },
          "metadata": {},
          "execution_count": 10
        },
        {
          "output_type": "display_data",
          "data": {
            "text/plain": [
              "<Figure size 432x288 with 1 Axes>"
            ],
            "image/png": "[encoded data removed]"
          },
          "metadata": {
            "needs_background": "light"
          }
        }
      ],
      "source": [
        "plt.plot(COST)"
      ]
    },
    {
      "cell_type": "markdown",
      "metadata": {
        "id": "AsRwaoR_rmY4"
      },
      "source": [
        "<a href=\"https://dataplatform.cloud.ibm.com/registration/stepone?utm_medium=Exinfluencer&utm_source=Exinfluencer&utm_content=000026UJ&utm_term=10006555&utm_id=NA-SkillsNetwork-Channel-SkillsNetworkCoursesIBMDeveloperSkillsNetworkDL0110ENSkillsNetwork20647811-2022-01-01&context=cpdaas&apps=data_science_experience%2Cwatson_machine_learning\"><img src=\"https://cf-courses-data.s3.us.cloud-object-storage.appdomain.cloud/IBMDeveloperSkillsNetwork-DL0110EN-SkillsNetwork/Template/module%201/images/Watson_Studio.png\"/></a>\n"
      ]
    },
    {
      "cell_type": "markdown",
      "metadata": {
        "id": "uOYVjXK3rmY5"
      },
      "source": [
        "<h2>About the Authors:</h2> \n",
        "\n",
        "<a href=\"https://www.linkedin.com/in/joseph-s-50398b136/?utm_medium=Exinfluencer&utm_source=Exinfluencer&utm_content=000026UJ&utm_term=10006555&utm_id=NA-SkillsNetwork-Channel-SkillsNetworkCoursesIBMDeveloperSkillsNetworkDL0110ENSkillsNetwork20647811-2022-01-01\">Joseph Santarcangelo</a> has a PhD in Electrical Engineering, his research focused on using machine learning, signal processing, and computer vision to determine how videos impact human cognition. Joseph has been working for IBM since he completed his PhD.\n"
      ]
    },
    {
      "cell_type": "markdown",
      "metadata": {
        "id": "Gy79kH6zrmY6"
      },
      "source": [
        "Other contributors: <a href=\"https://www.linkedin.com/in/michelleccarey/?utm_medium=Exinfluencer&utm_source=Exinfluencer&utm_content=000026UJ&utm_term=10006555&utm_id=NA-SkillsNetwork-Channel-SkillsNetworkCoursesIBMDeveloperSkillsNetworkDL0110ENSkillsNetwork20647811-2022-01-01\">Michelle Carey</a>, <a href=\"https://www.linkedin.com/in/jiahui-mavis-zhou-a4537814a?utm_medium=Exinfluencer&utm_source=Exinfluencer&utm_content=000026UJ&utm_term=10006555&utm_id=NA-SkillsNetwork-Channel-SkillsNetworkCoursesIBMDeveloperSkillsNetworkDL0110ENSkillsNetwork20647811-2022-01-01\">Mavis Zhou</a>, <a href=\"https://www.linkedin.com/in/fanjiang0619/?utm_medium=Exinfluencer&utm_source=Exinfluencer&utm_content=000026UJ&utm_term=10006555&utm_id=NA-SkillsNetwork-Channel-SkillsNetworkCoursesIBMDeveloperSkillsNetworkDL0110ENSkillsNetwork20647811-2022-01-01\">Fan Jiang</a>, <a href=\"https://www.linkedin.com/in/yi-leng-yao-84451275/?utm_medium=Exinfluencer&utm_source=Exinfluencer&utm_content=000026UJ&utm_term=10006555&utm_id=NA-SkillsNetwork-Channel-SkillsNetworkCoursesIBMDeveloperSkillsNetworkDL0110ENSkillsNetwork20647811-2022-01-01\">Yi Leng Yao</a>, <a href=\"https://www.linkedin.com/in/sacchitchadha/?utm_medium=Exinfluencer&utm_source=Exinfluencer&utm_content=000026UJ&utm_term=10006555&utm_id=NA-SkillsNetwork-Channel-SkillsNetworkCoursesIBMDeveloperSkillsNetworkDL0110ENSkillsNetwork20647811-2022-01-01\">Sacchit Chadha</a>\n"
      ]
    },
    {
      "cell_type": "markdown",
      "metadata": {
        "id": "W5D2yh38rmY7"
      },
      "source": [
        "## Change Log\n",
        "\n",
        "| Date (YYYY-MM-DD) | Version | Changed By | Change Description                                          |\n",
        "| ----------------- | ------- | ---------- | ----------------------------------------------------------- |\n",
        "| 2020-09-23        | 2.0     | Shubham    | Migrated Lab to Markdown and added to course repo in GitLab |\n"
      ]
    },
    {
      "cell_type": "markdown",
      "metadata": {
        "id": "IXBkqfvvrmY8"
      },
      "source": [
        "## <h3 align=\"center\"> © IBM Corporation 2020. All rights reserved. <h3/>\n"
      ]
    }
  ],
  "metadata": {
    "kernelspec": {
      "display_name": "Python 3",
      "language": "python",
      "name": "python3"
    },
    "language_info": {
      "codemirror_mode": {
        "name": "ipython",
        "version": 3
      },
      "file_extension": ".py",
      "mimetype": "text/x-python",
      "name": "python",
      "nbconvert_exporter": "python",
      "pygments_lexer": "ipython3",
      "version": "3.7.6"
    },
    "colab": {
      "name": "7.2multiple_neurons.ipynb",
      "provenance": [],
      "include_colab_link": true
    }
  },
  "nbformat": 4,
  "nbformat_minor": 0
}